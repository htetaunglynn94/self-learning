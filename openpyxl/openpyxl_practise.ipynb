{
 "cells": [
  {
   "cell_type": "markdown",
   "id": "75f5d8be-ade7-484c-8e52-5cb8fc841241",
   "metadata": {
    "tags": []
   },
   "source": [
    "# Getting started with openpyxl"
   ]
  },
  {
   "cell_type": "code",
   "execution_count": 4,
   "id": "bf6032cf-ef6e-47b5-9cfa-b38d824d13f2",
   "metadata": {
    "tags": []
   },
   "outputs": [],
   "source": [
    "from openpyxl import Workbook\n",
    "\n",
    "workbook = Workbook()\n",
    "sheet = workbook.active\n",
    "\n",
    "sheet[\"A1\"] = \"hello\"\n",
    "sheet[\"b1\"] = 'world!'\n",
    "\n",
    "workbook.save(filename='hellow_world.xlsx')"
   ]
  },
  {
   "cell_type": "markdown",
   "id": "25c29848-04fc-4471-9722-4382114c8e1a",
   "metadata": {
    "tags": []
   },
   "source": [
    "# Reading excel spreadsheet"
   ]
  },
  {
   "cell_type": "code",
   "execution_count": 10,
   "id": "cbcc44d5-f4c3-4935-ace7-5c73b5374618",
   "metadata": {
    "tags": []
   },
   "outputs": [
    {
     "name": "stdout",
     "output_type": "stream",
     "text": [
      "['amazon_reviews_us_Watches_v1_00-sample']\n",
      "<Worksheet \"amazon_reviews_us_Watches_v1_00-sample\">\n",
      "amazon_reviews_us_Watches_v1_00-sample\n",
      "<Cell 'amazon_reviews_us_Watches_v1_00-sample'.A1>\n",
      "marketplace\n"
     ]
    }
   ],
   "source": [
    "from openpyxl import load_workbook\n",
    "workbook = load_workbook(filename='reviews-sample.xlsx')\n",
    "print(workbook.sheetnames)\n",
    "\n",
    "sheet = workbook.active\n",
    "print(sheet)\n",
    "\n",
    "print(sheet.title)"
   ]
  },
  {
   "cell_type": "code",
   "execution_count": 11,
   "id": "f8a2f5a9-5dd8-41a7-9fa1-6b24aa321078",
   "metadata": {
    "tags": []
   },
   "outputs": [
    {
     "name": "stdout",
     "output_type": "stream",
     "text": [
      "<Cell 'amazon_reviews_us_Watches_v1_00-sample'.A1>\n"
     ]
    }
   ],
   "source": [
    "print(sheet[\"a1\"])"
   ]
  },
  {
   "cell_type": "code",
   "execution_count": 12,
   "id": "c472b56c-77f6-4fe7-ab17-3a135ee175f4",
   "metadata": {
    "tags": []
   },
   "outputs": [
    {
     "name": "stdout",
     "output_type": "stream",
     "text": [
      "marketplace\n"
     ]
    }
   ],
   "source": [
    "print(sheet[\"a1\"].value)"
   ]
  },
  {
   "cell_type": "code",
   "execution_count": 13,
   "id": "391328a3-1b52-4d71-bab0-3573ed396077",
   "metadata": {
    "tags": []
   },
   "outputs": [
    {
     "data": {
      "text/plain": [
       "<Cell 'amazon_reviews_us_Watches_v1_00-sample'.F10>"
      ]
     },
     "execution_count": 13,
     "metadata": {},
     "output_type": "execute_result"
    }
   ],
   "source": [
    "sheet.cell(row=10, column=6)"
   ]
  },
  {
   "cell_type": "code",
   "execution_count": 14,
   "id": "cc7e3e18-c3ae-448e-bc16-1108b1b36c99",
   "metadata": {
    "tags": []
   },
   "outputs": [
    {
     "data": {
      "text/plain": [
       "\"G-Shock Men's Grey Sport Watch\""
      ]
     },
     "execution_count": 14,
     "metadata": {},
     "output_type": "execute_result"
    }
   ],
   "source": [
    "sheet.cell(row=10, column=6).value"
   ]
  },
  {
   "cell_type": "markdown",
   "id": "159d16d9-b0b5-42f0-9cbc-569520843b9a",
   "metadata": {},
   "source": [
    "# Import data from a spreadsheet"
   ]
  },
  {
   "cell_type": "code",
   "execution_count": 15,
   "id": "4fc6db5e-20a6-46db-8ca9-450de0788315",
   "metadata": {
    "tags": []
   },
   "outputs": [
    {
     "data": {
      "text/plain": [
       "((<Cell 'amazon_reviews_us_Watches_v1_00-sample'.A1>,\n",
       "  <Cell 'amazon_reviews_us_Watches_v1_00-sample'.B1>,\n",
       "  <Cell 'amazon_reviews_us_Watches_v1_00-sample'.C1>),\n",
       " (<Cell 'amazon_reviews_us_Watches_v1_00-sample'.A2>,\n",
       "  <Cell 'amazon_reviews_us_Watches_v1_00-sample'.B2>,\n",
       "  <Cell 'amazon_reviews_us_Watches_v1_00-sample'.C2>))"
      ]
     },
     "execution_count": 15,
     "metadata": {},
     "output_type": "execute_result"
    }
   ],
   "source": [
    "sheet[\"a1:c2\"]"
   ]
  },
  {
   "cell_type": "code",
   "execution_count": 16,
   "id": "16bf9a2e-0bbe-42ed-b6bb-7ff8bee96c20",
   "metadata": {
    "tags": []
   },
   "outputs": [
    {
     "data": {
      "text/plain": [
       "(<Cell 'amazon_reviews_us_Watches_v1_00-sample'.A1>,\n",
       " <Cell 'amazon_reviews_us_Watches_v1_00-sample'.A2>,\n",
       " <Cell 'amazon_reviews_us_Watches_v1_00-sample'.A3>,\n",
       " <Cell 'amazon_reviews_us_Watches_v1_00-sample'.A4>,\n",
       " <Cell 'amazon_reviews_us_Watches_v1_00-sample'.A5>,\n",
       " <Cell 'amazon_reviews_us_Watches_v1_00-sample'.A6>,\n",
       " <Cell 'amazon_reviews_us_Watches_v1_00-sample'.A7>,\n",
       " <Cell 'amazon_reviews_us_Watches_v1_00-sample'.A8>,\n",
       " <Cell 'amazon_reviews_us_Watches_v1_00-sample'.A9>,\n",
       " <Cell 'amazon_reviews_us_Watches_v1_00-sample'.A10>,\n",
       " <Cell 'amazon_reviews_us_Watches_v1_00-sample'.A11>,\n",
       " <Cell 'amazon_reviews_us_Watches_v1_00-sample'.A12>,\n",
       " <Cell 'amazon_reviews_us_Watches_v1_00-sample'.A13>,\n",
       " <Cell 'amazon_reviews_us_Watches_v1_00-sample'.A14>,\n",
       " <Cell 'amazon_reviews_us_Watches_v1_00-sample'.A15>,\n",
       " <Cell 'amazon_reviews_us_Watches_v1_00-sample'.A16>,\n",
       " <Cell 'amazon_reviews_us_Watches_v1_00-sample'.A17>,\n",
       " <Cell 'amazon_reviews_us_Watches_v1_00-sample'.A18>,\n",
       " <Cell 'amazon_reviews_us_Watches_v1_00-sample'.A19>,\n",
       " <Cell 'amazon_reviews_us_Watches_v1_00-sample'.A20>,\n",
       " <Cell 'amazon_reviews_us_Watches_v1_00-sample'.A21>,\n",
       " <Cell 'amazon_reviews_us_Watches_v1_00-sample'.A22>,\n",
       " <Cell 'amazon_reviews_us_Watches_v1_00-sample'.A23>,\n",
       " <Cell 'amazon_reviews_us_Watches_v1_00-sample'.A24>,\n",
       " <Cell 'amazon_reviews_us_Watches_v1_00-sample'.A25>,\n",
       " <Cell 'amazon_reviews_us_Watches_v1_00-sample'.A26>,\n",
       " <Cell 'amazon_reviews_us_Watches_v1_00-sample'.A27>,\n",
       " <Cell 'amazon_reviews_us_Watches_v1_00-sample'.A28>,\n",
       " <Cell 'amazon_reviews_us_Watches_v1_00-sample'.A29>,\n",
       " <Cell 'amazon_reviews_us_Watches_v1_00-sample'.A30>,\n",
       " <Cell 'amazon_reviews_us_Watches_v1_00-sample'.A31>,\n",
       " <Cell 'amazon_reviews_us_Watches_v1_00-sample'.A32>,\n",
       " <Cell 'amazon_reviews_us_Watches_v1_00-sample'.A33>,\n",
       " <Cell 'amazon_reviews_us_Watches_v1_00-sample'.A34>,\n",
       " <Cell 'amazon_reviews_us_Watches_v1_00-sample'.A35>,\n",
       " <Cell 'amazon_reviews_us_Watches_v1_00-sample'.A36>,\n",
       " <Cell 'amazon_reviews_us_Watches_v1_00-sample'.A37>,\n",
       " <Cell 'amazon_reviews_us_Watches_v1_00-sample'.A38>,\n",
       " <Cell 'amazon_reviews_us_Watches_v1_00-sample'.A39>,\n",
       " <Cell 'amazon_reviews_us_Watches_v1_00-sample'.A40>,\n",
       " <Cell 'amazon_reviews_us_Watches_v1_00-sample'.A41>,\n",
       " <Cell 'amazon_reviews_us_Watches_v1_00-sample'.A42>,\n",
       " <Cell 'amazon_reviews_us_Watches_v1_00-sample'.A43>,\n",
       " <Cell 'amazon_reviews_us_Watches_v1_00-sample'.A44>,\n",
       " <Cell 'amazon_reviews_us_Watches_v1_00-sample'.A45>,\n",
       " <Cell 'amazon_reviews_us_Watches_v1_00-sample'.A46>,\n",
       " <Cell 'amazon_reviews_us_Watches_v1_00-sample'.A47>,\n",
       " <Cell 'amazon_reviews_us_Watches_v1_00-sample'.A48>,\n",
       " <Cell 'amazon_reviews_us_Watches_v1_00-sample'.A49>,\n",
       " <Cell 'amazon_reviews_us_Watches_v1_00-sample'.A50>,\n",
       " <Cell 'amazon_reviews_us_Watches_v1_00-sample'.A51>,\n",
       " <Cell 'amazon_reviews_us_Watches_v1_00-sample'.A52>,\n",
       " <Cell 'amazon_reviews_us_Watches_v1_00-sample'.A53>,\n",
       " <Cell 'amazon_reviews_us_Watches_v1_00-sample'.A54>,\n",
       " <Cell 'amazon_reviews_us_Watches_v1_00-sample'.A55>,\n",
       " <Cell 'amazon_reviews_us_Watches_v1_00-sample'.A56>,\n",
       " <Cell 'amazon_reviews_us_Watches_v1_00-sample'.A57>,\n",
       " <Cell 'amazon_reviews_us_Watches_v1_00-sample'.A58>,\n",
       " <Cell 'amazon_reviews_us_Watches_v1_00-sample'.A59>,\n",
       " <Cell 'amazon_reviews_us_Watches_v1_00-sample'.A60>,\n",
       " <Cell 'amazon_reviews_us_Watches_v1_00-sample'.A61>,\n",
       " <Cell 'amazon_reviews_us_Watches_v1_00-sample'.A62>,\n",
       " <Cell 'amazon_reviews_us_Watches_v1_00-sample'.A63>,\n",
       " <Cell 'amazon_reviews_us_Watches_v1_00-sample'.A64>,\n",
       " <Cell 'amazon_reviews_us_Watches_v1_00-sample'.A65>,\n",
       " <Cell 'amazon_reviews_us_Watches_v1_00-sample'.A66>,\n",
       " <Cell 'amazon_reviews_us_Watches_v1_00-sample'.A67>,\n",
       " <Cell 'amazon_reviews_us_Watches_v1_00-sample'.A68>,\n",
       " <Cell 'amazon_reviews_us_Watches_v1_00-sample'.A69>,\n",
       " <Cell 'amazon_reviews_us_Watches_v1_00-sample'.A70>,\n",
       " <Cell 'amazon_reviews_us_Watches_v1_00-sample'.A71>,\n",
       " <Cell 'amazon_reviews_us_Watches_v1_00-sample'.A72>,\n",
       " <Cell 'amazon_reviews_us_Watches_v1_00-sample'.A73>,\n",
       " <Cell 'amazon_reviews_us_Watches_v1_00-sample'.A74>,\n",
       " <Cell 'amazon_reviews_us_Watches_v1_00-sample'.A75>,\n",
       " <Cell 'amazon_reviews_us_Watches_v1_00-sample'.A76>,\n",
       " <Cell 'amazon_reviews_us_Watches_v1_00-sample'.A77>,\n",
       " <Cell 'amazon_reviews_us_Watches_v1_00-sample'.A78>,\n",
       " <Cell 'amazon_reviews_us_Watches_v1_00-sample'.A79>,\n",
       " <Cell 'amazon_reviews_us_Watches_v1_00-sample'.A80>,\n",
       " <Cell 'amazon_reviews_us_Watches_v1_00-sample'.A81>,\n",
       " <Cell 'amazon_reviews_us_Watches_v1_00-sample'.A82>,\n",
       " <Cell 'amazon_reviews_us_Watches_v1_00-sample'.A83>,\n",
       " <Cell 'amazon_reviews_us_Watches_v1_00-sample'.A84>,\n",
       " <Cell 'amazon_reviews_us_Watches_v1_00-sample'.A85>,\n",
       " <Cell 'amazon_reviews_us_Watches_v1_00-sample'.A86>,\n",
       " <Cell 'amazon_reviews_us_Watches_v1_00-sample'.A87>,\n",
       " <Cell 'amazon_reviews_us_Watches_v1_00-sample'.A88>,\n",
       " <Cell 'amazon_reviews_us_Watches_v1_00-sample'.A89>,\n",
       " <Cell 'amazon_reviews_us_Watches_v1_00-sample'.A90>,\n",
       " <Cell 'amazon_reviews_us_Watches_v1_00-sample'.A91>,\n",
       " <Cell 'amazon_reviews_us_Watches_v1_00-sample'.A92>,\n",
       " <Cell 'amazon_reviews_us_Watches_v1_00-sample'.A93>,\n",
       " <Cell 'amazon_reviews_us_Watches_v1_00-sample'.A94>,\n",
       " <Cell 'amazon_reviews_us_Watches_v1_00-sample'.A95>,\n",
       " <Cell 'amazon_reviews_us_Watches_v1_00-sample'.A96>,\n",
       " <Cell 'amazon_reviews_us_Watches_v1_00-sample'.A97>,\n",
       " <Cell 'amazon_reviews_us_Watches_v1_00-sample'.A98>,\n",
       " <Cell 'amazon_reviews_us_Watches_v1_00-sample'.A99>,\n",
       " <Cell 'amazon_reviews_us_Watches_v1_00-sample'.A100>)"
      ]
     },
     "execution_count": 16,
     "metadata": {},
     "output_type": "execute_result"
    }
   ],
   "source": [
    "# get all cells from column A\n",
    "sheet[\"a\"]"
   ]
  },
  {
   "cell_type": "code",
   "execution_count": 17,
   "id": "033b0e25-f6c8-46d8-ab7f-3a5294d74d1f",
   "metadata": {
    "tags": []
   },
   "outputs": [
    {
     "data": {
      "text/plain": [
       "((<Cell 'amazon_reviews_us_Watches_v1_00-sample'.A1>,\n",
       "  <Cell 'amazon_reviews_us_Watches_v1_00-sample'.A2>,\n",
       "  <Cell 'amazon_reviews_us_Watches_v1_00-sample'.A3>,\n",
       "  <Cell 'amazon_reviews_us_Watches_v1_00-sample'.A4>,\n",
       "  <Cell 'amazon_reviews_us_Watches_v1_00-sample'.A5>,\n",
       "  <Cell 'amazon_reviews_us_Watches_v1_00-sample'.A6>,\n",
       "  <Cell 'amazon_reviews_us_Watches_v1_00-sample'.A7>,\n",
       "  <Cell 'amazon_reviews_us_Watches_v1_00-sample'.A8>,\n",
       "  <Cell 'amazon_reviews_us_Watches_v1_00-sample'.A9>,\n",
       "  <Cell 'amazon_reviews_us_Watches_v1_00-sample'.A10>,\n",
       "  <Cell 'amazon_reviews_us_Watches_v1_00-sample'.A11>,\n",
       "  <Cell 'amazon_reviews_us_Watches_v1_00-sample'.A12>,\n",
       "  <Cell 'amazon_reviews_us_Watches_v1_00-sample'.A13>,\n",
       "  <Cell 'amazon_reviews_us_Watches_v1_00-sample'.A14>,\n",
       "  <Cell 'amazon_reviews_us_Watches_v1_00-sample'.A15>,\n",
       "  <Cell 'amazon_reviews_us_Watches_v1_00-sample'.A16>,\n",
       "  <Cell 'amazon_reviews_us_Watches_v1_00-sample'.A17>,\n",
       "  <Cell 'amazon_reviews_us_Watches_v1_00-sample'.A18>,\n",
       "  <Cell 'amazon_reviews_us_Watches_v1_00-sample'.A19>,\n",
       "  <Cell 'amazon_reviews_us_Watches_v1_00-sample'.A20>,\n",
       "  <Cell 'amazon_reviews_us_Watches_v1_00-sample'.A21>,\n",
       "  <Cell 'amazon_reviews_us_Watches_v1_00-sample'.A22>,\n",
       "  <Cell 'amazon_reviews_us_Watches_v1_00-sample'.A23>,\n",
       "  <Cell 'amazon_reviews_us_Watches_v1_00-sample'.A24>,\n",
       "  <Cell 'amazon_reviews_us_Watches_v1_00-sample'.A25>,\n",
       "  <Cell 'amazon_reviews_us_Watches_v1_00-sample'.A26>,\n",
       "  <Cell 'amazon_reviews_us_Watches_v1_00-sample'.A27>,\n",
       "  <Cell 'amazon_reviews_us_Watches_v1_00-sample'.A28>,\n",
       "  <Cell 'amazon_reviews_us_Watches_v1_00-sample'.A29>,\n",
       "  <Cell 'amazon_reviews_us_Watches_v1_00-sample'.A30>,\n",
       "  <Cell 'amazon_reviews_us_Watches_v1_00-sample'.A31>,\n",
       "  <Cell 'amazon_reviews_us_Watches_v1_00-sample'.A32>,\n",
       "  <Cell 'amazon_reviews_us_Watches_v1_00-sample'.A33>,\n",
       "  <Cell 'amazon_reviews_us_Watches_v1_00-sample'.A34>,\n",
       "  <Cell 'amazon_reviews_us_Watches_v1_00-sample'.A35>,\n",
       "  <Cell 'amazon_reviews_us_Watches_v1_00-sample'.A36>,\n",
       "  <Cell 'amazon_reviews_us_Watches_v1_00-sample'.A37>,\n",
       "  <Cell 'amazon_reviews_us_Watches_v1_00-sample'.A38>,\n",
       "  <Cell 'amazon_reviews_us_Watches_v1_00-sample'.A39>,\n",
       "  <Cell 'amazon_reviews_us_Watches_v1_00-sample'.A40>,\n",
       "  <Cell 'amazon_reviews_us_Watches_v1_00-sample'.A41>,\n",
       "  <Cell 'amazon_reviews_us_Watches_v1_00-sample'.A42>,\n",
       "  <Cell 'amazon_reviews_us_Watches_v1_00-sample'.A43>,\n",
       "  <Cell 'amazon_reviews_us_Watches_v1_00-sample'.A44>,\n",
       "  <Cell 'amazon_reviews_us_Watches_v1_00-sample'.A45>,\n",
       "  <Cell 'amazon_reviews_us_Watches_v1_00-sample'.A46>,\n",
       "  <Cell 'amazon_reviews_us_Watches_v1_00-sample'.A47>,\n",
       "  <Cell 'amazon_reviews_us_Watches_v1_00-sample'.A48>,\n",
       "  <Cell 'amazon_reviews_us_Watches_v1_00-sample'.A49>,\n",
       "  <Cell 'amazon_reviews_us_Watches_v1_00-sample'.A50>,\n",
       "  <Cell 'amazon_reviews_us_Watches_v1_00-sample'.A51>,\n",
       "  <Cell 'amazon_reviews_us_Watches_v1_00-sample'.A52>,\n",
       "  <Cell 'amazon_reviews_us_Watches_v1_00-sample'.A53>,\n",
       "  <Cell 'amazon_reviews_us_Watches_v1_00-sample'.A54>,\n",
       "  <Cell 'amazon_reviews_us_Watches_v1_00-sample'.A55>,\n",
       "  <Cell 'amazon_reviews_us_Watches_v1_00-sample'.A56>,\n",
       "  <Cell 'amazon_reviews_us_Watches_v1_00-sample'.A57>,\n",
       "  <Cell 'amazon_reviews_us_Watches_v1_00-sample'.A58>,\n",
       "  <Cell 'amazon_reviews_us_Watches_v1_00-sample'.A59>,\n",
       "  <Cell 'amazon_reviews_us_Watches_v1_00-sample'.A60>,\n",
       "  <Cell 'amazon_reviews_us_Watches_v1_00-sample'.A61>,\n",
       "  <Cell 'amazon_reviews_us_Watches_v1_00-sample'.A62>,\n",
       "  <Cell 'amazon_reviews_us_Watches_v1_00-sample'.A63>,\n",
       "  <Cell 'amazon_reviews_us_Watches_v1_00-sample'.A64>,\n",
       "  <Cell 'amazon_reviews_us_Watches_v1_00-sample'.A65>,\n",
       "  <Cell 'amazon_reviews_us_Watches_v1_00-sample'.A66>,\n",
       "  <Cell 'amazon_reviews_us_Watches_v1_00-sample'.A67>,\n",
       "  <Cell 'amazon_reviews_us_Watches_v1_00-sample'.A68>,\n",
       "  <Cell 'amazon_reviews_us_Watches_v1_00-sample'.A69>,\n",
       "  <Cell 'amazon_reviews_us_Watches_v1_00-sample'.A70>,\n",
       "  <Cell 'amazon_reviews_us_Watches_v1_00-sample'.A71>,\n",
       "  <Cell 'amazon_reviews_us_Watches_v1_00-sample'.A72>,\n",
       "  <Cell 'amazon_reviews_us_Watches_v1_00-sample'.A73>,\n",
       "  <Cell 'amazon_reviews_us_Watches_v1_00-sample'.A74>,\n",
       "  <Cell 'amazon_reviews_us_Watches_v1_00-sample'.A75>,\n",
       "  <Cell 'amazon_reviews_us_Watches_v1_00-sample'.A76>,\n",
       "  <Cell 'amazon_reviews_us_Watches_v1_00-sample'.A77>,\n",
       "  <Cell 'amazon_reviews_us_Watches_v1_00-sample'.A78>,\n",
       "  <Cell 'amazon_reviews_us_Watches_v1_00-sample'.A79>,\n",
       "  <Cell 'amazon_reviews_us_Watches_v1_00-sample'.A80>,\n",
       "  <Cell 'amazon_reviews_us_Watches_v1_00-sample'.A81>,\n",
       "  <Cell 'amazon_reviews_us_Watches_v1_00-sample'.A82>,\n",
       "  <Cell 'amazon_reviews_us_Watches_v1_00-sample'.A83>,\n",
       "  <Cell 'amazon_reviews_us_Watches_v1_00-sample'.A84>,\n",
       "  <Cell 'amazon_reviews_us_Watches_v1_00-sample'.A85>,\n",
       "  <Cell 'amazon_reviews_us_Watches_v1_00-sample'.A86>,\n",
       "  <Cell 'amazon_reviews_us_Watches_v1_00-sample'.A87>,\n",
       "  <Cell 'amazon_reviews_us_Watches_v1_00-sample'.A88>,\n",
       "  <Cell 'amazon_reviews_us_Watches_v1_00-sample'.A89>,\n",
       "  <Cell 'amazon_reviews_us_Watches_v1_00-sample'.A90>,\n",
       "  <Cell 'amazon_reviews_us_Watches_v1_00-sample'.A91>,\n",
       "  <Cell 'amazon_reviews_us_Watches_v1_00-sample'.A92>,\n",
       "  <Cell 'amazon_reviews_us_Watches_v1_00-sample'.A93>,\n",
       "  <Cell 'amazon_reviews_us_Watches_v1_00-sample'.A94>,\n",
       "  <Cell 'amazon_reviews_us_Watches_v1_00-sample'.A95>,\n",
       "  <Cell 'amazon_reviews_us_Watches_v1_00-sample'.A96>,\n",
       "  <Cell 'amazon_reviews_us_Watches_v1_00-sample'.A97>,\n",
       "  <Cell 'amazon_reviews_us_Watches_v1_00-sample'.A98>,\n",
       "  <Cell 'amazon_reviews_us_Watches_v1_00-sample'.A99>,\n",
       "  <Cell 'amazon_reviews_us_Watches_v1_00-sample'.A100>),\n",
       " (<Cell 'amazon_reviews_us_Watches_v1_00-sample'.B1>,\n",
       "  <Cell 'amazon_reviews_us_Watches_v1_00-sample'.B2>,\n",
       "  <Cell 'amazon_reviews_us_Watches_v1_00-sample'.B3>,\n",
       "  <Cell 'amazon_reviews_us_Watches_v1_00-sample'.B4>,\n",
       "  <Cell 'amazon_reviews_us_Watches_v1_00-sample'.B5>,\n",
       "  <Cell 'amazon_reviews_us_Watches_v1_00-sample'.B6>,\n",
       "  <Cell 'amazon_reviews_us_Watches_v1_00-sample'.B7>,\n",
       "  <Cell 'amazon_reviews_us_Watches_v1_00-sample'.B8>,\n",
       "  <Cell 'amazon_reviews_us_Watches_v1_00-sample'.B9>,\n",
       "  <Cell 'amazon_reviews_us_Watches_v1_00-sample'.B10>,\n",
       "  <Cell 'amazon_reviews_us_Watches_v1_00-sample'.B11>,\n",
       "  <Cell 'amazon_reviews_us_Watches_v1_00-sample'.B12>,\n",
       "  <Cell 'amazon_reviews_us_Watches_v1_00-sample'.B13>,\n",
       "  <Cell 'amazon_reviews_us_Watches_v1_00-sample'.B14>,\n",
       "  <Cell 'amazon_reviews_us_Watches_v1_00-sample'.B15>,\n",
       "  <Cell 'amazon_reviews_us_Watches_v1_00-sample'.B16>,\n",
       "  <Cell 'amazon_reviews_us_Watches_v1_00-sample'.B17>,\n",
       "  <Cell 'amazon_reviews_us_Watches_v1_00-sample'.B18>,\n",
       "  <Cell 'amazon_reviews_us_Watches_v1_00-sample'.B19>,\n",
       "  <Cell 'amazon_reviews_us_Watches_v1_00-sample'.B20>,\n",
       "  <Cell 'amazon_reviews_us_Watches_v1_00-sample'.B21>,\n",
       "  <Cell 'amazon_reviews_us_Watches_v1_00-sample'.B22>,\n",
       "  <Cell 'amazon_reviews_us_Watches_v1_00-sample'.B23>,\n",
       "  <Cell 'amazon_reviews_us_Watches_v1_00-sample'.B24>,\n",
       "  <Cell 'amazon_reviews_us_Watches_v1_00-sample'.B25>,\n",
       "  <Cell 'amazon_reviews_us_Watches_v1_00-sample'.B26>,\n",
       "  <Cell 'amazon_reviews_us_Watches_v1_00-sample'.B27>,\n",
       "  <Cell 'amazon_reviews_us_Watches_v1_00-sample'.B28>,\n",
       "  <Cell 'amazon_reviews_us_Watches_v1_00-sample'.B29>,\n",
       "  <Cell 'amazon_reviews_us_Watches_v1_00-sample'.B30>,\n",
       "  <Cell 'amazon_reviews_us_Watches_v1_00-sample'.B31>,\n",
       "  <Cell 'amazon_reviews_us_Watches_v1_00-sample'.B32>,\n",
       "  <Cell 'amazon_reviews_us_Watches_v1_00-sample'.B33>,\n",
       "  <Cell 'amazon_reviews_us_Watches_v1_00-sample'.B34>,\n",
       "  <Cell 'amazon_reviews_us_Watches_v1_00-sample'.B35>,\n",
       "  <Cell 'amazon_reviews_us_Watches_v1_00-sample'.B36>,\n",
       "  <Cell 'amazon_reviews_us_Watches_v1_00-sample'.B37>,\n",
       "  <Cell 'amazon_reviews_us_Watches_v1_00-sample'.B38>,\n",
       "  <Cell 'amazon_reviews_us_Watches_v1_00-sample'.B39>,\n",
       "  <Cell 'amazon_reviews_us_Watches_v1_00-sample'.B40>,\n",
       "  <Cell 'amazon_reviews_us_Watches_v1_00-sample'.B41>,\n",
       "  <Cell 'amazon_reviews_us_Watches_v1_00-sample'.B42>,\n",
       "  <Cell 'amazon_reviews_us_Watches_v1_00-sample'.B43>,\n",
       "  <Cell 'amazon_reviews_us_Watches_v1_00-sample'.B44>,\n",
       "  <Cell 'amazon_reviews_us_Watches_v1_00-sample'.B45>,\n",
       "  <Cell 'amazon_reviews_us_Watches_v1_00-sample'.B46>,\n",
       "  <Cell 'amazon_reviews_us_Watches_v1_00-sample'.B47>,\n",
       "  <Cell 'amazon_reviews_us_Watches_v1_00-sample'.B48>,\n",
       "  <Cell 'amazon_reviews_us_Watches_v1_00-sample'.B49>,\n",
       "  <Cell 'amazon_reviews_us_Watches_v1_00-sample'.B50>,\n",
       "  <Cell 'amazon_reviews_us_Watches_v1_00-sample'.B51>,\n",
       "  <Cell 'amazon_reviews_us_Watches_v1_00-sample'.B52>,\n",
       "  <Cell 'amazon_reviews_us_Watches_v1_00-sample'.B53>,\n",
       "  <Cell 'amazon_reviews_us_Watches_v1_00-sample'.B54>,\n",
       "  <Cell 'amazon_reviews_us_Watches_v1_00-sample'.B55>,\n",
       "  <Cell 'amazon_reviews_us_Watches_v1_00-sample'.B56>,\n",
       "  <Cell 'amazon_reviews_us_Watches_v1_00-sample'.B57>,\n",
       "  <Cell 'amazon_reviews_us_Watches_v1_00-sample'.B58>,\n",
       "  <Cell 'amazon_reviews_us_Watches_v1_00-sample'.B59>,\n",
       "  <Cell 'amazon_reviews_us_Watches_v1_00-sample'.B60>,\n",
       "  <Cell 'amazon_reviews_us_Watches_v1_00-sample'.B61>,\n",
       "  <Cell 'amazon_reviews_us_Watches_v1_00-sample'.B62>,\n",
       "  <Cell 'amazon_reviews_us_Watches_v1_00-sample'.B63>,\n",
       "  <Cell 'amazon_reviews_us_Watches_v1_00-sample'.B64>,\n",
       "  <Cell 'amazon_reviews_us_Watches_v1_00-sample'.B65>,\n",
       "  <Cell 'amazon_reviews_us_Watches_v1_00-sample'.B66>,\n",
       "  <Cell 'amazon_reviews_us_Watches_v1_00-sample'.B67>,\n",
       "  <Cell 'amazon_reviews_us_Watches_v1_00-sample'.B68>,\n",
       "  <Cell 'amazon_reviews_us_Watches_v1_00-sample'.B69>,\n",
       "  <Cell 'amazon_reviews_us_Watches_v1_00-sample'.B70>,\n",
       "  <Cell 'amazon_reviews_us_Watches_v1_00-sample'.B71>,\n",
       "  <Cell 'amazon_reviews_us_Watches_v1_00-sample'.B72>,\n",
       "  <Cell 'amazon_reviews_us_Watches_v1_00-sample'.B73>,\n",
       "  <Cell 'amazon_reviews_us_Watches_v1_00-sample'.B74>,\n",
       "  <Cell 'amazon_reviews_us_Watches_v1_00-sample'.B75>,\n",
       "  <Cell 'amazon_reviews_us_Watches_v1_00-sample'.B76>,\n",
       "  <Cell 'amazon_reviews_us_Watches_v1_00-sample'.B77>,\n",
       "  <Cell 'amazon_reviews_us_Watches_v1_00-sample'.B78>,\n",
       "  <Cell 'amazon_reviews_us_Watches_v1_00-sample'.B79>,\n",
       "  <Cell 'amazon_reviews_us_Watches_v1_00-sample'.B80>,\n",
       "  <Cell 'amazon_reviews_us_Watches_v1_00-sample'.B81>,\n",
       "  <Cell 'amazon_reviews_us_Watches_v1_00-sample'.B82>,\n",
       "  <Cell 'amazon_reviews_us_Watches_v1_00-sample'.B83>,\n",
       "  <Cell 'amazon_reviews_us_Watches_v1_00-sample'.B84>,\n",
       "  <Cell 'amazon_reviews_us_Watches_v1_00-sample'.B85>,\n",
       "  <Cell 'amazon_reviews_us_Watches_v1_00-sample'.B86>,\n",
       "  <Cell 'amazon_reviews_us_Watches_v1_00-sample'.B87>,\n",
       "  <Cell 'amazon_reviews_us_Watches_v1_00-sample'.B88>,\n",
       "  <Cell 'amazon_reviews_us_Watches_v1_00-sample'.B89>,\n",
       "  <Cell 'amazon_reviews_us_Watches_v1_00-sample'.B90>,\n",
       "  <Cell 'amazon_reviews_us_Watches_v1_00-sample'.B91>,\n",
       "  <Cell 'amazon_reviews_us_Watches_v1_00-sample'.B92>,\n",
       "  <Cell 'amazon_reviews_us_Watches_v1_00-sample'.B93>,\n",
       "  <Cell 'amazon_reviews_us_Watches_v1_00-sample'.B94>,\n",
       "  <Cell 'amazon_reviews_us_Watches_v1_00-sample'.B95>,\n",
       "  <Cell 'amazon_reviews_us_Watches_v1_00-sample'.B96>,\n",
       "  <Cell 'amazon_reviews_us_Watches_v1_00-sample'.B97>,\n",
       "  <Cell 'amazon_reviews_us_Watches_v1_00-sample'.B98>,\n",
       "  <Cell 'amazon_reviews_us_Watches_v1_00-sample'.B99>,\n",
       "  <Cell 'amazon_reviews_us_Watches_v1_00-sample'.B100>))"
      ]
     },
     "execution_count": 17,
     "metadata": {},
     "output_type": "execute_result"
    }
   ],
   "source": [
    "# get all cells for a range of columns\n",
    "sheet[\"a:b\"]"
   ]
  },
  {
   "cell_type": "code",
   "execution_count": 18,
   "id": "bd830d74-37c6-4cd9-9025-803b1bbaad96",
   "metadata": {
    "tags": []
   },
   "outputs": [
    {
     "data": {
      "text/plain": [
       "(<Cell 'amazon_reviews_us_Watches_v1_00-sample'.A5>,\n",
       " <Cell 'amazon_reviews_us_Watches_v1_00-sample'.B5>,\n",
       " <Cell 'amazon_reviews_us_Watches_v1_00-sample'.C5>,\n",
       " <Cell 'amazon_reviews_us_Watches_v1_00-sample'.D5>,\n",
       " <Cell 'amazon_reviews_us_Watches_v1_00-sample'.E5>,\n",
       " <Cell 'amazon_reviews_us_Watches_v1_00-sample'.F5>,\n",
       " <Cell 'amazon_reviews_us_Watches_v1_00-sample'.G5>,\n",
       " <Cell 'amazon_reviews_us_Watches_v1_00-sample'.H5>,\n",
       " <Cell 'amazon_reviews_us_Watches_v1_00-sample'.I5>,\n",
       " <Cell 'amazon_reviews_us_Watches_v1_00-sample'.J5>,\n",
       " <Cell 'amazon_reviews_us_Watches_v1_00-sample'.K5>,\n",
       " <Cell 'amazon_reviews_us_Watches_v1_00-sample'.L5>,\n",
       " <Cell 'amazon_reviews_us_Watches_v1_00-sample'.M5>,\n",
       " <Cell 'amazon_reviews_us_Watches_v1_00-sample'.N5>,\n",
       " <Cell 'amazon_reviews_us_Watches_v1_00-sample'.O5>)"
      ]
     },
     "execution_count": 18,
     "metadata": {},
     "output_type": "execute_result"
    }
   ],
   "source": [
    "# get all cells from row 5\n",
    "sheet[5]"
   ]
  },
  {
   "cell_type": "code",
   "execution_count": 19,
   "id": "d39a660d-18b5-450a-927a-c7b6b40b30d5",
   "metadata": {
    "tags": []
   },
   "outputs": [
    {
     "data": {
      "text/plain": [
       "((<Cell 'amazon_reviews_us_Watches_v1_00-sample'.A5>,\n",
       "  <Cell 'amazon_reviews_us_Watches_v1_00-sample'.B5>,\n",
       "  <Cell 'amazon_reviews_us_Watches_v1_00-sample'.C5>,\n",
       "  <Cell 'amazon_reviews_us_Watches_v1_00-sample'.D5>,\n",
       "  <Cell 'amazon_reviews_us_Watches_v1_00-sample'.E5>,\n",
       "  <Cell 'amazon_reviews_us_Watches_v1_00-sample'.F5>,\n",
       "  <Cell 'amazon_reviews_us_Watches_v1_00-sample'.G5>,\n",
       "  <Cell 'amazon_reviews_us_Watches_v1_00-sample'.H5>,\n",
       "  <Cell 'amazon_reviews_us_Watches_v1_00-sample'.I5>,\n",
       "  <Cell 'amazon_reviews_us_Watches_v1_00-sample'.J5>,\n",
       "  <Cell 'amazon_reviews_us_Watches_v1_00-sample'.K5>,\n",
       "  <Cell 'amazon_reviews_us_Watches_v1_00-sample'.L5>,\n",
       "  <Cell 'amazon_reviews_us_Watches_v1_00-sample'.M5>,\n",
       "  <Cell 'amazon_reviews_us_Watches_v1_00-sample'.N5>,\n",
       "  <Cell 'amazon_reviews_us_Watches_v1_00-sample'.O5>),\n",
       " (<Cell 'amazon_reviews_us_Watches_v1_00-sample'.A6>,\n",
       "  <Cell 'amazon_reviews_us_Watches_v1_00-sample'.B6>,\n",
       "  <Cell 'amazon_reviews_us_Watches_v1_00-sample'.C6>,\n",
       "  <Cell 'amazon_reviews_us_Watches_v1_00-sample'.D6>,\n",
       "  <Cell 'amazon_reviews_us_Watches_v1_00-sample'.E6>,\n",
       "  <Cell 'amazon_reviews_us_Watches_v1_00-sample'.F6>,\n",
       "  <Cell 'amazon_reviews_us_Watches_v1_00-sample'.G6>,\n",
       "  <Cell 'amazon_reviews_us_Watches_v1_00-sample'.H6>,\n",
       "  <Cell 'amazon_reviews_us_Watches_v1_00-sample'.I6>,\n",
       "  <Cell 'amazon_reviews_us_Watches_v1_00-sample'.J6>,\n",
       "  <Cell 'amazon_reviews_us_Watches_v1_00-sample'.K6>,\n",
       "  <Cell 'amazon_reviews_us_Watches_v1_00-sample'.L6>,\n",
       "  <Cell 'amazon_reviews_us_Watches_v1_00-sample'.M6>,\n",
       "  <Cell 'amazon_reviews_us_Watches_v1_00-sample'.N6>,\n",
       "  <Cell 'amazon_reviews_us_Watches_v1_00-sample'.O6>))"
      ]
     },
     "execution_count": 19,
     "metadata": {},
     "output_type": "execute_result"
    }
   ],
   "source": [
    "# get all cells for a range of rows\n",
    "sheet[5:6]"
   ]
  },
  {
   "cell_type": "code",
   "execution_count": 21,
   "id": "95acbb57-32cc-4ecc-9e5b-77e4e85bdc3e",
   "metadata": {
    "tags": []
   },
   "outputs": [
    {
     "name": "stdout",
     "output_type": "stream",
     "text": [
      "(<Cell 'amazon_reviews_us_Watches_v1_00-sample'.A1>, <Cell 'amazon_reviews_us_Watches_v1_00-sample'.B1>, <Cell 'amazon_reviews_us_Watches_v1_00-sample'.C1>)\n",
      "(<Cell 'amazon_reviews_us_Watches_v1_00-sample'.A2>, <Cell 'amazon_reviews_us_Watches_v1_00-sample'.B2>, <Cell 'amazon_reviews_us_Watches_v1_00-sample'.C2>)\n"
     ]
    }
   ],
   "source": [
    "for row in sheet.iter_rows(min_row=1, max_row=2,\n",
    "                          min_col=1, max_col=3):\n",
    "    print(row)"
   ]
  },
  {
   "cell_type": "code",
   "execution_count": 23,
   "id": "dafa033d-7042-4bb2-9fe2-d4f7e9fd7367",
   "metadata": {
    "tags": []
   },
   "outputs": [
    {
     "name": "stdout",
     "output_type": "stream",
     "text": [
      "(<Cell 'amazon_reviews_us_Watches_v1_00-sample'.A1>, <Cell 'amazon_reviews_us_Watches_v1_00-sample'.A2>)\n",
      "(<Cell 'amazon_reviews_us_Watches_v1_00-sample'.B1>, <Cell 'amazon_reviews_us_Watches_v1_00-sample'.B2>)\n",
      "(<Cell 'amazon_reviews_us_Watches_v1_00-sample'.C1>, <Cell 'amazon_reviews_us_Watches_v1_00-sample'.C2>)\n"
     ]
    }
   ],
   "source": [
    "for col in sheet.iter_cols(min_row=1, max_row=2,\n",
    "                          min_col=1, max_col=3):\n",
    "    print(col)"
   ]
  },
  {
   "cell_type": "code",
   "execution_count": 24,
   "id": "77b83529-190a-49b5-8a06-2c387ffd2bf8",
   "metadata": {
    "tags": []
   },
   "outputs": [
    {
     "name": "stdout",
     "output_type": "stream",
     "text": [
      "('marketplace', 'customer_id', 'review_id')\n",
      "('US', 3653882, 'R3O9SGZBVQBV76')\n"
     ]
    }
   ],
   "source": [
    "for value in sheet.iter_rows(min_row=1, max_row=2,\n",
    "                            min_col=1, max_col=3,\n",
    "                            values_only=True):\n",
    "    print(value)"
   ]
  },
  {
   "cell_type": "code",
   "execution_count": 25,
   "id": "8ba67202-cf17-4dea-99d5-b9ce800f04d6",
   "metadata": {
    "tags": []
   },
   "outputs": [
    {
     "name": "stdout",
     "output_type": "stream",
     "text": [
      "(<Cell 'amazon_reviews_us_Watches_v1_00-sample'.A1>, <Cell 'amazon_reviews_us_Watches_v1_00-sample'.B1>, <Cell 'amazon_reviews_us_Watches_v1_00-sample'.C1>, <Cell 'amazon_reviews_us_Watches_v1_00-sample'.D1>, <Cell 'amazon_reviews_us_Watches_v1_00-sample'.E1>, <Cell 'amazon_reviews_us_Watches_v1_00-sample'.F1>, <Cell 'amazon_reviews_us_Watches_v1_00-sample'.G1>, <Cell 'amazon_reviews_us_Watches_v1_00-sample'.H1>, <Cell 'amazon_reviews_us_Watches_v1_00-sample'.I1>, <Cell 'amazon_reviews_us_Watches_v1_00-sample'.J1>, <Cell 'amazon_reviews_us_Watches_v1_00-sample'.K1>, <Cell 'amazon_reviews_us_Watches_v1_00-sample'.L1>, <Cell 'amazon_reviews_us_Watches_v1_00-sample'.M1>, <Cell 'amazon_reviews_us_Watches_v1_00-sample'.N1>, <Cell 'amazon_reviews_us_Watches_v1_00-sample'.O1>)\n",
      "(<Cell 'amazon_reviews_us_Watches_v1_00-sample'.A2>, <Cell 'amazon_reviews_us_Watches_v1_00-sample'.B2>, <Cell 'amazon_reviews_us_Watches_v1_00-sample'.C2>, <Cell 'amazon_reviews_us_Watches_v1_00-sample'.D2>, <Cell 'amazon_reviews_us_Watches_v1_00-sample'.E2>, <Cell 'amazon_reviews_us_Watches_v1_00-sample'.F2>, <Cell 'amazon_reviews_us_Watches_v1_00-sample'.G2>, <Cell 'amazon_reviews_us_Watches_v1_00-sample'.H2>, <Cell 'amazon_reviews_us_Watches_v1_00-sample'.I2>, <Cell 'amazon_reviews_us_Watches_v1_00-sample'.J2>, <Cell 'amazon_reviews_us_Watches_v1_00-sample'.K2>, <Cell 'amazon_reviews_us_Watches_v1_00-sample'.L2>, <Cell 'amazon_reviews_us_Watches_v1_00-sample'.M2>, <Cell 'amazon_reviews_us_Watches_v1_00-sample'.N2>, <Cell 'amazon_reviews_us_Watches_v1_00-sample'.O2>)\n",
      "(<Cell 'amazon_reviews_us_Watches_v1_00-sample'.A3>, <Cell 'amazon_reviews_us_Watches_v1_00-sample'.B3>, <Cell 'amazon_reviews_us_Watches_v1_00-sample'.C3>, <Cell 'amazon_reviews_us_Watches_v1_00-sample'.D3>, <Cell 'amazon_reviews_us_Watches_v1_00-sample'.E3>, <Cell 'amazon_reviews_us_Watches_v1_00-sample'.F3>, <Cell 'amazon_reviews_us_Watches_v1_00-sample'.G3>, <Cell 'amazon_reviews_us_Watches_v1_00-sample'.H3>, <Cell 'amazon_reviews_us_Watches_v1_00-sample'.I3>, <Cell 'amazon_reviews_us_Watches_v1_00-sample'.J3>, <Cell 'amazon_reviews_us_Watches_v1_00-sample'.K3>, <Cell 'amazon_reviews_us_Watches_v1_00-sample'.L3>, <Cell 'amazon_reviews_us_Watches_v1_00-sample'.M3>, <Cell 'amazon_reviews_us_Watches_v1_00-sample'.N3>, <Cell 'amazon_reviews_us_Watches_v1_00-sample'.O3>)\n",
      "(<Cell 'amazon_reviews_us_Watches_v1_00-sample'.A4>, <Cell 'amazon_reviews_us_Watches_v1_00-sample'.B4>, <Cell 'amazon_reviews_us_Watches_v1_00-sample'.C4>, <Cell 'amazon_reviews_us_Watches_v1_00-sample'.D4>, <Cell 'amazon_reviews_us_Watches_v1_00-sample'.E4>, <Cell 'amazon_reviews_us_Watches_v1_00-sample'.F4>, <Cell 'amazon_reviews_us_Watches_v1_00-sample'.G4>, <Cell 'amazon_reviews_us_Watches_v1_00-sample'.H4>, <Cell 'amazon_reviews_us_Watches_v1_00-sample'.I4>, <Cell 'amazon_reviews_us_Watches_v1_00-sample'.J4>, <Cell 'amazon_reviews_us_Watches_v1_00-sample'.K4>, <Cell 'amazon_reviews_us_Watches_v1_00-sample'.L4>, <Cell 'amazon_reviews_us_Watches_v1_00-sample'.M4>, <Cell 'amazon_reviews_us_Watches_v1_00-sample'.N4>, <Cell 'amazon_reviews_us_Watches_v1_00-sample'.O4>)\n",
      "(<Cell 'amazon_reviews_us_Watches_v1_00-sample'.A5>, <Cell 'amazon_reviews_us_Watches_v1_00-sample'.B5>, <Cell 'amazon_reviews_us_Watches_v1_00-sample'.C5>, <Cell 'amazon_reviews_us_Watches_v1_00-sample'.D5>, <Cell 'amazon_reviews_us_Watches_v1_00-sample'.E5>, <Cell 'amazon_reviews_us_Watches_v1_00-sample'.F5>, <Cell 'amazon_reviews_us_Watches_v1_00-sample'.G5>, <Cell 'amazon_reviews_us_Watches_v1_00-sample'.H5>, <Cell 'amazon_reviews_us_Watches_v1_00-sample'.I5>, <Cell 'amazon_reviews_us_Watches_v1_00-sample'.J5>, <Cell 'amazon_reviews_us_Watches_v1_00-sample'.K5>, <Cell 'amazon_reviews_us_Watches_v1_00-sample'.L5>, <Cell 'amazon_reviews_us_Watches_v1_00-sample'.M5>, <Cell 'amazon_reviews_us_Watches_v1_00-sample'.N5>, <Cell 'amazon_reviews_us_Watches_v1_00-sample'.O5>)\n",
      "(<Cell 'amazon_reviews_us_Watches_v1_00-sample'.A6>, <Cell 'amazon_reviews_us_Watches_v1_00-sample'.B6>, <Cell 'amazon_reviews_us_Watches_v1_00-sample'.C6>, <Cell 'amazon_reviews_us_Watches_v1_00-sample'.D6>, <Cell 'amazon_reviews_us_Watches_v1_00-sample'.E6>, <Cell 'amazon_reviews_us_Watches_v1_00-sample'.F6>, <Cell 'amazon_reviews_us_Watches_v1_00-sample'.G6>, <Cell 'amazon_reviews_us_Watches_v1_00-sample'.H6>, <Cell 'amazon_reviews_us_Watches_v1_00-sample'.I6>, <Cell 'amazon_reviews_us_Watches_v1_00-sample'.J6>, <Cell 'amazon_reviews_us_Watches_v1_00-sample'.K6>, <Cell 'amazon_reviews_us_Watches_v1_00-sample'.L6>, <Cell 'amazon_reviews_us_Watches_v1_00-sample'.M6>, <Cell 'amazon_reviews_us_Watches_v1_00-sample'.N6>, <Cell 'amazon_reviews_us_Watches_v1_00-sample'.O6>)\n",
      "(<Cell 'amazon_reviews_us_Watches_v1_00-sample'.A7>, <Cell 'amazon_reviews_us_Watches_v1_00-sample'.B7>, <Cell 'amazon_reviews_us_Watches_v1_00-sample'.C7>, <Cell 'amazon_reviews_us_Watches_v1_00-sample'.D7>, <Cell 'amazon_reviews_us_Watches_v1_00-sample'.E7>, <Cell 'amazon_reviews_us_Watches_v1_00-sample'.F7>, <Cell 'amazon_reviews_us_Watches_v1_00-sample'.G7>, <Cell 'amazon_reviews_us_Watches_v1_00-sample'.H7>, <Cell 'amazon_reviews_us_Watches_v1_00-sample'.I7>, <Cell 'amazon_reviews_us_Watches_v1_00-sample'.J7>, <Cell 'amazon_reviews_us_Watches_v1_00-sample'.K7>, <Cell 'amazon_reviews_us_Watches_v1_00-sample'.L7>, <Cell 'amazon_reviews_us_Watches_v1_00-sample'.M7>, <Cell 'amazon_reviews_us_Watches_v1_00-sample'.N7>, <Cell 'amazon_reviews_us_Watches_v1_00-sample'.O7>)\n",
      "(<Cell 'amazon_reviews_us_Watches_v1_00-sample'.A8>, <Cell 'amazon_reviews_us_Watches_v1_00-sample'.B8>, <Cell 'amazon_reviews_us_Watches_v1_00-sample'.C8>, <Cell 'amazon_reviews_us_Watches_v1_00-sample'.D8>, <Cell 'amazon_reviews_us_Watches_v1_00-sample'.E8>, <Cell 'amazon_reviews_us_Watches_v1_00-sample'.F8>, <Cell 'amazon_reviews_us_Watches_v1_00-sample'.G8>, <Cell 'amazon_reviews_us_Watches_v1_00-sample'.H8>, <Cell 'amazon_reviews_us_Watches_v1_00-sample'.I8>, <Cell 'amazon_reviews_us_Watches_v1_00-sample'.J8>, <Cell 'amazon_reviews_us_Watches_v1_00-sample'.K8>, <Cell 'amazon_reviews_us_Watches_v1_00-sample'.L8>, <Cell 'amazon_reviews_us_Watches_v1_00-sample'.M8>, <Cell 'amazon_reviews_us_Watches_v1_00-sample'.N8>, <Cell 'amazon_reviews_us_Watches_v1_00-sample'.O8>)\n",
      "(<Cell 'amazon_reviews_us_Watches_v1_00-sample'.A9>, <Cell 'amazon_reviews_us_Watches_v1_00-sample'.B9>, <Cell 'amazon_reviews_us_Watches_v1_00-sample'.C9>, <Cell 'amazon_reviews_us_Watches_v1_00-sample'.D9>, <Cell 'amazon_reviews_us_Watches_v1_00-sample'.E9>, <Cell 'amazon_reviews_us_Watches_v1_00-sample'.F9>, <Cell 'amazon_reviews_us_Watches_v1_00-sample'.G9>, <Cell 'amazon_reviews_us_Watches_v1_00-sample'.H9>, <Cell 'amazon_reviews_us_Watches_v1_00-sample'.I9>, <Cell 'amazon_reviews_us_Watches_v1_00-sample'.J9>, <Cell 'amazon_reviews_us_Watches_v1_00-sample'.K9>, <Cell 'amazon_reviews_us_Watches_v1_00-sample'.L9>, <Cell 'amazon_reviews_us_Watches_v1_00-sample'.M9>, <Cell 'amazon_reviews_us_Watches_v1_00-sample'.N9>, <Cell 'amazon_reviews_us_Watches_v1_00-sample'.O9>)\n",
      "(<Cell 'amazon_reviews_us_Watches_v1_00-sample'.A10>, <Cell 'amazon_reviews_us_Watches_v1_00-sample'.B10>, <Cell 'amazon_reviews_us_Watches_v1_00-sample'.C10>, <Cell 'amazon_reviews_us_Watches_v1_00-sample'.D10>, <Cell 'amazon_reviews_us_Watches_v1_00-sample'.E10>, <Cell 'amazon_reviews_us_Watches_v1_00-sample'.F10>, <Cell 'amazon_reviews_us_Watches_v1_00-sample'.G10>, <Cell 'amazon_reviews_us_Watches_v1_00-sample'.H10>, <Cell 'amazon_reviews_us_Watches_v1_00-sample'.I10>, <Cell 'amazon_reviews_us_Watches_v1_00-sample'.J10>, <Cell 'amazon_reviews_us_Watches_v1_00-sample'.K10>, <Cell 'amazon_reviews_us_Watches_v1_00-sample'.L10>, <Cell 'amazon_reviews_us_Watches_v1_00-sample'.M10>, <Cell 'amazon_reviews_us_Watches_v1_00-sample'.N10>, <Cell 'amazon_reviews_us_Watches_v1_00-sample'.O10>)\n",
      "(<Cell 'amazon_reviews_us_Watches_v1_00-sample'.A11>, <Cell 'amazon_reviews_us_Watches_v1_00-sample'.B11>, <Cell 'amazon_reviews_us_Watches_v1_00-sample'.C11>, <Cell 'amazon_reviews_us_Watches_v1_00-sample'.D11>, <Cell 'amazon_reviews_us_Watches_v1_00-sample'.E11>, <Cell 'amazon_reviews_us_Watches_v1_00-sample'.F11>, <Cell 'amazon_reviews_us_Watches_v1_00-sample'.G11>, <Cell 'amazon_reviews_us_Watches_v1_00-sample'.H11>, <Cell 'amazon_reviews_us_Watches_v1_00-sample'.I11>, <Cell 'amazon_reviews_us_Watches_v1_00-sample'.J11>, <Cell 'amazon_reviews_us_Watches_v1_00-sample'.K11>, <Cell 'amazon_reviews_us_Watches_v1_00-sample'.L11>, <Cell 'amazon_reviews_us_Watches_v1_00-sample'.M11>, <Cell 'amazon_reviews_us_Watches_v1_00-sample'.N11>, <Cell 'amazon_reviews_us_Watches_v1_00-sample'.O11>)\n",
      "(<Cell 'amazon_reviews_us_Watches_v1_00-sample'.A12>, <Cell 'amazon_reviews_us_Watches_v1_00-sample'.B12>, <Cell 'amazon_reviews_us_Watches_v1_00-sample'.C12>, <Cell 'amazon_reviews_us_Watches_v1_00-sample'.D12>, <Cell 'amazon_reviews_us_Watches_v1_00-sample'.E12>, <Cell 'amazon_reviews_us_Watches_v1_00-sample'.F12>, <Cell 'amazon_reviews_us_Watches_v1_00-sample'.G12>, <Cell 'amazon_reviews_us_Watches_v1_00-sample'.H12>, <Cell 'amazon_reviews_us_Watches_v1_00-sample'.I12>, <Cell 'amazon_reviews_us_Watches_v1_00-sample'.J12>, <Cell 'amazon_reviews_us_Watches_v1_00-sample'.K12>, <Cell 'amazon_reviews_us_Watches_v1_00-sample'.L12>, <Cell 'amazon_reviews_us_Watches_v1_00-sample'.M12>, <Cell 'amazon_reviews_us_Watches_v1_00-sample'.N12>, <Cell 'amazon_reviews_us_Watches_v1_00-sample'.O12>)\n",
      "(<Cell 'amazon_reviews_us_Watches_v1_00-sample'.A13>, <Cell 'amazon_reviews_us_Watches_v1_00-sample'.B13>, <Cell 'amazon_reviews_us_Watches_v1_00-sample'.C13>, <Cell 'amazon_reviews_us_Watches_v1_00-sample'.D13>, <Cell 'amazon_reviews_us_Watches_v1_00-sample'.E13>, <Cell 'amazon_reviews_us_Watches_v1_00-sample'.F13>, <Cell 'amazon_reviews_us_Watches_v1_00-sample'.G13>, <Cell 'amazon_reviews_us_Watches_v1_00-sample'.H13>, <Cell 'amazon_reviews_us_Watches_v1_00-sample'.I13>, <Cell 'amazon_reviews_us_Watches_v1_00-sample'.J13>, <Cell 'amazon_reviews_us_Watches_v1_00-sample'.K13>, <Cell 'amazon_reviews_us_Watches_v1_00-sample'.L13>, <Cell 'amazon_reviews_us_Watches_v1_00-sample'.M13>, <Cell 'amazon_reviews_us_Watches_v1_00-sample'.N13>, <Cell 'amazon_reviews_us_Watches_v1_00-sample'.O13>)\n",
      "(<Cell 'amazon_reviews_us_Watches_v1_00-sample'.A14>, <Cell 'amazon_reviews_us_Watches_v1_00-sample'.B14>, <Cell 'amazon_reviews_us_Watches_v1_00-sample'.C14>, <Cell 'amazon_reviews_us_Watches_v1_00-sample'.D14>, <Cell 'amazon_reviews_us_Watches_v1_00-sample'.E14>, <Cell 'amazon_reviews_us_Watches_v1_00-sample'.F14>, <Cell 'amazon_reviews_us_Watches_v1_00-sample'.G14>, <Cell 'amazon_reviews_us_Watches_v1_00-sample'.H14>, <Cell 'amazon_reviews_us_Watches_v1_00-sample'.I14>, <Cell 'amazon_reviews_us_Watches_v1_00-sample'.J14>, <Cell 'amazon_reviews_us_Watches_v1_00-sample'.K14>, <Cell 'amazon_reviews_us_Watches_v1_00-sample'.L14>, <Cell 'amazon_reviews_us_Watches_v1_00-sample'.M14>, <Cell 'amazon_reviews_us_Watches_v1_00-sample'.N14>, <Cell 'amazon_reviews_us_Watches_v1_00-sample'.O14>)\n",
      "(<Cell 'amazon_reviews_us_Watches_v1_00-sample'.A15>, <Cell 'amazon_reviews_us_Watches_v1_00-sample'.B15>, <Cell 'amazon_reviews_us_Watches_v1_00-sample'.C15>, <Cell 'amazon_reviews_us_Watches_v1_00-sample'.D15>, <Cell 'amazon_reviews_us_Watches_v1_00-sample'.E15>, <Cell 'amazon_reviews_us_Watches_v1_00-sample'.F15>, <Cell 'amazon_reviews_us_Watches_v1_00-sample'.G15>, <Cell 'amazon_reviews_us_Watches_v1_00-sample'.H15>, <Cell 'amazon_reviews_us_Watches_v1_00-sample'.I15>, <Cell 'amazon_reviews_us_Watches_v1_00-sample'.J15>, <Cell 'amazon_reviews_us_Watches_v1_00-sample'.K15>, <Cell 'amazon_reviews_us_Watches_v1_00-sample'.L15>, <Cell 'amazon_reviews_us_Watches_v1_00-sample'.M15>, <Cell 'amazon_reviews_us_Watches_v1_00-sample'.N15>, <Cell 'amazon_reviews_us_Watches_v1_00-sample'.O15>)\n",
      "(<Cell 'amazon_reviews_us_Watches_v1_00-sample'.A16>, <Cell 'amazon_reviews_us_Watches_v1_00-sample'.B16>, <Cell 'amazon_reviews_us_Watches_v1_00-sample'.C16>, <Cell 'amazon_reviews_us_Watches_v1_00-sample'.D16>, <Cell 'amazon_reviews_us_Watches_v1_00-sample'.E16>, <Cell 'amazon_reviews_us_Watches_v1_00-sample'.F16>, <Cell 'amazon_reviews_us_Watches_v1_00-sample'.G16>, <Cell 'amazon_reviews_us_Watches_v1_00-sample'.H16>, <Cell 'amazon_reviews_us_Watches_v1_00-sample'.I16>, <Cell 'amazon_reviews_us_Watches_v1_00-sample'.J16>, <Cell 'amazon_reviews_us_Watches_v1_00-sample'.K16>, <Cell 'amazon_reviews_us_Watches_v1_00-sample'.L16>, <Cell 'amazon_reviews_us_Watches_v1_00-sample'.M16>, <Cell 'amazon_reviews_us_Watches_v1_00-sample'.N16>, <Cell 'amazon_reviews_us_Watches_v1_00-sample'.O16>)\n",
      "(<Cell 'amazon_reviews_us_Watches_v1_00-sample'.A17>, <Cell 'amazon_reviews_us_Watches_v1_00-sample'.B17>, <Cell 'amazon_reviews_us_Watches_v1_00-sample'.C17>, <Cell 'amazon_reviews_us_Watches_v1_00-sample'.D17>, <Cell 'amazon_reviews_us_Watches_v1_00-sample'.E17>, <Cell 'amazon_reviews_us_Watches_v1_00-sample'.F17>, <Cell 'amazon_reviews_us_Watches_v1_00-sample'.G17>, <Cell 'amazon_reviews_us_Watches_v1_00-sample'.H17>, <Cell 'amazon_reviews_us_Watches_v1_00-sample'.I17>, <Cell 'amazon_reviews_us_Watches_v1_00-sample'.J17>, <Cell 'amazon_reviews_us_Watches_v1_00-sample'.K17>, <Cell 'amazon_reviews_us_Watches_v1_00-sample'.L17>, <Cell 'amazon_reviews_us_Watches_v1_00-sample'.M17>, <Cell 'amazon_reviews_us_Watches_v1_00-sample'.N17>, <Cell 'amazon_reviews_us_Watches_v1_00-sample'.O17>)\n",
      "(<Cell 'amazon_reviews_us_Watches_v1_00-sample'.A18>, <Cell 'amazon_reviews_us_Watches_v1_00-sample'.B18>, <Cell 'amazon_reviews_us_Watches_v1_00-sample'.C18>, <Cell 'amazon_reviews_us_Watches_v1_00-sample'.D18>, <Cell 'amazon_reviews_us_Watches_v1_00-sample'.E18>, <Cell 'amazon_reviews_us_Watches_v1_00-sample'.F18>, <Cell 'amazon_reviews_us_Watches_v1_00-sample'.G18>, <Cell 'amazon_reviews_us_Watches_v1_00-sample'.H18>, <Cell 'amazon_reviews_us_Watches_v1_00-sample'.I18>, <Cell 'amazon_reviews_us_Watches_v1_00-sample'.J18>, <Cell 'amazon_reviews_us_Watches_v1_00-sample'.K18>, <Cell 'amazon_reviews_us_Watches_v1_00-sample'.L18>, <Cell 'amazon_reviews_us_Watches_v1_00-sample'.M18>, <Cell 'amazon_reviews_us_Watches_v1_00-sample'.N18>, <Cell 'amazon_reviews_us_Watches_v1_00-sample'.O18>)\n",
      "(<Cell 'amazon_reviews_us_Watches_v1_00-sample'.A19>, <Cell 'amazon_reviews_us_Watches_v1_00-sample'.B19>, <Cell 'amazon_reviews_us_Watches_v1_00-sample'.C19>, <Cell 'amazon_reviews_us_Watches_v1_00-sample'.D19>, <Cell 'amazon_reviews_us_Watches_v1_00-sample'.E19>, <Cell 'amazon_reviews_us_Watches_v1_00-sample'.F19>, <Cell 'amazon_reviews_us_Watches_v1_00-sample'.G19>, <Cell 'amazon_reviews_us_Watches_v1_00-sample'.H19>, <Cell 'amazon_reviews_us_Watches_v1_00-sample'.I19>, <Cell 'amazon_reviews_us_Watches_v1_00-sample'.J19>, <Cell 'amazon_reviews_us_Watches_v1_00-sample'.K19>, <Cell 'amazon_reviews_us_Watches_v1_00-sample'.L19>, <Cell 'amazon_reviews_us_Watches_v1_00-sample'.M19>, <Cell 'amazon_reviews_us_Watches_v1_00-sample'.N19>, <Cell 'amazon_reviews_us_Watches_v1_00-sample'.O19>)\n",
      "(<Cell 'amazon_reviews_us_Watches_v1_00-sample'.A20>, <Cell 'amazon_reviews_us_Watches_v1_00-sample'.B20>, <Cell 'amazon_reviews_us_Watches_v1_00-sample'.C20>, <Cell 'amazon_reviews_us_Watches_v1_00-sample'.D20>, <Cell 'amazon_reviews_us_Watches_v1_00-sample'.E20>, <Cell 'amazon_reviews_us_Watches_v1_00-sample'.F20>, <Cell 'amazon_reviews_us_Watches_v1_00-sample'.G20>, <Cell 'amazon_reviews_us_Watches_v1_00-sample'.H20>, <Cell 'amazon_reviews_us_Watches_v1_00-sample'.I20>, <Cell 'amazon_reviews_us_Watches_v1_00-sample'.J20>, <Cell 'amazon_reviews_us_Watches_v1_00-sample'.K20>, <Cell 'amazon_reviews_us_Watches_v1_00-sample'.L20>, <Cell 'amazon_reviews_us_Watches_v1_00-sample'.M20>, <Cell 'amazon_reviews_us_Watches_v1_00-sample'.N20>, <Cell 'amazon_reviews_us_Watches_v1_00-sample'.O20>)\n",
      "(<Cell 'amazon_reviews_us_Watches_v1_00-sample'.A21>, <Cell 'amazon_reviews_us_Watches_v1_00-sample'.B21>, <Cell 'amazon_reviews_us_Watches_v1_00-sample'.C21>, <Cell 'amazon_reviews_us_Watches_v1_00-sample'.D21>, <Cell 'amazon_reviews_us_Watches_v1_00-sample'.E21>, <Cell 'amazon_reviews_us_Watches_v1_00-sample'.F21>, <Cell 'amazon_reviews_us_Watches_v1_00-sample'.G21>, <Cell 'amazon_reviews_us_Watches_v1_00-sample'.H21>, <Cell 'amazon_reviews_us_Watches_v1_00-sample'.I21>, <Cell 'amazon_reviews_us_Watches_v1_00-sample'.J21>, <Cell 'amazon_reviews_us_Watches_v1_00-sample'.K21>, <Cell 'amazon_reviews_us_Watches_v1_00-sample'.L21>, <Cell 'amazon_reviews_us_Watches_v1_00-sample'.M21>, <Cell 'amazon_reviews_us_Watches_v1_00-sample'.N21>, <Cell 'amazon_reviews_us_Watches_v1_00-sample'.O21>)\n",
      "(<Cell 'amazon_reviews_us_Watches_v1_00-sample'.A22>, <Cell 'amazon_reviews_us_Watches_v1_00-sample'.B22>, <Cell 'amazon_reviews_us_Watches_v1_00-sample'.C22>, <Cell 'amazon_reviews_us_Watches_v1_00-sample'.D22>, <Cell 'amazon_reviews_us_Watches_v1_00-sample'.E22>, <Cell 'amazon_reviews_us_Watches_v1_00-sample'.F22>, <Cell 'amazon_reviews_us_Watches_v1_00-sample'.G22>, <Cell 'amazon_reviews_us_Watches_v1_00-sample'.H22>, <Cell 'amazon_reviews_us_Watches_v1_00-sample'.I22>, <Cell 'amazon_reviews_us_Watches_v1_00-sample'.J22>, <Cell 'amazon_reviews_us_Watches_v1_00-sample'.K22>, <Cell 'amazon_reviews_us_Watches_v1_00-sample'.L22>, <Cell 'amazon_reviews_us_Watches_v1_00-sample'.M22>, <Cell 'amazon_reviews_us_Watches_v1_00-sample'.N22>, <Cell 'amazon_reviews_us_Watches_v1_00-sample'.O22>)\n",
      "(<Cell 'amazon_reviews_us_Watches_v1_00-sample'.A23>, <Cell 'amazon_reviews_us_Watches_v1_00-sample'.B23>, <Cell 'amazon_reviews_us_Watches_v1_00-sample'.C23>, <Cell 'amazon_reviews_us_Watches_v1_00-sample'.D23>, <Cell 'amazon_reviews_us_Watches_v1_00-sample'.E23>, <Cell 'amazon_reviews_us_Watches_v1_00-sample'.F23>, <Cell 'amazon_reviews_us_Watches_v1_00-sample'.G23>, <Cell 'amazon_reviews_us_Watches_v1_00-sample'.H23>, <Cell 'amazon_reviews_us_Watches_v1_00-sample'.I23>, <Cell 'amazon_reviews_us_Watches_v1_00-sample'.J23>, <Cell 'amazon_reviews_us_Watches_v1_00-sample'.K23>, <Cell 'amazon_reviews_us_Watches_v1_00-sample'.L23>, <Cell 'amazon_reviews_us_Watches_v1_00-sample'.M23>, <Cell 'amazon_reviews_us_Watches_v1_00-sample'.N23>, <Cell 'amazon_reviews_us_Watches_v1_00-sample'.O23>)\n",
      "(<Cell 'amazon_reviews_us_Watches_v1_00-sample'.A24>, <Cell 'amazon_reviews_us_Watches_v1_00-sample'.B24>, <Cell 'amazon_reviews_us_Watches_v1_00-sample'.C24>, <Cell 'amazon_reviews_us_Watches_v1_00-sample'.D24>, <Cell 'amazon_reviews_us_Watches_v1_00-sample'.E24>, <Cell 'amazon_reviews_us_Watches_v1_00-sample'.F24>, <Cell 'amazon_reviews_us_Watches_v1_00-sample'.G24>, <Cell 'amazon_reviews_us_Watches_v1_00-sample'.H24>, <Cell 'amazon_reviews_us_Watches_v1_00-sample'.I24>, <Cell 'amazon_reviews_us_Watches_v1_00-sample'.J24>, <Cell 'amazon_reviews_us_Watches_v1_00-sample'.K24>, <Cell 'amazon_reviews_us_Watches_v1_00-sample'.L24>, <Cell 'amazon_reviews_us_Watches_v1_00-sample'.M24>, <Cell 'amazon_reviews_us_Watches_v1_00-sample'.N24>, <Cell 'amazon_reviews_us_Watches_v1_00-sample'.O24>)\n",
      "(<Cell 'amazon_reviews_us_Watches_v1_00-sample'.A25>, <Cell 'amazon_reviews_us_Watches_v1_00-sample'.B25>, <Cell 'amazon_reviews_us_Watches_v1_00-sample'.C25>, <Cell 'amazon_reviews_us_Watches_v1_00-sample'.D25>, <Cell 'amazon_reviews_us_Watches_v1_00-sample'.E25>, <Cell 'amazon_reviews_us_Watches_v1_00-sample'.F25>, <Cell 'amazon_reviews_us_Watches_v1_00-sample'.G25>, <Cell 'amazon_reviews_us_Watches_v1_00-sample'.H25>, <Cell 'amazon_reviews_us_Watches_v1_00-sample'.I25>, <Cell 'amazon_reviews_us_Watches_v1_00-sample'.J25>, <Cell 'amazon_reviews_us_Watches_v1_00-sample'.K25>, <Cell 'amazon_reviews_us_Watches_v1_00-sample'.L25>, <Cell 'amazon_reviews_us_Watches_v1_00-sample'.M25>, <Cell 'amazon_reviews_us_Watches_v1_00-sample'.N25>, <Cell 'amazon_reviews_us_Watches_v1_00-sample'.O25>)\n",
      "(<Cell 'amazon_reviews_us_Watches_v1_00-sample'.A26>, <Cell 'amazon_reviews_us_Watches_v1_00-sample'.B26>, <Cell 'amazon_reviews_us_Watches_v1_00-sample'.C26>, <Cell 'amazon_reviews_us_Watches_v1_00-sample'.D26>, <Cell 'amazon_reviews_us_Watches_v1_00-sample'.E26>, <Cell 'amazon_reviews_us_Watches_v1_00-sample'.F26>, <Cell 'amazon_reviews_us_Watches_v1_00-sample'.G26>, <Cell 'amazon_reviews_us_Watches_v1_00-sample'.H26>, <Cell 'amazon_reviews_us_Watches_v1_00-sample'.I26>, <Cell 'amazon_reviews_us_Watches_v1_00-sample'.J26>, <Cell 'amazon_reviews_us_Watches_v1_00-sample'.K26>, <Cell 'amazon_reviews_us_Watches_v1_00-sample'.L26>, <Cell 'amazon_reviews_us_Watches_v1_00-sample'.M26>, <Cell 'amazon_reviews_us_Watches_v1_00-sample'.N26>, <Cell 'amazon_reviews_us_Watches_v1_00-sample'.O26>)\n",
      "(<Cell 'amazon_reviews_us_Watches_v1_00-sample'.A27>, <Cell 'amazon_reviews_us_Watches_v1_00-sample'.B27>, <Cell 'amazon_reviews_us_Watches_v1_00-sample'.C27>, <Cell 'amazon_reviews_us_Watches_v1_00-sample'.D27>, <Cell 'amazon_reviews_us_Watches_v1_00-sample'.E27>, <Cell 'amazon_reviews_us_Watches_v1_00-sample'.F27>, <Cell 'amazon_reviews_us_Watches_v1_00-sample'.G27>, <Cell 'amazon_reviews_us_Watches_v1_00-sample'.H27>, <Cell 'amazon_reviews_us_Watches_v1_00-sample'.I27>, <Cell 'amazon_reviews_us_Watches_v1_00-sample'.J27>, <Cell 'amazon_reviews_us_Watches_v1_00-sample'.K27>, <Cell 'amazon_reviews_us_Watches_v1_00-sample'.L27>, <Cell 'amazon_reviews_us_Watches_v1_00-sample'.M27>, <Cell 'amazon_reviews_us_Watches_v1_00-sample'.N27>, <Cell 'amazon_reviews_us_Watches_v1_00-sample'.O27>)\n",
      "(<Cell 'amazon_reviews_us_Watches_v1_00-sample'.A28>, <Cell 'amazon_reviews_us_Watches_v1_00-sample'.B28>, <Cell 'amazon_reviews_us_Watches_v1_00-sample'.C28>, <Cell 'amazon_reviews_us_Watches_v1_00-sample'.D28>, <Cell 'amazon_reviews_us_Watches_v1_00-sample'.E28>, <Cell 'amazon_reviews_us_Watches_v1_00-sample'.F28>, <Cell 'amazon_reviews_us_Watches_v1_00-sample'.G28>, <Cell 'amazon_reviews_us_Watches_v1_00-sample'.H28>, <Cell 'amazon_reviews_us_Watches_v1_00-sample'.I28>, <Cell 'amazon_reviews_us_Watches_v1_00-sample'.J28>, <Cell 'amazon_reviews_us_Watches_v1_00-sample'.K28>, <Cell 'amazon_reviews_us_Watches_v1_00-sample'.L28>, <Cell 'amazon_reviews_us_Watches_v1_00-sample'.M28>, <Cell 'amazon_reviews_us_Watches_v1_00-sample'.N28>, <Cell 'amazon_reviews_us_Watches_v1_00-sample'.O28>)\n",
      "(<Cell 'amazon_reviews_us_Watches_v1_00-sample'.A29>, <Cell 'amazon_reviews_us_Watches_v1_00-sample'.B29>, <Cell 'amazon_reviews_us_Watches_v1_00-sample'.C29>, <Cell 'amazon_reviews_us_Watches_v1_00-sample'.D29>, <Cell 'amazon_reviews_us_Watches_v1_00-sample'.E29>, <Cell 'amazon_reviews_us_Watches_v1_00-sample'.F29>, <Cell 'amazon_reviews_us_Watches_v1_00-sample'.G29>, <Cell 'amazon_reviews_us_Watches_v1_00-sample'.H29>, <Cell 'amazon_reviews_us_Watches_v1_00-sample'.I29>, <Cell 'amazon_reviews_us_Watches_v1_00-sample'.J29>, <Cell 'amazon_reviews_us_Watches_v1_00-sample'.K29>, <Cell 'amazon_reviews_us_Watches_v1_00-sample'.L29>, <Cell 'amazon_reviews_us_Watches_v1_00-sample'.M29>, <Cell 'amazon_reviews_us_Watches_v1_00-sample'.N29>, <Cell 'amazon_reviews_us_Watches_v1_00-sample'.O29>)\n",
      "(<Cell 'amazon_reviews_us_Watches_v1_00-sample'.A30>, <Cell 'amazon_reviews_us_Watches_v1_00-sample'.B30>, <Cell 'amazon_reviews_us_Watches_v1_00-sample'.C30>, <Cell 'amazon_reviews_us_Watches_v1_00-sample'.D30>, <Cell 'amazon_reviews_us_Watches_v1_00-sample'.E30>, <Cell 'amazon_reviews_us_Watches_v1_00-sample'.F30>, <Cell 'amazon_reviews_us_Watches_v1_00-sample'.G30>, <Cell 'amazon_reviews_us_Watches_v1_00-sample'.H30>, <Cell 'amazon_reviews_us_Watches_v1_00-sample'.I30>, <Cell 'amazon_reviews_us_Watches_v1_00-sample'.J30>, <Cell 'amazon_reviews_us_Watches_v1_00-sample'.K30>, <Cell 'amazon_reviews_us_Watches_v1_00-sample'.L30>, <Cell 'amazon_reviews_us_Watches_v1_00-sample'.M30>, <Cell 'amazon_reviews_us_Watches_v1_00-sample'.N30>, <Cell 'amazon_reviews_us_Watches_v1_00-sample'.O30>)\n",
      "(<Cell 'amazon_reviews_us_Watches_v1_00-sample'.A31>, <Cell 'amazon_reviews_us_Watches_v1_00-sample'.B31>, <Cell 'amazon_reviews_us_Watches_v1_00-sample'.C31>, <Cell 'amazon_reviews_us_Watches_v1_00-sample'.D31>, <Cell 'amazon_reviews_us_Watches_v1_00-sample'.E31>, <Cell 'amazon_reviews_us_Watches_v1_00-sample'.F31>, <Cell 'amazon_reviews_us_Watches_v1_00-sample'.G31>, <Cell 'amazon_reviews_us_Watches_v1_00-sample'.H31>, <Cell 'amazon_reviews_us_Watches_v1_00-sample'.I31>, <Cell 'amazon_reviews_us_Watches_v1_00-sample'.J31>, <Cell 'amazon_reviews_us_Watches_v1_00-sample'.K31>, <Cell 'amazon_reviews_us_Watches_v1_00-sample'.L31>, <Cell 'amazon_reviews_us_Watches_v1_00-sample'.M31>, <Cell 'amazon_reviews_us_Watches_v1_00-sample'.N31>, <Cell 'amazon_reviews_us_Watches_v1_00-sample'.O31>)\n",
      "(<Cell 'amazon_reviews_us_Watches_v1_00-sample'.A32>, <Cell 'amazon_reviews_us_Watches_v1_00-sample'.B32>, <Cell 'amazon_reviews_us_Watches_v1_00-sample'.C32>, <Cell 'amazon_reviews_us_Watches_v1_00-sample'.D32>, <Cell 'amazon_reviews_us_Watches_v1_00-sample'.E32>, <Cell 'amazon_reviews_us_Watches_v1_00-sample'.F32>, <Cell 'amazon_reviews_us_Watches_v1_00-sample'.G32>, <Cell 'amazon_reviews_us_Watches_v1_00-sample'.H32>, <Cell 'amazon_reviews_us_Watches_v1_00-sample'.I32>, <Cell 'amazon_reviews_us_Watches_v1_00-sample'.J32>, <Cell 'amazon_reviews_us_Watches_v1_00-sample'.K32>, <Cell 'amazon_reviews_us_Watches_v1_00-sample'.L32>, <Cell 'amazon_reviews_us_Watches_v1_00-sample'.M32>, <Cell 'amazon_reviews_us_Watches_v1_00-sample'.N32>, <Cell 'amazon_reviews_us_Watches_v1_00-sample'.O32>)\n",
      "(<Cell 'amazon_reviews_us_Watches_v1_00-sample'.A33>, <Cell 'amazon_reviews_us_Watches_v1_00-sample'.B33>, <Cell 'amazon_reviews_us_Watches_v1_00-sample'.C33>, <Cell 'amazon_reviews_us_Watches_v1_00-sample'.D33>, <Cell 'amazon_reviews_us_Watches_v1_00-sample'.E33>, <Cell 'amazon_reviews_us_Watches_v1_00-sample'.F33>, <Cell 'amazon_reviews_us_Watches_v1_00-sample'.G33>, <Cell 'amazon_reviews_us_Watches_v1_00-sample'.H33>, <Cell 'amazon_reviews_us_Watches_v1_00-sample'.I33>, <Cell 'amazon_reviews_us_Watches_v1_00-sample'.J33>, <Cell 'amazon_reviews_us_Watches_v1_00-sample'.K33>, <Cell 'amazon_reviews_us_Watches_v1_00-sample'.L33>, <Cell 'amazon_reviews_us_Watches_v1_00-sample'.M33>, <Cell 'amazon_reviews_us_Watches_v1_00-sample'.N33>, <Cell 'amazon_reviews_us_Watches_v1_00-sample'.O33>)\n",
      "(<Cell 'amazon_reviews_us_Watches_v1_00-sample'.A34>, <Cell 'amazon_reviews_us_Watches_v1_00-sample'.B34>, <Cell 'amazon_reviews_us_Watches_v1_00-sample'.C34>, <Cell 'amazon_reviews_us_Watches_v1_00-sample'.D34>, <Cell 'amazon_reviews_us_Watches_v1_00-sample'.E34>, <Cell 'amazon_reviews_us_Watches_v1_00-sample'.F34>, <Cell 'amazon_reviews_us_Watches_v1_00-sample'.G34>, <Cell 'amazon_reviews_us_Watches_v1_00-sample'.H34>, <Cell 'amazon_reviews_us_Watches_v1_00-sample'.I34>, <Cell 'amazon_reviews_us_Watches_v1_00-sample'.J34>, <Cell 'amazon_reviews_us_Watches_v1_00-sample'.K34>, <Cell 'amazon_reviews_us_Watches_v1_00-sample'.L34>, <Cell 'amazon_reviews_us_Watches_v1_00-sample'.M34>, <Cell 'amazon_reviews_us_Watches_v1_00-sample'.N34>, <Cell 'amazon_reviews_us_Watches_v1_00-sample'.O34>)\n",
      "(<Cell 'amazon_reviews_us_Watches_v1_00-sample'.A35>, <Cell 'amazon_reviews_us_Watches_v1_00-sample'.B35>, <Cell 'amazon_reviews_us_Watches_v1_00-sample'.C35>, <Cell 'amazon_reviews_us_Watches_v1_00-sample'.D35>, <Cell 'amazon_reviews_us_Watches_v1_00-sample'.E35>, <Cell 'amazon_reviews_us_Watches_v1_00-sample'.F35>, <Cell 'amazon_reviews_us_Watches_v1_00-sample'.G35>, <Cell 'amazon_reviews_us_Watches_v1_00-sample'.H35>, <Cell 'amazon_reviews_us_Watches_v1_00-sample'.I35>, <Cell 'amazon_reviews_us_Watches_v1_00-sample'.J35>, <Cell 'amazon_reviews_us_Watches_v1_00-sample'.K35>, <Cell 'amazon_reviews_us_Watches_v1_00-sample'.L35>, <Cell 'amazon_reviews_us_Watches_v1_00-sample'.M35>, <Cell 'amazon_reviews_us_Watches_v1_00-sample'.N35>, <Cell 'amazon_reviews_us_Watches_v1_00-sample'.O35>)\n",
      "(<Cell 'amazon_reviews_us_Watches_v1_00-sample'.A36>, <Cell 'amazon_reviews_us_Watches_v1_00-sample'.B36>, <Cell 'amazon_reviews_us_Watches_v1_00-sample'.C36>, <Cell 'amazon_reviews_us_Watches_v1_00-sample'.D36>, <Cell 'amazon_reviews_us_Watches_v1_00-sample'.E36>, <Cell 'amazon_reviews_us_Watches_v1_00-sample'.F36>, <Cell 'amazon_reviews_us_Watches_v1_00-sample'.G36>, <Cell 'amazon_reviews_us_Watches_v1_00-sample'.H36>, <Cell 'amazon_reviews_us_Watches_v1_00-sample'.I36>, <Cell 'amazon_reviews_us_Watches_v1_00-sample'.J36>, <Cell 'amazon_reviews_us_Watches_v1_00-sample'.K36>, <Cell 'amazon_reviews_us_Watches_v1_00-sample'.L36>, <Cell 'amazon_reviews_us_Watches_v1_00-sample'.M36>, <Cell 'amazon_reviews_us_Watches_v1_00-sample'.N36>, <Cell 'amazon_reviews_us_Watches_v1_00-sample'.O36>)\n",
      "(<Cell 'amazon_reviews_us_Watches_v1_00-sample'.A37>, <Cell 'amazon_reviews_us_Watches_v1_00-sample'.B37>, <Cell 'amazon_reviews_us_Watches_v1_00-sample'.C37>, <Cell 'amazon_reviews_us_Watches_v1_00-sample'.D37>, <Cell 'amazon_reviews_us_Watches_v1_00-sample'.E37>, <Cell 'amazon_reviews_us_Watches_v1_00-sample'.F37>, <Cell 'amazon_reviews_us_Watches_v1_00-sample'.G37>, <Cell 'amazon_reviews_us_Watches_v1_00-sample'.H37>, <Cell 'amazon_reviews_us_Watches_v1_00-sample'.I37>, <Cell 'amazon_reviews_us_Watches_v1_00-sample'.J37>, <Cell 'amazon_reviews_us_Watches_v1_00-sample'.K37>, <Cell 'amazon_reviews_us_Watches_v1_00-sample'.L37>, <Cell 'amazon_reviews_us_Watches_v1_00-sample'.M37>, <Cell 'amazon_reviews_us_Watches_v1_00-sample'.N37>, <Cell 'amazon_reviews_us_Watches_v1_00-sample'.O37>)\n",
      "(<Cell 'amazon_reviews_us_Watches_v1_00-sample'.A38>, <Cell 'amazon_reviews_us_Watches_v1_00-sample'.B38>, <Cell 'amazon_reviews_us_Watches_v1_00-sample'.C38>, <Cell 'amazon_reviews_us_Watches_v1_00-sample'.D38>, <Cell 'amazon_reviews_us_Watches_v1_00-sample'.E38>, <Cell 'amazon_reviews_us_Watches_v1_00-sample'.F38>, <Cell 'amazon_reviews_us_Watches_v1_00-sample'.G38>, <Cell 'amazon_reviews_us_Watches_v1_00-sample'.H38>, <Cell 'amazon_reviews_us_Watches_v1_00-sample'.I38>, <Cell 'amazon_reviews_us_Watches_v1_00-sample'.J38>, <Cell 'amazon_reviews_us_Watches_v1_00-sample'.K38>, <Cell 'amazon_reviews_us_Watches_v1_00-sample'.L38>, <Cell 'amazon_reviews_us_Watches_v1_00-sample'.M38>, <Cell 'amazon_reviews_us_Watches_v1_00-sample'.N38>, <Cell 'amazon_reviews_us_Watches_v1_00-sample'.O38>)\n",
      "(<Cell 'amazon_reviews_us_Watches_v1_00-sample'.A39>, <Cell 'amazon_reviews_us_Watches_v1_00-sample'.B39>, <Cell 'amazon_reviews_us_Watches_v1_00-sample'.C39>, <Cell 'amazon_reviews_us_Watches_v1_00-sample'.D39>, <Cell 'amazon_reviews_us_Watches_v1_00-sample'.E39>, <Cell 'amazon_reviews_us_Watches_v1_00-sample'.F39>, <Cell 'amazon_reviews_us_Watches_v1_00-sample'.G39>, <Cell 'amazon_reviews_us_Watches_v1_00-sample'.H39>, <Cell 'amazon_reviews_us_Watches_v1_00-sample'.I39>, <Cell 'amazon_reviews_us_Watches_v1_00-sample'.J39>, <Cell 'amazon_reviews_us_Watches_v1_00-sample'.K39>, <Cell 'amazon_reviews_us_Watches_v1_00-sample'.L39>, <Cell 'amazon_reviews_us_Watches_v1_00-sample'.M39>, <Cell 'amazon_reviews_us_Watches_v1_00-sample'.N39>, <Cell 'amazon_reviews_us_Watches_v1_00-sample'.O39>)\n",
      "(<Cell 'amazon_reviews_us_Watches_v1_00-sample'.A40>, <Cell 'amazon_reviews_us_Watches_v1_00-sample'.B40>, <Cell 'amazon_reviews_us_Watches_v1_00-sample'.C40>, <Cell 'amazon_reviews_us_Watches_v1_00-sample'.D40>, <Cell 'amazon_reviews_us_Watches_v1_00-sample'.E40>, <Cell 'amazon_reviews_us_Watches_v1_00-sample'.F40>, <Cell 'amazon_reviews_us_Watches_v1_00-sample'.G40>, <Cell 'amazon_reviews_us_Watches_v1_00-sample'.H40>, <Cell 'amazon_reviews_us_Watches_v1_00-sample'.I40>, <Cell 'amazon_reviews_us_Watches_v1_00-sample'.J40>, <Cell 'amazon_reviews_us_Watches_v1_00-sample'.K40>, <Cell 'amazon_reviews_us_Watches_v1_00-sample'.L40>, <Cell 'amazon_reviews_us_Watches_v1_00-sample'.M40>, <Cell 'amazon_reviews_us_Watches_v1_00-sample'.N40>, <Cell 'amazon_reviews_us_Watches_v1_00-sample'.O40>)\n",
      "(<Cell 'amazon_reviews_us_Watches_v1_00-sample'.A41>, <Cell 'amazon_reviews_us_Watches_v1_00-sample'.B41>, <Cell 'amazon_reviews_us_Watches_v1_00-sample'.C41>, <Cell 'amazon_reviews_us_Watches_v1_00-sample'.D41>, <Cell 'amazon_reviews_us_Watches_v1_00-sample'.E41>, <Cell 'amazon_reviews_us_Watches_v1_00-sample'.F41>, <Cell 'amazon_reviews_us_Watches_v1_00-sample'.G41>, <Cell 'amazon_reviews_us_Watches_v1_00-sample'.H41>, <Cell 'amazon_reviews_us_Watches_v1_00-sample'.I41>, <Cell 'amazon_reviews_us_Watches_v1_00-sample'.J41>, <Cell 'amazon_reviews_us_Watches_v1_00-sample'.K41>, <Cell 'amazon_reviews_us_Watches_v1_00-sample'.L41>, <Cell 'amazon_reviews_us_Watches_v1_00-sample'.M41>, <Cell 'amazon_reviews_us_Watches_v1_00-sample'.N41>, <Cell 'amazon_reviews_us_Watches_v1_00-sample'.O41>)\n",
      "(<Cell 'amazon_reviews_us_Watches_v1_00-sample'.A42>, <Cell 'amazon_reviews_us_Watches_v1_00-sample'.B42>, <Cell 'amazon_reviews_us_Watches_v1_00-sample'.C42>, <Cell 'amazon_reviews_us_Watches_v1_00-sample'.D42>, <Cell 'amazon_reviews_us_Watches_v1_00-sample'.E42>, <Cell 'amazon_reviews_us_Watches_v1_00-sample'.F42>, <Cell 'amazon_reviews_us_Watches_v1_00-sample'.G42>, <Cell 'amazon_reviews_us_Watches_v1_00-sample'.H42>, <Cell 'amazon_reviews_us_Watches_v1_00-sample'.I42>, <Cell 'amazon_reviews_us_Watches_v1_00-sample'.J42>, <Cell 'amazon_reviews_us_Watches_v1_00-sample'.K42>, <Cell 'amazon_reviews_us_Watches_v1_00-sample'.L42>, <Cell 'amazon_reviews_us_Watches_v1_00-sample'.M42>, <Cell 'amazon_reviews_us_Watches_v1_00-sample'.N42>, <Cell 'amazon_reviews_us_Watches_v1_00-sample'.O42>)\n",
      "(<Cell 'amazon_reviews_us_Watches_v1_00-sample'.A43>, <Cell 'amazon_reviews_us_Watches_v1_00-sample'.B43>, <Cell 'amazon_reviews_us_Watches_v1_00-sample'.C43>, <Cell 'amazon_reviews_us_Watches_v1_00-sample'.D43>, <Cell 'amazon_reviews_us_Watches_v1_00-sample'.E43>, <Cell 'amazon_reviews_us_Watches_v1_00-sample'.F43>, <Cell 'amazon_reviews_us_Watches_v1_00-sample'.G43>, <Cell 'amazon_reviews_us_Watches_v1_00-sample'.H43>, <Cell 'amazon_reviews_us_Watches_v1_00-sample'.I43>, <Cell 'amazon_reviews_us_Watches_v1_00-sample'.J43>, <Cell 'amazon_reviews_us_Watches_v1_00-sample'.K43>, <Cell 'amazon_reviews_us_Watches_v1_00-sample'.L43>, <Cell 'amazon_reviews_us_Watches_v1_00-sample'.M43>, <Cell 'amazon_reviews_us_Watches_v1_00-sample'.N43>, <Cell 'amazon_reviews_us_Watches_v1_00-sample'.O43>)\n",
      "(<Cell 'amazon_reviews_us_Watches_v1_00-sample'.A44>, <Cell 'amazon_reviews_us_Watches_v1_00-sample'.B44>, <Cell 'amazon_reviews_us_Watches_v1_00-sample'.C44>, <Cell 'amazon_reviews_us_Watches_v1_00-sample'.D44>, <Cell 'amazon_reviews_us_Watches_v1_00-sample'.E44>, <Cell 'amazon_reviews_us_Watches_v1_00-sample'.F44>, <Cell 'amazon_reviews_us_Watches_v1_00-sample'.G44>, <Cell 'amazon_reviews_us_Watches_v1_00-sample'.H44>, <Cell 'amazon_reviews_us_Watches_v1_00-sample'.I44>, <Cell 'amazon_reviews_us_Watches_v1_00-sample'.J44>, <Cell 'amazon_reviews_us_Watches_v1_00-sample'.K44>, <Cell 'amazon_reviews_us_Watches_v1_00-sample'.L44>, <Cell 'amazon_reviews_us_Watches_v1_00-sample'.M44>, <Cell 'amazon_reviews_us_Watches_v1_00-sample'.N44>, <Cell 'amazon_reviews_us_Watches_v1_00-sample'.O44>)\n",
      "(<Cell 'amazon_reviews_us_Watches_v1_00-sample'.A45>, <Cell 'amazon_reviews_us_Watches_v1_00-sample'.B45>, <Cell 'amazon_reviews_us_Watches_v1_00-sample'.C45>, <Cell 'amazon_reviews_us_Watches_v1_00-sample'.D45>, <Cell 'amazon_reviews_us_Watches_v1_00-sample'.E45>, <Cell 'amazon_reviews_us_Watches_v1_00-sample'.F45>, <Cell 'amazon_reviews_us_Watches_v1_00-sample'.G45>, <Cell 'amazon_reviews_us_Watches_v1_00-sample'.H45>, <Cell 'amazon_reviews_us_Watches_v1_00-sample'.I45>, <Cell 'amazon_reviews_us_Watches_v1_00-sample'.J45>, <Cell 'amazon_reviews_us_Watches_v1_00-sample'.K45>, <Cell 'amazon_reviews_us_Watches_v1_00-sample'.L45>, <Cell 'amazon_reviews_us_Watches_v1_00-sample'.M45>, <Cell 'amazon_reviews_us_Watches_v1_00-sample'.N45>, <Cell 'amazon_reviews_us_Watches_v1_00-sample'.O45>)\n",
      "(<Cell 'amazon_reviews_us_Watches_v1_00-sample'.A46>, <Cell 'amazon_reviews_us_Watches_v1_00-sample'.B46>, <Cell 'amazon_reviews_us_Watches_v1_00-sample'.C46>, <Cell 'amazon_reviews_us_Watches_v1_00-sample'.D46>, <Cell 'amazon_reviews_us_Watches_v1_00-sample'.E46>, <Cell 'amazon_reviews_us_Watches_v1_00-sample'.F46>, <Cell 'amazon_reviews_us_Watches_v1_00-sample'.G46>, <Cell 'amazon_reviews_us_Watches_v1_00-sample'.H46>, <Cell 'amazon_reviews_us_Watches_v1_00-sample'.I46>, <Cell 'amazon_reviews_us_Watches_v1_00-sample'.J46>, <Cell 'amazon_reviews_us_Watches_v1_00-sample'.K46>, <Cell 'amazon_reviews_us_Watches_v1_00-sample'.L46>, <Cell 'amazon_reviews_us_Watches_v1_00-sample'.M46>, <Cell 'amazon_reviews_us_Watches_v1_00-sample'.N46>, <Cell 'amazon_reviews_us_Watches_v1_00-sample'.O46>)\n",
      "(<Cell 'amazon_reviews_us_Watches_v1_00-sample'.A47>, <Cell 'amazon_reviews_us_Watches_v1_00-sample'.B47>, <Cell 'amazon_reviews_us_Watches_v1_00-sample'.C47>, <Cell 'amazon_reviews_us_Watches_v1_00-sample'.D47>, <Cell 'amazon_reviews_us_Watches_v1_00-sample'.E47>, <Cell 'amazon_reviews_us_Watches_v1_00-sample'.F47>, <Cell 'amazon_reviews_us_Watches_v1_00-sample'.G47>, <Cell 'amazon_reviews_us_Watches_v1_00-sample'.H47>, <Cell 'amazon_reviews_us_Watches_v1_00-sample'.I47>, <Cell 'amazon_reviews_us_Watches_v1_00-sample'.J47>, <Cell 'amazon_reviews_us_Watches_v1_00-sample'.K47>, <Cell 'amazon_reviews_us_Watches_v1_00-sample'.L47>, <Cell 'amazon_reviews_us_Watches_v1_00-sample'.M47>, <Cell 'amazon_reviews_us_Watches_v1_00-sample'.N47>, <Cell 'amazon_reviews_us_Watches_v1_00-sample'.O47>)\n",
      "(<Cell 'amazon_reviews_us_Watches_v1_00-sample'.A48>, <Cell 'amazon_reviews_us_Watches_v1_00-sample'.B48>, <Cell 'amazon_reviews_us_Watches_v1_00-sample'.C48>, <Cell 'amazon_reviews_us_Watches_v1_00-sample'.D48>, <Cell 'amazon_reviews_us_Watches_v1_00-sample'.E48>, <Cell 'amazon_reviews_us_Watches_v1_00-sample'.F48>, <Cell 'amazon_reviews_us_Watches_v1_00-sample'.G48>, <Cell 'amazon_reviews_us_Watches_v1_00-sample'.H48>, <Cell 'amazon_reviews_us_Watches_v1_00-sample'.I48>, <Cell 'amazon_reviews_us_Watches_v1_00-sample'.J48>, <Cell 'amazon_reviews_us_Watches_v1_00-sample'.K48>, <Cell 'amazon_reviews_us_Watches_v1_00-sample'.L48>, <Cell 'amazon_reviews_us_Watches_v1_00-sample'.M48>, <Cell 'amazon_reviews_us_Watches_v1_00-sample'.N48>, <Cell 'amazon_reviews_us_Watches_v1_00-sample'.O48>)\n",
      "(<Cell 'amazon_reviews_us_Watches_v1_00-sample'.A49>, <Cell 'amazon_reviews_us_Watches_v1_00-sample'.B49>, <Cell 'amazon_reviews_us_Watches_v1_00-sample'.C49>, <Cell 'amazon_reviews_us_Watches_v1_00-sample'.D49>, <Cell 'amazon_reviews_us_Watches_v1_00-sample'.E49>, <Cell 'amazon_reviews_us_Watches_v1_00-sample'.F49>, <Cell 'amazon_reviews_us_Watches_v1_00-sample'.G49>, <Cell 'amazon_reviews_us_Watches_v1_00-sample'.H49>, <Cell 'amazon_reviews_us_Watches_v1_00-sample'.I49>, <Cell 'amazon_reviews_us_Watches_v1_00-sample'.J49>, <Cell 'amazon_reviews_us_Watches_v1_00-sample'.K49>, <Cell 'amazon_reviews_us_Watches_v1_00-sample'.L49>, <Cell 'amazon_reviews_us_Watches_v1_00-sample'.M49>, <Cell 'amazon_reviews_us_Watches_v1_00-sample'.N49>, <Cell 'amazon_reviews_us_Watches_v1_00-sample'.O49>)\n",
      "(<Cell 'amazon_reviews_us_Watches_v1_00-sample'.A50>, <Cell 'amazon_reviews_us_Watches_v1_00-sample'.B50>, <Cell 'amazon_reviews_us_Watches_v1_00-sample'.C50>, <Cell 'amazon_reviews_us_Watches_v1_00-sample'.D50>, <Cell 'amazon_reviews_us_Watches_v1_00-sample'.E50>, <Cell 'amazon_reviews_us_Watches_v1_00-sample'.F50>, <Cell 'amazon_reviews_us_Watches_v1_00-sample'.G50>, <Cell 'amazon_reviews_us_Watches_v1_00-sample'.H50>, <Cell 'amazon_reviews_us_Watches_v1_00-sample'.I50>, <Cell 'amazon_reviews_us_Watches_v1_00-sample'.J50>, <Cell 'amazon_reviews_us_Watches_v1_00-sample'.K50>, <Cell 'amazon_reviews_us_Watches_v1_00-sample'.L50>, <Cell 'amazon_reviews_us_Watches_v1_00-sample'.M50>, <Cell 'amazon_reviews_us_Watches_v1_00-sample'.N50>, <Cell 'amazon_reviews_us_Watches_v1_00-sample'.O50>)\n",
      "(<Cell 'amazon_reviews_us_Watches_v1_00-sample'.A51>, <Cell 'amazon_reviews_us_Watches_v1_00-sample'.B51>, <Cell 'amazon_reviews_us_Watches_v1_00-sample'.C51>, <Cell 'amazon_reviews_us_Watches_v1_00-sample'.D51>, <Cell 'amazon_reviews_us_Watches_v1_00-sample'.E51>, <Cell 'amazon_reviews_us_Watches_v1_00-sample'.F51>, <Cell 'amazon_reviews_us_Watches_v1_00-sample'.G51>, <Cell 'amazon_reviews_us_Watches_v1_00-sample'.H51>, <Cell 'amazon_reviews_us_Watches_v1_00-sample'.I51>, <Cell 'amazon_reviews_us_Watches_v1_00-sample'.J51>, <Cell 'amazon_reviews_us_Watches_v1_00-sample'.K51>, <Cell 'amazon_reviews_us_Watches_v1_00-sample'.L51>, <Cell 'amazon_reviews_us_Watches_v1_00-sample'.M51>, <Cell 'amazon_reviews_us_Watches_v1_00-sample'.N51>, <Cell 'amazon_reviews_us_Watches_v1_00-sample'.O51>)\n",
      "(<Cell 'amazon_reviews_us_Watches_v1_00-sample'.A52>, <Cell 'amazon_reviews_us_Watches_v1_00-sample'.B52>, <Cell 'amazon_reviews_us_Watches_v1_00-sample'.C52>, <Cell 'amazon_reviews_us_Watches_v1_00-sample'.D52>, <Cell 'amazon_reviews_us_Watches_v1_00-sample'.E52>, <Cell 'amazon_reviews_us_Watches_v1_00-sample'.F52>, <Cell 'amazon_reviews_us_Watches_v1_00-sample'.G52>, <Cell 'amazon_reviews_us_Watches_v1_00-sample'.H52>, <Cell 'amazon_reviews_us_Watches_v1_00-sample'.I52>, <Cell 'amazon_reviews_us_Watches_v1_00-sample'.J52>, <Cell 'amazon_reviews_us_Watches_v1_00-sample'.K52>, <Cell 'amazon_reviews_us_Watches_v1_00-sample'.L52>, <Cell 'amazon_reviews_us_Watches_v1_00-sample'.M52>, <Cell 'amazon_reviews_us_Watches_v1_00-sample'.N52>, <Cell 'amazon_reviews_us_Watches_v1_00-sample'.O52>)\n",
      "(<Cell 'amazon_reviews_us_Watches_v1_00-sample'.A53>, <Cell 'amazon_reviews_us_Watches_v1_00-sample'.B53>, <Cell 'amazon_reviews_us_Watches_v1_00-sample'.C53>, <Cell 'amazon_reviews_us_Watches_v1_00-sample'.D53>, <Cell 'amazon_reviews_us_Watches_v1_00-sample'.E53>, <Cell 'amazon_reviews_us_Watches_v1_00-sample'.F53>, <Cell 'amazon_reviews_us_Watches_v1_00-sample'.G53>, <Cell 'amazon_reviews_us_Watches_v1_00-sample'.H53>, <Cell 'amazon_reviews_us_Watches_v1_00-sample'.I53>, <Cell 'amazon_reviews_us_Watches_v1_00-sample'.J53>, <Cell 'amazon_reviews_us_Watches_v1_00-sample'.K53>, <Cell 'amazon_reviews_us_Watches_v1_00-sample'.L53>, <Cell 'amazon_reviews_us_Watches_v1_00-sample'.M53>, <Cell 'amazon_reviews_us_Watches_v1_00-sample'.N53>, <Cell 'amazon_reviews_us_Watches_v1_00-sample'.O53>)\n",
      "(<Cell 'amazon_reviews_us_Watches_v1_00-sample'.A54>, <Cell 'amazon_reviews_us_Watches_v1_00-sample'.B54>, <Cell 'amazon_reviews_us_Watches_v1_00-sample'.C54>, <Cell 'amazon_reviews_us_Watches_v1_00-sample'.D54>, <Cell 'amazon_reviews_us_Watches_v1_00-sample'.E54>, <Cell 'amazon_reviews_us_Watches_v1_00-sample'.F54>, <Cell 'amazon_reviews_us_Watches_v1_00-sample'.G54>, <Cell 'amazon_reviews_us_Watches_v1_00-sample'.H54>, <Cell 'amazon_reviews_us_Watches_v1_00-sample'.I54>, <Cell 'amazon_reviews_us_Watches_v1_00-sample'.J54>, <Cell 'amazon_reviews_us_Watches_v1_00-sample'.K54>, <Cell 'amazon_reviews_us_Watches_v1_00-sample'.L54>, <Cell 'amazon_reviews_us_Watches_v1_00-sample'.M54>, <Cell 'amazon_reviews_us_Watches_v1_00-sample'.N54>, <Cell 'amazon_reviews_us_Watches_v1_00-sample'.O54>)\n",
      "(<Cell 'amazon_reviews_us_Watches_v1_00-sample'.A55>, <Cell 'amazon_reviews_us_Watches_v1_00-sample'.B55>, <Cell 'amazon_reviews_us_Watches_v1_00-sample'.C55>, <Cell 'amazon_reviews_us_Watches_v1_00-sample'.D55>, <Cell 'amazon_reviews_us_Watches_v1_00-sample'.E55>, <Cell 'amazon_reviews_us_Watches_v1_00-sample'.F55>, <Cell 'amazon_reviews_us_Watches_v1_00-sample'.G55>, <Cell 'amazon_reviews_us_Watches_v1_00-sample'.H55>, <Cell 'amazon_reviews_us_Watches_v1_00-sample'.I55>, <Cell 'amazon_reviews_us_Watches_v1_00-sample'.J55>, <Cell 'amazon_reviews_us_Watches_v1_00-sample'.K55>, <Cell 'amazon_reviews_us_Watches_v1_00-sample'.L55>, <Cell 'amazon_reviews_us_Watches_v1_00-sample'.M55>, <Cell 'amazon_reviews_us_Watches_v1_00-sample'.N55>, <Cell 'amazon_reviews_us_Watches_v1_00-sample'.O55>)\n",
      "(<Cell 'amazon_reviews_us_Watches_v1_00-sample'.A56>, <Cell 'amazon_reviews_us_Watches_v1_00-sample'.B56>, <Cell 'amazon_reviews_us_Watches_v1_00-sample'.C56>, <Cell 'amazon_reviews_us_Watches_v1_00-sample'.D56>, <Cell 'amazon_reviews_us_Watches_v1_00-sample'.E56>, <Cell 'amazon_reviews_us_Watches_v1_00-sample'.F56>, <Cell 'amazon_reviews_us_Watches_v1_00-sample'.G56>, <Cell 'amazon_reviews_us_Watches_v1_00-sample'.H56>, <Cell 'amazon_reviews_us_Watches_v1_00-sample'.I56>, <Cell 'amazon_reviews_us_Watches_v1_00-sample'.J56>, <Cell 'amazon_reviews_us_Watches_v1_00-sample'.K56>, <Cell 'amazon_reviews_us_Watches_v1_00-sample'.L56>, <Cell 'amazon_reviews_us_Watches_v1_00-sample'.M56>, <Cell 'amazon_reviews_us_Watches_v1_00-sample'.N56>, <Cell 'amazon_reviews_us_Watches_v1_00-sample'.O56>)\n",
      "(<Cell 'amazon_reviews_us_Watches_v1_00-sample'.A57>, <Cell 'amazon_reviews_us_Watches_v1_00-sample'.B57>, <Cell 'amazon_reviews_us_Watches_v1_00-sample'.C57>, <Cell 'amazon_reviews_us_Watches_v1_00-sample'.D57>, <Cell 'amazon_reviews_us_Watches_v1_00-sample'.E57>, <Cell 'amazon_reviews_us_Watches_v1_00-sample'.F57>, <Cell 'amazon_reviews_us_Watches_v1_00-sample'.G57>, <Cell 'amazon_reviews_us_Watches_v1_00-sample'.H57>, <Cell 'amazon_reviews_us_Watches_v1_00-sample'.I57>, <Cell 'amazon_reviews_us_Watches_v1_00-sample'.J57>, <Cell 'amazon_reviews_us_Watches_v1_00-sample'.K57>, <Cell 'amazon_reviews_us_Watches_v1_00-sample'.L57>, <Cell 'amazon_reviews_us_Watches_v1_00-sample'.M57>, <Cell 'amazon_reviews_us_Watches_v1_00-sample'.N57>, <Cell 'amazon_reviews_us_Watches_v1_00-sample'.O57>)\n",
      "(<Cell 'amazon_reviews_us_Watches_v1_00-sample'.A58>, <Cell 'amazon_reviews_us_Watches_v1_00-sample'.B58>, <Cell 'amazon_reviews_us_Watches_v1_00-sample'.C58>, <Cell 'amazon_reviews_us_Watches_v1_00-sample'.D58>, <Cell 'amazon_reviews_us_Watches_v1_00-sample'.E58>, <Cell 'amazon_reviews_us_Watches_v1_00-sample'.F58>, <Cell 'amazon_reviews_us_Watches_v1_00-sample'.G58>, <Cell 'amazon_reviews_us_Watches_v1_00-sample'.H58>, <Cell 'amazon_reviews_us_Watches_v1_00-sample'.I58>, <Cell 'amazon_reviews_us_Watches_v1_00-sample'.J58>, <Cell 'amazon_reviews_us_Watches_v1_00-sample'.K58>, <Cell 'amazon_reviews_us_Watches_v1_00-sample'.L58>, <Cell 'amazon_reviews_us_Watches_v1_00-sample'.M58>, <Cell 'amazon_reviews_us_Watches_v1_00-sample'.N58>, <Cell 'amazon_reviews_us_Watches_v1_00-sample'.O58>)\n",
      "(<Cell 'amazon_reviews_us_Watches_v1_00-sample'.A59>, <Cell 'amazon_reviews_us_Watches_v1_00-sample'.B59>, <Cell 'amazon_reviews_us_Watches_v1_00-sample'.C59>, <Cell 'amazon_reviews_us_Watches_v1_00-sample'.D59>, <Cell 'amazon_reviews_us_Watches_v1_00-sample'.E59>, <Cell 'amazon_reviews_us_Watches_v1_00-sample'.F59>, <Cell 'amazon_reviews_us_Watches_v1_00-sample'.G59>, <Cell 'amazon_reviews_us_Watches_v1_00-sample'.H59>, <Cell 'amazon_reviews_us_Watches_v1_00-sample'.I59>, <Cell 'amazon_reviews_us_Watches_v1_00-sample'.J59>, <Cell 'amazon_reviews_us_Watches_v1_00-sample'.K59>, <Cell 'amazon_reviews_us_Watches_v1_00-sample'.L59>, <Cell 'amazon_reviews_us_Watches_v1_00-sample'.M59>, <Cell 'amazon_reviews_us_Watches_v1_00-sample'.N59>, <Cell 'amazon_reviews_us_Watches_v1_00-sample'.O59>)\n",
      "(<Cell 'amazon_reviews_us_Watches_v1_00-sample'.A60>, <Cell 'amazon_reviews_us_Watches_v1_00-sample'.B60>, <Cell 'amazon_reviews_us_Watches_v1_00-sample'.C60>, <Cell 'amazon_reviews_us_Watches_v1_00-sample'.D60>, <Cell 'amazon_reviews_us_Watches_v1_00-sample'.E60>, <Cell 'amazon_reviews_us_Watches_v1_00-sample'.F60>, <Cell 'amazon_reviews_us_Watches_v1_00-sample'.G60>, <Cell 'amazon_reviews_us_Watches_v1_00-sample'.H60>, <Cell 'amazon_reviews_us_Watches_v1_00-sample'.I60>, <Cell 'amazon_reviews_us_Watches_v1_00-sample'.J60>, <Cell 'amazon_reviews_us_Watches_v1_00-sample'.K60>, <Cell 'amazon_reviews_us_Watches_v1_00-sample'.L60>, <Cell 'amazon_reviews_us_Watches_v1_00-sample'.M60>, <Cell 'amazon_reviews_us_Watches_v1_00-sample'.N60>, <Cell 'amazon_reviews_us_Watches_v1_00-sample'.O60>)\n",
      "(<Cell 'amazon_reviews_us_Watches_v1_00-sample'.A61>, <Cell 'amazon_reviews_us_Watches_v1_00-sample'.B61>, <Cell 'amazon_reviews_us_Watches_v1_00-sample'.C61>, <Cell 'amazon_reviews_us_Watches_v1_00-sample'.D61>, <Cell 'amazon_reviews_us_Watches_v1_00-sample'.E61>, <Cell 'amazon_reviews_us_Watches_v1_00-sample'.F61>, <Cell 'amazon_reviews_us_Watches_v1_00-sample'.G61>, <Cell 'amazon_reviews_us_Watches_v1_00-sample'.H61>, <Cell 'amazon_reviews_us_Watches_v1_00-sample'.I61>, <Cell 'amazon_reviews_us_Watches_v1_00-sample'.J61>, <Cell 'amazon_reviews_us_Watches_v1_00-sample'.K61>, <Cell 'amazon_reviews_us_Watches_v1_00-sample'.L61>, <Cell 'amazon_reviews_us_Watches_v1_00-sample'.M61>, <Cell 'amazon_reviews_us_Watches_v1_00-sample'.N61>, <Cell 'amazon_reviews_us_Watches_v1_00-sample'.O61>)\n",
      "(<Cell 'amazon_reviews_us_Watches_v1_00-sample'.A62>, <Cell 'amazon_reviews_us_Watches_v1_00-sample'.B62>, <Cell 'amazon_reviews_us_Watches_v1_00-sample'.C62>, <Cell 'amazon_reviews_us_Watches_v1_00-sample'.D62>, <Cell 'amazon_reviews_us_Watches_v1_00-sample'.E62>, <Cell 'amazon_reviews_us_Watches_v1_00-sample'.F62>, <Cell 'amazon_reviews_us_Watches_v1_00-sample'.G62>, <Cell 'amazon_reviews_us_Watches_v1_00-sample'.H62>, <Cell 'amazon_reviews_us_Watches_v1_00-sample'.I62>, <Cell 'amazon_reviews_us_Watches_v1_00-sample'.J62>, <Cell 'amazon_reviews_us_Watches_v1_00-sample'.K62>, <Cell 'amazon_reviews_us_Watches_v1_00-sample'.L62>, <Cell 'amazon_reviews_us_Watches_v1_00-sample'.M62>, <Cell 'amazon_reviews_us_Watches_v1_00-sample'.N62>, <Cell 'amazon_reviews_us_Watches_v1_00-sample'.O62>)\n",
      "(<Cell 'amazon_reviews_us_Watches_v1_00-sample'.A63>, <Cell 'amazon_reviews_us_Watches_v1_00-sample'.B63>, <Cell 'amazon_reviews_us_Watches_v1_00-sample'.C63>, <Cell 'amazon_reviews_us_Watches_v1_00-sample'.D63>, <Cell 'amazon_reviews_us_Watches_v1_00-sample'.E63>, <Cell 'amazon_reviews_us_Watches_v1_00-sample'.F63>, <Cell 'amazon_reviews_us_Watches_v1_00-sample'.G63>, <Cell 'amazon_reviews_us_Watches_v1_00-sample'.H63>, <Cell 'amazon_reviews_us_Watches_v1_00-sample'.I63>, <Cell 'amazon_reviews_us_Watches_v1_00-sample'.J63>, <Cell 'amazon_reviews_us_Watches_v1_00-sample'.K63>, <Cell 'amazon_reviews_us_Watches_v1_00-sample'.L63>, <Cell 'amazon_reviews_us_Watches_v1_00-sample'.M63>, <Cell 'amazon_reviews_us_Watches_v1_00-sample'.N63>, <Cell 'amazon_reviews_us_Watches_v1_00-sample'.O63>)\n",
      "(<Cell 'amazon_reviews_us_Watches_v1_00-sample'.A64>, <Cell 'amazon_reviews_us_Watches_v1_00-sample'.B64>, <Cell 'amazon_reviews_us_Watches_v1_00-sample'.C64>, <Cell 'amazon_reviews_us_Watches_v1_00-sample'.D64>, <Cell 'amazon_reviews_us_Watches_v1_00-sample'.E64>, <Cell 'amazon_reviews_us_Watches_v1_00-sample'.F64>, <Cell 'amazon_reviews_us_Watches_v1_00-sample'.G64>, <Cell 'amazon_reviews_us_Watches_v1_00-sample'.H64>, <Cell 'amazon_reviews_us_Watches_v1_00-sample'.I64>, <Cell 'amazon_reviews_us_Watches_v1_00-sample'.J64>, <Cell 'amazon_reviews_us_Watches_v1_00-sample'.K64>, <Cell 'amazon_reviews_us_Watches_v1_00-sample'.L64>, <Cell 'amazon_reviews_us_Watches_v1_00-sample'.M64>, <Cell 'amazon_reviews_us_Watches_v1_00-sample'.N64>, <Cell 'amazon_reviews_us_Watches_v1_00-sample'.O64>)\n",
      "(<Cell 'amazon_reviews_us_Watches_v1_00-sample'.A65>, <Cell 'amazon_reviews_us_Watches_v1_00-sample'.B65>, <Cell 'amazon_reviews_us_Watches_v1_00-sample'.C65>, <Cell 'amazon_reviews_us_Watches_v1_00-sample'.D65>, <Cell 'amazon_reviews_us_Watches_v1_00-sample'.E65>, <Cell 'amazon_reviews_us_Watches_v1_00-sample'.F65>, <Cell 'amazon_reviews_us_Watches_v1_00-sample'.G65>, <Cell 'amazon_reviews_us_Watches_v1_00-sample'.H65>, <Cell 'amazon_reviews_us_Watches_v1_00-sample'.I65>, <Cell 'amazon_reviews_us_Watches_v1_00-sample'.J65>, <Cell 'amazon_reviews_us_Watches_v1_00-sample'.K65>, <Cell 'amazon_reviews_us_Watches_v1_00-sample'.L65>, <Cell 'amazon_reviews_us_Watches_v1_00-sample'.M65>, <Cell 'amazon_reviews_us_Watches_v1_00-sample'.N65>, <Cell 'amazon_reviews_us_Watches_v1_00-sample'.O65>)\n",
      "(<Cell 'amazon_reviews_us_Watches_v1_00-sample'.A66>, <Cell 'amazon_reviews_us_Watches_v1_00-sample'.B66>, <Cell 'amazon_reviews_us_Watches_v1_00-sample'.C66>, <Cell 'amazon_reviews_us_Watches_v1_00-sample'.D66>, <Cell 'amazon_reviews_us_Watches_v1_00-sample'.E66>, <Cell 'amazon_reviews_us_Watches_v1_00-sample'.F66>, <Cell 'amazon_reviews_us_Watches_v1_00-sample'.G66>, <Cell 'amazon_reviews_us_Watches_v1_00-sample'.H66>, <Cell 'amazon_reviews_us_Watches_v1_00-sample'.I66>, <Cell 'amazon_reviews_us_Watches_v1_00-sample'.J66>, <Cell 'amazon_reviews_us_Watches_v1_00-sample'.K66>, <Cell 'amazon_reviews_us_Watches_v1_00-sample'.L66>, <Cell 'amazon_reviews_us_Watches_v1_00-sample'.M66>, <Cell 'amazon_reviews_us_Watches_v1_00-sample'.N66>, <Cell 'amazon_reviews_us_Watches_v1_00-sample'.O66>)\n",
      "(<Cell 'amazon_reviews_us_Watches_v1_00-sample'.A67>, <Cell 'amazon_reviews_us_Watches_v1_00-sample'.B67>, <Cell 'amazon_reviews_us_Watches_v1_00-sample'.C67>, <Cell 'amazon_reviews_us_Watches_v1_00-sample'.D67>, <Cell 'amazon_reviews_us_Watches_v1_00-sample'.E67>, <Cell 'amazon_reviews_us_Watches_v1_00-sample'.F67>, <Cell 'amazon_reviews_us_Watches_v1_00-sample'.G67>, <Cell 'amazon_reviews_us_Watches_v1_00-sample'.H67>, <Cell 'amazon_reviews_us_Watches_v1_00-sample'.I67>, <Cell 'amazon_reviews_us_Watches_v1_00-sample'.J67>, <Cell 'amazon_reviews_us_Watches_v1_00-sample'.K67>, <Cell 'amazon_reviews_us_Watches_v1_00-sample'.L67>, <Cell 'amazon_reviews_us_Watches_v1_00-sample'.M67>, <Cell 'amazon_reviews_us_Watches_v1_00-sample'.N67>, <Cell 'amazon_reviews_us_Watches_v1_00-sample'.O67>)\n",
      "(<Cell 'amazon_reviews_us_Watches_v1_00-sample'.A68>, <Cell 'amazon_reviews_us_Watches_v1_00-sample'.B68>, <Cell 'amazon_reviews_us_Watches_v1_00-sample'.C68>, <Cell 'amazon_reviews_us_Watches_v1_00-sample'.D68>, <Cell 'amazon_reviews_us_Watches_v1_00-sample'.E68>, <Cell 'amazon_reviews_us_Watches_v1_00-sample'.F68>, <Cell 'amazon_reviews_us_Watches_v1_00-sample'.G68>, <Cell 'amazon_reviews_us_Watches_v1_00-sample'.H68>, <Cell 'amazon_reviews_us_Watches_v1_00-sample'.I68>, <Cell 'amazon_reviews_us_Watches_v1_00-sample'.J68>, <Cell 'amazon_reviews_us_Watches_v1_00-sample'.K68>, <Cell 'amazon_reviews_us_Watches_v1_00-sample'.L68>, <Cell 'amazon_reviews_us_Watches_v1_00-sample'.M68>, <Cell 'amazon_reviews_us_Watches_v1_00-sample'.N68>, <Cell 'amazon_reviews_us_Watches_v1_00-sample'.O68>)\n",
      "(<Cell 'amazon_reviews_us_Watches_v1_00-sample'.A69>, <Cell 'amazon_reviews_us_Watches_v1_00-sample'.B69>, <Cell 'amazon_reviews_us_Watches_v1_00-sample'.C69>, <Cell 'amazon_reviews_us_Watches_v1_00-sample'.D69>, <Cell 'amazon_reviews_us_Watches_v1_00-sample'.E69>, <Cell 'amazon_reviews_us_Watches_v1_00-sample'.F69>, <Cell 'amazon_reviews_us_Watches_v1_00-sample'.G69>, <Cell 'amazon_reviews_us_Watches_v1_00-sample'.H69>, <Cell 'amazon_reviews_us_Watches_v1_00-sample'.I69>, <Cell 'amazon_reviews_us_Watches_v1_00-sample'.J69>, <Cell 'amazon_reviews_us_Watches_v1_00-sample'.K69>, <Cell 'amazon_reviews_us_Watches_v1_00-sample'.L69>, <Cell 'amazon_reviews_us_Watches_v1_00-sample'.M69>, <Cell 'amazon_reviews_us_Watches_v1_00-sample'.N69>, <Cell 'amazon_reviews_us_Watches_v1_00-sample'.O69>)\n",
      "(<Cell 'amazon_reviews_us_Watches_v1_00-sample'.A70>, <Cell 'amazon_reviews_us_Watches_v1_00-sample'.B70>, <Cell 'amazon_reviews_us_Watches_v1_00-sample'.C70>, <Cell 'amazon_reviews_us_Watches_v1_00-sample'.D70>, <Cell 'amazon_reviews_us_Watches_v1_00-sample'.E70>, <Cell 'amazon_reviews_us_Watches_v1_00-sample'.F70>, <Cell 'amazon_reviews_us_Watches_v1_00-sample'.G70>, <Cell 'amazon_reviews_us_Watches_v1_00-sample'.H70>, <Cell 'amazon_reviews_us_Watches_v1_00-sample'.I70>, <Cell 'amazon_reviews_us_Watches_v1_00-sample'.J70>, <Cell 'amazon_reviews_us_Watches_v1_00-sample'.K70>, <Cell 'amazon_reviews_us_Watches_v1_00-sample'.L70>, <Cell 'amazon_reviews_us_Watches_v1_00-sample'.M70>, <Cell 'amazon_reviews_us_Watches_v1_00-sample'.N70>, <Cell 'amazon_reviews_us_Watches_v1_00-sample'.O70>)\n",
      "(<Cell 'amazon_reviews_us_Watches_v1_00-sample'.A71>, <Cell 'amazon_reviews_us_Watches_v1_00-sample'.B71>, <Cell 'amazon_reviews_us_Watches_v1_00-sample'.C71>, <Cell 'amazon_reviews_us_Watches_v1_00-sample'.D71>, <Cell 'amazon_reviews_us_Watches_v1_00-sample'.E71>, <Cell 'amazon_reviews_us_Watches_v1_00-sample'.F71>, <Cell 'amazon_reviews_us_Watches_v1_00-sample'.G71>, <Cell 'amazon_reviews_us_Watches_v1_00-sample'.H71>, <Cell 'amazon_reviews_us_Watches_v1_00-sample'.I71>, <Cell 'amazon_reviews_us_Watches_v1_00-sample'.J71>, <Cell 'amazon_reviews_us_Watches_v1_00-sample'.K71>, <Cell 'amazon_reviews_us_Watches_v1_00-sample'.L71>, <Cell 'amazon_reviews_us_Watches_v1_00-sample'.M71>, <Cell 'amazon_reviews_us_Watches_v1_00-sample'.N71>, <Cell 'amazon_reviews_us_Watches_v1_00-sample'.O71>)\n",
      "(<Cell 'amazon_reviews_us_Watches_v1_00-sample'.A72>, <Cell 'amazon_reviews_us_Watches_v1_00-sample'.B72>, <Cell 'amazon_reviews_us_Watches_v1_00-sample'.C72>, <Cell 'amazon_reviews_us_Watches_v1_00-sample'.D72>, <Cell 'amazon_reviews_us_Watches_v1_00-sample'.E72>, <Cell 'amazon_reviews_us_Watches_v1_00-sample'.F72>, <Cell 'amazon_reviews_us_Watches_v1_00-sample'.G72>, <Cell 'amazon_reviews_us_Watches_v1_00-sample'.H72>, <Cell 'amazon_reviews_us_Watches_v1_00-sample'.I72>, <Cell 'amazon_reviews_us_Watches_v1_00-sample'.J72>, <Cell 'amazon_reviews_us_Watches_v1_00-sample'.K72>, <Cell 'amazon_reviews_us_Watches_v1_00-sample'.L72>, <Cell 'amazon_reviews_us_Watches_v1_00-sample'.M72>, <Cell 'amazon_reviews_us_Watches_v1_00-sample'.N72>, <Cell 'amazon_reviews_us_Watches_v1_00-sample'.O72>)\n",
      "(<Cell 'amazon_reviews_us_Watches_v1_00-sample'.A73>, <Cell 'amazon_reviews_us_Watches_v1_00-sample'.B73>, <Cell 'amazon_reviews_us_Watches_v1_00-sample'.C73>, <Cell 'amazon_reviews_us_Watches_v1_00-sample'.D73>, <Cell 'amazon_reviews_us_Watches_v1_00-sample'.E73>, <Cell 'amazon_reviews_us_Watches_v1_00-sample'.F73>, <Cell 'amazon_reviews_us_Watches_v1_00-sample'.G73>, <Cell 'amazon_reviews_us_Watches_v1_00-sample'.H73>, <Cell 'amazon_reviews_us_Watches_v1_00-sample'.I73>, <Cell 'amazon_reviews_us_Watches_v1_00-sample'.J73>, <Cell 'amazon_reviews_us_Watches_v1_00-sample'.K73>, <Cell 'amazon_reviews_us_Watches_v1_00-sample'.L73>, <Cell 'amazon_reviews_us_Watches_v1_00-sample'.M73>, <Cell 'amazon_reviews_us_Watches_v1_00-sample'.N73>, <Cell 'amazon_reviews_us_Watches_v1_00-sample'.O73>)\n",
      "(<Cell 'amazon_reviews_us_Watches_v1_00-sample'.A74>, <Cell 'amazon_reviews_us_Watches_v1_00-sample'.B74>, <Cell 'amazon_reviews_us_Watches_v1_00-sample'.C74>, <Cell 'amazon_reviews_us_Watches_v1_00-sample'.D74>, <Cell 'amazon_reviews_us_Watches_v1_00-sample'.E74>, <Cell 'amazon_reviews_us_Watches_v1_00-sample'.F74>, <Cell 'amazon_reviews_us_Watches_v1_00-sample'.G74>, <Cell 'amazon_reviews_us_Watches_v1_00-sample'.H74>, <Cell 'amazon_reviews_us_Watches_v1_00-sample'.I74>, <Cell 'amazon_reviews_us_Watches_v1_00-sample'.J74>, <Cell 'amazon_reviews_us_Watches_v1_00-sample'.K74>, <Cell 'amazon_reviews_us_Watches_v1_00-sample'.L74>, <Cell 'amazon_reviews_us_Watches_v1_00-sample'.M74>, <Cell 'amazon_reviews_us_Watches_v1_00-sample'.N74>, <Cell 'amazon_reviews_us_Watches_v1_00-sample'.O74>)\n",
      "(<Cell 'amazon_reviews_us_Watches_v1_00-sample'.A75>, <Cell 'amazon_reviews_us_Watches_v1_00-sample'.B75>, <Cell 'amazon_reviews_us_Watches_v1_00-sample'.C75>, <Cell 'amazon_reviews_us_Watches_v1_00-sample'.D75>, <Cell 'amazon_reviews_us_Watches_v1_00-sample'.E75>, <Cell 'amazon_reviews_us_Watches_v1_00-sample'.F75>, <Cell 'amazon_reviews_us_Watches_v1_00-sample'.G75>, <Cell 'amazon_reviews_us_Watches_v1_00-sample'.H75>, <Cell 'amazon_reviews_us_Watches_v1_00-sample'.I75>, <Cell 'amazon_reviews_us_Watches_v1_00-sample'.J75>, <Cell 'amazon_reviews_us_Watches_v1_00-sample'.K75>, <Cell 'amazon_reviews_us_Watches_v1_00-sample'.L75>, <Cell 'amazon_reviews_us_Watches_v1_00-sample'.M75>, <Cell 'amazon_reviews_us_Watches_v1_00-sample'.N75>, <Cell 'amazon_reviews_us_Watches_v1_00-sample'.O75>)\n",
      "(<Cell 'amazon_reviews_us_Watches_v1_00-sample'.A76>, <Cell 'amazon_reviews_us_Watches_v1_00-sample'.B76>, <Cell 'amazon_reviews_us_Watches_v1_00-sample'.C76>, <Cell 'amazon_reviews_us_Watches_v1_00-sample'.D76>, <Cell 'amazon_reviews_us_Watches_v1_00-sample'.E76>, <Cell 'amazon_reviews_us_Watches_v1_00-sample'.F76>, <Cell 'amazon_reviews_us_Watches_v1_00-sample'.G76>, <Cell 'amazon_reviews_us_Watches_v1_00-sample'.H76>, <Cell 'amazon_reviews_us_Watches_v1_00-sample'.I76>, <Cell 'amazon_reviews_us_Watches_v1_00-sample'.J76>, <Cell 'amazon_reviews_us_Watches_v1_00-sample'.K76>, <Cell 'amazon_reviews_us_Watches_v1_00-sample'.L76>, <Cell 'amazon_reviews_us_Watches_v1_00-sample'.M76>, <Cell 'amazon_reviews_us_Watches_v1_00-sample'.N76>, <Cell 'amazon_reviews_us_Watches_v1_00-sample'.O76>)\n",
      "(<Cell 'amazon_reviews_us_Watches_v1_00-sample'.A77>, <Cell 'amazon_reviews_us_Watches_v1_00-sample'.B77>, <Cell 'amazon_reviews_us_Watches_v1_00-sample'.C77>, <Cell 'amazon_reviews_us_Watches_v1_00-sample'.D77>, <Cell 'amazon_reviews_us_Watches_v1_00-sample'.E77>, <Cell 'amazon_reviews_us_Watches_v1_00-sample'.F77>, <Cell 'amazon_reviews_us_Watches_v1_00-sample'.G77>, <Cell 'amazon_reviews_us_Watches_v1_00-sample'.H77>, <Cell 'amazon_reviews_us_Watches_v1_00-sample'.I77>, <Cell 'amazon_reviews_us_Watches_v1_00-sample'.J77>, <Cell 'amazon_reviews_us_Watches_v1_00-sample'.K77>, <Cell 'amazon_reviews_us_Watches_v1_00-sample'.L77>, <Cell 'amazon_reviews_us_Watches_v1_00-sample'.M77>, <Cell 'amazon_reviews_us_Watches_v1_00-sample'.N77>, <Cell 'amazon_reviews_us_Watches_v1_00-sample'.O77>)\n",
      "(<Cell 'amazon_reviews_us_Watches_v1_00-sample'.A78>, <Cell 'amazon_reviews_us_Watches_v1_00-sample'.B78>, <Cell 'amazon_reviews_us_Watches_v1_00-sample'.C78>, <Cell 'amazon_reviews_us_Watches_v1_00-sample'.D78>, <Cell 'amazon_reviews_us_Watches_v1_00-sample'.E78>, <Cell 'amazon_reviews_us_Watches_v1_00-sample'.F78>, <Cell 'amazon_reviews_us_Watches_v1_00-sample'.G78>, <Cell 'amazon_reviews_us_Watches_v1_00-sample'.H78>, <Cell 'amazon_reviews_us_Watches_v1_00-sample'.I78>, <Cell 'amazon_reviews_us_Watches_v1_00-sample'.J78>, <Cell 'amazon_reviews_us_Watches_v1_00-sample'.K78>, <Cell 'amazon_reviews_us_Watches_v1_00-sample'.L78>, <Cell 'amazon_reviews_us_Watches_v1_00-sample'.M78>, <Cell 'amazon_reviews_us_Watches_v1_00-sample'.N78>, <Cell 'amazon_reviews_us_Watches_v1_00-sample'.O78>)\n",
      "(<Cell 'amazon_reviews_us_Watches_v1_00-sample'.A79>, <Cell 'amazon_reviews_us_Watches_v1_00-sample'.B79>, <Cell 'amazon_reviews_us_Watches_v1_00-sample'.C79>, <Cell 'amazon_reviews_us_Watches_v1_00-sample'.D79>, <Cell 'amazon_reviews_us_Watches_v1_00-sample'.E79>, <Cell 'amazon_reviews_us_Watches_v1_00-sample'.F79>, <Cell 'amazon_reviews_us_Watches_v1_00-sample'.G79>, <Cell 'amazon_reviews_us_Watches_v1_00-sample'.H79>, <Cell 'amazon_reviews_us_Watches_v1_00-sample'.I79>, <Cell 'amazon_reviews_us_Watches_v1_00-sample'.J79>, <Cell 'amazon_reviews_us_Watches_v1_00-sample'.K79>, <Cell 'amazon_reviews_us_Watches_v1_00-sample'.L79>, <Cell 'amazon_reviews_us_Watches_v1_00-sample'.M79>, <Cell 'amazon_reviews_us_Watches_v1_00-sample'.N79>, <Cell 'amazon_reviews_us_Watches_v1_00-sample'.O79>)\n",
      "(<Cell 'amazon_reviews_us_Watches_v1_00-sample'.A80>, <Cell 'amazon_reviews_us_Watches_v1_00-sample'.B80>, <Cell 'amazon_reviews_us_Watches_v1_00-sample'.C80>, <Cell 'amazon_reviews_us_Watches_v1_00-sample'.D80>, <Cell 'amazon_reviews_us_Watches_v1_00-sample'.E80>, <Cell 'amazon_reviews_us_Watches_v1_00-sample'.F80>, <Cell 'amazon_reviews_us_Watches_v1_00-sample'.G80>, <Cell 'amazon_reviews_us_Watches_v1_00-sample'.H80>, <Cell 'amazon_reviews_us_Watches_v1_00-sample'.I80>, <Cell 'amazon_reviews_us_Watches_v1_00-sample'.J80>, <Cell 'amazon_reviews_us_Watches_v1_00-sample'.K80>, <Cell 'amazon_reviews_us_Watches_v1_00-sample'.L80>, <Cell 'amazon_reviews_us_Watches_v1_00-sample'.M80>, <Cell 'amazon_reviews_us_Watches_v1_00-sample'.N80>, <Cell 'amazon_reviews_us_Watches_v1_00-sample'.O80>)\n",
      "(<Cell 'amazon_reviews_us_Watches_v1_00-sample'.A81>, <Cell 'amazon_reviews_us_Watches_v1_00-sample'.B81>, <Cell 'amazon_reviews_us_Watches_v1_00-sample'.C81>, <Cell 'amazon_reviews_us_Watches_v1_00-sample'.D81>, <Cell 'amazon_reviews_us_Watches_v1_00-sample'.E81>, <Cell 'amazon_reviews_us_Watches_v1_00-sample'.F81>, <Cell 'amazon_reviews_us_Watches_v1_00-sample'.G81>, <Cell 'amazon_reviews_us_Watches_v1_00-sample'.H81>, <Cell 'amazon_reviews_us_Watches_v1_00-sample'.I81>, <Cell 'amazon_reviews_us_Watches_v1_00-sample'.J81>, <Cell 'amazon_reviews_us_Watches_v1_00-sample'.K81>, <Cell 'amazon_reviews_us_Watches_v1_00-sample'.L81>, <Cell 'amazon_reviews_us_Watches_v1_00-sample'.M81>, <Cell 'amazon_reviews_us_Watches_v1_00-sample'.N81>, <Cell 'amazon_reviews_us_Watches_v1_00-sample'.O81>)\n",
      "(<Cell 'amazon_reviews_us_Watches_v1_00-sample'.A82>, <Cell 'amazon_reviews_us_Watches_v1_00-sample'.B82>, <Cell 'amazon_reviews_us_Watches_v1_00-sample'.C82>, <Cell 'amazon_reviews_us_Watches_v1_00-sample'.D82>, <Cell 'amazon_reviews_us_Watches_v1_00-sample'.E82>, <Cell 'amazon_reviews_us_Watches_v1_00-sample'.F82>, <Cell 'amazon_reviews_us_Watches_v1_00-sample'.G82>, <Cell 'amazon_reviews_us_Watches_v1_00-sample'.H82>, <Cell 'amazon_reviews_us_Watches_v1_00-sample'.I82>, <Cell 'amazon_reviews_us_Watches_v1_00-sample'.J82>, <Cell 'amazon_reviews_us_Watches_v1_00-sample'.K82>, <Cell 'amazon_reviews_us_Watches_v1_00-sample'.L82>, <Cell 'amazon_reviews_us_Watches_v1_00-sample'.M82>, <Cell 'amazon_reviews_us_Watches_v1_00-sample'.N82>, <Cell 'amazon_reviews_us_Watches_v1_00-sample'.O82>)\n",
      "(<Cell 'amazon_reviews_us_Watches_v1_00-sample'.A83>, <Cell 'amazon_reviews_us_Watches_v1_00-sample'.B83>, <Cell 'amazon_reviews_us_Watches_v1_00-sample'.C83>, <Cell 'amazon_reviews_us_Watches_v1_00-sample'.D83>, <Cell 'amazon_reviews_us_Watches_v1_00-sample'.E83>, <Cell 'amazon_reviews_us_Watches_v1_00-sample'.F83>, <Cell 'amazon_reviews_us_Watches_v1_00-sample'.G83>, <Cell 'amazon_reviews_us_Watches_v1_00-sample'.H83>, <Cell 'amazon_reviews_us_Watches_v1_00-sample'.I83>, <Cell 'amazon_reviews_us_Watches_v1_00-sample'.J83>, <Cell 'amazon_reviews_us_Watches_v1_00-sample'.K83>, <Cell 'amazon_reviews_us_Watches_v1_00-sample'.L83>, <Cell 'amazon_reviews_us_Watches_v1_00-sample'.M83>, <Cell 'amazon_reviews_us_Watches_v1_00-sample'.N83>, <Cell 'amazon_reviews_us_Watches_v1_00-sample'.O83>)\n",
      "(<Cell 'amazon_reviews_us_Watches_v1_00-sample'.A84>, <Cell 'amazon_reviews_us_Watches_v1_00-sample'.B84>, <Cell 'amazon_reviews_us_Watches_v1_00-sample'.C84>, <Cell 'amazon_reviews_us_Watches_v1_00-sample'.D84>, <Cell 'amazon_reviews_us_Watches_v1_00-sample'.E84>, <Cell 'amazon_reviews_us_Watches_v1_00-sample'.F84>, <Cell 'amazon_reviews_us_Watches_v1_00-sample'.G84>, <Cell 'amazon_reviews_us_Watches_v1_00-sample'.H84>, <Cell 'amazon_reviews_us_Watches_v1_00-sample'.I84>, <Cell 'amazon_reviews_us_Watches_v1_00-sample'.J84>, <Cell 'amazon_reviews_us_Watches_v1_00-sample'.K84>, <Cell 'amazon_reviews_us_Watches_v1_00-sample'.L84>, <Cell 'amazon_reviews_us_Watches_v1_00-sample'.M84>, <Cell 'amazon_reviews_us_Watches_v1_00-sample'.N84>, <Cell 'amazon_reviews_us_Watches_v1_00-sample'.O84>)\n",
      "(<Cell 'amazon_reviews_us_Watches_v1_00-sample'.A85>, <Cell 'amazon_reviews_us_Watches_v1_00-sample'.B85>, <Cell 'amazon_reviews_us_Watches_v1_00-sample'.C85>, <Cell 'amazon_reviews_us_Watches_v1_00-sample'.D85>, <Cell 'amazon_reviews_us_Watches_v1_00-sample'.E85>, <Cell 'amazon_reviews_us_Watches_v1_00-sample'.F85>, <Cell 'amazon_reviews_us_Watches_v1_00-sample'.G85>, <Cell 'amazon_reviews_us_Watches_v1_00-sample'.H85>, <Cell 'amazon_reviews_us_Watches_v1_00-sample'.I85>, <Cell 'amazon_reviews_us_Watches_v1_00-sample'.J85>, <Cell 'amazon_reviews_us_Watches_v1_00-sample'.K85>, <Cell 'amazon_reviews_us_Watches_v1_00-sample'.L85>, <Cell 'amazon_reviews_us_Watches_v1_00-sample'.M85>, <Cell 'amazon_reviews_us_Watches_v1_00-sample'.N85>, <Cell 'amazon_reviews_us_Watches_v1_00-sample'.O85>)\n",
      "(<Cell 'amazon_reviews_us_Watches_v1_00-sample'.A86>, <Cell 'amazon_reviews_us_Watches_v1_00-sample'.B86>, <Cell 'amazon_reviews_us_Watches_v1_00-sample'.C86>, <Cell 'amazon_reviews_us_Watches_v1_00-sample'.D86>, <Cell 'amazon_reviews_us_Watches_v1_00-sample'.E86>, <Cell 'amazon_reviews_us_Watches_v1_00-sample'.F86>, <Cell 'amazon_reviews_us_Watches_v1_00-sample'.G86>, <Cell 'amazon_reviews_us_Watches_v1_00-sample'.H86>, <Cell 'amazon_reviews_us_Watches_v1_00-sample'.I86>, <Cell 'amazon_reviews_us_Watches_v1_00-sample'.J86>, <Cell 'amazon_reviews_us_Watches_v1_00-sample'.K86>, <Cell 'amazon_reviews_us_Watches_v1_00-sample'.L86>, <Cell 'amazon_reviews_us_Watches_v1_00-sample'.M86>, <Cell 'amazon_reviews_us_Watches_v1_00-sample'.N86>, <Cell 'amazon_reviews_us_Watches_v1_00-sample'.O86>)\n",
      "(<Cell 'amazon_reviews_us_Watches_v1_00-sample'.A87>, <Cell 'amazon_reviews_us_Watches_v1_00-sample'.B87>, <Cell 'amazon_reviews_us_Watches_v1_00-sample'.C87>, <Cell 'amazon_reviews_us_Watches_v1_00-sample'.D87>, <Cell 'amazon_reviews_us_Watches_v1_00-sample'.E87>, <Cell 'amazon_reviews_us_Watches_v1_00-sample'.F87>, <Cell 'amazon_reviews_us_Watches_v1_00-sample'.G87>, <Cell 'amazon_reviews_us_Watches_v1_00-sample'.H87>, <Cell 'amazon_reviews_us_Watches_v1_00-sample'.I87>, <Cell 'amazon_reviews_us_Watches_v1_00-sample'.J87>, <Cell 'amazon_reviews_us_Watches_v1_00-sample'.K87>, <Cell 'amazon_reviews_us_Watches_v1_00-sample'.L87>, <Cell 'amazon_reviews_us_Watches_v1_00-sample'.M87>, <Cell 'amazon_reviews_us_Watches_v1_00-sample'.N87>, <Cell 'amazon_reviews_us_Watches_v1_00-sample'.O87>)\n",
      "(<Cell 'amazon_reviews_us_Watches_v1_00-sample'.A88>, <Cell 'amazon_reviews_us_Watches_v1_00-sample'.B88>, <Cell 'amazon_reviews_us_Watches_v1_00-sample'.C88>, <Cell 'amazon_reviews_us_Watches_v1_00-sample'.D88>, <Cell 'amazon_reviews_us_Watches_v1_00-sample'.E88>, <Cell 'amazon_reviews_us_Watches_v1_00-sample'.F88>, <Cell 'amazon_reviews_us_Watches_v1_00-sample'.G88>, <Cell 'amazon_reviews_us_Watches_v1_00-sample'.H88>, <Cell 'amazon_reviews_us_Watches_v1_00-sample'.I88>, <Cell 'amazon_reviews_us_Watches_v1_00-sample'.J88>, <Cell 'amazon_reviews_us_Watches_v1_00-sample'.K88>, <Cell 'amazon_reviews_us_Watches_v1_00-sample'.L88>, <Cell 'amazon_reviews_us_Watches_v1_00-sample'.M88>, <Cell 'amazon_reviews_us_Watches_v1_00-sample'.N88>, <Cell 'amazon_reviews_us_Watches_v1_00-sample'.O88>)\n",
      "(<Cell 'amazon_reviews_us_Watches_v1_00-sample'.A89>, <Cell 'amazon_reviews_us_Watches_v1_00-sample'.B89>, <Cell 'amazon_reviews_us_Watches_v1_00-sample'.C89>, <Cell 'amazon_reviews_us_Watches_v1_00-sample'.D89>, <Cell 'amazon_reviews_us_Watches_v1_00-sample'.E89>, <Cell 'amazon_reviews_us_Watches_v1_00-sample'.F89>, <Cell 'amazon_reviews_us_Watches_v1_00-sample'.G89>, <Cell 'amazon_reviews_us_Watches_v1_00-sample'.H89>, <Cell 'amazon_reviews_us_Watches_v1_00-sample'.I89>, <Cell 'amazon_reviews_us_Watches_v1_00-sample'.J89>, <Cell 'amazon_reviews_us_Watches_v1_00-sample'.K89>, <Cell 'amazon_reviews_us_Watches_v1_00-sample'.L89>, <Cell 'amazon_reviews_us_Watches_v1_00-sample'.M89>, <Cell 'amazon_reviews_us_Watches_v1_00-sample'.N89>, <Cell 'amazon_reviews_us_Watches_v1_00-sample'.O89>)\n",
      "(<Cell 'amazon_reviews_us_Watches_v1_00-sample'.A90>, <Cell 'amazon_reviews_us_Watches_v1_00-sample'.B90>, <Cell 'amazon_reviews_us_Watches_v1_00-sample'.C90>, <Cell 'amazon_reviews_us_Watches_v1_00-sample'.D90>, <Cell 'amazon_reviews_us_Watches_v1_00-sample'.E90>, <Cell 'amazon_reviews_us_Watches_v1_00-sample'.F90>, <Cell 'amazon_reviews_us_Watches_v1_00-sample'.G90>, <Cell 'amazon_reviews_us_Watches_v1_00-sample'.H90>, <Cell 'amazon_reviews_us_Watches_v1_00-sample'.I90>, <Cell 'amazon_reviews_us_Watches_v1_00-sample'.J90>, <Cell 'amazon_reviews_us_Watches_v1_00-sample'.K90>, <Cell 'amazon_reviews_us_Watches_v1_00-sample'.L90>, <Cell 'amazon_reviews_us_Watches_v1_00-sample'.M90>, <Cell 'amazon_reviews_us_Watches_v1_00-sample'.N90>, <Cell 'amazon_reviews_us_Watches_v1_00-sample'.O90>)\n",
      "(<Cell 'amazon_reviews_us_Watches_v1_00-sample'.A91>, <Cell 'amazon_reviews_us_Watches_v1_00-sample'.B91>, <Cell 'amazon_reviews_us_Watches_v1_00-sample'.C91>, <Cell 'amazon_reviews_us_Watches_v1_00-sample'.D91>, <Cell 'amazon_reviews_us_Watches_v1_00-sample'.E91>, <Cell 'amazon_reviews_us_Watches_v1_00-sample'.F91>, <Cell 'amazon_reviews_us_Watches_v1_00-sample'.G91>, <Cell 'amazon_reviews_us_Watches_v1_00-sample'.H91>, <Cell 'amazon_reviews_us_Watches_v1_00-sample'.I91>, <Cell 'amazon_reviews_us_Watches_v1_00-sample'.J91>, <Cell 'amazon_reviews_us_Watches_v1_00-sample'.K91>, <Cell 'amazon_reviews_us_Watches_v1_00-sample'.L91>, <Cell 'amazon_reviews_us_Watches_v1_00-sample'.M91>, <Cell 'amazon_reviews_us_Watches_v1_00-sample'.N91>, <Cell 'amazon_reviews_us_Watches_v1_00-sample'.O91>)\n",
      "(<Cell 'amazon_reviews_us_Watches_v1_00-sample'.A92>, <Cell 'amazon_reviews_us_Watches_v1_00-sample'.B92>, <Cell 'amazon_reviews_us_Watches_v1_00-sample'.C92>, <Cell 'amazon_reviews_us_Watches_v1_00-sample'.D92>, <Cell 'amazon_reviews_us_Watches_v1_00-sample'.E92>, <Cell 'amazon_reviews_us_Watches_v1_00-sample'.F92>, <Cell 'amazon_reviews_us_Watches_v1_00-sample'.G92>, <Cell 'amazon_reviews_us_Watches_v1_00-sample'.H92>, <Cell 'amazon_reviews_us_Watches_v1_00-sample'.I92>, <Cell 'amazon_reviews_us_Watches_v1_00-sample'.J92>, <Cell 'amazon_reviews_us_Watches_v1_00-sample'.K92>, <Cell 'amazon_reviews_us_Watches_v1_00-sample'.L92>, <Cell 'amazon_reviews_us_Watches_v1_00-sample'.M92>, <Cell 'amazon_reviews_us_Watches_v1_00-sample'.N92>, <Cell 'amazon_reviews_us_Watches_v1_00-sample'.O92>)\n",
      "(<Cell 'amazon_reviews_us_Watches_v1_00-sample'.A93>, <Cell 'amazon_reviews_us_Watches_v1_00-sample'.B93>, <Cell 'amazon_reviews_us_Watches_v1_00-sample'.C93>, <Cell 'amazon_reviews_us_Watches_v1_00-sample'.D93>, <Cell 'amazon_reviews_us_Watches_v1_00-sample'.E93>, <Cell 'amazon_reviews_us_Watches_v1_00-sample'.F93>, <Cell 'amazon_reviews_us_Watches_v1_00-sample'.G93>, <Cell 'amazon_reviews_us_Watches_v1_00-sample'.H93>, <Cell 'amazon_reviews_us_Watches_v1_00-sample'.I93>, <Cell 'amazon_reviews_us_Watches_v1_00-sample'.J93>, <Cell 'amazon_reviews_us_Watches_v1_00-sample'.K93>, <Cell 'amazon_reviews_us_Watches_v1_00-sample'.L93>, <Cell 'amazon_reviews_us_Watches_v1_00-sample'.M93>, <Cell 'amazon_reviews_us_Watches_v1_00-sample'.N93>, <Cell 'amazon_reviews_us_Watches_v1_00-sample'.O93>)\n",
      "(<Cell 'amazon_reviews_us_Watches_v1_00-sample'.A94>, <Cell 'amazon_reviews_us_Watches_v1_00-sample'.B94>, <Cell 'amazon_reviews_us_Watches_v1_00-sample'.C94>, <Cell 'amazon_reviews_us_Watches_v1_00-sample'.D94>, <Cell 'amazon_reviews_us_Watches_v1_00-sample'.E94>, <Cell 'amazon_reviews_us_Watches_v1_00-sample'.F94>, <Cell 'amazon_reviews_us_Watches_v1_00-sample'.G94>, <Cell 'amazon_reviews_us_Watches_v1_00-sample'.H94>, <Cell 'amazon_reviews_us_Watches_v1_00-sample'.I94>, <Cell 'amazon_reviews_us_Watches_v1_00-sample'.J94>, <Cell 'amazon_reviews_us_Watches_v1_00-sample'.K94>, <Cell 'amazon_reviews_us_Watches_v1_00-sample'.L94>, <Cell 'amazon_reviews_us_Watches_v1_00-sample'.M94>, <Cell 'amazon_reviews_us_Watches_v1_00-sample'.N94>, <Cell 'amazon_reviews_us_Watches_v1_00-sample'.O94>)\n",
      "(<Cell 'amazon_reviews_us_Watches_v1_00-sample'.A95>, <Cell 'amazon_reviews_us_Watches_v1_00-sample'.B95>, <Cell 'amazon_reviews_us_Watches_v1_00-sample'.C95>, <Cell 'amazon_reviews_us_Watches_v1_00-sample'.D95>, <Cell 'amazon_reviews_us_Watches_v1_00-sample'.E95>, <Cell 'amazon_reviews_us_Watches_v1_00-sample'.F95>, <Cell 'amazon_reviews_us_Watches_v1_00-sample'.G95>, <Cell 'amazon_reviews_us_Watches_v1_00-sample'.H95>, <Cell 'amazon_reviews_us_Watches_v1_00-sample'.I95>, <Cell 'amazon_reviews_us_Watches_v1_00-sample'.J95>, <Cell 'amazon_reviews_us_Watches_v1_00-sample'.K95>, <Cell 'amazon_reviews_us_Watches_v1_00-sample'.L95>, <Cell 'amazon_reviews_us_Watches_v1_00-sample'.M95>, <Cell 'amazon_reviews_us_Watches_v1_00-sample'.N95>, <Cell 'amazon_reviews_us_Watches_v1_00-sample'.O95>)\n",
      "(<Cell 'amazon_reviews_us_Watches_v1_00-sample'.A96>, <Cell 'amazon_reviews_us_Watches_v1_00-sample'.B96>, <Cell 'amazon_reviews_us_Watches_v1_00-sample'.C96>, <Cell 'amazon_reviews_us_Watches_v1_00-sample'.D96>, <Cell 'amazon_reviews_us_Watches_v1_00-sample'.E96>, <Cell 'amazon_reviews_us_Watches_v1_00-sample'.F96>, <Cell 'amazon_reviews_us_Watches_v1_00-sample'.G96>, <Cell 'amazon_reviews_us_Watches_v1_00-sample'.H96>, <Cell 'amazon_reviews_us_Watches_v1_00-sample'.I96>, <Cell 'amazon_reviews_us_Watches_v1_00-sample'.J96>, <Cell 'amazon_reviews_us_Watches_v1_00-sample'.K96>, <Cell 'amazon_reviews_us_Watches_v1_00-sample'.L96>, <Cell 'amazon_reviews_us_Watches_v1_00-sample'.M96>, <Cell 'amazon_reviews_us_Watches_v1_00-sample'.N96>, <Cell 'amazon_reviews_us_Watches_v1_00-sample'.O96>)\n",
      "(<Cell 'amazon_reviews_us_Watches_v1_00-sample'.A97>, <Cell 'amazon_reviews_us_Watches_v1_00-sample'.B97>, <Cell 'amazon_reviews_us_Watches_v1_00-sample'.C97>, <Cell 'amazon_reviews_us_Watches_v1_00-sample'.D97>, <Cell 'amazon_reviews_us_Watches_v1_00-sample'.E97>, <Cell 'amazon_reviews_us_Watches_v1_00-sample'.F97>, <Cell 'amazon_reviews_us_Watches_v1_00-sample'.G97>, <Cell 'amazon_reviews_us_Watches_v1_00-sample'.H97>, <Cell 'amazon_reviews_us_Watches_v1_00-sample'.I97>, <Cell 'amazon_reviews_us_Watches_v1_00-sample'.J97>, <Cell 'amazon_reviews_us_Watches_v1_00-sample'.K97>, <Cell 'amazon_reviews_us_Watches_v1_00-sample'.L97>, <Cell 'amazon_reviews_us_Watches_v1_00-sample'.M97>, <Cell 'amazon_reviews_us_Watches_v1_00-sample'.N97>, <Cell 'amazon_reviews_us_Watches_v1_00-sample'.O97>)\n",
      "(<Cell 'amazon_reviews_us_Watches_v1_00-sample'.A98>, <Cell 'amazon_reviews_us_Watches_v1_00-sample'.B98>, <Cell 'amazon_reviews_us_Watches_v1_00-sample'.C98>, <Cell 'amazon_reviews_us_Watches_v1_00-sample'.D98>, <Cell 'amazon_reviews_us_Watches_v1_00-sample'.E98>, <Cell 'amazon_reviews_us_Watches_v1_00-sample'.F98>, <Cell 'amazon_reviews_us_Watches_v1_00-sample'.G98>, <Cell 'amazon_reviews_us_Watches_v1_00-sample'.H98>, <Cell 'amazon_reviews_us_Watches_v1_00-sample'.I98>, <Cell 'amazon_reviews_us_Watches_v1_00-sample'.J98>, <Cell 'amazon_reviews_us_Watches_v1_00-sample'.K98>, <Cell 'amazon_reviews_us_Watches_v1_00-sample'.L98>, <Cell 'amazon_reviews_us_Watches_v1_00-sample'.M98>, <Cell 'amazon_reviews_us_Watches_v1_00-sample'.N98>, <Cell 'amazon_reviews_us_Watches_v1_00-sample'.O98>)\n",
      "(<Cell 'amazon_reviews_us_Watches_v1_00-sample'.A99>, <Cell 'amazon_reviews_us_Watches_v1_00-sample'.B99>, <Cell 'amazon_reviews_us_Watches_v1_00-sample'.C99>, <Cell 'amazon_reviews_us_Watches_v1_00-sample'.D99>, <Cell 'amazon_reviews_us_Watches_v1_00-sample'.E99>, <Cell 'amazon_reviews_us_Watches_v1_00-sample'.F99>, <Cell 'amazon_reviews_us_Watches_v1_00-sample'.G99>, <Cell 'amazon_reviews_us_Watches_v1_00-sample'.H99>, <Cell 'amazon_reviews_us_Watches_v1_00-sample'.I99>, <Cell 'amazon_reviews_us_Watches_v1_00-sample'.J99>, <Cell 'amazon_reviews_us_Watches_v1_00-sample'.K99>, <Cell 'amazon_reviews_us_Watches_v1_00-sample'.L99>, <Cell 'amazon_reviews_us_Watches_v1_00-sample'.M99>, <Cell 'amazon_reviews_us_Watches_v1_00-sample'.N99>, <Cell 'amazon_reviews_us_Watches_v1_00-sample'.O99>)\n",
      "(<Cell 'amazon_reviews_us_Watches_v1_00-sample'.A100>, <Cell 'amazon_reviews_us_Watches_v1_00-sample'.B100>, <Cell 'amazon_reviews_us_Watches_v1_00-sample'.C100>, <Cell 'amazon_reviews_us_Watches_v1_00-sample'.D100>, <Cell 'amazon_reviews_us_Watches_v1_00-sample'.E100>, <Cell 'amazon_reviews_us_Watches_v1_00-sample'.F100>, <Cell 'amazon_reviews_us_Watches_v1_00-sample'.G100>, <Cell 'amazon_reviews_us_Watches_v1_00-sample'.H100>, <Cell 'amazon_reviews_us_Watches_v1_00-sample'.I100>, <Cell 'amazon_reviews_us_Watches_v1_00-sample'.J100>, <Cell 'amazon_reviews_us_Watches_v1_00-sample'.K100>, <Cell 'amazon_reviews_us_Watches_v1_00-sample'.L100>, <Cell 'amazon_reviews_us_Watches_v1_00-sample'.M100>, <Cell 'amazon_reviews_us_Watches_v1_00-sample'.N100>, <Cell 'amazon_reviews_us_Watches_v1_00-sample'.O100>)\n"
     ]
    }
   ],
   "source": [
    "for row in sheet.rows:\n",
    "    print(row)"
   ]
  },
  {
   "cell_type": "markdown",
   "id": "cda84462-99ba-4b14-b31a-e21a9209f4c0",
   "metadata": {},
   "source": [
    "# Manipulate Data Using Python’s Default Data Structures"
   ]
  },
  {
   "cell_type": "code",
   "execution_count": 26,
   "id": "a37ab208-e988-4298-a517-4f06d4ab2ac4",
   "metadata": {
    "tags": []
   },
   "outputs": [
    {
     "name": "stdout",
     "output_type": "stream",
     "text": [
      "('marketplace', 'customer_id', 'review_id', 'product_id', 'product_parent', 'product_title', 'product_category', 'star_rating', 'helpful_votes', 'total_votes', 'vine', 'verified_purchase', 'review_headline', 'review_body', 'review_date')\n"
     ]
    }
   ],
   "source": [
    "# export headers\n",
    "for value in sheet.iter_rows(min_row=1, max_row=1,\n",
    "                            values_only=True):\n",
    "    print(value)"
   ]
  },
  {
   "cell_type": "markdown",
   "id": "f0aaf601-5762-407f-b96f-405ed9688466",
   "metadata": {},
   "source": [
    "I would like to get data from \"product_id\", \"product_parent\", \"product_title\", \"product_category\""
   ]
  },
  {
   "cell_type": "code",
   "execution_count": 27,
   "id": "ece5c12b-92e4-4a73-8959-8ba6f99e9ca3",
   "metadata": {
    "tags": []
   },
   "outputs": [
    {
     "name": "stdout",
     "output_type": "stream",
     "text": [
      "('B00FALQ1ZC', 937001370, 'Invicta Women\\'s 15150 \"Angel\" 18k Yellow Gold Ion-Plated Stainless Steel and Brown Leather Watch', 'Watches')\n",
      "('B00D3RGO20', 484010722, \"Kenneth Cole New York Women's KC4944 Automatic Silver Automatic Mesh Bracelet Analog Watch\", 'Watches')\n",
      "('B00DKYC7TK', 361166390, 'Ritche 22mm Black Stainless Steel Bracelet Watch Band Strap Pebble Time/Pebble Classic', 'Watches')\n",
      "('B000EQS1JW', 958035625, \"Citizen Men's BM8180-03E Eco-Drive Stainless Steel Watch with Green Canvas Band\", 'Watches')\n",
      "('B00A6GFD7S', 765328221, \"Orient ER27009B Men's Symphony Automatic Stainless Steel Black Dial Mechanical Watch\", 'Watches')\n",
      "('B00EYSOSE8', 230493695, \"Casio Men's GW-9400BJ-1JF G-Shock Master of G Rangeman Digital Solar Black Carbon Fiber Insert Watch\", 'Watches')\n",
      "('B00WM0QA3M', 549298279, \"Fossil Women's ES3851 Urban Traveler Multifunction Stainless Steel Watch - Rose\", 'Watches')\n",
      "('B00A4EYBR0', 844009113, 'INFANTRY Mens Night Vision Analog Quartz Wrist Watch with Nato Nylon Watchband-Red.', 'Watches')\n",
      "('B00MAMPGGE', 263720892, \"G-Shock Men's Grey Sport Watch\", 'Watches')\n",
      "('B004LBPB7Q', 124278407, 'Heiden Quad Watch Winder in Black Leather', 'Watches')\n",
      "('B00KGTVGKS', 28017857, \"Fossil Women's ES3621 Serena Crystal-Accented Two-Tone Stainless Steel Watch\", 'Watches')\n",
      "('B0039UT5OU', 685450910, \"Casio General Men's Watches Sporty Digital AE-2000W-1AVDF - WW\", 'Watches')\n",
      "('B00MPF0XJQ', 767769082, '2Tone Gold Silver Cable Band Ladies Bangle Cuff Watch', 'Watches')\n",
      "('B003P1OHHS', 648595227, \"Bulova Men's 98B143 Precisionist Charcoal Grey Dial Bracelet Watch\", 'Watches')\n",
      "('B00R70YEOE', 457338020, 'Casio - G-Shock - Gulfmaster - Black - GWN1000C-1A', 'Watches')\n",
      "('B000FVE3BG', 824370661, \"Invicta Men's 3329 Force Collection Lefty Watch\", 'Watches')\n",
      "('B008X6JB12', 814431355, \"Seiko Women's SUT068 Dress Solar Classic Diamond-Accented Two-Tone Stainless Steel Watch\", 'Watches')\n",
      "('B0040UOFPW', 187700878, \"Anne Klein Women's 109271MPTT Swarovski Crystal Accented Two-Tone Multi-Chain Bracelet Watch\", 'Watches')\n",
      "('B00UR2R5UY', 594315262, \"Guess U13630G1 Men's day and date Gunmetal dial Gunmetal tone bracelet\", 'Watches')\n",
      "('B00HFF57L0', 520810507, \"Nixon Men's Geo Volt Sentry Stainless Steel Watch with Link Bracelet\", 'Watches')\n",
      "('B00F5O06E6', 601596859, \"Nautica Men's N14699G BFD 101 Chrono Classic Stainless Steel Watch with Brown Band\", 'Watches')\n",
      "('B00CHS398I', 798261110, 'HDE Watch Link Pin Remover Band Strap Repair Tool Kit for Watchmakers with Pack of 3 Extra Pins', 'Watches')\n",
      "('B003OQ4TA4', 557813802, \"Timex Women's Q7B860 Padded Calfskin 8mm Black Replacement Watchband\", 'Watches')\n",
      "('B007X0SYEY', 22870009, 'Movado Men\\'s 0606545 \"Museum\" Perforated Black-Rubber Strap Sport Watch', 'Watches')\n",
      "('B005KPL7FM', 269520616, \"Invicta Men's 6674 Corduba Chronograph Black Dial Polyurethane Watch\", 'Watches')\n",
      "('B00FNIFI2O', 330558574, \"Szanto Men's SZ 2001 2000 Series Classic Vintage-Inspired Stainless Steel Watch with Pebbled Leather Band\", 'Watches')\n",
      "('B005JVP0FU', 220345054, \"Casio Men's MRW200H-7EV Sport Resin Watch\", 'Watches')\n",
      "('B004M23SDI', 299884359, 'Casio F-108WH-2AEF Mens Blue Digital Watch', 'Watches')\n",
      "('B00RV2L8CE', 714311106, \"August Steiner Men's AS8160TTG Silver And Gold Swiss Quartz Watch with Black Dial and Two Tone Bracelet\", 'Watches')\n",
      "('B000JQJS6M', 926299553, \"Invicta Men's 8928OB Pro Diver Gold Stainless Steel Two-Tone Automatic Watch\", 'Watches')\n",
      "('B00VXLJD44', 578998634, \"BOS Men's Automatic self-wind mechanical Pointer Skeleton Watch Black Dial Stainless Steel Band 9008\", 'Watches')\n",
      "('B004EFGBW8', 727624097, \"Luminox Men's 3081 Evo Navy SEAL Chronograph Watch\", 'Watches')\n",
      "('B00G9X76DG', 86861596, 'INFANTRY Mens 50mm Big Face Military Tactical Analog Digital Sport Wrist Watch Black Silicone Band', 'Watches')\n",
      "('B00SFTTZ9U', 8403354, \"BUREI Dress Women's Minimalist Wrist Watches with Date Analog Quartz Stainless Steel and Ultra Slim Dial\", 'Watches')\n",
      "('B00NC8PMUK', 944169262, 'Motorola Moto 360 Modern Timepiece Smart Watch - Black Leather 00418NARTL', 'Watches')\n",
      "('B00C1C5J9W', 851584415, 'Domire Fashion Accessories Trial Order New Quartz Fashion Weave Wrap Around Leather Bracelet Lady Woman Butterfly Wrist Watch', 'Watches')\n",
      "('B000GB0G5M', 492842685, \"Casio Women's LQ139B-1B Classic Round Analog Watch\", 'Watches')\n",
      "('B00F8AWMXA', 397647155, \"Invicta Men's 15256 I-Force Gunmetal Ion-Plated Stainless Steel Watch with Black Leather Strap\", 'Watches')\n",
      "('B005MDPAPU', 645499118, \"Casio Men's Slim Solar Multi-Function Analog-Digital Watch\", 'Watches')\n",
      "('B006C8NJY8', 865472849, 'TS6202BLK 8 Belt Box Organizer Black Leather XL Compartments', 'Watches')\n",
      "('B00791YURC', 310034618, \"Casio Men's GW2310FB-1CR G-Shock Shock Resistant Multifunction Watch\", 'Watches')\n",
      "('B00S69FO0I', 406011595, \"U.S. Polo Assn. Sport Men's US9506 Analog-Digital Display Silver-Tone Watch with Textured Band\", 'Watches')\n",
      "('B00C7IQBRY', 201258316, \"Cerentino Women's CR106-TQ  Turquoise Silicone Rubber Rhinestones Watch\", 'Watches')\n",
      "('B009S4U1TY', 830280907, \"Batman Kids' BAT4072 Black Rubber Batman Logo Strap Watch\", 'Watches')\n",
      "('B000B55AEA', 851729310, 'Timex Easy Reader Day-Date Leather Strap Watch', 'Watches')\n",
      "('B0053HDR78', 576694666, 'Casio F108WH Water Resistant Digital Blue Resin Strap Watch', 'Watches')\n",
      "('B00NC8PMUK', 944169262, 'Motorola Moto 360 Modern Timepiece Smart Watch - Black Leather 00418NARTL', 'Watches')\n",
      "('B008OIOLQO', 340110662, \"Ingersoll Men's IN1824CR Monticello Fine Automatic Timepiece Cream Dial Watch\", 'Watches')\n",
      "('B009PQB036', 696981257, \"Lucien Piccard Men's 11576-YG-01 Clariden Black Textured Dial Watch\", 'Watches')\n",
      "('B007X0E178', 953514677, \"XOXO Women's XO5478 Rhinestone-Accented Two-Tone Watch\", 'Watches')\n",
      "('B00BXQSHRI', 714629498, 'Watch Case Press with 12 Nylon Dies, Watch Case Closer Set', 'Watches')\n",
      "('B00ZI3SGXM', 294102740, \"Stuhrling Original Women's 956.02 Symphony Gold-Tone Watch with Brown Genuine Leather Band\", 'Watches')\n",
      "('B0053A0HB4', 199546574, 'Casio G-shock Mudman Multiband6 Japanese Model [ Gw-9300-1jf ]', 'Watches')\n",
      "('B00QBTQX50', 29617990, 'iStrap Calfskin Leather Watch Band Replacement Choice of Color & Width (18mm,19mm, 20mm,21mm or 22mm)', 'Watches')\n",
      "('B00G3JSF22', 978361500, \"G-SHOCK Men's GA-100 Neon Highlights Watch\", 'Watches')\n",
      "('B002NQXYL6', 161383158, 'Voguestrap TX046801XL Allstrap 16-20mm Brown Extra-Long-Length Fits Fast-Wrap Expedition Watchband', 'Watches')\n",
      "('B004MAZN3I', 165342893, \"Seiko Men's SNKK27 Seiko 5 Stainless Steel Automatic Watch\", 'Watches')\n",
      "('B000JQFX1G', 400836338, \"Invicta Men's 8926OB Pro Diver Stainless Steel Automatic Watch with Link Bracelet\", 'Watches')\n",
      "('B00A6B9N6U', 491671113, \"Swiss Legend Women's 11044D-01 Neptune Black Dial Watch with Silicone Band\", 'Watches')\n",
      "('B00HJ7T0OY', 822340800, \"Absolute Hot Iron man Super Hero build-in Blue LED for Men's luxury Army military Wrist Watches\", 'Watches')\n",
      "('B004401KHE', 604208769, \"Seiko Men's White Dial Brown Leather Easy Reader Solar Calendar Watch\", 'Watches')\n",
      "('B001UGDB0O', 762085956, 'Michael Kors Womens MK5145 - Runway Chronograph', 'Watches')\n",
      "('B00L4JRXIS', 627047973, \"Armitron Sport Women's 25/6416 Easy To Read Dial Resin Strap Watch\", 'Watches')\n",
      "('B009PQB5K4', 418141913, \"Lucien Piccard Men's 11577-RG-02S Stockhorn Silver Textured Dial Brown Leather Watch\", 'Watches')\n",
      "('B003M2G0SY', 908936114, 'LEGO Star Wars Yoda Kids Buildable Watch with Link Bracelet and Minifigure | green/gray | plastic | 28mm case diameter| analog quartz | boy girl | official', 'Watches')\n",
      "('B002SSUQFG', 354933056, \"Seiko Men's SNK809 Seiko 5 Automatic Stainless Steel Watch with Black Canvas Strap\", 'Watches')\n",
      "('B003622WUK', 890272218, \"Tissot Women's T0492103303300 PR 100 Gold-Tone Silver Dial Watch\", 'Watches')\n",
      "('B00L8M9Z32', 686288185, \"CASIO BABY-G (BG-6900SG-8JF) GLITTER DIAL SERIES LADY'S WATCH JAPANESE MODEL 2014 JULY RELEASED\", 'Watches')\n",
      "('B000GAWSA4', 700023949, \"Casio Men's AW80V-1BV\", 'Watches')\n",
      "('B004YM2FV2', 649128875, 'Bling Jewelry Plated Classic Round CZ Ladies Watch', 'Watches')\n",
      "('B008RNKIV8', 341504925, \"Citizen Men's AT8020-54L Blue Angels Stainless Steel Eco-Drive Dress Watch\", 'Watches')\n",
      "('B000SZNTLO', 544270597, 'Timex Ironman Sleek 50-Lap Full Size', 'Watches')\n",
      "('B00MNC53XW', 567086073, 'Outop Wholesale Lot of 5pcs Womens Girls Butterfly Bracelet Wrist Watches', 'Watches')\n",
      "('B00BF77S2K', 479360900, \"Timex Kids' T7B9829J IronKids Translucent Blue Sport Watch\", 'Watches')\n",
      "('B00OHD6SLG', 721711830, \"Cool Men's Racer Military Pilot Army Silicone Sports Watch\", 'Watches')\n",
      "('B003DIP9BQ', 941077778, \"XOXO Women's XO110 Silver Dial Gold-tone Bracelet Watch\", 'Watches')\n",
      "('B00L3VGTA0', 667419707, \"Armitron Men's Black Sunray Dial Silvertone Bracelet Watch\", 'Watches')\n",
      "('B00RCUTIRM', 731342946, \"Akribos XXIV Men's AK787YGBU Quartz Movement Watch with Blue Dial and Yellow Gold Stainless Steel Bracelet\", 'Watches')\n",
      "('B00V30U79K', 18936638, 'Topwell Mens Wood watches, Date Time 24hours Wooden watch with Round Multi-Eyed QUARTZ Wrist Watch for Gift', 'Watches')\n",
      "('B00STAXIHU', 690763506, \"Fossil Women's ES3822 Georgia Stainless Steel Watch with Blue Leather Band\", 'Watches')\n",
      "('B00DUW21F2', 87555656, \"Stuhrling Original Men's 574.03 Analog Executive II Stainless Steel Automatic Skeleton Watch with Brown Leather Band\", 'Watches')\n",
      "('B00MO38XL4', 476271516, \"Armitron Sport Women's 25/6422BLK Easy to Read Dial Black Resin Strap Watch\", 'Watches')\n",
      "('B00K8HMHCE', 575505209, \"Swiss Legend Men's 10068-03 Commander II Analog Display Swiss Quartz Blue Watch\", 'Watches')\n",
      "('B001DK6OKQ', 79293794, \"Stuhrling Original Men's 219.331657 Symphony Eternity Monterey Swiss Quartz Date Watch\", 'Watches')\n",
      "('B0094PS284', 842528710, 'LuckyStore 14mm 5X Watch Band Stainless Steel Spring Bars Strap Link Pin Watchmaker New', 'Watches')\n",
      "('B00FDLB2S0', 992050854, \"red line Men's RL-50042-YG-01 Stealth Chronograph Black Textured Dial Black Silicone Watch\", 'Watches')\n",
      "('B00EVPMC88', 516415826, 'Seiko Men\\'s SNKL43 \"Seiko 5\" Stainless Steel Automatic Watch', 'Watches')\n",
      "('B00G2R7E3Q', 131804424, \"Invicta Men's 14640 I-Force Analog Display Japanese Quartz Black Watch\", 'Watches')\n",
      "('B004LURNO6', 892860326, 'Nemesis #HST-K Unisex Black Wide Leather Cuff Wrist Watch Band', 'Watches')\n",
      "('B005OT1POW', 202690497, \"Tommy Hilfiger  Women's 1781145 Sport Stainless Steel  Watch\", 'Watches')\n",
      "('B007LPRLXG', 973233011, 'GUESS U17531G1 - Bold and Sporty Watch Silver', 'Watches')\n",
      "('B00QK2HAFK', 78116254, \"Armitron Men's 20/5048 Day/Date Function Dial Croco-Grain Leather Strap Watch\", 'Watches')\n",
      "('B003X11UFM', 790174403, \"Stuhrling Original Men's 238.321K43 Ascot Newberry Analog Swiss Quartz Brown Leather Watch\", 'Watches')\n",
      "('B00A6OEWA4', 985088364, \"AMPM24 Men's Hand-winding Mechanical Watch Black Leather Watchband Skeleton PMW069\", 'Watches')\n",
      "('B006QAX906', 957756572, \"Gotham Men's Silver-Tone Ultra Thin Railroad Open Face Quartz Pocket Watch # GWC15022S\", 'Watches')\n",
      "('B00BS8U8PU', 132047116, 'Casio Unisex MRW200H-2BV Neo-Display Black Watch with Resin Band', 'Watches')\n",
      "('B001F0PTNM', 670846500, \"Hadley-Roma Men's MSM881RB-170 17-mm Brown Oil-Tan Leather Watch Strap\", 'Watches')\n",
      "('B00Q7DETQU', 763436398, 'Michael Kors Petite Silvertone Darci Watch', 'Watches')\n",
      "('B00LW3RP0W', 198443125, 'Timex Expedition Rugged Metal Watch', 'Watches')\n"
     ]
    }
   ],
   "source": [
    "for value in sheet.iter_rows(min_row=2, min_col=4,\n",
    "                            max_col=7, values_only=True):\n",
    "    print(value)"
   ]
  },
  {
   "cell_type": "code",
   "execution_count": 34,
   "id": "2f0b6f6b-8868-4811-be32-2ca6ef53793e",
   "metadata": {
    "tags": []
   },
   "outputs": [
    {
     "name": "stdout",
     "output_type": "stream",
     "text": [
      "{\"B00FALQ1ZC\": {\"parent\": 937001370, \"title\": \"Invicta Women's 15150 \\\"Angel\\\" 18k Yellow Gold Ion-Plated Stainless Steel and Brown Leather Watch\", \"category\": \"Watches\"}, \"B00D3RGO20\": {\"parent\": 484010722, \"title\": \"Kenneth Cole New York Women's KC4944 Automatic Silver Automatic Mesh Bracelet Analog Watch\", \"category\": \"Watches\"}, \"B00DKYC7TK\": {\"parent\": 361166390, \"title\": \"Ritche 22mm Black Stainless Steel Bracelet Watch Band Strap Pebble Time/Pebble Classic\", \"category\": \"Watches\"}, \"B000EQS1JW\": {\"parent\": 958035625, \"title\": \"Citizen Men's BM8180-03E Eco-Drive Stainless Steel Watch with Green Canvas Band\", \"category\": \"Watches\"}, \"B00A6GFD7S\": {\"parent\": 765328221, \"title\": \"Orient ER27009B Men's Symphony Automatic Stainless Steel Black Dial Mechanical Watch\", \"category\": \"Watches\"}, \"B00EYSOSE8\": {\"parent\": 230493695, \"title\": \"Casio Men's GW-9400BJ-1JF G-Shock Master of G Rangeman Digital Solar Black Carbon Fiber Insert Watch\", \"category\": \"Watches\"}, \"B00WM0QA3M\": {\"parent\": 549298279, \"title\": \"Fossil Women's ES3851 Urban Traveler Multifunction Stainless Steel Watch - Rose\", \"category\": \"Watches\"}, \"B00A4EYBR0\": {\"parent\": 844009113, \"title\": \"INFANTRY Mens Night Vision Analog Quartz Wrist Watch with Nato Nylon Watchband-Red.\", \"category\": \"Watches\"}, \"B00MAMPGGE\": {\"parent\": 263720892, \"title\": \"G-Shock Men's Grey Sport Watch\", \"category\": \"Watches\"}, \"B004LBPB7Q\": {\"parent\": 124278407, \"title\": \"Heiden Quad Watch Winder in Black Leather\", \"category\": \"Watches\"}, \"B00KGTVGKS\": {\"parent\": 28017857, \"title\": \"Fossil Women's ES3621 Serena Crystal-Accented Two-Tone Stainless Steel Watch\", \"category\": \"Watches\"}, \"B0039UT5OU\": {\"parent\": 685450910, \"title\": \"Casio General Men's Watches Sporty Digital AE-2000W-1AVDF - WW\", \"category\": \"Watches\"}, \"B00MPF0XJQ\": {\"parent\": 767769082, \"title\": \"2Tone Gold Silver Cable Band Ladies Bangle Cuff Watch\", \"category\": \"Watches\"}, \"B003P1OHHS\": {\"parent\": 648595227, \"title\": \"Bulova Men's 98B143 Precisionist Charcoal Grey Dial Bracelet Watch\", \"category\": \"Watches\"}, \"B00R70YEOE\": {\"parent\": 457338020, \"title\": \"Casio - G-Shock - Gulfmaster - Black - GWN1000C-1A\", \"category\": \"Watches\"}, \"B000FVE3BG\": {\"parent\": 824370661, \"title\": \"Invicta Men's 3329 Force Collection Lefty Watch\", \"category\": \"Watches\"}, \"B008X6JB12\": {\"parent\": 814431355, \"title\": \"Seiko Women's SUT068 Dress Solar Classic Diamond-Accented Two-Tone Stainless Steel Watch\", \"category\": \"Watches\"}, \"B0040UOFPW\": {\"parent\": 187700878, \"title\": \"Anne Klein Women's 109271MPTT Swarovski Crystal Accented Two-Tone Multi-Chain Bracelet Watch\", \"category\": \"Watches\"}, \"B00UR2R5UY\": {\"parent\": 594315262, \"title\": \"Guess U13630G1 Men's day and date Gunmetal dial Gunmetal tone bracelet\", \"category\": \"Watches\"}, \"B00HFF57L0\": {\"parent\": 520810507, \"title\": \"Nixon Men's Geo Volt Sentry Stainless Steel Watch with Link Bracelet\", \"category\": \"Watches\"}, \"B00F5O06E6\": {\"parent\": 601596859, \"title\": \"Nautica Men's N14699G BFD 101 Chrono Classic Stainless Steel Watch with Brown Band\", \"category\": \"Watches\"}, \"B00CHS398I\": {\"parent\": 798261110, \"title\": \"HDE Watch Link Pin Remover Band Strap Repair Tool Kit for Watchmakers with Pack of 3 Extra Pins\", \"category\": \"Watches\"}, \"B003OQ4TA4\": {\"parent\": 557813802, \"title\": \"Timex Women's Q7B860 Padded Calfskin 8mm Black Replacement Watchband\", \"category\": \"Watches\"}, \"B007X0SYEY\": {\"parent\": 22870009, \"title\": \"Movado Men's 0606545 \\\"Museum\\\" Perforated Black-Rubber Strap Sport Watch\", \"category\": \"Watches\"}, \"B005KPL7FM\": {\"parent\": 269520616, \"title\": \"Invicta Men's 6674 Corduba Chronograph Black Dial Polyurethane Watch\", \"category\": \"Watches\"}, \"B00FNIFI2O\": {\"parent\": 330558574, \"title\": \"Szanto Men's SZ 2001 2000 Series Classic Vintage-Inspired Stainless Steel Watch with Pebbled Leather Band\", \"category\": \"Watches\"}, \"B005JVP0FU\": {\"parent\": 220345054, \"title\": \"Casio Men's MRW200H-7EV Sport Resin Watch\", \"category\": \"Watches\"}, \"B004M23SDI\": {\"parent\": 299884359, \"title\": \"Casio F-108WH-2AEF Mens Blue Digital Watch\", \"category\": \"Watches\"}, \"B00RV2L8CE\": {\"parent\": 714311106, \"title\": \"August Steiner Men's AS8160TTG Silver And Gold Swiss Quartz Watch with Black Dial and Two Tone Bracelet\", \"category\": \"Watches\"}, \"B000JQJS6M\": {\"parent\": 926299553, \"title\": \"Invicta Men's 8928OB Pro Diver Gold Stainless Steel Two-Tone Automatic Watch\", \"category\": \"Watches\"}, \"B00VXLJD44\": {\"parent\": 578998634, \"title\": \"BOS Men's Automatic self-wind mechanical Pointer Skeleton Watch Black Dial Stainless Steel Band 9008\", \"category\": \"Watches\"}, \"B004EFGBW8\": {\"parent\": 727624097, \"title\": \"Luminox Men's 3081 Evo Navy SEAL Chronograph Watch\", \"category\": \"Watches\"}, \"B00G9X76DG\": {\"parent\": 86861596, \"title\": \"INFANTRY Mens 50mm Big Face Military Tactical Analog Digital Sport Wrist Watch Black Silicone Band\", \"category\": \"Watches\"}, \"B00SFTTZ9U\": {\"parent\": 8403354, \"title\": \"BUREI Dress Women's Minimalist Wrist Watches with Date Analog Quartz Stainless Steel and Ultra Slim Dial\", \"category\": \"Watches\"}, \"B00NC8PMUK\": {\"parent\": 944169262, \"title\": \"Motorola Moto 360 Modern Timepiece Smart Watch - Black Leather 00418NARTL\", \"category\": \"Watches\"}, \"B00C1C5J9W\": {\"parent\": 851584415, \"title\": \"Domire Fashion Accessories Trial Order New Quartz Fashion Weave Wrap Around Leather Bracelet Lady Woman Butterfly Wrist Watch\", \"category\": \"Watches\"}, \"B000GB0G5M\": {\"parent\": 492842685, \"title\": \"Casio Women's LQ139B-1B Classic Round Analog Watch\", \"category\": \"Watches\"}, \"B00F8AWMXA\": {\"parent\": 397647155, \"title\": \"Invicta Men's 15256 I-Force Gunmetal Ion-Plated Stainless Steel Watch with Black Leather Strap\", \"category\": \"Watches\"}, \"B005MDPAPU\": {\"parent\": 645499118, \"title\": \"Casio Men's Slim Solar Multi-Function Analog-Digital Watch\", \"category\": \"Watches\"}, \"B006C8NJY8\": {\"parent\": 865472849, \"title\": \"TS6202BLK 8 Belt Box Organizer Black Leather XL Compartments\", \"category\": \"Watches\"}, \"B00791YURC\": {\"parent\": 310034618, \"title\": \"Casio Men's GW2310FB-1CR G-Shock Shock Resistant Multifunction Watch\", \"category\": \"Watches\"}, \"B00S69FO0I\": {\"parent\": 406011595, \"title\": \"U.S. Polo Assn. Sport Men's US9506 Analog-Digital Display Silver-Tone Watch with Textured Band\", \"category\": \"Watches\"}, \"B00C7IQBRY\": {\"parent\": 201258316, \"title\": \"Cerentino Women's CR106-TQ  Turquoise Silicone Rubber Rhinestones Watch\", \"category\": \"Watches\"}, \"B009S4U1TY\": {\"parent\": 830280907, \"title\": \"Batman Kids' BAT4072 Black Rubber Batman Logo Strap Watch\", \"category\": \"Watches\"}, \"B000B55AEA\": {\"parent\": 851729310, \"title\": \"Timex Easy Reader Day-Date Leather Strap Watch\", \"category\": \"Watches\"}, \"B0053HDR78\": {\"parent\": 576694666, \"title\": \"Casio F108WH Water Resistant Digital Blue Resin Strap Watch\", \"category\": \"Watches\"}, \"B008OIOLQO\": {\"parent\": 340110662, \"title\": \"Ingersoll Men's IN1824CR Monticello Fine Automatic Timepiece Cream Dial Watch\", \"category\": \"Watches\"}, \"B009PQB036\": {\"parent\": 696981257, \"title\": \"Lucien Piccard Men's 11576-YG-01 Clariden Black Textured Dial Watch\", \"category\": \"Watches\"}, \"B007X0E178\": {\"parent\": 953514677, \"title\": \"XOXO Women's XO5478 Rhinestone-Accented Two-Tone Watch\", \"category\": \"Watches\"}, \"B00BXQSHRI\": {\"parent\": 714629498, \"title\": \"Watch Case Press with 12 Nylon Dies, Watch Case Closer Set\", \"category\": \"Watches\"}, \"B00ZI3SGXM\": {\"parent\": 294102740, \"title\": \"Stuhrling Original Women's 956.02 Symphony Gold-Tone Watch with Brown Genuine Leather Band\", \"category\": \"Watches\"}, \"B0053A0HB4\": {\"parent\": 199546574, \"title\": \"Casio G-shock Mudman Multiband6 Japanese Model [ Gw-9300-1jf ]\", \"category\": \"Watches\"}, \"B00QBTQX50\": {\"parent\": 29617990, \"title\": \"iStrap Calfskin Leather Watch Band Replacement Choice of Color & Width (18mm,19mm, 20mm,21mm or 22mm)\", \"category\": \"Watches\"}, \"B00G3JSF22\": {\"parent\": 978361500, \"title\": \"G-SHOCK Men's GA-100 Neon Highlights Watch\", \"category\": \"Watches\"}, \"B002NQXYL6\": {\"parent\": 161383158, \"title\": \"Voguestrap TX046801XL Allstrap 16-20mm Brown Extra-Long-Length Fits Fast-Wrap Expedition Watchband\", \"category\": \"Watches\"}, \"B004MAZN3I\": {\"parent\": 165342893, \"title\": \"Seiko Men's SNKK27 Seiko 5 Stainless Steel Automatic Watch\", \"category\": \"Watches\"}, \"B000JQFX1G\": {\"parent\": 400836338, \"title\": \"Invicta Men's 8926OB Pro Diver Stainless Steel Automatic Watch with Link Bracelet\", \"category\": \"Watches\"}, \"B00A6B9N6U\": {\"parent\": 491671113, \"title\": \"Swiss Legend Women's 11044D-01 Neptune Black Dial Watch with Silicone Band\", \"category\": \"Watches\"}, \"B00HJ7T0OY\": {\"parent\": 822340800, \"title\": \"Absolute Hot Iron man Super Hero build-in Blue LED for Men's luxury Army military Wrist Watches\", \"category\": \"Watches\"}, \"B004401KHE\": {\"parent\": 604208769, \"title\": \"Seiko Men's White Dial Brown Leather Easy Reader Solar Calendar Watch\", \"category\": \"Watches\"}, \"B001UGDB0O\": {\"parent\": 762085956, \"title\": \"Michael Kors Womens MK5145 - Runway Chronograph\", \"category\": \"Watches\"}, \"B00L4JRXIS\": {\"parent\": 627047973, \"title\": \"Armitron Sport Women's 25/6416 Easy To Read Dial Resin Strap Watch\", \"category\": \"Watches\"}, \"B009PQB5K4\": {\"parent\": 418141913, \"title\": \"Lucien Piccard Men's 11577-RG-02S Stockhorn Silver Textured Dial Brown Leather Watch\", \"category\": \"Watches\"}, \"B003M2G0SY\": {\"parent\": 908936114, \"title\": \"LEGO Star Wars Yoda Kids Buildable Watch with Link Bracelet and Minifigure | green/gray | plastic | 28mm case diameter| analog quartz | boy girl | official\", \"category\": \"Watches\"}, \"B002SSUQFG\": {\"parent\": 354933056, \"title\": \"Seiko Men's SNK809 Seiko 5 Automatic Stainless Steel Watch with Black Canvas Strap\", \"category\": \"Watches\"}, \"B003622WUK\": {\"parent\": 890272218, \"title\": \"Tissot Women's T0492103303300 PR 100 Gold-Tone Silver Dial Watch\", \"category\": \"Watches\"}, \"B00L8M9Z32\": {\"parent\": 686288185, \"title\": \"CASIO BABY-G (BG-6900SG-8JF) GLITTER DIAL SERIES LADY'S WATCH JAPANESE MODEL 2014 JULY RELEASED\", \"category\": \"Watches\"}, \"B000GAWSA4\": {\"parent\": 700023949, \"title\": \"Casio Men's AW80V-1BV\", \"category\": \"Watches\"}, \"B004YM2FV2\": {\"parent\": 649128875, \"title\": \"Bling Jewelry Plated Classic Round CZ Ladies Watch\", \"category\": \"Watches\"}, \"B008RNKIV8\": {\"parent\": 341504925, \"title\": \"Citizen Men's AT8020-54L Blue Angels Stainless Steel Eco-Drive Dress Watch\", \"category\": \"Watches\"}, \"B000SZNTLO\": {\"parent\": 544270597, \"title\": \"Timex Ironman Sleek 50-Lap Full Size\", \"category\": \"Watches\"}, \"B00MNC53XW\": {\"parent\": 567086073, \"title\": \"Outop Wholesale Lot of 5pcs Womens Girls Butterfly Bracelet Wrist Watches\", \"category\": \"Watches\"}, \"B00BF77S2K\": {\"parent\": 479360900, \"title\": \"Timex Kids' T7B9829J IronKids Translucent Blue Sport Watch\", \"category\": \"Watches\"}, \"B00OHD6SLG\": {\"parent\": 721711830, \"title\": \"Cool Men's Racer Military Pilot Army Silicone Sports Watch\", \"category\": \"Watches\"}, \"B003DIP9BQ\": {\"parent\": 941077778, \"title\": \"XOXO Women's XO110 Silver Dial Gold-tone Bracelet Watch\", \"category\": \"Watches\"}, \"B00L3VGTA0\": {\"parent\": 667419707, \"title\": \"Armitron Men's Black Sunray Dial Silvertone Bracelet Watch\", \"category\": \"Watches\"}, \"B00RCUTIRM\": {\"parent\": 731342946, \"title\": \"Akribos XXIV Men's AK787YGBU Quartz Movement Watch with Blue Dial and Yellow Gold Stainless Steel Bracelet\", \"category\": \"Watches\"}, \"B00V30U79K\": {\"parent\": 18936638, \"title\": \"Topwell Mens Wood watches, Date Time 24hours Wooden watch with Round Multi-Eyed QUARTZ Wrist Watch for Gift\", \"category\": \"Watches\"}, \"B00STAXIHU\": {\"parent\": 690763506, \"title\": \"Fossil Women's ES3822 Georgia Stainless Steel Watch with Blue Leather Band\", \"category\": \"Watches\"}, \"B00DUW21F2\": {\"parent\": 87555656, \"title\": \"Stuhrling Original Men's 574.03 Analog Executive II Stainless Steel Automatic Skeleton Watch with Brown Leather Band\", \"category\": \"Watches\"}, \"B00MO38XL4\": {\"parent\": 476271516, \"title\": \"Armitron Sport Women's 25/6422BLK Easy to Read Dial Black Resin Strap Watch\", \"category\": \"Watches\"}, \"B00K8HMHCE\": {\"parent\": 575505209, \"title\": \"Swiss Legend Men's 10068-03 Commander II Analog Display Swiss Quartz Blue Watch\", \"category\": \"Watches\"}, \"B001DK6OKQ\": {\"parent\": 79293794, \"title\": \"Stuhrling Original Men's 219.331657 Symphony Eternity Monterey Swiss Quartz Date Watch\", \"category\": \"Watches\"}, \"B0094PS284\": {\"parent\": 842528710, \"title\": \"LuckyStore 14mm 5X Watch Band Stainless Steel Spring Bars Strap Link Pin Watchmaker New\", \"category\": \"Watches\"}, \"B00FDLB2S0\": {\"parent\": 992050854, \"title\": \"red line Men's RL-50042-YG-01 Stealth Chronograph Black Textured Dial Black Silicone Watch\", \"category\": \"Watches\"}, \"B00EVPMC88\": {\"parent\": 516415826, \"title\": \"Seiko Men's SNKL43 \\\"Seiko 5\\\" Stainless Steel Automatic Watch\", \"category\": \"Watches\"}, \"B00G2R7E3Q\": {\"parent\": 131804424, \"title\": \"Invicta Men's 14640 I-Force Analog Display Japanese Quartz Black Watch\", \"category\": \"Watches\"}, \"B004LURNO6\": {\"parent\": 892860326, \"title\": \"Nemesis #HST-K Unisex Black Wide Leather Cuff Wrist Watch Band\", \"category\": \"Watches\"}, \"B005OT1POW\": {\"parent\": 202690497, \"title\": \"Tommy Hilfiger  Women's 1781145 Sport Stainless Steel  Watch\", \"category\": \"Watches\"}, \"B007LPRLXG\": {\"parent\": 973233011, \"title\": \"GUESS U17531G1 - Bold and Sporty Watch Silver\", \"category\": \"Watches\"}, \"B00QK2HAFK\": {\"parent\": 78116254, \"title\": \"Armitron Men's 20/5048 Day/Date Function Dial Croco-Grain Leather Strap Watch\", \"category\": \"Watches\"}, \"B003X11UFM\": {\"parent\": 790174403, \"title\": \"Stuhrling Original Men's 238.321K43 Ascot Newberry Analog Swiss Quartz Brown Leather Watch\", \"category\": \"Watches\"}, \"B00A6OEWA4\": {\"parent\": 985088364, \"title\": \"AMPM24 Men's Hand-winding Mechanical Watch Black Leather Watchband Skeleton PMW069\", \"category\": \"Watches\"}, \"B006QAX906\": {\"parent\": 957756572, \"title\": \"Gotham Men's Silver-Tone Ultra Thin Railroad Open Face Quartz Pocket Watch # GWC15022S\", \"category\": \"Watches\"}, \"B00BS8U8PU\": {\"parent\": 132047116, \"title\": \"Casio Unisex MRW200H-2BV Neo-Display Black Watch with Resin Band\", \"category\": \"Watches\"}, \"B001F0PTNM\": {\"parent\": 670846500, \"title\": \"Hadley-Roma Men's MSM881RB-170 17-mm Brown Oil-Tan Leather Watch Strap\", \"category\": \"Watches\"}, \"B00Q7DETQU\": {\"parent\": 763436398, \"title\": \"Michael Kors Petite Silvertone Darci Watch\", \"category\": \"Watches\"}, \"B00LW3RP0W\": {\"parent\": 198443125, \"title\": \"Timex Expedition Rugged Metal Watch\", \"category\": \"Watches\"}}\n"
     ]
    }
   ],
   "source": [
    "# put data into dictionary\n",
    "import json\n",
    "from openpyxl import load_workbook\n",
    "\n",
    "workbook = load_workbook(filename=\"reviews-sample.xlsx\")\n",
    "sheet = workbook.active\n",
    "products = {}\n",
    "\n",
    "for row in sheet.iter_rows(min_row=2, min_col=4, max_col=7,\n",
    "                          values_only=True):\n",
    "    # print(f\"{row}\\n\")\n",
    "    product_id = row[0]\n",
    "    product = {\n",
    "        \"parent\": row[1],\n",
    "        \"title\": row[2],\n",
    "        \"category\": row[3]\n",
    "    }\n",
    "    products[product_id] = product\n",
    "print(json.dumps(products))"
   ]
  },
  {
   "cell_type": "markdown",
   "id": "7a111b4c-1e7d-4be6-9eb1-64b4b5af07d3",
   "metadata": {},
   "source": [
    "# Convert data into python classes"
   ]
  },
  {
   "cell_type": "markdown",
   "id": "fde7038a-5f20-4af0-89de-092b30ec1f48",
   "metadata": {},
   "source": [
    "To finalize the reading section of this tutorial, let’s dive into Python classes and see how you could improve on the example above and better structure the data.\n",
    "\n",
    "For this, you’ll be using the new Python Data Classes that are available from Python 3.7. If you’re using an older version of Python, then you can use the default Classes instead.\n",
    "\n",
    "So, first things first, let’s look at the data you have and decide what you want to store and how you want to store it.\n",
    "\n",
    "As you saw right at the start, this data comes from Amazon, and it’s a list of product reviews. You can check the list of all the columns and their meaning on Amazon.\n",
    "\n",
    "There are two significant elements you can extract from the data available:\n",
    "\n",
    "* Products\n",
    "* Reviews\n",
    "\n",
    "A Product has:\n",
    "\n",
    "* ID\n",
    "* Title\n",
    "* Parent\n",
    "* Category\n",
    "\n",
    "The Review has a few more fields:\n",
    "\n",
    "* ID\n",
    "* Customer ID\n",
    "* Stars\n",
    "* Headline\n",
    "* Body\n",
    "* Date\n",
    "\n",
    "You can ignore a few of the review fields to make things a bit simpler."
   ]
  },
  {
   "cell_type": "code",
   "execution_count": null,
   "id": "cea9fb80-1fbf-4335-a059-569c216d9609",
   "metadata": {},
   "outputs": [],
   "source": []
  }
 ],
 "metadata": {
  "kernelspec": {
   "display_name": "Python 3 (ipykernel)",
   "language": "python",
   "name": "python3"
  },
  "language_info": {
   "codemirror_mode": {
    "name": "ipython",
    "version": 3
   },
   "file_extension": ".py",
   "mimetype": "text/x-python",
   "name": "python",
   "nbconvert_exporter": "python",
   "pygments_lexer": "ipython3",
   "version": "3.11.5"
  }
 },
 "nbformat": 4,
 "nbformat_minor": 5
}
