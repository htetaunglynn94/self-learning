{
 "cells": [
  {
   "cell_type": "markdown",
   "id": "75f5d8be-ade7-484c-8e52-5cb8fc841241",
   "metadata": {
    "jp-MarkdownHeadingCollapsed": true,
    "tags": []
   },
   "source": [
    "# Getting started with openpyxl"
   ]
  },
  {
   "cell_type": "code",
   "execution_count": 1,
   "id": "bf6032cf-ef6e-47b5-9cfa-b38d824d13f2",
   "metadata": {
    "tags": []
   },
   "outputs": [],
   "source": [
    "from openpyxl import Workbook\n",
    "\n",
    "workbook = Workbook()\n",
    "sheet = workbook.active\n",
    "\n",
    "sheet[\"A1\"] = \"hello\"\n",
    "sheet[\"b1\"] = 'world!'\n",
    "\n",
    "workbook.save(filename='hello_world.xlsx')"
   ]
  },
  {
   "cell_type": "markdown",
   "id": "25c29848-04fc-4471-9722-4382114c8e1a",
   "metadata": {
    "jp-MarkdownHeadingCollapsed": true,
    "tags": []
   },
   "source": [
    "# Reading excel spreadsheet"
   ]
  },
  {
   "cell_type": "code",
   "execution_count": 2,
   "id": "cbcc44d5-f4c3-4935-ace7-5c73b5374618",
   "metadata": {
    "tags": []
   },
   "outputs": [
    {
     "name": "stdout",
     "output_type": "stream",
     "text": [
      "['amazon_reviews_us_Watches_v1_00-sample']\n",
      "<Worksheet \"amazon_reviews_us_Watches_v1_00-sample\">\n",
      "amazon_reviews_us_Watches_v1_00-sample\n"
     ]
    },
    {
     "name": "stderr",
     "output_type": "stream",
     "text": [
      "/home/htetaunglynn/anaconda3/lib/python3.11/site-packages/openpyxl/workbook/child.py:99: UserWarning: Title is more than 31 characters. Some applications may not be able to read the file\n",
      "  warnings.warn(\"Title is more than 31 characters. Some applications may not be able to read the file\")\n"
     ]
    }
   ],
   "source": [
    "from openpyxl import load_workbook\n",
    "workbook = load_workbook(filename='reviews-sample.xlsx')\n",
    "print(workbook.sheetnames)\n",
    "\n",
    "sheet = workbook.active\n",
    "print(sheet)\n",
    "\n",
    "print(sheet.title)"
   ]
  },
  {
   "cell_type": "code",
   "execution_count": 3,
   "id": "f8a2f5a9-5dd8-41a7-9fa1-6b24aa321078",
   "metadata": {
    "tags": []
   },
   "outputs": [
    {
     "name": "stdout",
     "output_type": "stream",
     "text": [
      "<Cell 'amazon_reviews_us_Watches_v1_00-sample'.A1>\n"
     ]
    }
   ],
   "source": [
    "print(sheet[\"a1\"])"
   ]
  },
  {
   "cell_type": "code",
   "execution_count": 4,
   "id": "c472b56c-77f6-4fe7-ab17-3a135ee175f4",
   "metadata": {
    "tags": []
   },
   "outputs": [
    {
     "name": "stdout",
     "output_type": "stream",
     "text": [
      "marketplace\n"
     ]
    }
   ],
   "source": [
    "print(sheet[\"a1\"].value)"
   ]
  },
  {
   "cell_type": "code",
   "execution_count": 5,
   "id": "391328a3-1b52-4d71-bab0-3573ed396077",
   "metadata": {
    "tags": []
   },
   "outputs": [
    {
     "data": {
      "text/plain": [
       "<Cell 'amazon_reviews_us_Watches_v1_00-sample'.F10>"
      ]
     },
     "execution_count": 5,
     "metadata": {},
     "output_type": "execute_result"
    }
   ],
   "source": [
    "sheet.cell(row=10, column=6)"
   ]
  },
  {
   "cell_type": "code",
   "execution_count": 6,
   "id": "cc7e3e18-c3ae-448e-bc16-1108b1b36c99",
   "metadata": {
    "tags": []
   },
   "outputs": [
    {
     "data": {
      "text/plain": [
       "\"G-Shock Men's Grey Sport Watch\""
      ]
     },
     "execution_count": 6,
     "metadata": {},
     "output_type": "execute_result"
    }
   ],
   "source": [
    "sheet.cell(row=10, column=6).value"
   ]
  },
  {
   "cell_type": "markdown",
   "id": "159d16d9-b0b5-42f0-9cbc-569520843b9a",
   "metadata": {
    "jp-MarkdownHeadingCollapsed": true,
    "tags": []
   },
   "source": [
    "# Import data from a spreadsheet"
   ]
  },
  {
   "cell_type": "code",
   "execution_count": 7,
   "id": "4fc6db5e-20a6-46db-8ca9-450de0788315",
   "metadata": {
    "tags": []
   },
   "outputs": [
    {
     "data": {
      "text/plain": [
       "((<Cell 'amazon_reviews_us_Watches_v1_00-sample'.A1>,\n",
       "  <Cell 'amazon_reviews_us_Watches_v1_00-sample'.B1>,\n",
       "  <Cell 'amazon_reviews_us_Watches_v1_00-sample'.C1>),\n",
       " (<Cell 'amazon_reviews_us_Watches_v1_00-sample'.A2>,\n",
       "  <Cell 'amazon_reviews_us_Watches_v1_00-sample'.B2>,\n",
       "  <Cell 'amazon_reviews_us_Watches_v1_00-sample'.C2>))"
      ]
     },
     "execution_count": 7,
     "metadata": {},
     "output_type": "execute_result"
    }
   ],
   "source": [
    "sheet[\"a1:c2\"]"
   ]
  },
  {
   "cell_type": "code",
   "execution_count": 8,
   "id": "16bf9a2e-0bbe-42ed-b6bb-7ff8bee96c20",
   "metadata": {
    "tags": []
   },
   "outputs": [
    {
     "data": {
      "text/plain": [
       "(<Cell 'amazon_reviews_us_Watches_v1_00-sample'.A1>,\n",
       " <Cell 'amazon_reviews_us_Watches_v1_00-sample'.A2>,\n",
       " <Cell 'amazon_reviews_us_Watches_v1_00-sample'.A3>,\n",
       " <Cell 'amazon_reviews_us_Watches_v1_00-sample'.A4>,\n",
       " <Cell 'amazon_reviews_us_Watches_v1_00-sample'.A5>,\n",
       " <Cell 'amazon_reviews_us_Watches_v1_00-sample'.A6>,\n",
       " <Cell 'amazon_reviews_us_Watches_v1_00-sample'.A7>,\n",
       " <Cell 'amazon_reviews_us_Watches_v1_00-sample'.A8>,\n",
       " <Cell 'amazon_reviews_us_Watches_v1_00-sample'.A9>,\n",
       " <Cell 'amazon_reviews_us_Watches_v1_00-sample'.A10>,\n",
       " <Cell 'amazon_reviews_us_Watches_v1_00-sample'.A11>,\n",
       " <Cell 'amazon_reviews_us_Watches_v1_00-sample'.A12>,\n",
       " <Cell 'amazon_reviews_us_Watches_v1_00-sample'.A13>,\n",
       " <Cell 'amazon_reviews_us_Watches_v1_00-sample'.A14>,\n",
       " <Cell 'amazon_reviews_us_Watches_v1_00-sample'.A15>,\n",
       " <Cell 'amazon_reviews_us_Watches_v1_00-sample'.A16>,\n",
       " <Cell 'amazon_reviews_us_Watches_v1_00-sample'.A17>,\n",
       " <Cell 'amazon_reviews_us_Watches_v1_00-sample'.A18>,\n",
       " <Cell 'amazon_reviews_us_Watches_v1_00-sample'.A19>,\n",
       " <Cell 'amazon_reviews_us_Watches_v1_00-sample'.A20>,\n",
       " <Cell 'amazon_reviews_us_Watches_v1_00-sample'.A21>,\n",
       " <Cell 'amazon_reviews_us_Watches_v1_00-sample'.A22>,\n",
       " <Cell 'amazon_reviews_us_Watches_v1_00-sample'.A23>,\n",
       " <Cell 'amazon_reviews_us_Watches_v1_00-sample'.A24>,\n",
       " <Cell 'amazon_reviews_us_Watches_v1_00-sample'.A25>,\n",
       " <Cell 'amazon_reviews_us_Watches_v1_00-sample'.A26>,\n",
       " <Cell 'amazon_reviews_us_Watches_v1_00-sample'.A27>,\n",
       " <Cell 'amazon_reviews_us_Watches_v1_00-sample'.A28>,\n",
       " <Cell 'amazon_reviews_us_Watches_v1_00-sample'.A29>,\n",
       " <Cell 'amazon_reviews_us_Watches_v1_00-sample'.A30>,\n",
       " <Cell 'amazon_reviews_us_Watches_v1_00-sample'.A31>,\n",
       " <Cell 'amazon_reviews_us_Watches_v1_00-sample'.A32>,\n",
       " <Cell 'amazon_reviews_us_Watches_v1_00-sample'.A33>,\n",
       " <Cell 'amazon_reviews_us_Watches_v1_00-sample'.A34>,\n",
       " <Cell 'amazon_reviews_us_Watches_v1_00-sample'.A35>,\n",
       " <Cell 'amazon_reviews_us_Watches_v1_00-sample'.A36>,\n",
       " <Cell 'amazon_reviews_us_Watches_v1_00-sample'.A37>,\n",
       " <Cell 'amazon_reviews_us_Watches_v1_00-sample'.A38>,\n",
       " <Cell 'amazon_reviews_us_Watches_v1_00-sample'.A39>,\n",
       " <Cell 'amazon_reviews_us_Watches_v1_00-sample'.A40>,\n",
       " <Cell 'amazon_reviews_us_Watches_v1_00-sample'.A41>,\n",
       " <Cell 'amazon_reviews_us_Watches_v1_00-sample'.A42>,\n",
       " <Cell 'amazon_reviews_us_Watches_v1_00-sample'.A43>,\n",
       " <Cell 'amazon_reviews_us_Watches_v1_00-sample'.A44>,\n",
       " <Cell 'amazon_reviews_us_Watches_v1_00-sample'.A45>,\n",
       " <Cell 'amazon_reviews_us_Watches_v1_00-sample'.A46>,\n",
       " <Cell 'amazon_reviews_us_Watches_v1_00-sample'.A47>,\n",
       " <Cell 'amazon_reviews_us_Watches_v1_00-sample'.A48>,\n",
       " <Cell 'amazon_reviews_us_Watches_v1_00-sample'.A49>,\n",
       " <Cell 'amazon_reviews_us_Watches_v1_00-sample'.A50>,\n",
       " <Cell 'amazon_reviews_us_Watches_v1_00-sample'.A51>,\n",
       " <Cell 'amazon_reviews_us_Watches_v1_00-sample'.A52>,\n",
       " <Cell 'amazon_reviews_us_Watches_v1_00-sample'.A53>,\n",
       " <Cell 'amazon_reviews_us_Watches_v1_00-sample'.A54>,\n",
       " <Cell 'amazon_reviews_us_Watches_v1_00-sample'.A55>,\n",
       " <Cell 'amazon_reviews_us_Watches_v1_00-sample'.A56>,\n",
       " <Cell 'amazon_reviews_us_Watches_v1_00-sample'.A57>,\n",
       " <Cell 'amazon_reviews_us_Watches_v1_00-sample'.A58>,\n",
       " <Cell 'amazon_reviews_us_Watches_v1_00-sample'.A59>,\n",
       " <Cell 'amazon_reviews_us_Watches_v1_00-sample'.A60>,\n",
       " <Cell 'amazon_reviews_us_Watches_v1_00-sample'.A61>,\n",
       " <Cell 'amazon_reviews_us_Watches_v1_00-sample'.A62>,\n",
       " <Cell 'amazon_reviews_us_Watches_v1_00-sample'.A63>,\n",
       " <Cell 'amazon_reviews_us_Watches_v1_00-sample'.A64>,\n",
       " <Cell 'amazon_reviews_us_Watches_v1_00-sample'.A65>,\n",
       " <Cell 'amazon_reviews_us_Watches_v1_00-sample'.A66>,\n",
       " <Cell 'amazon_reviews_us_Watches_v1_00-sample'.A67>,\n",
       " <Cell 'amazon_reviews_us_Watches_v1_00-sample'.A68>,\n",
       " <Cell 'amazon_reviews_us_Watches_v1_00-sample'.A69>,\n",
       " <Cell 'amazon_reviews_us_Watches_v1_00-sample'.A70>,\n",
       " <Cell 'amazon_reviews_us_Watches_v1_00-sample'.A71>,\n",
       " <Cell 'amazon_reviews_us_Watches_v1_00-sample'.A72>,\n",
       " <Cell 'amazon_reviews_us_Watches_v1_00-sample'.A73>,\n",
       " <Cell 'amazon_reviews_us_Watches_v1_00-sample'.A74>,\n",
       " <Cell 'amazon_reviews_us_Watches_v1_00-sample'.A75>,\n",
       " <Cell 'amazon_reviews_us_Watches_v1_00-sample'.A76>,\n",
       " <Cell 'amazon_reviews_us_Watches_v1_00-sample'.A77>,\n",
       " <Cell 'amazon_reviews_us_Watches_v1_00-sample'.A78>,\n",
       " <Cell 'amazon_reviews_us_Watches_v1_00-sample'.A79>,\n",
       " <Cell 'amazon_reviews_us_Watches_v1_00-sample'.A80>,\n",
       " <Cell 'amazon_reviews_us_Watches_v1_00-sample'.A81>,\n",
       " <Cell 'amazon_reviews_us_Watches_v1_00-sample'.A82>,\n",
       " <Cell 'amazon_reviews_us_Watches_v1_00-sample'.A83>,\n",
       " <Cell 'amazon_reviews_us_Watches_v1_00-sample'.A84>,\n",
       " <Cell 'amazon_reviews_us_Watches_v1_00-sample'.A85>,\n",
       " <Cell 'amazon_reviews_us_Watches_v1_00-sample'.A86>,\n",
       " <Cell 'amazon_reviews_us_Watches_v1_00-sample'.A87>,\n",
       " <Cell 'amazon_reviews_us_Watches_v1_00-sample'.A88>,\n",
       " <Cell 'amazon_reviews_us_Watches_v1_00-sample'.A89>,\n",
       " <Cell 'amazon_reviews_us_Watches_v1_00-sample'.A90>,\n",
       " <Cell 'amazon_reviews_us_Watches_v1_00-sample'.A91>,\n",
       " <Cell 'amazon_reviews_us_Watches_v1_00-sample'.A92>,\n",
       " <Cell 'amazon_reviews_us_Watches_v1_00-sample'.A93>,\n",
       " <Cell 'amazon_reviews_us_Watches_v1_00-sample'.A94>,\n",
       " <Cell 'amazon_reviews_us_Watches_v1_00-sample'.A95>,\n",
       " <Cell 'amazon_reviews_us_Watches_v1_00-sample'.A96>,\n",
       " <Cell 'amazon_reviews_us_Watches_v1_00-sample'.A97>,\n",
       " <Cell 'amazon_reviews_us_Watches_v1_00-sample'.A98>,\n",
       " <Cell 'amazon_reviews_us_Watches_v1_00-sample'.A99>,\n",
       " <Cell 'amazon_reviews_us_Watches_v1_00-sample'.A100>)"
      ]
     },
     "execution_count": 8,
     "metadata": {},
     "output_type": "execute_result"
    }
   ],
   "source": [
    "# get all cells from column A\n",
    "sheet[\"a\"]"
   ]
  },
  {
   "cell_type": "code",
   "execution_count": 9,
   "id": "033b0e25-f6c8-46d8-ab7f-3a5294d74d1f",
   "metadata": {
    "tags": []
   },
   "outputs": [
    {
     "data": {
      "text/plain": [
       "((<Cell 'amazon_reviews_us_Watches_v1_00-sample'.A1>,\n",
       "  <Cell 'amazon_reviews_us_Watches_v1_00-sample'.A2>,\n",
       "  <Cell 'amazon_reviews_us_Watches_v1_00-sample'.A3>,\n",
       "  <Cell 'amazon_reviews_us_Watches_v1_00-sample'.A4>,\n",
       "  <Cell 'amazon_reviews_us_Watches_v1_00-sample'.A5>,\n",
       "  <Cell 'amazon_reviews_us_Watches_v1_00-sample'.A6>,\n",
       "  <Cell 'amazon_reviews_us_Watches_v1_00-sample'.A7>,\n",
       "  <Cell 'amazon_reviews_us_Watches_v1_00-sample'.A8>,\n",
       "  <Cell 'amazon_reviews_us_Watches_v1_00-sample'.A9>,\n",
       "  <Cell 'amazon_reviews_us_Watches_v1_00-sample'.A10>,\n",
       "  <Cell 'amazon_reviews_us_Watches_v1_00-sample'.A11>,\n",
       "  <Cell 'amazon_reviews_us_Watches_v1_00-sample'.A12>,\n",
       "  <Cell 'amazon_reviews_us_Watches_v1_00-sample'.A13>,\n",
       "  <Cell 'amazon_reviews_us_Watches_v1_00-sample'.A14>,\n",
       "  <Cell 'amazon_reviews_us_Watches_v1_00-sample'.A15>,\n",
       "  <Cell 'amazon_reviews_us_Watches_v1_00-sample'.A16>,\n",
       "  <Cell 'amazon_reviews_us_Watches_v1_00-sample'.A17>,\n",
       "  <Cell 'amazon_reviews_us_Watches_v1_00-sample'.A18>,\n",
       "  <Cell 'amazon_reviews_us_Watches_v1_00-sample'.A19>,\n",
       "  <Cell 'amazon_reviews_us_Watches_v1_00-sample'.A20>,\n",
       "  <Cell 'amazon_reviews_us_Watches_v1_00-sample'.A21>,\n",
       "  <Cell 'amazon_reviews_us_Watches_v1_00-sample'.A22>,\n",
       "  <Cell 'amazon_reviews_us_Watches_v1_00-sample'.A23>,\n",
       "  <Cell 'amazon_reviews_us_Watches_v1_00-sample'.A24>,\n",
       "  <Cell 'amazon_reviews_us_Watches_v1_00-sample'.A25>,\n",
       "  <Cell 'amazon_reviews_us_Watches_v1_00-sample'.A26>,\n",
       "  <Cell 'amazon_reviews_us_Watches_v1_00-sample'.A27>,\n",
       "  <Cell 'amazon_reviews_us_Watches_v1_00-sample'.A28>,\n",
       "  <Cell 'amazon_reviews_us_Watches_v1_00-sample'.A29>,\n",
       "  <Cell 'amazon_reviews_us_Watches_v1_00-sample'.A30>,\n",
       "  <Cell 'amazon_reviews_us_Watches_v1_00-sample'.A31>,\n",
       "  <Cell 'amazon_reviews_us_Watches_v1_00-sample'.A32>,\n",
       "  <Cell 'amazon_reviews_us_Watches_v1_00-sample'.A33>,\n",
       "  <Cell 'amazon_reviews_us_Watches_v1_00-sample'.A34>,\n",
       "  <Cell 'amazon_reviews_us_Watches_v1_00-sample'.A35>,\n",
       "  <Cell 'amazon_reviews_us_Watches_v1_00-sample'.A36>,\n",
       "  <Cell 'amazon_reviews_us_Watches_v1_00-sample'.A37>,\n",
       "  <Cell 'amazon_reviews_us_Watches_v1_00-sample'.A38>,\n",
       "  <Cell 'amazon_reviews_us_Watches_v1_00-sample'.A39>,\n",
       "  <Cell 'amazon_reviews_us_Watches_v1_00-sample'.A40>,\n",
       "  <Cell 'amazon_reviews_us_Watches_v1_00-sample'.A41>,\n",
       "  <Cell 'amazon_reviews_us_Watches_v1_00-sample'.A42>,\n",
       "  <Cell 'amazon_reviews_us_Watches_v1_00-sample'.A43>,\n",
       "  <Cell 'amazon_reviews_us_Watches_v1_00-sample'.A44>,\n",
       "  <Cell 'amazon_reviews_us_Watches_v1_00-sample'.A45>,\n",
       "  <Cell 'amazon_reviews_us_Watches_v1_00-sample'.A46>,\n",
       "  <Cell 'amazon_reviews_us_Watches_v1_00-sample'.A47>,\n",
       "  <Cell 'amazon_reviews_us_Watches_v1_00-sample'.A48>,\n",
       "  <Cell 'amazon_reviews_us_Watches_v1_00-sample'.A49>,\n",
       "  <Cell 'amazon_reviews_us_Watches_v1_00-sample'.A50>,\n",
       "  <Cell 'amazon_reviews_us_Watches_v1_00-sample'.A51>,\n",
       "  <Cell 'amazon_reviews_us_Watches_v1_00-sample'.A52>,\n",
       "  <Cell 'amazon_reviews_us_Watches_v1_00-sample'.A53>,\n",
       "  <Cell 'amazon_reviews_us_Watches_v1_00-sample'.A54>,\n",
       "  <Cell 'amazon_reviews_us_Watches_v1_00-sample'.A55>,\n",
       "  <Cell 'amazon_reviews_us_Watches_v1_00-sample'.A56>,\n",
       "  <Cell 'amazon_reviews_us_Watches_v1_00-sample'.A57>,\n",
       "  <Cell 'amazon_reviews_us_Watches_v1_00-sample'.A58>,\n",
       "  <Cell 'amazon_reviews_us_Watches_v1_00-sample'.A59>,\n",
       "  <Cell 'amazon_reviews_us_Watches_v1_00-sample'.A60>,\n",
       "  <Cell 'amazon_reviews_us_Watches_v1_00-sample'.A61>,\n",
       "  <Cell 'amazon_reviews_us_Watches_v1_00-sample'.A62>,\n",
       "  <Cell 'amazon_reviews_us_Watches_v1_00-sample'.A63>,\n",
       "  <Cell 'amazon_reviews_us_Watches_v1_00-sample'.A64>,\n",
       "  <Cell 'amazon_reviews_us_Watches_v1_00-sample'.A65>,\n",
       "  <Cell 'amazon_reviews_us_Watches_v1_00-sample'.A66>,\n",
       "  <Cell 'amazon_reviews_us_Watches_v1_00-sample'.A67>,\n",
       "  <Cell 'amazon_reviews_us_Watches_v1_00-sample'.A68>,\n",
       "  <Cell 'amazon_reviews_us_Watches_v1_00-sample'.A69>,\n",
       "  <Cell 'amazon_reviews_us_Watches_v1_00-sample'.A70>,\n",
       "  <Cell 'amazon_reviews_us_Watches_v1_00-sample'.A71>,\n",
       "  <Cell 'amazon_reviews_us_Watches_v1_00-sample'.A72>,\n",
       "  <Cell 'amazon_reviews_us_Watches_v1_00-sample'.A73>,\n",
       "  <Cell 'amazon_reviews_us_Watches_v1_00-sample'.A74>,\n",
       "  <Cell 'amazon_reviews_us_Watches_v1_00-sample'.A75>,\n",
       "  <Cell 'amazon_reviews_us_Watches_v1_00-sample'.A76>,\n",
       "  <Cell 'amazon_reviews_us_Watches_v1_00-sample'.A77>,\n",
       "  <Cell 'amazon_reviews_us_Watches_v1_00-sample'.A78>,\n",
       "  <Cell 'amazon_reviews_us_Watches_v1_00-sample'.A79>,\n",
       "  <Cell 'amazon_reviews_us_Watches_v1_00-sample'.A80>,\n",
       "  <Cell 'amazon_reviews_us_Watches_v1_00-sample'.A81>,\n",
       "  <Cell 'amazon_reviews_us_Watches_v1_00-sample'.A82>,\n",
       "  <Cell 'amazon_reviews_us_Watches_v1_00-sample'.A83>,\n",
       "  <Cell 'amazon_reviews_us_Watches_v1_00-sample'.A84>,\n",
       "  <Cell 'amazon_reviews_us_Watches_v1_00-sample'.A85>,\n",
       "  <Cell 'amazon_reviews_us_Watches_v1_00-sample'.A86>,\n",
       "  <Cell 'amazon_reviews_us_Watches_v1_00-sample'.A87>,\n",
       "  <Cell 'amazon_reviews_us_Watches_v1_00-sample'.A88>,\n",
       "  <Cell 'amazon_reviews_us_Watches_v1_00-sample'.A89>,\n",
       "  <Cell 'amazon_reviews_us_Watches_v1_00-sample'.A90>,\n",
       "  <Cell 'amazon_reviews_us_Watches_v1_00-sample'.A91>,\n",
       "  <Cell 'amazon_reviews_us_Watches_v1_00-sample'.A92>,\n",
       "  <Cell 'amazon_reviews_us_Watches_v1_00-sample'.A93>,\n",
       "  <Cell 'amazon_reviews_us_Watches_v1_00-sample'.A94>,\n",
       "  <Cell 'amazon_reviews_us_Watches_v1_00-sample'.A95>,\n",
       "  <Cell 'amazon_reviews_us_Watches_v1_00-sample'.A96>,\n",
       "  <Cell 'amazon_reviews_us_Watches_v1_00-sample'.A97>,\n",
       "  <Cell 'amazon_reviews_us_Watches_v1_00-sample'.A98>,\n",
       "  <Cell 'amazon_reviews_us_Watches_v1_00-sample'.A99>,\n",
       "  <Cell 'amazon_reviews_us_Watches_v1_00-sample'.A100>),\n",
       " (<Cell 'amazon_reviews_us_Watches_v1_00-sample'.B1>,\n",
       "  <Cell 'amazon_reviews_us_Watches_v1_00-sample'.B2>,\n",
       "  <Cell 'amazon_reviews_us_Watches_v1_00-sample'.B3>,\n",
       "  <Cell 'amazon_reviews_us_Watches_v1_00-sample'.B4>,\n",
       "  <Cell 'amazon_reviews_us_Watches_v1_00-sample'.B5>,\n",
       "  <Cell 'amazon_reviews_us_Watches_v1_00-sample'.B6>,\n",
       "  <Cell 'amazon_reviews_us_Watches_v1_00-sample'.B7>,\n",
       "  <Cell 'amazon_reviews_us_Watches_v1_00-sample'.B8>,\n",
       "  <Cell 'amazon_reviews_us_Watches_v1_00-sample'.B9>,\n",
       "  <Cell 'amazon_reviews_us_Watches_v1_00-sample'.B10>,\n",
       "  <Cell 'amazon_reviews_us_Watches_v1_00-sample'.B11>,\n",
       "  <Cell 'amazon_reviews_us_Watches_v1_00-sample'.B12>,\n",
       "  <Cell 'amazon_reviews_us_Watches_v1_00-sample'.B13>,\n",
       "  <Cell 'amazon_reviews_us_Watches_v1_00-sample'.B14>,\n",
       "  <Cell 'amazon_reviews_us_Watches_v1_00-sample'.B15>,\n",
       "  <Cell 'amazon_reviews_us_Watches_v1_00-sample'.B16>,\n",
       "  <Cell 'amazon_reviews_us_Watches_v1_00-sample'.B17>,\n",
       "  <Cell 'amazon_reviews_us_Watches_v1_00-sample'.B18>,\n",
       "  <Cell 'amazon_reviews_us_Watches_v1_00-sample'.B19>,\n",
       "  <Cell 'amazon_reviews_us_Watches_v1_00-sample'.B20>,\n",
       "  <Cell 'amazon_reviews_us_Watches_v1_00-sample'.B21>,\n",
       "  <Cell 'amazon_reviews_us_Watches_v1_00-sample'.B22>,\n",
       "  <Cell 'amazon_reviews_us_Watches_v1_00-sample'.B23>,\n",
       "  <Cell 'amazon_reviews_us_Watches_v1_00-sample'.B24>,\n",
       "  <Cell 'amazon_reviews_us_Watches_v1_00-sample'.B25>,\n",
       "  <Cell 'amazon_reviews_us_Watches_v1_00-sample'.B26>,\n",
       "  <Cell 'amazon_reviews_us_Watches_v1_00-sample'.B27>,\n",
       "  <Cell 'amazon_reviews_us_Watches_v1_00-sample'.B28>,\n",
       "  <Cell 'amazon_reviews_us_Watches_v1_00-sample'.B29>,\n",
       "  <Cell 'amazon_reviews_us_Watches_v1_00-sample'.B30>,\n",
       "  <Cell 'amazon_reviews_us_Watches_v1_00-sample'.B31>,\n",
       "  <Cell 'amazon_reviews_us_Watches_v1_00-sample'.B32>,\n",
       "  <Cell 'amazon_reviews_us_Watches_v1_00-sample'.B33>,\n",
       "  <Cell 'amazon_reviews_us_Watches_v1_00-sample'.B34>,\n",
       "  <Cell 'amazon_reviews_us_Watches_v1_00-sample'.B35>,\n",
       "  <Cell 'amazon_reviews_us_Watches_v1_00-sample'.B36>,\n",
       "  <Cell 'amazon_reviews_us_Watches_v1_00-sample'.B37>,\n",
       "  <Cell 'amazon_reviews_us_Watches_v1_00-sample'.B38>,\n",
       "  <Cell 'amazon_reviews_us_Watches_v1_00-sample'.B39>,\n",
       "  <Cell 'amazon_reviews_us_Watches_v1_00-sample'.B40>,\n",
       "  <Cell 'amazon_reviews_us_Watches_v1_00-sample'.B41>,\n",
       "  <Cell 'amazon_reviews_us_Watches_v1_00-sample'.B42>,\n",
       "  <Cell 'amazon_reviews_us_Watches_v1_00-sample'.B43>,\n",
       "  <Cell 'amazon_reviews_us_Watches_v1_00-sample'.B44>,\n",
       "  <Cell 'amazon_reviews_us_Watches_v1_00-sample'.B45>,\n",
       "  <Cell 'amazon_reviews_us_Watches_v1_00-sample'.B46>,\n",
       "  <Cell 'amazon_reviews_us_Watches_v1_00-sample'.B47>,\n",
       "  <Cell 'amazon_reviews_us_Watches_v1_00-sample'.B48>,\n",
       "  <Cell 'amazon_reviews_us_Watches_v1_00-sample'.B49>,\n",
       "  <Cell 'amazon_reviews_us_Watches_v1_00-sample'.B50>,\n",
       "  <Cell 'amazon_reviews_us_Watches_v1_00-sample'.B51>,\n",
       "  <Cell 'amazon_reviews_us_Watches_v1_00-sample'.B52>,\n",
       "  <Cell 'amazon_reviews_us_Watches_v1_00-sample'.B53>,\n",
       "  <Cell 'amazon_reviews_us_Watches_v1_00-sample'.B54>,\n",
       "  <Cell 'amazon_reviews_us_Watches_v1_00-sample'.B55>,\n",
       "  <Cell 'amazon_reviews_us_Watches_v1_00-sample'.B56>,\n",
       "  <Cell 'amazon_reviews_us_Watches_v1_00-sample'.B57>,\n",
       "  <Cell 'amazon_reviews_us_Watches_v1_00-sample'.B58>,\n",
       "  <Cell 'amazon_reviews_us_Watches_v1_00-sample'.B59>,\n",
       "  <Cell 'amazon_reviews_us_Watches_v1_00-sample'.B60>,\n",
       "  <Cell 'amazon_reviews_us_Watches_v1_00-sample'.B61>,\n",
       "  <Cell 'amazon_reviews_us_Watches_v1_00-sample'.B62>,\n",
       "  <Cell 'amazon_reviews_us_Watches_v1_00-sample'.B63>,\n",
       "  <Cell 'amazon_reviews_us_Watches_v1_00-sample'.B64>,\n",
       "  <Cell 'amazon_reviews_us_Watches_v1_00-sample'.B65>,\n",
       "  <Cell 'amazon_reviews_us_Watches_v1_00-sample'.B66>,\n",
       "  <Cell 'amazon_reviews_us_Watches_v1_00-sample'.B67>,\n",
       "  <Cell 'amazon_reviews_us_Watches_v1_00-sample'.B68>,\n",
       "  <Cell 'amazon_reviews_us_Watches_v1_00-sample'.B69>,\n",
       "  <Cell 'amazon_reviews_us_Watches_v1_00-sample'.B70>,\n",
       "  <Cell 'amazon_reviews_us_Watches_v1_00-sample'.B71>,\n",
       "  <Cell 'amazon_reviews_us_Watches_v1_00-sample'.B72>,\n",
       "  <Cell 'amazon_reviews_us_Watches_v1_00-sample'.B73>,\n",
       "  <Cell 'amazon_reviews_us_Watches_v1_00-sample'.B74>,\n",
       "  <Cell 'amazon_reviews_us_Watches_v1_00-sample'.B75>,\n",
       "  <Cell 'amazon_reviews_us_Watches_v1_00-sample'.B76>,\n",
       "  <Cell 'amazon_reviews_us_Watches_v1_00-sample'.B77>,\n",
       "  <Cell 'amazon_reviews_us_Watches_v1_00-sample'.B78>,\n",
       "  <Cell 'amazon_reviews_us_Watches_v1_00-sample'.B79>,\n",
       "  <Cell 'amazon_reviews_us_Watches_v1_00-sample'.B80>,\n",
       "  <Cell 'amazon_reviews_us_Watches_v1_00-sample'.B81>,\n",
       "  <Cell 'amazon_reviews_us_Watches_v1_00-sample'.B82>,\n",
       "  <Cell 'amazon_reviews_us_Watches_v1_00-sample'.B83>,\n",
       "  <Cell 'amazon_reviews_us_Watches_v1_00-sample'.B84>,\n",
       "  <Cell 'amazon_reviews_us_Watches_v1_00-sample'.B85>,\n",
       "  <Cell 'amazon_reviews_us_Watches_v1_00-sample'.B86>,\n",
       "  <Cell 'amazon_reviews_us_Watches_v1_00-sample'.B87>,\n",
       "  <Cell 'amazon_reviews_us_Watches_v1_00-sample'.B88>,\n",
       "  <Cell 'amazon_reviews_us_Watches_v1_00-sample'.B89>,\n",
       "  <Cell 'amazon_reviews_us_Watches_v1_00-sample'.B90>,\n",
       "  <Cell 'amazon_reviews_us_Watches_v1_00-sample'.B91>,\n",
       "  <Cell 'amazon_reviews_us_Watches_v1_00-sample'.B92>,\n",
       "  <Cell 'amazon_reviews_us_Watches_v1_00-sample'.B93>,\n",
       "  <Cell 'amazon_reviews_us_Watches_v1_00-sample'.B94>,\n",
       "  <Cell 'amazon_reviews_us_Watches_v1_00-sample'.B95>,\n",
       "  <Cell 'amazon_reviews_us_Watches_v1_00-sample'.B96>,\n",
       "  <Cell 'amazon_reviews_us_Watches_v1_00-sample'.B97>,\n",
       "  <Cell 'amazon_reviews_us_Watches_v1_00-sample'.B98>,\n",
       "  <Cell 'amazon_reviews_us_Watches_v1_00-sample'.B99>,\n",
       "  <Cell 'amazon_reviews_us_Watches_v1_00-sample'.B100>))"
      ]
     },
     "execution_count": 9,
     "metadata": {},
     "output_type": "execute_result"
    }
   ],
   "source": [
    "# get all cells for a range of columns\n",
    "sheet[\"a:b\"]"
   ]
  },
  {
   "cell_type": "code",
   "execution_count": 10,
   "id": "bd830d74-37c6-4cd9-9025-803b1bbaad96",
   "metadata": {
    "tags": []
   },
   "outputs": [
    {
     "data": {
      "text/plain": [
       "(<Cell 'amazon_reviews_us_Watches_v1_00-sample'.A5>,\n",
       " <Cell 'amazon_reviews_us_Watches_v1_00-sample'.B5>,\n",
       " <Cell 'amazon_reviews_us_Watches_v1_00-sample'.C5>,\n",
       " <Cell 'amazon_reviews_us_Watches_v1_00-sample'.D5>,\n",
       " <Cell 'amazon_reviews_us_Watches_v1_00-sample'.E5>,\n",
       " <Cell 'amazon_reviews_us_Watches_v1_00-sample'.F5>,\n",
       " <Cell 'amazon_reviews_us_Watches_v1_00-sample'.G5>,\n",
       " <Cell 'amazon_reviews_us_Watches_v1_00-sample'.H5>,\n",
       " <Cell 'amazon_reviews_us_Watches_v1_00-sample'.I5>,\n",
       " <Cell 'amazon_reviews_us_Watches_v1_00-sample'.J5>,\n",
       " <Cell 'amazon_reviews_us_Watches_v1_00-sample'.K5>,\n",
       " <Cell 'amazon_reviews_us_Watches_v1_00-sample'.L5>,\n",
       " <Cell 'amazon_reviews_us_Watches_v1_00-sample'.M5>,\n",
       " <Cell 'amazon_reviews_us_Watches_v1_00-sample'.N5>,\n",
       " <Cell 'amazon_reviews_us_Watches_v1_00-sample'.O5>)"
      ]
     },
     "execution_count": 10,
     "metadata": {},
     "output_type": "execute_result"
    }
   ],
   "source": [
    "# get all cells from row 5\n",
    "sheet[5]"
   ]
  },
  {
   "cell_type": "code",
   "execution_count": 11,
   "id": "d39a660d-18b5-450a-927a-c7b6b40b30d5",
   "metadata": {
    "tags": []
   },
   "outputs": [
    {
     "data": {
      "text/plain": [
       "((<Cell 'amazon_reviews_us_Watches_v1_00-sample'.A5>,\n",
       "  <Cell 'amazon_reviews_us_Watches_v1_00-sample'.B5>,\n",
       "  <Cell 'amazon_reviews_us_Watches_v1_00-sample'.C5>,\n",
       "  <Cell 'amazon_reviews_us_Watches_v1_00-sample'.D5>,\n",
       "  <Cell 'amazon_reviews_us_Watches_v1_00-sample'.E5>,\n",
       "  <Cell 'amazon_reviews_us_Watches_v1_00-sample'.F5>,\n",
       "  <Cell 'amazon_reviews_us_Watches_v1_00-sample'.G5>,\n",
       "  <Cell 'amazon_reviews_us_Watches_v1_00-sample'.H5>,\n",
       "  <Cell 'amazon_reviews_us_Watches_v1_00-sample'.I5>,\n",
       "  <Cell 'amazon_reviews_us_Watches_v1_00-sample'.J5>,\n",
       "  <Cell 'amazon_reviews_us_Watches_v1_00-sample'.K5>,\n",
       "  <Cell 'amazon_reviews_us_Watches_v1_00-sample'.L5>,\n",
       "  <Cell 'amazon_reviews_us_Watches_v1_00-sample'.M5>,\n",
       "  <Cell 'amazon_reviews_us_Watches_v1_00-sample'.N5>,\n",
       "  <Cell 'amazon_reviews_us_Watches_v1_00-sample'.O5>),\n",
       " (<Cell 'amazon_reviews_us_Watches_v1_00-sample'.A6>,\n",
       "  <Cell 'amazon_reviews_us_Watches_v1_00-sample'.B6>,\n",
       "  <Cell 'amazon_reviews_us_Watches_v1_00-sample'.C6>,\n",
       "  <Cell 'amazon_reviews_us_Watches_v1_00-sample'.D6>,\n",
       "  <Cell 'amazon_reviews_us_Watches_v1_00-sample'.E6>,\n",
       "  <Cell 'amazon_reviews_us_Watches_v1_00-sample'.F6>,\n",
       "  <Cell 'amazon_reviews_us_Watches_v1_00-sample'.G6>,\n",
       "  <Cell 'amazon_reviews_us_Watches_v1_00-sample'.H6>,\n",
       "  <Cell 'amazon_reviews_us_Watches_v1_00-sample'.I6>,\n",
       "  <Cell 'amazon_reviews_us_Watches_v1_00-sample'.J6>,\n",
       "  <Cell 'amazon_reviews_us_Watches_v1_00-sample'.K6>,\n",
       "  <Cell 'amazon_reviews_us_Watches_v1_00-sample'.L6>,\n",
       "  <Cell 'amazon_reviews_us_Watches_v1_00-sample'.M6>,\n",
       "  <Cell 'amazon_reviews_us_Watches_v1_00-sample'.N6>,\n",
       "  <Cell 'amazon_reviews_us_Watches_v1_00-sample'.O6>))"
      ]
     },
     "execution_count": 11,
     "metadata": {},
     "output_type": "execute_result"
    }
   ],
   "source": [
    "# get all cells for a range of rows\n",
    "sheet[5:6]"
   ]
  },
  {
   "cell_type": "code",
   "execution_count": 12,
   "id": "95acbb57-32cc-4ecc-9e5b-77e4e85bdc3e",
   "metadata": {
    "tags": []
   },
   "outputs": [
    {
     "name": "stdout",
     "output_type": "stream",
     "text": [
      "(<Cell 'amazon_reviews_us_Watches_v1_00-sample'.A1>, <Cell 'amazon_reviews_us_Watches_v1_00-sample'.B1>, <Cell 'amazon_reviews_us_Watches_v1_00-sample'.C1>)\n",
      "(<Cell 'amazon_reviews_us_Watches_v1_00-sample'.A2>, <Cell 'amazon_reviews_us_Watches_v1_00-sample'.B2>, <Cell 'amazon_reviews_us_Watches_v1_00-sample'.C2>)\n"
     ]
    }
   ],
   "source": [
    "for row in sheet.iter_rows(min_row=1, max_row=2,\n",
    "                          min_col=1, max_col=3):\n",
    "    print(row)"
   ]
  },
  {
   "cell_type": "code",
   "execution_count": 13,
   "id": "dafa033d-7042-4bb2-9fe2-d4f7e9fd7367",
   "metadata": {
    "tags": []
   },
   "outputs": [
    {
     "name": "stdout",
     "output_type": "stream",
     "text": [
      "(<Cell 'amazon_reviews_us_Watches_v1_00-sample'.A1>, <Cell 'amazon_reviews_us_Watches_v1_00-sample'.A2>)\n",
      "(<Cell 'amazon_reviews_us_Watches_v1_00-sample'.B1>, <Cell 'amazon_reviews_us_Watches_v1_00-sample'.B2>)\n",
      "(<Cell 'amazon_reviews_us_Watches_v1_00-sample'.C1>, <Cell 'amazon_reviews_us_Watches_v1_00-sample'.C2>)\n"
     ]
    }
   ],
   "source": [
    "for col in sheet.iter_cols(min_row=1, max_row=2,\n",
    "                          min_col=1, max_col=3):\n",
    "    print(col)"
   ]
  },
  {
   "cell_type": "code",
   "execution_count": 14,
   "id": "77b83529-190a-49b5-8a06-2c387ffd2bf8",
   "metadata": {
    "tags": []
   },
   "outputs": [
    {
     "name": "stdout",
     "output_type": "stream",
     "text": [
      "('marketplace', 'customer_id', 'review_id')\n",
      "('US', 3653882, 'R3O9SGZBVQBV76')\n"
     ]
    }
   ],
   "source": [
    "for value in sheet.iter_rows(min_row=1, max_row=2,\n",
    "                            min_col=1, max_col=3,\n",
    "                            values_only=True):\n",
    "    print(value)"
   ]
  },
  {
   "cell_type": "code",
   "execution_count": 15,
   "id": "8ba67202-cf17-4dea-99d5-b9ce800f04d6",
   "metadata": {
    "tags": []
   },
   "outputs": [
    {
     "name": "stdout",
     "output_type": "stream",
     "text": [
      "(<Cell 'amazon_reviews_us_Watches_v1_00-sample'.A1>, <Cell 'amazon_reviews_us_Watches_v1_00-sample'.B1>, <Cell 'amazon_reviews_us_Watches_v1_00-sample'.C1>, <Cell 'amazon_reviews_us_Watches_v1_00-sample'.D1>, <Cell 'amazon_reviews_us_Watches_v1_00-sample'.E1>, <Cell 'amazon_reviews_us_Watches_v1_00-sample'.F1>, <Cell 'amazon_reviews_us_Watches_v1_00-sample'.G1>, <Cell 'amazon_reviews_us_Watches_v1_00-sample'.H1>, <Cell 'amazon_reviews_us_Watches_v1_00-sample'.I1>, <Cell 'amazon_reviews_us_Watches_v1_00-sample'.J1>, <Cell 'amazon_reviews_us_Watches_v1_00-sample'.K1>, <Cell 'amazon_reviews_us_Watches_v1_00-sample'.L1>, <Cell 'amazon_reviews_us_Watches_v1_00-sample'.M1>, <Cell 'amazon_reviews_us_Watches_v1_00-sample'.N1>, <Cell 'amazon_reviews_us_Watches_v1_00-sample'.O1>)\n",
      "(<Cell 'amazon_reviews_us_Watches_v1_00-sample'.A2>, <Cell 'amazon_reviews_us_Watches_v1_00-sample'.B2>, <Cell 'amazon_reviews_us_Watches_v1_00-sample'.C2>, <Cell 'amazon_reviews_us_Watches_v1_00-sample'.D2>, <Cell 'amazon_reviews_us_Watches_v1_00-sample'.E2>, <Cell 'amazon_reviews_us_Watches_v1_00-sample'.F2>, <Cell 'amazon_reviews_us_Watches_v1_00-sample'.G2>, <Cell 'amazon_reviews_us_Watches_v1_00-sample'.H2>, <Cell 'amazon_reviews_us_Watches_v1_00-sample'.I2>, <Cell 'amazon_reviews_us_Watches_v1_00-sample'.J2>, <Cell 'amazon_reviews_us_Watches_v1_00-sample'.K2>, <Cell 'amazon_reviews_us_Watches_v1_00-sample'.L2>, <Cell 'amazon_reviews_us_Watches_v1_00-sample'.M2>, <Cell 'amazon_reviews_us_Watches_v1_00-sample'.N2>, <Cell 'amazon_reviews_us_Watches_v1_00-sample'.O2>)\n",
      "(<Cell 'amazon_reviews_us_Watches_v1_00-sample'.A3>, <Cell 'amazon_reviews_us_Watches_v1_00-sample'.B3>, <Cell 'amazon_reviews_us_Watches_v1_00-sample'.C3>, <Cell 'amazon_reviews_us_Watches_v1_00-sample'.D3>, <Cell 'amazon_reviews_us_Watches_v1_00-sample'.E3>, <Cell 'amazon_reviews_us_Watches_v1_00-sample'.F3>, <Cell 'amazon_reviews_us_Watches_v1_00-sample'.G3>, <Cell 'amazon_reviews_us_Watches_v1_00-sample'.H3>, <Cell 'amazon_reviews_us_Watches_v1_00-sample'.I3>, <Cell 'amazon_reviews_us_Watches_v1_00-sample'.J3>, <Cell 'amazon_reviews_us_Watches_v1_00-sample'.K3>, <Cell 'amazon_reviews_us_Watches_v1_00-sample'.L3>, <Cell 'amazon_reviews_us_Watches_v1_00-sample'.M3>, <Cell 'amazon_reviews_us_Watches_v1_00-sample'.N3>, <Cell 'amazon_reviews_us_Watches_v1_00-sample'.O3>)\n",
      "(<Cell 'amazon_reviews_us_Watches_v1_00-sample'.A4>, <Cell 'amazon_reviews_us_Watches_v1_00-sample'.B4>, <Cell 'amazon_reviews_us_Watches_v1_00-sample'.C4>, <Cell 'amazon_reviews_us_Watches_v1_00-sample'.D4>, <Cell 'amazon_reviews_us_Watches_v1_00-sample'.E4>, <Cell 'amazon_reviews_us_Watches_v1_00-sample'.F4>, <Cell 'amazon_reviews_us_Watches_v1_00-sample'.G4>, <Cell 'amazon_reviews_us_Watches_v1_00-sample'.H4>, <Cell 'amazon_reviews_us_Watches_v1_00-sample'.I4>, <Cell 'amazon_reviews_us_Watches_v1_00-sample'.J4>, <Cell 'amazon_reviews_us_Watches_v1_00-sample'.K4>, <Cell 'amazon_reviews_us_Watches_v1_00-sample'.L4>, <Cell 'amazon_reviews_us_Watches_v1_00-sample'.M4>, <Cell 'amazon_reviews_us_Watches_v1_00-sample'.N4>, <Cell 'amazon_reviews_us_Watches_v1_00-sample'.O4>)\n",
      "(<Cell 'amazon_reviews_us_Watches_v1_00-sample'.A5>, <Cell 'amazon_reviews_us_Watches_v1_00-sample'.B5>, <Cell 'amazon_reviews_us_Watches_v1_00-sample'.C5>, <Cell 'amazon_reviews_us_Watches_v1_00-sample'.D5>, <Cell 'amazon_reviews_us_Watches_v1_00-sample'.E5>, <Cell 'amazon_reviews_us_Watches_v1_00-sample'.F5>, <Cell 'amazon_reviews_us_Watches_v1_00-sample'.G5>, <Cell 'amazon_reviews_us_Watches_v1_00-sample'.H5>, <Cell 'amazon_reviews_us_Watches_v1_00-sample'.I5>, <Cell 'amazon_reviews_us_Watches_v1_00-sample'.J5>, <Cell 'amazon_reviews_us_Watches_v1_00-sample'.K5>, <Cell 'amazon_reviews_us_Watches_v1_00-sample'.L5>, <Cell 'amazon_reviews_us_Watches_v1_00-sample'.M5>, <Cell 'amazon_reviews_us_Watches_v1_00-sample'.N5>, <Cell 'amazon_reviews_us_Watches_v1_00-sample'.O5>)\n",
      "(<Cell 'amazon_reviews_us_Watches_v1_00-sample'.A6>, <Cell 'amazon_reviews_us_Watches_v1_00-sample'.B6>, <Cell 'amazon_reviews_us_Watches_v1_00-sample'.C6>, <Cell 'amazon_reviews_us_Watches_v1_00-sample'.D6>, <Cell 'amazon_reviews_us_Watches_v1_00-sample'.E6>, <Cell 'amazon_reviews_us_Watches_v1_00-sample'.F6>, <Cell 'amazon_reviews_us_Watches_v1_00-sample'.G6>, <Cell 'amazon_reviews_us_Watches_v1_00-sample'.H6>, <Cell 'amazon_reviews_us_Watches_v1_00-sample'.I6>, <Cell 'amazon_reviews_us_Watches_v1_00-sample'.J6>, <Cell 'amazon_reviews_us_Watches_v1_00-sample'.K6>, <Cell 'amazon_reviews_us_Watches_v1_00-sample'.L6>, <Cell 'amazon_reviews_us_Watches_v1_00-sample'.M6>, <Cell 'amazon_reviews_us_Watches_v1_00-sample'.N6>, <Cell 'amazon_reviews_us_Watches_v1_00-sample'.O6>)\n",
      "(<Cell 'amazon_reviews_us_Watches_v1_00-sample'.A7>, <Cell 'amazon_reviews_us_Watches_v1_00-sample'.B7>, <Cell 'amazon_reviews_us_Watches_v1_00-sample'.C7>, <Cell 'amazon_reviews_us_Watches_v1_00-sample'.D7>, <Cell 'amazon_reviews_us_Watches_v1_00-sample'.E7>, <Cell 'amazon_reviews_us_Watches_v1_00-sample'.F7>, <Cell 'amazon_reviews_us_Watches_v1_00-sample'.G7>, <Cell 'amazon_reviews_us_Watches_v1_00-sample'.H7>, <Cell 'amazon_reviews_us_Watches_v1_00-sample'.I7>, <Cell 'amazon_reviews_us_Watches_v1_00-sample'.J7>, <Cell 'amazon_reviews_us_Watches_v1_00-sample'.K7>, <Cell 'amazon_reviews_us_Watches_v1_00-sample'.L7>, <Cell 'amazon_reviews_us_Watches_v1_00-sample'.M7>, <Cell 'amazon_reviews_us_Watches_v1_00-sample'.N7>, <Cell 'amazon_reviews_us_Watches_v1_00-sample'.O7>)\n",
      "(<Cell 'amazon_reviews_us_Watches_v1_00-sample'.A8>, <Cell 'amazon_reviews_us_Watches_v1_00-sample'.B8>, <Cell 'amazon_reviews_us_Watches_v1_00-sample'.C8>, <Cell 'amazon_reviews_us_Watches_v1_00-sample'.D8>, <Cell 'amazon_reviews_us_Watches_v1_00-sample'.E8>, <Cell 'amazon_reviews_us_Watches_v1_00-sample'.F8>, <Cell 'amazon_reviews_us_Watches_v1_00-sample'.G8>, <Cell 'amazon_reviews_us_Watches_v1_00-sample'.H8>, <Cell 'amazon_reviews_us_Watches_v1_00-sample'.I8>, <Cell 'amazon_reviews_us_Watches_v1_00-sample'.J8>, <Cell 'amazon_reviews_us_Watches_v1_00-sample'.K8>, <Cell 'amazon_reviews_us_Watches_v1_00-sample'.L8>, <Cell 'amazon_reviews_us_Watches_v1_00-sample'.M8>, <Cell 'amazon_reviews_us_Watches_v1_00-sample'.N8>, <Cell 'amazon_reviews_us_Watches_v1_00-sample'.O8>)\n",
      "(<Cell 'amazon_reviews_us_Watches_v1_00-sample'.A9>, <Cell 'amazon_reviews_us_Watches_v1_00-sample'.B9>, <Cell 'amazon_reviews_us_Watches_v1_00-sample'.C9>, <Cell 'amazon_reviews_us_Watches_v1_00-sample'.D9>, <Cell 'amazon_reviews_us_Watches_v1_00-sample'.E9>, <Cell 'amazon_reviews_us_Watches_v1_00-sample'.F9>, <Cell 'amazon_reviews_us_Watches_v1_00-sample'.G9>, <Cell 'amazon_reviews_us_Watches_v1_00-sample'.H9>, <Cell 'amazon_reviews_us_Watches_v1_00-sample'.I9>, <Cell 'amazon_reviews_us_Watches_v1_00-sample'.J9>, <Cell 'amazon_reviews_us_Watches_v1_00-sample'.K9>, <Cell 'amazon_reviews_us_Watches_v1_00-sample'.L9>, <Cell 'amazon_reviews_us_Watches_v1_00-sample'.M9>, <Cell 'amazon_reviews_us_Watches_v1_00-sample'.N9>, <Cell 'amazon_reviews_us_Watches_v1_00-sample'.O9>)\n",
      "(<Cell 'amazon_reviews_us_Watches_v1_00-sample'.A10>, <Cell 'amazon_reviews_us_Watches_v1_00-sample'.B10>, <Cell 'amazon_reviews_us_Watches_v1_00-sample'.C10>, <Cell 'amazon_reviews_us_Watches_v1_00-sample'.D10>, <Cell 'amazon_reviews_us_Watches_v1_00-sample'.E10>, <Cell 'amazon_reviews_us_Watches_v1_00-sample'.F10>, <Cell 'amazon_reviews_us_Watches_v1_00-sample'.G10>, <Cell 'amazon_reviews_us_Watches_v1_00-sample'.H10>, <Cell 'amazon_reviews_us_Watches_v1_00-sample'.I10>, <Cell 'amazon_reviews_us_Watches_v1_00-sample'.J10>, <Cell 'amazon_reviews_us_Watches_v1_00-sample'.K10>, <Cell 'amazon_reviews_us_Watches_v1_00-sample'.L10>, <Cell 'amazon_reviews_us_Watches_v1_00-sample'.M10>, <Cell 'amazon_reviews_us_Watches_v1_00-sample'.N10>, <Cell 'amazon_reviews_us_Watches_v1_00-sample'.O10>)\n",
      "(<Cell 'amazon_reviews_us_Watches_v1_00-sample'.A11>, <Cell 'amazon_reviews_us_Watches_v1_00-sample'.B11>, <Cell 'amazon_reviews_us_Watches_v1_00-sample'.C11>, <Cell 'amazon_reviews_us_Watches_v1_00-sample'.D11>, <Cell 'amazon_reviews_us_Watches_v1_00-sample'.E11>, <Cell 'amazon_reviews_us_Watches_v1_00-sample'.F11>, <Cell 'amazon_reviews_us_Watches_v1_00-sample'.G11>, <Cell 'amazon_reviews_us_Watches_v1_00-sample'.H11>, <Cell 'amazon_reviews_us_Watches_v1_00-sample'.I11>, <Cell 'amazon_reviews_us_Watches_v1_00-sample'.J11>, <Cell 'amazon_reviews_us_Watches_v1_00-sample'.K11>, <Cell 'amazon_reviews_us_Watches_v1_00-sample'.L11>, <Cell 'amazon_reviews_us_Watches_v1_00-sample'.M11>, <Cell 'amazon_reviews_us_Watches_v1_00-sample'.N11>, <Cell 'amazon_reviews_us_Watches_v1_00-sample'.O11>)\n",
      "(<Cell 'amazon_reviews_us_Watches_v1_00-sample'.A12>, <Cell 'amazon_reviews_us_Watches_v1_00-sample'.B12>, <Cell 'amazon_reviews_us_Watches_v1_00-sample'.C12>, <Cell 'amazon_reviews_us_Watches_v1_00-sample'.D12>, <Cell 'amazon_reviews_us_Watches_v1_00-sample'.E12>, <Cell 'amazon_reviews_us_Watches_v1_00-sample'.F12>, <Cell 'amazon_reviews_us_Watches_v1_00-sample'.G12>, <Cell 'amazon_reviews_us_Watches_v1_00-sample'.H12>, <Cell 'amazon_reviews_us_Watches_v1_00-sample'.I12>, <Cell 'amazon_reviews_us_Watches_v1_00-sample'.J12>, <Cell 'amazon_reviews_us_Watches_v1_00-sample'.K12>, <Cell 'amazon_reviews_us_Watches_v1_00-sample'.L12>, <Cell 'amazon_reviews_us_Watches_v1_00-sample'.M12>, <Cell 'amazon_reviews_us_Watches_v1_00-sample'.N12>, <Cell 'amazon_reviews_us_Watches_v1_00-sample'.O12>)\n",
      "(<Cell 'amazon_reviews_us_Watches_v1_00-sample'.A13>, <Cell 'amazon_reviews_us_Watches_v1_00-sample'.B13>, <Cell 'amazon_reviews_us_Watches_v1_00-sample'.C13>, <Cell 'amazon_reviews_us_Watches_v1_00-sample'.D13>, <Cell 'amazon_reviews_us_Watches_v1_00-sample'.E13>, <Cell 'amazon_reviews_us_Watches_v1_00-sample'.F13>, <Cell 'amazon_reviews_us_Watches_v1_00-sample'.G13>, <Cell 'amazon_reviews_us_Watches_v1_00-sample'.H13>, <Cell 'amazon_reviews_us_Watches_v1_00-sample'.I13>, <Cell 'amazon_reviews_us_Watches_v1_00-sample'.J13>, <Cell 'amazon_reviews_us_Watches_v1_00-sample'.K13>, <Cell 'amazon_reviews_us_Watches_v1_00-sample'.L13>, <Cell 'amazon_reviews_us_Watches_v1_00-sample'.M13>, <Cell 'amazon_reviews_us_Watches_v1_00-sample'.N13>, <Cell 'amazon_reviews_us_Watches_v1_00-sample'.O13>)\n",
      "(<Cell 'amazon_reviews_us_Watches_v1_00-sample'.A14>, <Cell 'amazon_reviews_us_Watches_v1_00-sample'.B14>, <Cell 'amazon_reviews_us_Watches_v1_00-sample'.C14>, <Cell 'amazon_reviews_us_Watches_v1_00-sample'.D14>, <Cell 'amazon_reviews_us_Watches_v1_00-sample'.E14>, <Cell 'amazon_reviews_us_Watches_v1_00-sample'.F14>, <Cell 'amazon_reviews_us_Watches_v1_00-sample'.G14>, <Cell 'amazon_reviews_us_Watches_v1_00-sample'.H14>, <Cell 'amazon_reviews_us_Watches_v1_00-sample'.I14>, <Cell 'amazon_reviews_us_Watches_v1_00-sample'.J14>, <Cell 'amazon_reviews_us_Watches_v1_00-sample'.K14>, <Cell 'amazon_reviews_us_Watches_v1_00-sample'.L14>, <Cell 'amazon_reviews_us_Watches_v1_00-sample'.M14>, <Cell 'amazon_reviews_us_Watches_v1_00-sample'.N14>, <Cell 'amazon_reviews_us_Watches_v1_00-sample'.O14>)\n",
      "(<Cell 'amazon_reviews_us_Watches_v1_00-sample'.A15>, <Cell 'amazon_reviews_us_Watches_v1_00-sample'.B15>, <Cell 'amazon_reviews_us_Watches_v1_00-sample'.C15>, <Cell 'amazon_reviews_us_Watches_v1_00-sample'.D15>, <Cell 'amazon_reviews_us_Watches_v1_00-sample'.E15>, <Cell 'amazon_reviews_us_Watches_v1_00-sample'.F15>, <Cell 'amazon_reviews_us_Watches_v1_00-sample'.G15>, <Cell 'amazon_reviews_us_Watches_v1_00-sample'.H15>, <Cell 'amazon_reviews_us_Watches_v1_00-sample'.I15>, <Cell 'amazon_reviews_us_Watches_v1_00-sample'.J15>, <Cell 'amazon_reviews_us_Watches_v1_00-sample'.K15>, <Cell 'amazon_reviews_us_Watches_v1_00-sample'.L15>, <Cell 'amazon_reviews_us_Watches_v1_00-sample'.M15>, <Cell 'amazon_reviews_us_Watches_v1_00-sample'.N15>, <Cell 'amazon_reviews_us_Watches_v1_00-sample'.O15>)\n",
      "(<Cell 'amazon_reviews_us_Watches_v1_00-sample'.A16>, <Cell 'amazon_reviews_us_Watches_v1_00-sample'.B16>, <Cell 'amazon_reviews_us_Watches_v1_00-sample'.C16>, <Cell 'amazon_reviews_us_Watches_v1_00-sample'.D16>, <Cell 'amazon_reviews_us_Watches_v1_00-sample'.E16>, <Cell 'amazon_reviews_us_Watches_v1_00-sample'.F16>, <Cell 'amazon_reviews_us_Watches_v1_00-sample'.G16>, <Cell 'amazon_reviews_us_Watches_v1_00-sample'.H16>, <Cell 'amazon_reviews_us_Watches_v1_00-sample'.I16>, <Cell 'amazon_reviews_us_Watches_v1_00-sample'.J16>, <Cell 'amazon_reviews_us_Watches_v1_00-sample'.K16>, <Cell 'amazon_reviews_us_Watches_v1_00-sample'.L16>, <Cell 'amazon_reviews_us_Watches_v1_00-sample'.M16>, <Cell 'amazon_reviews_us_Watches_v1_00-sample'.N16>, <Cell 'amazon_reviews_us_Watches_v1_00-sample'.O16>)\n",
      "(<Cell 'amazon_reviews_us_Watches_v1_00-sample'.A17>, <Cell 'amazon_reviews_us_Watches_v1_00-sample'.B17>, <Cell 'amazon_reviews_us_Watches_v1_00-sample'.C17>, <Cell 'amazon_reviews_us_Watches_v1_00-sample'.D17>, <Cell 'amazon_reviews_us_Watches_v1_00-sample'.E17>, <Cell 'amazon_reviews_us_Watches_v1_00-sample'.F17>, <Cell 'amazon_reviews_us_Watches_v1_00-sample'.G17>, <Cell 'amazon_reviews_us_Watches_v1_00-sample'.H17>, <Cell 'amazon_reviews_us_Watches_v1_00-sample'.I17>, <Cell 'amazon_reviews_us_Watches_v1_00-sample'.J17>, <Cell 'amazon_reviews_us_Watches_v1_00-sample'.K17>, <Cell 'amazon_reviews_us_Watches_v1_00-sample'.L17>, <Cell 'amazon_reviews_us_Watches_v1_00-sample'.M17>, <Cell 'amazon_reviews_us_Watches_v1_00-sample'.N17>, <Cell 'amazon_reviews_us_Watches_v1_00-sample'.O17>)\n",
      "(<Cell 'amazon_reviews_us_Watches_v1_00-sample'.A18>, <Cell 'amazon_reviews_us_Watches_v1_00-sample'.B18>, <Cell 'amazon_reviews_us_Watches_v1_00-sample'.C18>, <Cell 'amazon_reviews_us_Watches_v1_00-sample'.D18>, <Cell 'amazon_reviews_us_Watches_v1_00-sample'.E18>, <Cell 'amazon_reviews_us_Watches_v1_00-sample'.F18>, <Cell 'amazon_reviews_us_Watches_v1_00-sample'.G18>, <Cell 'amazon_reviews_us_Watches_v1_00-sample'.H18>, <Cell 'amazon_reviews_us_Watches_v1_00-sample'.I18>, <Cell 'amazon_reviews_us_Watches_v1_00-sample'.J18>, <Cell 'amazon_reviews_us_Watches_v1_00-sample'.K18>, <Cell 'amazon_reviews_us_Watches_v1_00-sample'.L18>, <Cell 'amazon_reviews_us_Watches_v1_00-sample'.M18>, <Cell 'amazon_reviews_us_Watches_v1_00-sample'.N18>, <Cell 'amazon_reviews_us_Watches_v1_00-sample'.O18>)\n",
      "(<Cell 'amazon_reviews_us_Watches_v1_00-sample'.A19>, <Cell 'amazon_reviews_us_Watches_v1_00-sample'.B19>, <Cell 'amazon_reviews_us_Watches_v1_00-sample'.C19>, <Cell 'amazon_reviews_us_Watches_v1_00-sample'.D19>, <Cell 'amazon_reviews_us_Watches_v1_00-sample'.E19>, <Cell 'amazon_reviews_us_Watches_v1_00-sample'.F19>, <Cell 'amazon_reviews_us_Watches_v1_00-sample'.G19>, <Cell 'amazon_reviews_us_Watches_v1_00-sample'.H19>, <Cell 'amazon_reviews_us_Watches_v1_00-sample'.I19>, <Cell 'amazon_reviews_us_Watches_v1_00-sample'.J19>, <Cell 'amazon_reviews_us_Watches_v1_00-sample'.K19>, <Cell 'amazon_reviews_us_Watches_v1_00-sample'.L19>, <Cell 'amazon_reviews_us_Watches_v1_00-sample'.M19>, <Cell 'amazon_reviews_us_Watches_v1_00-sample'.N19>, <Cell 'amazon_reviews_us_Watches_v1_00-sample'.O19>)\n",
      "(<Cell 'amazon_reviews_us_Watches_v1_00-sample'.A20>, <Cell 'amazon_reviews_us_Watches_v1_00-sample'.B20>, <Cell 'amazon_reviews_us_Watches_v1_00-sample'.C20>, <Cell 'amazon_reviews_us_Watches_v1_00-sample'.D20>, <Cell 'amazon_reviews_us_Watches_v1_00-sample'.E20>, <Cell 'amazon_reviews_us_Watches_v1_00-sample'.F20>, <Cell 'amazon_reviews_us_Watches_v1_00-sample'.G20>, <Cell 'amazon_reviews_us_Watches_v1_00-sample'.H20>, <Cell 'amazon_reviews_us_Watches_v1_00-sample'.I20>, <Cell 'amazon_reviews_us_Watches_v1_00-sample'.J20>, <Cell 'amazon_reviews_us_Watches_v1_00-sample'.K20>, <Cell 'amazon_reviews_us_Watches_v1_00-sample'.L20>, <Cell 'amazon_reviews_us_Watches_v1_00-sample'.M20>, <Cell 'amazon_reviews_us_Watches_v1_00-sample'.N20>, <Cell 'amazon_reviews_us_Watches_v1_00-sample'.O20>)\n",
      "(<Cell 'amazon_reviews_us_Watches_v1_00-sample'.A21>, <Cell 'amazon_reviews_us_Watches_v1_00-sample'.B21>, <Cell 'amazon_reviews_us_Watches_v1_00-sample'.C21>, <Cell 'amazon_reviews_us_Watches_v1_00-sample'.D21>, <Cell 'amazon_reviews_us_Watches_v1_00-sample'.E21>, <Cell 'amazon_reviews_us_Watches_v1_00-sample'.F21>, <Cell 'amazon_reviews_us_Watches_v1_00-sample'.G21>, <Cell 'amazon_reviews_us_Watches_v1_00-sample'.H21>, <Cell 'amazon_reviews_us_Watches_v1_00-sample'.I21>, <Cell 'amazon_reviews_us_Watches_v1_00-sample'.J21>, <Cell 'amazon_reviews_us_Watches_v1_00-sample'.K21>, <Cell 'amazon_reviews_us_Watches_v1_00-sample'.L21>, <Cell 'amazon_reviews_us_Watches_v1_00-sample'.M21>, <Cell 'amazon_reviews_us_Watches_v1_00-sample'.N21>, <Cell 'amazon_reviews_us_Watches_v1_00-sample'.O21>)\n",
      "(<Cell 'amazon_reviews_us_Watches_v1_00-sample'.A22>, <Cell 'amazon_reviews_us_Watches_v1_00-sample'.B22>, <Cell 'amazon_reviews_us_Watches_v1_00-sample'.C22>, <Cell 'amazon_reviews_us_Watches_v1_00-sample'.D22>, <Cell 'amazon_reviews_us_Watches_v1_00-sample'.E22>, <Cell 'amazon_reviews_us_Watches_v1_00-sample'.F22>, <Cell 'amazon_reviews_us_Watches_v1_00-sample'.G22>, <Cell 'amazon_reviews_us_Watches_v1_00-sample'.H22>, <Cell 'amazon_reviews_us_Watches_v1_00-sample'.I22>, <Cell 'amazon_reviews_us_Watches_v1_00-sample'.J22>, <Cell 'amazon_reviews_us_Watches_v1_00-sample'.K22>, <Cell 'amazon_reviews_us_Watches_v1_00-sample'.L22>, <Cell 'amazon_reviews_us_Watches_v1_00-sample'.M22>, <Cell 'amazon_reviews_us_Watches_v1_00-sample'.N22>, <Cell 'amazon_reviews_us_Watches_v1_00-sample'.O22>)\n",
      "(<Cell 'amazon_reviews_us_Watches_v1_00-sample'.A23>, <Cell 'amazon_reviews_us_Watches_v1_00-sample'.B23>, <Cell 'amazon_reviews_us_Watches_v1_00-sample'.C23>, <Cell 'amazon_reviews_us_Watches_v1_00-sample'.D23>, <Cell 'amazon_reviews_us_Watches_v1_00-sample'.E23>, <Cell 'amazon_reviews_us_Watches_v1_00-sample'.F23>, <Cell 'amazon_reviews_us_Watches_v1_00-sample'.G23>, <Cell 'amazon_reviews_us_Watches_v1_00-sample'.H23>, <Cell 'amazon_reviews_us_Watches_v1_00-sample'.I23>, <Cell 'amazon_reviews_us_Watches_v1_00-sample'.J23>, <Cell 'amazon_reviews_us_Watches_v1_00-sample'.K23>, <Cell 'amazon_reviews_us_Watches_v1_00-sample'.L23>, <Cell 'amazon_reviews_us_Watches_v1_00-sample'.M23>, <Cell 'amazon_reviews_us_Watches_v1_00-sample'.N23>, <Cell 'amazon_reviews_us_Watches_v1_00-sample'.O23>)\n",
      "(<Cell 'amazon_reviews_us_Watches_v1_00-sample'.A24>, <Cell 'amazon_reviews_us_Watches_v1_00-sample'.B24>, <Cell 'amazon_reviews_us_Watches_v1_00-sample'.C24>, <Cell 'amazon_reviews_us_Watches_v1_00-sample'.D24>, <Cell 'amazon_reviews_us_Watches_v1_00-sample'.E24>, <Cell 'amazon_reviews_us_Watches_v1_00-sample'.F24>, <Cell 'amazon_reviews_us_Watches_v1_00-sample'.G24>, <Cell 'amazon_reviews_us_Watches_v1_00-sample'.H24>, <Cell 'amazon_reviews_us_Watches_v1_00-sample'.I24>, <Cell 'amazon_reviews_us_Watches_v1_00-sample'.J24>, <Cell 'amazon_reviews_us_Watches_v1_00-sample'.K24>, <Cell 'amazon_reviews_us_Watches_v1_00-sample'.L24>, <Cell 'amazon_reviews_us_Watches_v1_00-sample'.M24>, <Cell 'amazon_reviews_us_Watches_v1_00-sample'.N24>, <Cell 'amazon_reviews_us_Watches_v1_00-sample'.O24>)\n",
      "(<Cell 'amazon_reviews_us_Watches_v1_00-sample'.A25>, <Cell 'amazon_reviews_us_Watches_v1_00-sample'.B25>, <Cell 'amazon_reviews_us_Watches_v1_00-sample'.C25>, <Cell 'amazon_reviews_us_Watches_v1_00-sample'.D25>, <Cell 'amazon_reviews_us_Watches_v1_00-sample'.E25>, <Cell 'amazon_reviews_us_Watches_v1_00-sample'.F25>, <Cell 'amazon_reviews_us_Watches_v1_00-sample'.G25>, <Cell 'amazon_reviews_us_Watches_v1_00-sample'.H25>, <Cell 'amazon_reviews_us_Watches_v1_00-sample'.I25>, <Cell 'amazon_reviews_us_Watches_v1_00-sample'.J25>, <Cell 'amazon_reviews_us_Watches_v1_00-sample'.K25>, <Cell 'amazon_reviews_us_Watches_v1_00-sample'.L25>, <Cell 'amazon_reviews_us_Watches_v1_00-sample'.M25>, <Cell 'amazon_reviews_us_Watches_v1_00-sample'.N25>, <Cell 'amazon_reviews_us_Watches_v1_00-sample'.O25>)\n",
      "(<Cell 'amazon_reviews_us_Watches_v1_00-sample'.A26>, <Cell 'amazon_reviews_us_Watches_v1_00-sample'.B26>, <Cell 'amazon_reviews_us_Watches_v1_00-sample'.C26>, <Cell 'amazon_reviews_us_Watches_v1_00-sample'.D26>, <Cell 'amazon_reviews_us_Watches_v1_00-sample'.E26>, <Cell 'amazon_reviews_us_Watches_v1_00-sample'.F26>, <Cell 'amazon_reviews_us_Watches_v1_00-sample'.G26>, <Cell 'amazon_reviews_us_Watches_v1_00-sample'.H26>, <Cell 'amazon_reviews_us_Watches_v1_00-sample'.I26>, <Cell 'amazon_reviews_us_Watches_v1_00-sample'.J26>, <Cell 'amazon_reviews_us_Watches_v1_00-sample'.K26>, <Cell 'amazon_reviews_us_Watches_v1_00-sample'.L26>, <Cell 'amazon_reviews_us_Watches_v1_00-sample'.M26>, <Cell 'amazon_reviews_us_Watches_v1_00-sample'.N26>, <Cell 'amazon_reviews_us_Watches_v1_00-sample'.O26>)\n",
      "(<Cell 'amazon_reviews_us_Watches_v1_00-sample'.A27>, <Cell 'amazon_reviews_us_Watches_v1_00-sample'.B27>, <Cell 'amazon_reviews_us_Watches_v1_00-sample'.C27>, <Cell 'amazon_reviews_us_Watches_v1_00-sample'.D27>, <Cell 'amazon_reviews_us_Watches_v1_00-sample'.E27>, <Cell 'amazon_reviews_us_Watches_v1_00-sample'.F27>, <Cell 'amazon_reviews_us_Watches_v1_00-sample'.G27>, <Cell 'amazon_reviews_us_Watches_v1_00-sample'.H27>, <Cell 'amazon_reviews_us_Watches_v1_00-sample'.I27>, <Cell 'amazon_reviews_us_Watches_v1_00-sample'.J27>, <Cell 'amazon_reviews_us_Watches_v1_00-sample'.K27>, <Cell 'amazon_reviews_us_Watches_v1_00-sample'.L27>, <Cell 'amazon_reviews_us_Watches_v1_00-sample'.M27>, <Cell 'amazon_reviews_us_Watches_v1_00-sample'.N27>, <Cell 'amazon_reviews_us_Watches_v1_00-sample'.O27>)\n",
      "(<Cell 'amazon_reviews_us_Watches_v1_00-sample'.A28>, <Cell 'amazon_reviews_us_Watches_v1_00-sample'.B28>, <Cell 'amazon_reviews_us_Watches_v1_00-sample'.C28>, <Cell 'amazon_reviews_us_Watches_v1_00-sample'.D28>, <Cell 'amazon_reviews_us_Watches_v1_00-sample'.E28>, <Cell 'amazon_reviews_us_Watches_v1_00-sample'.F28>, <Cell 'amazon_reviews_us_Watches_v1_00-sample'.G28>, <Cell 'amazon_reviews_us_Watches_v1_00-sample'.H28>, <Cell 'amazon_reviews_us_Watches_v1_00-sample'.I28>, <Cell 'amazon_reviews_us_Watches_v1_00-sample'.J28>, <Cell 'amazon_reviews_us_Watches_v1_00-sample'.K28>, <Cell 'amazon_reviews_us_Watches_v1_00-sample'.L28>, <Cell 'amazon_reviews_us_Watches_v1_00-sample'.M28>, <Cell 'amazon_reviews_us_Watches_v1_00-sample'.N28>, <Cell 'amazon_reviews_us_Watches_v1_00-sample'.O28>)\n",
      "(<Cell 'amazon_reviews_us_Watches_v1_00-sample'.A29>, <Cell 'amazon_reviews_us_Watches_v1_00-sample'.B29>, <Cell 'amazon_reviews_us_Watches_v1_00-sample'.C29>, <Cell 'amazon_reviews_us_Watches_v1_00-sample'.D29>, <Cell 'amazon_reviews_us_Watches_v1_00-sample'.E29>, <Cell 'amazon_reviews_us_Watches_v1_00-sample'.F29>, <Cell 'amazon_reviews_us_Watches_v1_00-sample'.G29>, <Cell 'amazon_reviews_us_Watches_v1_00-sample'.H29>, <Cell 'amazon_reviews_us_Watches_v1_00-sample'.I29>, <Cell 'amazon_reviews_us_Watches_v1_00-sample'.J29>, <Cell 'amazon_reviews_us_Watches_v1_00-sample'.K29>, <Cell 'amazon_reviews_us_Watches_v1_00-sample'.L29>, <Cell 'amazon_reviews_us_Watches_v1_00-sample'.M29>, <Cell 'amazon_reviews_us_Watches_v1_00-sample'.N29>, <Cell 'amazon_reviews_us_Watches_v1_00-sample'.O29>)\n",
      "(<Cell 'amazon_reviews_us_Watches_v1_00-sample'.A30>, <Cell 'amazon_reviews_us_Watches_v1_00-sample'.B30>, <Cell 'amazon_reviews_us_Watches_v1_00-sample'.C30>, <Cell 'amazon_reviews_us_Watches_v1_00-sample'.D30>, <Cell 'amazon_reviews_us_Watches_v1_00-sample'.E30>, <Cell 'amazon_reviews_us_Watches_v1_00-sample'.F30>, <Cell 'amazon_reviews_us_Watches_v1_00-sample'.G30>, <Cell 'amazon_reviews_us_Watches_v1_00-sample'.H30>, <Cell 'amazon_reviews_us_Watches_v1_00-sample'.I30>, <Cell 'amazon_reviews_us_Watches_v1_00-sample'.J30>, <Cell 'amazon_reviews_us_Watches_v1_00-sample'.K30>, <Cell 'amazon_reviews_us_Watches_v1_00-sample'.L30>, <Cell 'amazon_reviews_us_Watches_v1_00-sample'.M30>, <Cell 'amazon_reviews_us_Watches_v1_00-sample'.N30>, <Cell 'amazon_reviews_us_Watches_v1_00-sample'.O30>)\n",
      "(<Cell 'amazon_reviews_us_Watches_v1_00-sample'.A31>, <Cell 'amazon_reviews_us_Watches_v1_00-sample'.B31>, <Cell 'amazon_reviews_us_Watches_v1_00-sample'.C31>, <Cell 'amazon_reviews_us_Watches_v1_00-sample'.D31>, <Cell 'amazon_reviews_us_Watches_v1_00-sample'.E31>, <Cell 'amazon_reviews_us_Watches_v1_00-sample'.F31>, <Cell 'amazon_reviews_us_Watches_v1_00-sample'.G31>, <Cell 'amazon_reviews_us_Watches_v1_00-sample'.H31>, <Cell 'amazon_reviews_us_Watches_v1_00-sample'.I31>, <Cell 'amazon_reviews_us_Watches_v1_00-sample'.J31>, <Cell 'amazon_reviews_us_Watches_v1_00-sample'.K31>, <Cell 'amazon_reviews_us_Watches_v1_00-sample'.L31>, <Cell 'amazon_reviews_us_Watches_v1_00-sample'.M31>, <Cell 'amazon_reviews_us_Watches_v1_00-sample'.N31>, <Cell 'amazon_reviews_us_Watches_v1_00-sample'.O31>)\n",
      "(<Cell 'amazon_reviews_us_Watches_v1_00-sample'.A32>, <Cell 'amazon_reviews_us_Watches_v1_00-sample'.B32>, <Cell 'amazon_reviews_us_Watches_v1_00-sample'.C32>, <Cell 'amazon_reviews_us_Watches_v1_00-sample'.D32>, <Cell 'amazon_reviews_us_Watches_v1_00-sample'.E32>, <Cell 'amazon_reviews_us_Watches_v1_00-sample'.F32>, <Cell 'amazon_reviews_us_Watches_v1_00-sample'.G32>, <Cell 'amazon_reviews_us_Watches_v1_00-sample'.H32>, <Cell 'amazon_reviews_us_Watches_v1_00-sample'.I32>, <Cell 'amazon_reviews_us_Watches_v1_00-sample'.J32>, <Cell 'amazon_reviews_us_Watches_v1_00-sample'.K32>, <Cell 'amazon_reviews_us_Watches_v1_00-sample'.L32>, <Cell 'amazon_reviews_us_Watches_v1_00-sample'.M32>, <Cell 'amazon_reviews_us_Watches_v1_00-sample'.N32>, <Cell 'amazon_reviews_us_Watches_v1_00-sample'.O32>)\n",
      "(<Cell 'amazon_reviews_us_Watches_v1_00-sample'.A33>, <Cell 'amazon_reviews_us_Watches_v1_00-sample'.B33>, <Cell 'amazon_reviews_us_Watches_v1_00-sample'.C33>, <Cell 'amazon_reviews_us_Watches_v1_00-sample'.D33>, <Cell 'amazon_reviews_us_Watches_v1_00-sample'.E33>, <Cell 'amazon_reviews_us_Watches_v1_00-sample'.F33>, <Cell 'amazon_reviews_us_Watches_v1_00-sample'.G33>, <Cell 'amazon_reviews_us_Watches_v1_00-sample'.H33>, <Cell 'amazon_reviews_us_Watches_v1_00-sample'.I33>, <Cell 'amazon_reviews_us_Watches_v1_00-sample'.J33>, <Cell 'amazon_reviews_us_Watches_v1_00-sample'.K33>, <Cell 'amazon_reviews_us_Watches_v1_00-sample'.L33>, <Cell 'amazon_reviews_us_Watches_v1_00-sample'.M33>, <Cell 'amazon_reviews_us_Watches_v1_00-sample'.N33>, <Cell 'amazon_reviews_us_Watches_v1_00-sample'.O33>)\n",
      "(<Cell 'amazon_reviews_us_Watches_v1_00-sample'.A34>, <Cell 'amazon_reviews_us_Watches_v1_00-sample'.B34>, <Cell 'amazon_reviews_us_Watches_v1_00-sample'.C34>, <Cell 'amazon_reviews_us_Watches_v1_00-sample'.D34>, <Cell 'amazon_reviews_us_Watches_v1_00-sample'.E34>, <Cell 'amazon_reviews_us_Watches_v1_00-sample'.F34>, <Cell 'amazon_reviews_us_Watches_v1_00-sample'.G34>, <Cell 'amazon_reviews_us_Watches_v1_00-sample'.H34>, <Cell 'amazon_reviews_us_Watches_v1_00-sample'.I34>, <Cell 'amazon_reviews_us_Watches_v1_00-sample'.J34>, <Cell 'amazon_reviews_us_Watches_v1_00-sample'.K34>, <Cell 'amazon_reviews_us_Watches_v1_00-sample'.L34>, <Cell 'amazon_reviews_us_Watches_v1_00-sample'.M34>, <Cell 'amazon_reviews_us_Watches_v1_00-sample'.N34>, <Cell 'amazon_reviews_us_Watches_v1_00-sample'.O34>)\n",
      "(<Cell 'amazon_reviews_us_Watches_v1_00-sample'.A35>, <Cell 'amazon_reviews_us_Watches_v1_00-sample'.B35>, <Cell 'amazon_reviews_us_Watches_v1_00-sample'.C35>, <Cell 'amazon_reviews_us_Watches_v1_00-sample'.D35>, <Cell 'amazon_reviews_us_Watches_v1_00-sample'.E35>, <Cell 'amazon_reviews_us_Watches_v1_00-sample'.F35>, <Cell 'amazon_reviews_us_Watches_v1_00-sample'.G35>, <Cell 'amazon_reviews_us_Watches_v1_00-sample'.H35>, <Cell 'amazon_reviews_us_Watches_v1_00-sample'.I35>, <Cell 'amazon_reviews_us_Watches_v1_00-sample'.J35>, <Cell 'amazon_reviews_us_Watches_v1_00-sample'.K35>, <Cell 'amazon_reviews_us_Watches_v1_00-sample'.L35>, <Cell 'amazon_reviews_us_Watches_v1_00-sample'.M35>, <Cell 'amazon_reviews_us_Watches_v1_00-sample'.N35>, <Cell 'amazon_reviews_us_Watches_v1_00-sample'.O35>)\n",
      "(<Cell 'amazon_reviews_us_Watches_v1_00-sample'.A36>, <Cell 'amazon_reviews_us_Watches_v1_00-sample'.B36>, <Cell 'amazon_reviews_us_Watches_v1_00-sample'.C36>, <Cell 'amazon_reviews_us_Watches_v1_00-sample'.D36>, <Cell 'amazon_reviews_us_Watches_v1_00-sample'.E36>, <Cell 'amazon_reviews_us_Watches_v1_00-sample'.F36>, <Cell 'amazon_reviews_us_Watches_v1_00-sample'.G36>, <Cell 'amazon_reviews_us_Watches_v1_00-sample'.H36>, <Cell 'amazon_reviews_us_Watches_v1_00-sample'.I36>, <Cell 'amazon_reviews_us_Watches_v1_00-sample'.J36>, <Cell 'amazon_reviews_us_Watches_v1_00-sample'.K36>, <Cell 'amazon_reviews_us_Watches_v1_00-sample'.L36>, <Cell 'amazon_reviews_us_Watches_v1_00-sample'.M36>, <Cell 'amazon_reviews_us_Watches_v1_00-sample'.N36>, <Cell 'amazon_reviews_us_Watches_v1_00-sample'.O36>)\n",
      "(<Cell 'amazon_reviews_us_Watches_v1_00-sample'.A37>, <Cell 'amazon_reviews_us_Watches_v1_00-sample'.B37>, <Cell 'amazon_reviews_us_Watches_v1_00-sample'.C37>, <Cell 'amazon_reviews_us_Watches_v1_00-sample'.D37>, <Cell 'amazon_reviews_us_Watches_v1_00-sample'.E37>, <Cell 'amazon_reviews_us_Watches_v1_00-sample'.F37>, <Cell 'amazon_reviews_us_Watches_v1_00-sample'.G37>, <Cell 'amazon_reviews_us_Watches_v1_00-sample'.H37>, <Cell 'amazon_reviews_us_Watches_v1_00-sample'.I37>, <Cell 'amazon_reviews_us_Watches_v1_00-sample'.J37>, <Cell 'amazon_reviews_us_Watches_v1_00-sample'.K37>, <Cell 'amazon_reviews_us_Watches_v1_00-sample'.L37>, <Cell 'amazon_reviews_us_Watches_v1_00-sample'.M37>, <Cell 'amazon_reviews_us_Watches_v1_00-sample'.N37>, <Cell 'amazon_reviews_us_Watches_v1_00-sample'.O37>)\n",
      "(<Cell 'amazon_reviews_us_Watches_v1_00-sample'.A38>, <Cell 'amazon_reviews_us_Watches_v1_00-sample'.B38>, <Cell 'amazon_reviews_us_Watches_v1_00-sample'.C38>, <Cell 'amazon_reviews_us_Watches_v1_00-sample'.D38>, <Cell 'amazon_reviews_us_Watches_v1_00-sample'.E38>, <Cell 'amazon_reviews_us_Watches_v1_00-sample'.F38>, <Cell 'amazon_reviews_us_Watches_v1_00-sample'.G38>, <Cell 'amazon_reviews_us_Watches_v1_00-sample'.H38>, <Cell 'amazon_reviews_us_Watches_v1_00-sample'.I38>, <Cell 'amazon_reviews_us_Watches_v1_00-sample'.J38>, <Cell 'amazon_reviews_us_Watches_v1_00-sample'.K38>, <Cell 'amazon_reviews_us_Watches_v1_00-sample'.L38>, <Cell 'amazon_reviews_us_Watches_v1_00-sample'.M38>, <Cell 'amazon_reviews_us_Watches_v1_00-sample'.N38>, <Cell 'amazon_reviews_us_Watches_v1_00-sample'.O38>)\n",
      "(<Cell 'amazon_reviews_us_Watches_v1_00-sample'.A39>, <Cell 'amazon_reviews_us_Watches_v1_00-sample'.B39>, <Cell 'amazon_reviews_us_Watches_v1_00-sample'.C39>, <Cell 'amazon_reviews_us_Watches_v1_00-sample'.D39>, <Cell 'amazon_reviews_us_Watches_v1_00-sample'.E39>, <Cell 'amazon_reviews_us_Watches_v1_00-sample'.F39>, <Cell 'amazon_reviews_us_Watches_v1_00-sample'.G39>, <Cell 'amazon_reviews_us_Watches_v1_00-sample'.H39>, <Cell 'amazon_reviews_us_Watches_v1_00-sample'.I39>, <Cell 'amazon_reviews_us_Watches_v1_00-sample'.J39>, <Cell 'amazon_reviews_us_Watches_v1_00-sample'.K39>, <Cell 'amazon_reviews_us_Watches_v1_00-sample'.L39>, <Cell 'amazon_reviews_us_Watches_v1_00-sample'.M39>, <Cell 'amazon_reviews_us_Watches_v1_00-sample'.N39>, <Cell 'amazon_reviews_us_Watches_v1_00-sample'.O39>)\n",
      "(<Cell 'amazon_reviews_us_Watches_v1_00-sample'.A40>, <Cell 'amazon_reviews_us_Watches_v1_00-sample'.B40>, <Cell 'amazon_reviews_us_Watches_v1_00-sample'.C40>, <Cell 'amazon_reviews_us_Watches_v1_00-sample'.D40>, <Cell 'amazon_reviews_us_Watches_v1_00-sample'.E40>, <Cell 'amazon_reviews_us_Watches_v1_00-sample'.F40>, <Cell 'amazon_reviews_us_Watches_v1_00-sample'.G40>, <Cell 'amazon_reviews_us_Watches_v1_00-sample'.H40>, <Cell 'amazon_reviews_us_Watches_v1_00-sample'.I40>, <Cell 'amazon_reviews_us_Watches_v1_00-sample'.J40>, <Cell 'amazon_reviews_us_Watches_v1_00-sample'.K40>, <Cell 'amazon_reviews_us_Watches_v1_00-sample'.L40>, <Cell 'amazon_reviews_us_Watches_v1_00-sample'.M40>, <Cell 'amazon_reviews_us_Watches_v1_00-sample'.N40>, <Cell 'amazon_reviews_us_Watches_v1_00-sample'.O40>)\n",
      "(<Cell 'amazon_reviews_us_Watches_v1_00-sample'.A41>, <Cell 'amazon_reviews_us_Watches_v1_00-sample'.B41>, <Cell 'amazon_reviews_us_Watches_v1_00-sample'.C41>, <Cell 'amazon_reviews_us_Watches_v1_00-sample'.D41>, <Cell 'amazon_reviews_us_Watches_v1_00-sample'.E41>, <Cell 'amazon_reviews_us_Watches_v1_00-sample'.F41>, <Cell 'amazon_reviews_us_Watches_v1_00-sample'.G41>, <Cell 'amazon_reviews_us_Watches_v1_00-sample'.H41>, <Cell 'amazon_reviews_us_Watches_v1_00-sample'.I41>, <Cell 'amazon_reviews_us_Watches_v1_00-sample'.J41>, <Cell 'amazon_reviews_us_Watches_v1_00-sample'.K41>, <Cell 'amazon_reviews_us_Watches_v1_00-sample'.L41>, <Cell 'amazon_reviews_us_Watches_v1_00-sample'.M41>, <Cell 'amazon_reviews_us_Watches_v1_00-sample'.N41>, <Cell 'amazon_reviews_us_Watches_v1_00-sample'.O41>)\n",
      "(<Cell 'amazon_reviews_us_Watches_v1_00-sample'.A42>, <Cell 'amazon_reviews_us_Watches_v1_00-sample'.B42>, <Cell 'amazon_reviews_us_Watches_v1_00-sample'.C42>, <Cell 'amazon_reviews_us_Watches_v1_00-sample'.D42>, <Cell 'amazon_reviews_us_Watches_v1_00-sample'.E42>, <Cell 'amazon_reviews_us_Watches_v1_00-sample'.F42>, <Cell 'amazon_reviews_us_Watches_v1_00-sample'.G42>, <Cell 'amazon_reviews_us_Watches_v1_00-sample'.H42>, <Cell 'amazon_reviews_us_Watches_v1_00-sample'.I42>, <Cell 'amazon_reviews_us_Watches_v1_00-sample'.J42>, <Cell 'amazon_reviews_us_Watches_v1_00-sample'.K42>, <Cell 'amazon_reviews_us_Watches_v1_00-sample'.L42>, <Cell 'amazon_reviews_us_Watches_v1_00-sample'.M42>, <Cell 'amazon_reviews_us_Watches_v1_00-sample'.N42>, <Cell 'amazon_reviews_us_Watches_v1_00-sample'.O42>)\n",
      "(<Cell 'amazon_reviews_us_Watches_v1_00-sample'.A43>, <Cell 'amazon_reviews_us_Watches_v1_00-sample'.B43>, <Cell 'amazon_reviews_us_Watches_v1_00-sample'.C43>, <Cell 'amazon_reviews_us_Watches_v1_00-sample'.D43>, <Cell 'amazon_reviews_us_Watches_v1_00-sample'.E43>, <Cell 'amazon_reviews_us_Watches_v1_00-sample'.F43>, <Cell 'amazon_reviews_us_Watches_v1_00-sample'.G43>, <Cell 'amazon_reviews_us_Watches_v1_00-sample'.H43>, <Cell 'amazon_reviews_us_Watches_v1_00-sample'.I43>, <Cell 'amazon_reviews_us_Watches_v1_00-sample'.J43>, <Cell 'amazon_reviews_us_Watches_v1_00-sample'.K43>, <Cell 'amazon_reviews_us_Watches_v1_00-sample'.L43>, <Cell 'amazon_reviews_us_Watches_v1_00-sample'.M43>, <Cell 'amazon_reviews_us_Watches_v1_00-sample'.N43>, <Cell 'amazon_reviews_us_Watches_v1_00-sample'.O43>)\n",
      "(<Cell 'amazon_reviews_us_Watches_v1_00-sample'.A44>, <Cell 'amazon_reviews_us_Watches_v1_00-sample'.B44>, <Cell 'amazon_reviews_us_Watches_v1_00-sample'.C44>, <Cell 'amazon_reviews_us_Watches_v1_00-sample'.D44>, <Cell 'amazon_reviews_us_Watches_v1_00-sample'.E44>, <Cell 'amazon_reviews_us_Watches_v1_00-sample'.F44>, <Cell 'amazon_reviews_us_Watches_v1_00-sample'.G44>, <Cell 'amazon_reviews_us_Watches_v1_00-sample'.H44>, <Cell 'amazon_reviews_us_Watches_v1_00-sample'.I44>, <Cell 'amazon_reviews_us_Watches_v1_00-sample'.J44>, <Cell 'amazon_reviews_us_Watches_v1_00-sample'.K44>, <Cell 'amazon_reviews_us_Watches_v1_00-sample'.L44>, <Cell 'amazon_reviews_us_Watches_v1_00-sample'.M44>, <Cell 'amazon_reviews_us_Watches_v1_00-sample'.N44>, <Cell 'amazon_reviews_us_Watches_v1_00-sample'.O44>)\n",
      "(<Cell 'amazon_reviews_us_Watches_v1_00-sample'.A45>, <Cell 'amazon_reviews_us_Watches_v1_00-sample'.B45>, <Cell 'amazon_reviews_us_Watches_v1_00-sample'.C45>, <Cell 'amazon_reviews_us_Watches_v1_00-sample'.D45>, <Cell 'amazon_reviews_us_Watches_v1_00-sample'.E45>, <Cell 'amazon_reviews_us_Watches_v1_00-sample'.F45>, <Cell 'amazon_reviews_us_Watches_v1_00-sample'.G45>, <Cell 'amazon_reviews_us_Watches_v1_00-sample'.H45>, <Cell 'amazon_reviews_us_Watches_v1_00-sample'.I45>, <Cell 'amazon_reviews_us_Watches_v1_00-sample'.J45>, <Cell 'amazon_reviews_us_Watches_v1_00-sample'.K45>, <Cell 'amazon_reviews_us_Watches_v1_00-sample'.L45>, <Cell 'amazon_reviews_us_Watches_v1_00-sample'.M45>, <Cell 'amazon_reviews_us_Watches_v1_00-sample'.N45>, <Cell 'amazon_reviews_us_Watches_v1_00-sample'.O45>)\n",
      "(<Cell 'amazon_reviews_us_Watches_v1_00-sample'.A46>, <Cell 'amazon_reviews_us_Watches_v1_00-sample'.B46>, <Cell 'amazon_reviews_us_Watches_v1_00-sample'.C46>, <Cell 'amazon_reviews_us_Watches_v1_00-sample'.D46>, <Cell 'amazon_reviews_us_Watches_v1_00-sample'.E46>, <Cell 'amazon_reviews_us_Watches_v1_00-sample'.F46>, <Cell 'amazon_reviews_us_Watches_v1_00-sample'.G46>, <Cell 'amazon_reviews_us_Watches_v1_00-sample'.H46>, <Cell 'amazon_reviews_us_Watches_v1_00-sample'.I46>, <Cell 'amazon_reviews_us_Watches_v1_00-sample'.J46>, <Cell 'amazon_reviews_us_Watches_v1_00-sample'.K46>, <Cell 'amazon_reviews_us_Watches_v1_00-sample'.L46>, <Cell 'amazon_reviews_us_Watches_v1_00-sample'.M46>, <Cell 'amazon_reviews_us_Watches_v1_00-sample'.N46>, <Cell 'amazon_reviews_us_Watches_v1_00-sample'.O46>)\n",
      "(<Cell 'amazon_reviews_us_Watches_v1_00-sample'.A47>, <Cell 'amazon_reviews_us_Watches_v1_00-sample'.B47>, <Cell 'amazon_reviews_us_Watches_v1_00-sample'.C47>, <Cell 'amazon_reviews_us_Watches_v1_00-sample'.D47>, <Cell 'amazon_reviews_us_Watches_v1_00-sample'.E47>, <Cell 'amazon_reviews_us_Watches_v1_00-sample'.F47>, <Cell 'amazon_reviews_us_Watches_v1_00-sample'.G47>, <Cell 'amazon_reviews_us_Watches_v1_00-sample'.H47>, <Cell 'amazon_reviews_us_Watches_v1_00-sample'.I47>, <Cell 'amazon_reviews_us_Watches_v1_00-sample'.J47>, <Cell 'amazon_reviews_us_Watches_v1_00-sample'.K47>, <Cell 'amazon_reviews_us_Watches_v1_00-sample'.L47>, <Cell 'amazon_reviews_us_Watches_v1_00-sample'.M47>, <Cell 'amazon_reviews_us_Watches_v1_00-sample'.N47>, <Cell 'amazon_reviews_us_Watches_v1_00-sample'.O47>)\n",
      "(<Cell 'amazon_reviews_us_Watches_v1_00-sample'.A48>, <Cell 'amazon_reviews_us_Watches_v1_00-sample'.B48>, <Cell 'amazon_reviews_us_Watches_v1_00-sample'.C48>, <Cell 'amazon_reviews_us_Watches_v1_00-sample'.D48>, <Cell 'amazon_reviews_us_Watches_v1_00-sample'.E48>, <Cell 'amazon_reviews_us_Watches_v1_00-sample'.F48>, <Cell 'amazon_reviews_us_Watches_v1_00-sample'.G48>, <Cell 'amazon_reviews_us_Watches_v1_00-sample'.H48>, <Cell 'amazon_reviews_us_Watches_v1_00-sample'.I48>, <Cell 'amazon_reviews_us_Watches_v1_00-sample'.J48>, <Cell 'amazon_reviews_us_Watches_v1_00-sample'.K48>, <Cell 'amazon_reviews_us_Watches_v1_00-sample'.L48>, <Cell 'amazon_reviews_us_Watches_v1_00-sample'.M48>, <Cell 'amazon_reviews_us_Watches_v1_00-sample'.N48>, <Cell 'amazon_reviews_us_Watches_v1_00-sample'.O48>)\n",
      "(<Cell 'amazon_reviews_us_Watches_v1_00-sample'.A49>, <Cell 'amazon_reviews_us_Watches_v1_00-sample'.B49>, <Cell 'amazon_reviews_us_Watches_v1_00-sample'.C49>, <Cell 'amazon_reviews_us_Watches_v1_00-sample'.D49>, <Cell 'amazon_reviews_us_Watches_v1_00-sample'.E49>, <Cell 'amazon_reviews_us_Watches_v1_00-sample'.F49>, <Cell 'amazon_reviews_us_Watches_v1_00-sample'.G49>, <Cell 'amazon_reviews_us_Watches_v1_00-sample'.H49>, <Cell 'amazon_reviews_us_Watches_v1_00-sample'.I49>, <Cell 'amazon_reviews_us_Watches_v1_00-sample'.J49>, <Cell 'amazon_reviews_us_Watches_v1_00-sample'.K49>, <Cell 'amazon_reviews_us_Watches_v1_00-sample'.L49>, <Cell 'amazon_reviews_us_Watches_v1_00-sample'.M49>, <Cell 'amazon_reviews_us_Watches_v1_00-sample'.N49>, <Cell 'amazon_reviews_us_Watches_v1_00-sample'.O49>)\n",
      "(<Cell 'amazon_reviews_us_Watches_v1_00-sample'.A50>, <Cell 'amazon_reviews_us_Watches_v1_00-sample'.B50>, <Cell 'amazon_reviews_us_Watches_v1_00-sample'.C50>, <Cell 'amazon_reviews_us_Watches_v1_00-sample'.D50>, <Cell 'amazon_reviews_us_Watches_v1_00-sample'.E50>, <Cell 'amazon_reviews_us_Watches_v1_00-sample'.F50>, <Cell 'amazon_reviews_us_Watches_v1_00-sample'.G50>, <Cell 'amazon_reviews_us_Watches_v1_00-sample'.H50>, <Cell 'amazon_reviews_us_Watches_v1_00-sample'.I50>, <Cell 'amazon_reviews_us_Watches_v1_00-sample'.J50>, <Cell 'amazon_reviews_us_Watches_v1_00-sample'.K50>, <Cell 'amazon_reviews_us_Watches_v1_00-sample'.L50>, <Cell 'amazon_reviews_us_Watches_v1_00-sample'.M50>, <Cell 'amazon_reviews_us_Watches_v1_00-sample'.N50>, <Cell 'amazon_reviews_us_Watches_v1_00-sample'.O50>)\n",
      "(<Cell 'amazon_reviews_us_Watches_v1_00-sample'.A51>, <Cell 'amazon_reviews_us_Watches_v1_00-sample'.B51>, <Cell 'amazon_reviews_us_Watches_v1_00-sample'.C51>, <Cell 'amazon_reviews_us_Watches_v1_00-sample'.D51>, <Cell 'amazon_reviews_us_Watches_v1_00-sample'.E51>, <Cell 'amazon_reviews_us_Watches_v1_00-sample'.F51>, <Cell 'amazon_reviews_us_Watches_v1_00-sample'.G51>, <Cell 'amazon_reviews_us_Watches_v1_00-sample'.H51>, <Cell 'amazon_reviews_us_Watches_v1_00-sample'.I51>, <Cell 'amazon_reviews_us_Watches_v1_00-sample'.J51>, <Cell 'amazon_reviews_us_Watches_v1_00-sample'.K51>, <Cell 'amazon_reviews_us_Watches_v1_00-sample'.L51>, <Cell 'amazon_reviews_us_Watches_v1_00-sample'.M51>, <Cell 'amazon_reviews_us_Watches_v1_00-sample'.N51>, <Cell 'amazon_reviews_us_Watches_v1_00-sample'.O51>)\n",
      "(<Cell 'amazon_reviews_us_Watches_v1_00-sample'.A52>, <Cell 'amazon_reviews_us_Watches_v1_00-sample'.B52>, <Cell 'amazon_reviews_us_Watches_v1_00-sample'.C52>, <Cell 'amazon_reviews_us_Watches_v1_00-sample'.D52>, <Cell 'amazon_reviews_us_Watches_v1_00-sample'.E52>, <Cell 'amazon_reviews_us_Watches_v1_00-sample'.F52>, <Cell 'amazon_reviews_us_Watches_v1_00-sample'.G52>, <Cell 'amazon_reviews_us_Watches_v1_00-sample'.H52>, <Cell 'amazon_reviews_us_Watches_v1_00-sample'.I52>, <Cell 'amazon_reviews_us_Watches_v1_00-sample'.J52>, <Cell 'amazon_reviews_us_Watches_v1_00-sample'.K52>, <Cell 'amazon_reviews_us_Watches_v1_00-sample'.L52>, <Cell 'amazon_reviews_us_Watches_v1_00-sample'.M52>, <Cell 'amazon_reviews_us_Watches_v1_00-sample'.N52>, <Cell 'amazon_reviews_us_Watches_v1_00-sample'.O52>)\n",
      "(<Cell 'amazon_reviews_us_Watches_v1_00-sample'.A53>, <Cell 'amazon_reviews_us_Watches_v1_00-sample'.B53>, <Cell 'amazon_reviews_us_Watches_v1_00-sample'.C53>, <Cell 'amazon_reviews_us_Watches_v1_00-sample'.D53>, <Cell 'amazon_reviews_us_Watches_v1_00-sample'.E53>, <Cell 'amazon_reviews_us_Watches_v1_00-sample'.F53>, <Cell 'amazon_reviews_us_Watches_v1_00-sample'.G53>, <Cell 'amazon_reviews_us_Watches_v1_00-sample'.H53>, <Cell 'amazon_reviews_us_Watches_v1_00-sample'.I53>, <Cell 'amazon_reviews_us_Watches_v1_00-sample'.J53>, <Cell 'amazon_reviews_us_Watches_v1_00-sample'.K53>, <Cell 'amazon_reviews_us_Watches_v1_00-sample'.L53>, <Cell 'amazon_reviews_us_Watches_v1_00-sample'.M53>, <Cell 'amazon_reviews_us_Watches_v1_00-sample'.N53>, <Cell 'amazon_reviews_us_Watches_v1_00-sample'.O53>)\n",
      "(<Cell 'amazon_reviews_us_Watches_v1_00-sample'.A54>, <Cell 'amazon_reviews_us_Watches_v1_00-sample'.B54>, <Cell 'amazon_reviews_us_Watches_v1_00-sample'.C54>, <Cell 'amazon_reviews_us_Watches_v1_00-sample'.D54>, <Cell 'amazon_reviews_us_Watches_v1_00-sample'.E54>, <Cell 'amazon_reviews_us_Watches_v1_00-sample'.F54>, <Cell 'amazon_reviews_us_Watches_v1_00-sample'.G54>, <Cell 'amazon_reviews_us_Watches_v1_00-sample'.H54>, <Cell 'amazon_reviews_us_Watches_v1_00-sample'.I54>, <Cell 'amazon_reviews_us_Watches_v1_00-sample'.J54>, <Cell 'amazon_reviews_us_Watches_v1_00-sample'.K54>, <Cell 'amazon_reviews_us_Watches_v1_00-sample'.L54>, <Cell 'amazon_reviews_us_Watches_v1_00-sample'.M54>, <Cell 'amazon_reviews_us_Watches_v1_00-sample'.N54>, <Cell 'amazon_reviews_us_Watches_v1_00-sample'.O54>)\n",
      "(<Cell 'amazon_reviews_us_Watches_v1_00-sample'.A55>, <Cell 'amazon_reviews_us_Watches_v1_00-sample'.B55>, <Cell 'amazon_reviews_us_Watches_v1_00-sample'.C55>, <Cell 'amazon_reviews_us_Watches_v1_00-sample'.D55>, <Cell 'amazon_reviews_us_Watches_v1_00-sample'.E55>, <Cell 'amazon_reviews_us_Watches_v1_00-sample'.F55>, <Cell 'amazon_reviews_us_Watches_v1_00-sample'.G55>, <Cell 'amazon_reviews_us_Watches_v1_00-sample'.H55>, <Cell 'amazon_reviews_us_Watches_v1_00-sample'.I55>, <Cell 'amazon_reviews_us_Watches_v1_00-sample'.J55>, <Cell 'amazon_reviews_us_Watches_v1_00-sample'.K55>, <Cell 'amazon_reviews_us_Watches_v1_00-sample'.L55>, <Cell 'amazon_reviews_us_Watches_v1_00-sample'.M55>, <Cell 'amazon_reviews_us_Watches_v1_00-sample'.N55>, <Cell 'amazon_reviews_us_Watches_v1_00-sample'.O55>)\n",
      "(<Cell 'amazon_reviews_us_Watches_v1_00-sample'.A56>, <Cell 'amazon_reviews_us_Watches_v1_00-sample'.B56>, <Cell 'amazon_reviews_us_Watches_v1_00-sample'.C56>, <Cell 'amazon_reviews_us_Watches_v1_00-sample'.D56>, <Cell 'amazon_reviews_us_Watches_v1_00-sample'.E56>, <Cell 'amazon_reviews_us_Watches_v1_00-sample'.F56>, <Cell 'amazon_reviews_us_Watches_v1_00-sample'.G56>, <Cell 'amazon_reviews_us_Watches_v1_00-sample'.H56>, <Cell 'amazon_reviews_us_Watches_v1_00-sample'.I56>, <Cell 'amazon_reviews_us_Watches_v1_00-sample'.J56>, <Cell 'amazon_reviews_us_Watches_v1_00-sample'.K56>, <Cell 'amazon_reviews_us_Watches_v1_00-sample'.L56>, <Cell 'amazon_reviews_us_Watches_v1_00-sample'.M56>, <Cell 'amazon_reviews_us_Watches_v1_00-sample'.N56>, <Cell 'amazon_reviews_us_Watches_v1_00-sample'.O56>)\n",
      "(<Cell 'amazon_reviews_us_Watches_v1_00-sample'.A57>, <Cell 'amazon_reviews_us_Watches_v1_00-sample'.B57>, <Cell 'amazon_reviews_us_Watches_v1_00-sample'.C57>, <Cell 'amazon_reviews_us_Watches_v1_00-sample'.D57>, <Cell 'amazon_reviews_us_Watches_v1_00-sample'.E57>, <Cell 'amazon_reviews_us_Watches_v1_00-sample'.F57>, <Cell 'amazon_reviews_us_Watches_v1_00-sample'.G57>, <Cell 'amazon_reviews_us_Watches_v1_00-sample'.H57>, <Cell 'amazon_reviews_us_Watches_v1_00-sample'.I57>, <Cell 'amazon_reviews_us_Watches_v1_00-sample'.J57>, <Cell 'amazon_reviews_us_Watches_v1_00-sample'.K57>, <Cell 'amazon_reviews_us_Watches_v1_00-sample'.L57>, <Cell 'amazon_reviews_us_Watches_v1_00-sample'.M57>, <Cell 'amazon_reviews_us_Watches_v1_00-sample'.N57>, <Cell 'amazon_reviews_us_Watches_v1_00-sample'.O57>)\n",
      "(<Cell 'amazon_reviews_us_Watches_v1_00-sample'.A58>, <Cell 'amazon_reviews_us_Watches_v1_00-sample'.B58>, <Cell 'amazon_reviews_us_Watches_v1_00-sample'.C58>, <Cell 'amazon_reviews_us_Watches_v1_00-sample'.D58>, <Cell 'amazon_reviews_us_Watches_v1_00-sample'.E58>, <Cell 'amazon_reviews_us_Watches_v1_00-sample'.F58>, <Cell 'amazon_reviews_us_Watches_v1_00-sample'.G58>, <Cell 'amazon_reviews_us_Watches_v1_00-sample'.H58>, <Cell 'amazon_reviews_us_Watches_v1_00-sample'.I58>, <Cell 'amazon_reviews_us_Watches_v1_00-sample'.J58>, <Cell 'amazon_reviews_us_Watches_v1_00-sample'.K58>, <Cell 'amazon_reviews_us_Watches_v1_00-sample'.L58>, <Cell 'amazon_reviews_us_Watches_v1_00-sample'.M58>, <Cell 'amazon_reviews_us_Watches_v1_00-sample'.N58>, <Cell 'amazon_reviews_us_Watches_v1_00-sample'.O58>)\n",
      "(<Cell 'amazon_reviews_us_Watches_v1_00-sample'.A59>, <Cell 'amazon_reviews_us_Watches_v1_00-sample'.B59>, <Cell 'amazon_reviews_us_Watches_v1_00-sample'.C59>, <Cell 'amazon_reviews_us_Watches_v1_00-sample'.D59>, <Cell 'amazon_reviews_us_Watches_v1_00-sample'.E59>, <Cell 'amazon_reviews_us_Watches_v1_00-sample'.F59>, <Cell 'amazon_reviews_us_Watches_v1_00-sample'.G59>, <Cell 'amazon_reviews_us_Watches_v1_00-sample'.H59>, <Cell 'amazon_reviews_us_Watches_v1_00-sample'.I59>, <Cell 'amazon_reviews_us_Watches_v1_00-sample'.J59>, <Cell 'amazon_reviews_us_Watches_v1_00-sample'.K59>, <Cell 'amazon_reviews_us_Watches_v1_00-sample'.L59>, <Cell 'amazon_reviews_us_Watches_v1_00-sample'.M59>, <Cell 'amazon_reviews_us_Watches_v1_00-sample'.N59>, <Cell 'amazon_reviews_us_Watches_v1_00-sample'.O59>)\n",
      "(<Cell 'amazon_reviews_us_Watches_v1_00-sample'.A60>, <Cell 'amazon_reviews_us_Watches_v1_00-sample'.B60>, <Cell 'amazon_reviews_us_Watches_v1_00-sample'.C60>, <Cell 'amazon_reviews_us_Watches_v1_00-sample'.D60>, <Cell 'amazon_reviews_us_Watches_v1_00-sample'.E60>, <Cell 'amazon_reviews_us_Watches_v1_00-sample'.F60>, <Cell 'amazon_reviews_us_Watches_v1_00-sample'.G60>, <Cell 'amazon_reviews_us_Watches_v1_00-sample'.H60>, <Cell 'amazon_reviews_us_Watches_v1_00-sample'.I60>, <Cell 'amazon_reviews_us_Watches_v1_00-sample'.J60>, <Cell 'amazon_reviews_us_Watches_v1_00-sample'.K60>, <Cell 'amazon_reviews_us_Watches_v1_00-sample'.L60>, <Cell 'amazon_reviews_us_Watches_v1_00-sample'.M60>, <Cell 'amazon_reviews_us_Watches_v1_00-sample'.N60>, <Cell 'amazon_reviews_us_Watches_v1_00-sample'.O60>)\n",
      "(<Cell 'amazon_reviews_us_Watches_v1_00-sample'.A61>, <Cell 'amazon_reviews_us_Watches_v1_00-sample'.B61>, <Cell 'amazon_reviews_us_Watches_v1_00-sample'.C61>, <Cell 'amazon_reviews_us_Watches_v1_00-sample'.D61>, <Cell 'amazon_reviews_us_Watches_v1_00-sample'.E61>, <Cell 'amazon_reviews_us_Watches_v1_00-sample'.F61>, <Cell 'amazon_reviews_us_Watches_v1_00-sample'.G61>, <Cell 'amazon_reviews_us_Watches_v1_00-sample'.H61>, <Cell 'amazon_reviews_us_Watches_v1_00-sample'.I61>, <Cell 'amazon_reviews_us_Watches_v1_00-sample'.J61>, <Cell 'amazon_reviews_us_Watches_v1_00-sample'.K61>, <Cell 'amazon_reviews_us_Watches_v1_00-sample'.L61>, <Cell 'amazon_reviews_us_Watches_v1_00-sample'.M61>, <Cell 'amazon_reviews_us_Watches_v1_00-sample'.N61>, <Cell 'amazon_reviews_us_Watches_v1_00-sample'.O61>)\n",
      "(<Cell 'amazon_reviews_us_Watches_v1_00-sample'.A62>, <Cell 'amazon_reviews_us_Watches_v1_00-sample'.B62>, <Cell 'amazon_reviews_us_Watches_v1_00-sample'.C62>, <Cell 'amazon_reviews_us_Watches_v1_00-sample'.D62>, <Cell 'amazon_reviews_us_Watches_v1_00-sample'.E62>, <Cell 'amazon_reviews_us_Watches_v1_00-sample'.F62>, <Cell 'amazon_reviews_us_Watches_v1_00-sample'.G62>, <Cell 'amazon_reviews_us_Watches_v1_00-sample'.H62>, <Cell 'amazon_reviews_us_Watches_v1_00-sample'.I62>, <Cell 'amazon_reviews_us_Watches_v1_00-sample'.J62>, <Cell 'amazon_reviews_us_Watches_v1_00-sample'.K62>, <Cell 'amazon_reviews_us_Watches_v1_00-sample'.L62>, <Cell 'amazon_reviews_us_Watches_v1_00-sample'.M62>, <Cell 'amazon_reviews_us_Watches_v1_00-sample'.N62>, <Cell 'amazon_reviews_us_Watches_v1_00-sample'.O62>)\n",
      "(<Cell 'amazon_reviews_us_Watches_v1_00-sample'.A63>, <Cell 'amazon_reviews_us_Watches_v1_00-sample'.B63>, <Cell 'amazon_reviews_us_Watches_v1_00-sample'.C63>, <Cell 'amazon_reviews_us_Watches_v1_00-sample'.D63>, <Cell 'amazon_reviews_us_Watches_v1_00-sample'.E63>, <Cell 'amazon_reviews_us_Watches_v1_00-sample'.F63>, <Cell 'amazon_reviews_us_Watches_v1_00-sample'.G63>, <Cell 'amazon_reviews_us_Watches_v1_00-sample'.H63>, <Cell 'amazon_reviews_us_Watches_v1_00-sample'.I63>, <Cell 'amazon_reviews_us_Watches_v1_00-sample'.J63>, <Cell 'amazon_reviews_us_Watches_v1_00-sample'.K63>, <Cell 'amazon_reviews_us_Watches_v1_00-sample'.L63>, <Cell 'amazon_reviews_us_Watches_v1_00-sample'.M63>, <Cell 'amazon_reviews_us_Watches_v1_00-sample'.N63>, <Cell 'amazon_reviews_us_Watches_v1_00-sample'.O63>)\n",
      "(<Cell 'amazon_reviews_us_Watches_v1_00-sample'.A64>, <Cell 'amazon_reviews_us_Watches_v1_00-sample'.B64>, <Cell 'amazon_reviews_us_Watches_v1_00-sample'.C64>, <Cell 'amazon_reviews_us_Watches_v1_00-sample'.D64>, <Cell 'amazon_reviews_us_Watches_v1_00-sample'.E64>, <Cell 'amazon_reviews_us_Watches_v1_00-sample'.F64>, <Cell 'amazon_reviews_us_Watches_v1_00-sample'.G64>, <Cell 'amazon_reviews_us_Watches_v1_00-sample'.H64>, <Cell 'amazon_reviews_us_Watches_v1_00-sample'.I64>, <Cell 'amazon_reviews_us_Watches_v1_00-sample'.J64>, <Cell 'amazon_reviews_us_Watches_v1_00-sample'.K64>, <Cell 'amazon_reviews_us_Watches_v1_00-sample'.L64>, <Cell 'amazon_reviews_us_Watches_v1_00-sample'.M64>, <Cell 'amazon_reviews_us_Watches_v1_00-sample'.N64>, <Cell 'amazon_reviews_us_Watches_v1_00-sample'.O64>)\n",
      "(<Cell 'amazon_reviews_us_Watches_v1_00-sample'.A65>, <Cell 'amazon_reviews_us_Watches_v1_00-sample'.B65>, <Cell 'amazon_reviews_us_Watches_v1_00-sample'.C65>, <Cell 'amazon_reviews_us_Watches_v1_00-sample'.D65>, <Cell 'amazon_reviews_us_Watches_v1_00-sample'.E65>, <Cell 'amazon_reviews_us_Watches_v1_00-sample'.F65>, <Cell 'amazon_reviews_us_Watches_v1_00-sample'.G65>, <Cell 'amazon_reviews_us_Watches_v1_00-sample'.H65>, <Cell 'amazon_reviews_us_Watches_v1_00-sample'.I65>, <Cell 'amazon_reviews_us_Watches_v1_00-sample'.J65>, <Cell 'amazon_reviews_us_Watches_v1_00-sample'.K65>, <Cell 'amazon_reviews_us_Watches_v1_00-sample'.L65>, <Cell 'amazon_reviews_us_Watches_v1_00-sample'.M65>, <Cell 'amazon_reviews_us_Watches_v1_00-sample'.N65>, <Cell 'amazon_reviews_us_Watches_v1_00-sample'.O65>)\n",
      "(<Cell 'amazon_reviews_us_Watches_v1_00-sample'.A66>, <Cell 'amazon_reviews_us_Watches_v1_00-sample'.B66>, <Cell 'amazon_reviews_us_Watches_v1_00-sample'.C66>, <Cell 'amazon_reviews_us_Watches_v1_00-sample'.D66>, <Cell 'amazon_reviews_us_Watches_v1_00-sample'.E66>, <Cell 'amazon_reviews_us_Watches_v1_00-sample'.F66>, <Cell 'amazon_reviews_us_Watches_v1_00-sample'.G66>, <Cell 'amazon_reviews_us_Watches_v1_00-sample'.H66>, <Cell 'amazon_reviews_us_Watches_v1_00-sample'.I66>, <Cell 'amazon_reviews_us_Watches_v1_00-sample'.J66>, <Cell 'amazon_reviews_us_Watches_v1_00-sample'.K66>, <Cell 'amazon_reviews_us_Watches_v1_00-sample'.L66>, <Cell 'amazon_reviews_us_Watches_v1_00-sample'.M66>, <Cell 'amazon_reviews_us_Watches_v1_00-sample'.N66>, <Cell 'amazon_reviews_us_Watches_v1_00-sample'.O66>)\n",
      "(<Cell 'amazon_reviews_us_Watches_v1_00-sample'.A67>, <Cell 'amazon_reviews_us_Watches_v1_00-sample'.B67>, <Cell 'amazon_reviews_us_Watches_v1_00-sample'.C67>, <Cell 'amazon_reviews_us_Watches_v1_00-sample'.D67>, <Cell 'amazon_reviews_us_Watches_v1_00-sample'.E67>, <Cell 'amazon_reviews_us_Watches_v1_00-sample'.F67>, <Cell 'amazon_reviews_us_Watches_v1_00-sample'.G67>, <Cell 'amazon_reviews_us_Watches_v1_00-sample'.H67>, <Cell 'amazon_reviews_us_Watches_v1_00-sample'.I67>, <Cell 'amazon_reviews_us_Watches_v1_00-sample'.J67>, <Cell 'amazon_reviews_us_Watches_v1_00-sample'.K67>, <Cell 'amazon_reviews_us_Watches_v1_00-sample'.L67>, <Cell 'amazon_reviews_us_Watches_v1_00-sample'.M67>, <Cell 'amazon_reviews_us_Watches_v1_00-sample'.N67>, <Cell 'amazon_reviews_us_Watches_v1_00-sample'.O67>)\n",
      "(<Cell 'amazon_reviews_us_Watches_v1_00-sample'.A68>, <Cell 'amazon_reviews_us_Watches_v1_00-sample'.B68>, <Cell 'amazon_reviews_us_Watches_v1_00-sample'.C68>, <Cell 'amazon_reviews_us_Watches_v1_00-sample'.D68>, <Cell 'amazon_reviews_us_Watches_v1_00-sample'.E68>, <Cell 'amazon_reviews_us_Watches_v1_00-sample'.F68>, <Cell 'amazon_reviews_us_Watches_v1_00-sample'.G68>, <Cell 'amazon_reviews_us_Watches_v1_00-sample'.H68>, <Cell 'amazon_reviews_us_Watches_v1_00-sample'.I68>, <Cell 'amazon_reviews_us_Watches_v1_00-sample'.J68>, <Cell 'amazon_reviews_us_Watches_v1_00-sample'.K68>, <Cell 'amazon_reviews_us_Watches_v1_00-sample'.L68>, <Cell 'amazon_reviews_us_Watches_v1_00-sample'.M68>, <Cell 'amazon_reviews_us_Watches_v1_00-sample'.N68>, <Cell 'amazon_reviews_us_Watches_v1_00-sample'.O68>)\n",
      "(<Cell 'amazon_reviews_us_Watches_v1_00-sample'.A69>, <Cell 'amazon_reviews_us_Watches_v1_00-sample'.B69>, <Cell 'amazon_reviews_us_Watches_v1_00-sample'.C69>, <Cell 'amazon_reviews_us_Watches_v1_00-sample'.D69>, <Cell 'amazon_reviews_us_Watches_v1_00-sample'.E69>, <Cell 'amazon_reviews_us_Watches_v1_00-sample'.F69>, <Cell 'amazon_reviews_us_Watches_v1_00-sample'.G69>, <Cell 'amazon_reviews_us_Watches_v1_00-sample'.H69>, <Cell 'amazon_reviews_us_Watches_v1_00-sample'.I69>, <Cell 'amazon_reviews_us_Watches_v1_00-sample'.J69>, <Cell 'amazon_reviews_us_Watches_v1_00-sample'.K69>, <Cell 'amazon_reviews_us_Watches_v1_00-sample'.L69>, <Cell 'amazon_reviews_us_Watches_v1_00-sample'.M69>, <Cell 'amazon_reviews_us_Watches_v1_00-sample'.N69>, <Cell 'amazon_reviews_us_Watches_v1_00-sample'.O69>)\n",
      "(<Cell 'amazon_reviews_us_Watches_v1_00-sample'.A70>, <Cell 'amazon_reviews_us_Watches_v1_00-sample'.B70>, <Cell 'amazon_reviews_us_Watches_v1_00-sample'.C70>, <Cell 'amazon_reviews_us_Watches_v1_00-sample'.D70>, <Cell 'amazon_reviews_us_Watches_v1_00-sample'.E70>, <Cell 'amazon_reviews_us_Watches_v1_00-sample'.F70>, <Cell 'amazon_reviews_us_Watches_v1_00-sample'.G70>, <Cell 'amazon_reviews_us_Watches_v1_00-sample'.H70>, <Cell 'amazon_reviews_us_Watches_v1_00-sample'.I70>, <Cell 'amazon_reviews_us_Watches_v1_00-sample'.J70>, <Cell 'amazon_reviews_us_Watches_v1_00-sample'.K70>, <Cell 'amazon_reviews_us_Watches_v1_00-sample'.L70>, <Cell 'amazon_reviews_us_Watches_v1_00-sample'.M70>, <Cell 'amazon_reviews_us_Watches_v1_00-sample'.N70>, <Cell 'amazon_reviews_us_Watches_v1_00-sample'.O70>)\n",
      "(<Cell 'amazon_reviews_us_Watches_v1_00-sample'.A71>, <Cell 'amazon_reviews_us_Watches_v1_00-sample'.B71>, <Cell 'amazon_reviews_us_Watches_v1_00-sample'.C71>, <Cell 'amazon_reviews_us_Watches_v1_00-sample'.D71>, <Cell 'amazon_reviews_us_Watches_v1_00-sample'.E71>, <Cell 'amazon_reviews_us_Watches_v1_00-sample'.F71>, <Cell 'amazon_reviews_us_Watches_v1_00-sample'.G71>, <Cell 'amazon_reviews_us_Watches_v1_00-sample'.H71>, <Cell 'amazon_reviews_us_Watches_v1_00-sample'.I71>, <Cell 'amazon_reviews_us_Watches_v1_00-sample'.J71>, <Cell 'amazon_reviews_us_Watches_v1_00-sample'.K71>, <Cell 'amazon_reviews_us_Watches_v1_00-sample'.L71>, <Cell 'amazon_reviews_us_Watches_v1_00-sample'.M71>, <Cell 'amazon_reviews_us_Watches_v1_00-sample'.N71>, <Cell 'amazon_reviews_us_Watches_v1_00-sample'.O71>)\n",
      "(<Cell 'amazon_reviews_us_Watches_v1_00-sample'.A72>, <Cell 'amazon_reviews_us_Watches_v1_00-sample'.B72>, <Cell 'amazon_reviews_us_Watches_v1_00-sample'.C72>, <Cell 'amazon_reviews_us_Watches_v1_00-sample'.D72>, <Cell 'amazon_reviews_us_Watches_v1_00-sample'.E72>, <Cell 'amazon_reviews_us_Watches_v1_00-sample'.F72>, <Cell 'amazon_reviews_us_Watches_v1_00-sample'.G72>, <Cell 'amazon_reviews_us_Watches_v1_00-sample'.H72>, <Cell 'amazon_reviews_us_Watches_v1_00-sample'.I72>, <Cell 'amazon_reviews_us_Watches_v1_00-sample'.J72>, <Cell 'amazon_reviews_us_Watches_v1_00-sample'.K72>, <Cell 'amazon_reviews_us_Watches_v1_00-sample'.L72>, <Cell 'amazon_reviews_us_Watches_v1_00-sample'.M72>, <Cell 'amazon_reviews_us_Watches_v1_00-sample'.N72>, <Cell 'amazon_reviews_us_Watches_v1_00-sample'.O72>)\n",
      "(<Cell 'amazon_reviews_us_Watches_v1_00-sample'.A73>, <Cell 'amazon_reviews_us_Watches_v1_00-sample'.B73>, <Cell 'amazon_reviews_us_Watches_v1_00-sample'.C73>, <Cell 'amazon_reviews_us_Watches_v1_00-sample'.D73>, <Cell 'amazon_reviews_us_Watches_v1_00-sample'.E73>, <Cell 'amazon_reviews_us_Watches_v1_00-sample'.F73>, <Cell 'amazon_reviews_us_Watches_v1_00-sample'.G73>, <Cell 'amazon_reviews_us_Watches_v1_00-sample'.H73>, <Cell 'amazon_reviews_us_Watches_v1_00-sample'.I73>, <Cell 'amazon_reviews_us_Watches_v1_00-sample'.J73>, <Cell 'amazon_reviews_us_Watches_v1_00-sample'.K73>, <Cell 'amazon_reviews_us_Watches_v1_00-sample'.L73>, <Cell 'amazon_reviews_us_Watches_v1_00-sample'.M73>, <Cell 'amazon_reviews_us_Watches_v1_00-sample'.N73>, <Cell 'amazon_reviews_us_Watches_v1_00-sample'.O73>)\n",
      "(<Cell 'amazon_reviews_us_Watches_v1_00-sample'.A74>, <Cell 'amazon_reviews_us_Watches_v1_00-sample'.B74>, <Cell 'amazon_reviews_us_Watches_v1_00-sample'.C74>, <Cell 'amazon_reviews_us_Watches_v1_00-sample'.D74>, <Cell 'amazon_reviews_us_Watches_v1_00-sample'.E74>, <Cell 'amazon_reviews_us_Watches_v1_00-sample'.F74>, <Cell 'amazon_reviews_us_Watches_v1_00-sample'.G74>, <Cell 'amazon_reviews_us_Watches_v1_00-sample'.H74>, <Cell 'amazon_reviews_us_Watches_v1_00-sample'.I74>, <Cell 'amazon_reviews_us_Watches_v1_00-sample'.J74>, <Cell 'amazon_reviews_us_Watches_v1_00-sample'.K74>, <Cell 'amazon_reviews_us_Watches_v1_00-sample'.L74>, <Cell 'amazon_reviews_us_Watches_v1_00-sample'.M74>, <Cell 'amazon_reviews_us_Watches_v1_00-sample'.N74>, <Cell 'amazon_reviews_us_Watches_v1_00-sample'.O74>)\n",
      "(<Cell 'amazon_reviews_us_Watches_v1_00-sample'.A75>, <Cell 'amazon_reviews_us_Watches_v1_00-sample'.B75>, <Cell 'amazon_reviews_us_Watches_v1_00-sample'.C75>, <Cell 'amazon_reviews_us_Watches_v1_00-sample'.D75>, <Cell 'amazon_reviews_us_Watches_v1_00-sample'.E75>, <Cell 'amazon_reviews_us_Watches_v1_00-sample'.F75>, <Cell 'amazon_reviews_us_Watches_v1_00-sample'.G75>, <Cell 'amazon_reviews_us_Watches_v1_00-sample'.H75>, <Cell 'amazon_reviews_us_Watches_v1_00-sample'.I75>, <Cell 'amazon_reviews_us_Watches_v1_00-sample'.J75>, <Cell 'amazon_reviews_us_Watches_v1_00-sample'.K75>, <Cell 'amazon_reviews_us_Watches_v1_00-sample'.L75>, <Cell 'amazon_reviews_us_Watches_v1_00-sample'.M75>, <Cell 'amazon_reviews_us_Watches_v1_00-sample'.N75>, <Cell 'amazon_reviews_us_Watches_v1_00-sample'.O75>)\n",
      "(<Cell 'amazon_reviews_us_Watches_v1_00-sample'.A76>, <Cell 'amazon_reviews_us_Watches_v1_00-sample'.B76>, <Cell 'amazon_reviews_us_Watches_v1_00-sample'.C76>, <Cell 'amazon_reviews_us_Watches_v1_00-sample'.D76>, <Cell 'amazon_reviews_us_Watches_v1_00-sample'.E76>, <Cell 'amazon_reviews_us_Watches_v1_00-sample'.F76>, <Cell 'amazon_reviews_us_Watches_v1_00-sample'.G76>, <Cell 'amazon_reviews_us_Watches_v1_00-sample'.H76>, <Cell 'amazon_reviews_us_Watches_v1_00-sample'.I76>, <Cell 'amazon_reviews_us_Watches_v1_00-sample'.J76>, <Cell 'amazon_reviews_us_Watches_v1_00-sample'.K76>, <Cell 'amazon_reviews_us_Watches_v1_00-sample'.L76>, <Cell 'amazon_reviews_us_Watches_v1_00-sample'.M76>, <Cell 'amazon_reviews_us_Watches_v1_00-sample'.N76>, <Cell 'amazon_reviews_us_Watches_v1_00-sample'.O76>)\n",
      "(<Cell 'amazon_reviews_us_Watches_v1_00-sample'.A77>, <Cell 'amazon_reviews_us_Watches_v1_00-sample'.B77>, <Cell 'amazon_reviews_us_Watches_v1_00-sample'.C77>, <Cell 'amazon_reviews_us_Watches_v1_00-sample'.D77>, <Cell 'amazon_reviews_us_Watches_v1_00-sample'.E77>, <Cell 'amazon_reviews_us_Watches_v1_00-sample'.F77>, <Cell 'amazon_reviews_us_Watches_v1_00-sample'.G77>, <Cell 'amazon_reviews_us_Watches_v1_00-sample'.H77>, <Cell 'amazon_reviews_us_Watches_v1_00-sample'.I77>, <Cell 'amazon_reviews_us_Watches_v1_00-sample'.J77>, <Cell 'amazon_reviews_us_Watches_v1_00-sample'.K77>, <Cell 'amazon_reviews_us_Watches_v1_00-sample'.L77>, <Cell 'amazon_reviews_us_Watches_v1_00-sample'.M77>, <Cell 'amazon_reviews_us_Watches_v1_00-sample'.N77>, <Cell 'amazon_reviews_us_Watches_v1_00-sample'.O77>)\n",
      "(<Cell 'amazon_reviews_us_Watches_v1_00-sample'.A78>, <Cell 'amazon_reviews_us_Watches_v1_00-sample'.B78>, <Cell 'amazon_reviews_us_Watches_v1_00-sample'.C78>, <Cell 'amazon_reviews_us_Watches_v1_00-sample'.D78>, <Cell 'amazon_reviews_us_Watches_v1_00-sample'.E78>, <Cell 'amazon_reviews_us_Watches_v1_00-sample'.F78>, <Cell 'amazon_reviews_us_Watches_v1_00-sample'.G78>, <Cell 'amazon_reviews_us_Watches_v1_00-sample'.H78>, <Cell 'amazon_reviews_us_Watches_v1_00-sample'.I78>, <Cell 'amazon_reviews_us_Watches_v1_00-sample'.J78>, <Cell 'amazon_reviews_us_Watches_v1_00-sample'.K78>, <Cell 'amazon_reviews_us_Watches_v1_00-sample'.L78>, <Cell 'amazon_reviews_us_Watches_v1_00-sample'.M78>, <Cell 'amazon_reviews_us_Watches_v1_00-sample'.N78>, <Cell 'amazon_reviews_us_Watches_v1_00-sample'.O78>)\n",
      "(<Cell 'amazon_reviews_us_Watches_v1_00-sample'.A79>, <Cell 'amazon_reviews_us_Watches_v1_00-sample'.B79>, <Cell 'amazon_reviews_us_Watches_v1_00-sample'.C79>, <Cell 'amazon_reviews_us_Watches_v1_00-sample'.D79>, <Cell 'amazon_reviews_us_Watches_v1_00-sample'.E79>, <Cell 'amazon_reviews_us_Watches_v1_00-sample'.F79>, <Cell 'amazon_reviews_us_Watches_v1_00-sample'.G79>, <Cell 'amazon_reviews_us_Watches_v1_00-sample'.H79>, <Cell 'amazon_reviews_us_Watches_v1_00-sample'.I79>, <Cell 'amazon_reviews_us_Watches_v1_00-sample'.J79>, <Cell 'amazon_reviews_us_Watches_v1_00-sample'.K79>, <Cell 'amazon_reviews_us_Watches_v1_00-sample'.L79>, <Cell 'amazon_reviews_us_Watches_v1_00-sample'.M79>, <Cell 'amazon_reviews_us_Watches_v1_00-sample'.N79>, <Cell 'amazon_reviews_us_Watches_v1_00-sample'.O79>)\n",
      "(<Cell 'amazon_reviews_us_Watches_v1_00-sample'.A80>, <Cell 'amazon_reviews_us_Watches_v1_00-sample'.B80>, <Cell 'amazon_reviews_us_Watches_v1_00-sample'.C80>, <Cell 'amazon_reviews_us_Watches_v1_00-sample'.D80>, <Cell 'amazon_reviews_us_Watches_v1_00-sample'.E80>, <Cell 'amazon_reviews_us_Watches_v1_00-sample'.F80>, <Cell 'amazon_reviews_us_Watches_v1_00-sample'.G80>, <Cell 'amazon_reviews_us_Watches_v1_00-sample'.H80>, <Cell 'amazon_reviews_us_Watches_v1_00-sample'.I80>, <Cell 'amazon_reviews_us_Watches_v1_00-sample'.J80>, <Cell 'amazon_reviews_us_Watches_v1_00-sample'.K80>, <Cell 'amazon_reviews_us_Watches_v1_00-sample'.L80>, <Cell 'amazon_reviews_us_Watches_v1_00-sample'.M80>, <Cell 'amazon_reviews_us_Watches_v1_00-sample'.N80>, <Cell 'amazon_reviews_us_Watches_v1_00-sample'.O80>)\n",
      "(<Cell 'amazon_reviews_us_Watches_v1_00-sample'.A81>, <Cell 'amazon_reviews_us_Watches_v1_00-sample'.B81>, <Cell 'amazon_reviews_us_Watches_v1_00-sample'.C81>, <Cell 'amazon_reviews_us_Watches_v1_00-sample'.D81>, <Cell 'amazon_reviews_us_Watches_v1_00-sample'.E81>, <Cell 'amazon_reviews_us_Watches_v1_00-sample'.F81>, <Cell 'amazon_reviews_us_Watches_v1_00-sample'.G81>, <Cell 'amazon_reviews_us_Watches_v1_00-sample'.H81>, <Cell 'amazon_reviews_us_Watches_v1_00-sample'.I81>, <Cell 'amazon_reviews_us_Watches_v1_00-sample'.J81>, <Cell 'amazon_reviews_us_Watches_v1_00-sample'.K81>, <Cell 'amazon_reviews_us_Watches_v1_00-sample'.L81>, <Cell 'amazon_reviews_us_Watches_v1_00-sample'.M81>, <Cell 'amazon_reviews_us_Watches_v1_00-sample'.N81>, <Cell 'amazon_reviews_us_Watches_v1_00-sample'.O81>)\n",
      "(<Cell 'amazon_reviews_us_Watches_v1_00-sample'.A82>, <Cell 'amazon_reviews_us_Watches_v1_00-sample'.B82>, <Cell 'amazon_reviews_us_Watches_v1_00-sample'.C82>, <Cell 'amazon_reviews_us_Watches_v1_00-sample'.D82>, <Cell 'amazon_reviews_us_Watches_v1_00-sample'.E82>, <Cell 'amazon_reviews_us_Watches_v1_00-sample'.F82>, <Cell 'amazon_reviews_us_Watches_v1_00-sample'.G82>, <Cell 'amazon_reviews_us_Watches_v1_00-sample'.H82>, <Cell 'amazon_reviews_us_Watches_v1_00-sample'.I82>, <Cell 'amazon_reviews_us_Watches_v1_00-sample'.J82>, <Cell 'amazon_reviews_us_Watches_v1_00-sample'.K82>, <Cell 'amazon_reviews_us_Watches_v1_00-sample'.L82>, <Cell 'amazon_reviews_us_Watches_v1_00-sample'.M82>, <Cell 'amazon_reviews_us_Watches_v1_00-sample'.N82>, <Cell 'amazon_reviews_us_Watches_v1_00-sample'.O82>)\n",
      "(<Cell 'amazon_reviews_us_Watches_v1_00-sample'.A83>, <Cell 'amazon_reviews_us_Watches_v1_00-sample'.B83>, <Cell 'amazon_reviews_us_Watches_v1_00-sample'.C83>, <Cell 'amazon_reviews_us_Watches_v1_00-sample'.D83>, <Cell 'amazon_reviews_us_Watches_v1_00-sample'.E83>, <Cell 'amazon_reviews_us_Watches_v1_00-sample'.F83>, <Cell 'amazon_reviews_us_Watches_v1_00-sample'.G83>, <Cell 'amazon_reviews_us_Watches_v1_00-sample'.H83>, <Cell 'amazon_reviews_us_Watches_v1_00-sample'.I83>, <Cell 'amazon_reviews_us_Watches_v1_00-sample'.J83>, <Cell 'amazon_reviews_us_Watches_v1_00-sample'.K83>, <Cell 'amazon_reviews_us_Watches_v1_00-sample'.L83>, <Cell 'amazon_reviews_us_Watches_v1_00-sample'.M83>, <Cell 'amazon_reviews_us_Watches_v1_00-sample'.N83>, <Cell 'amazon_reviews_us_Watches_v1_00-sample'.O83>)\n",
      "(<Cell 'amazon_reviews_us_Watches_v1_00-sample'.A84>, <Cell 'amazon_reviews_us_Watches_v1_00-sample'.B84>, <Cell 'amazon_reviews_us_Watches_v1_00-sample'.C84>, <Cell 'amazon_reviews_us_Watches_v1_00-sample'.D84>, <Cell 'amazon_reviews_us_Watches_v1_00-sample'.E84>, <Cell 'amazon_reviews_us_Watches_v1_00-sample'.F84>, <Cell 'amazon_reviews_us_Watches_v1_00-sample'.G84>, <Cell 'amazon_reviews_us_Watches_v1_00-sample'.H84>, <Cell 'amazon_reviews_us_Watches_v1_00-sample'.I84>, <Cell 'amazon_reviews_us_Watches_v1_00-sample'.J84>, <Cell 'amazon_reviews_us_Watches_v1_00-sample'.K84>, <Cell 'amazon_reviews_us_Watches_v1_00-sample'.L84>, <Cell 'amazon_reviews_us_Watches_v1_00-sample'.M84>, <Cell 'amazon_reviews_us_Watches_v1_00-sample'.N84>, <Cell 'amazon_reviews_us_Watches_v1_00-sample'.O84>)\n",
      "(<Cell 'amazon_reviews_us_Watches_v1_00-sample'.A85>, <Cell 'amazon_reviews_us_Watches_v1_00-sample'.B85>, <Cell 'amazon_reviews_us_Watches_v1_00-sample'.C85>, <Cell 'amazon_reviews_us_Watches_v1_00-sample'.D85>, <Cell 'amazon_reviews_us_Watches_v1_00-sample'.E85>, <Cell 'amazon_reviews_us_Watches_v1_00-sample'.F85>, <Cell 'amazon_reviews_us_Watches_v1_00-sample'.G85>, <Cell 'amazon_reviews_us_Watches_v1_00-sample'.H85>, <Cell 'amazon_reviews_us_Watches_v1_00-sample'.I85>, <Cell 'amazon_reviews_us_Watches_v1_00-sample'.J85>, <Cell 'amazon_reviews_us_Watches_v1_00-sample'.K85>, <Cell 'amazon_reviews_us_Watches_v1_00-sample'.L85>, <Cell 'amazon_reviews_us_Watches_v1_00-sample'.M85>, <Cell 'amazon_reviews_us_Watches_v1_00-sample'.N85>, <Cell 'amazon_reviews_us_Watches_v1_00-sample'.O85>)\n",
      "(<Cell 'amazon_reviews_us_Watches_v1_00-sample'.A86>, <Cell 'amazon_reviews_us_Watches_v1_00-sample'.B86>, <Cell 'amazon_reviews_us_Watches_v1_00-sample'.C86>, <Cell 'amazon_reviews_us_Watches_v1_00-sample'.D86>, <Cell 'amazon_reviews_us_Watches_v1_00-sample'.E86>, <Cell 'amazon_reviews_us_Watches_v1_00-sample'.F86>, <Cell 'amazon_reviews_us_Watches_v1_00-sample'.G86>, <Cell 'amazon_reviews_us_Watches_v1_00-sample'.H86>, <Cell 'amazon_reviews_us_Watches_v1_00-sample'.I86>, <Cell 'amazon_reviews_us_Watches_v1_00-sample'.J86>, <Cell 'amazon_reviews_us_Watches_v1_00-sample'.K86>, <Cell 'amazon_reviews_us_Watches_v1_00-sample'.L86>, <Cell 'amazon_reviews_us_Watches_v1_00-sample'.M86>, <Cell 'amazon_reviews_us_Watches_v1_00-sample'.N86>, <Cell 'amazon_reviews_us_Watches_v1_00-sample'.O86>)\n",
      "(<Cell 'amazon_reviews_us_Watches_v1_00-sample'.A87>, <Cell 'amazon_reviews_us_Watches_v1_00-sample'.B87>, <Cell 'amazon_reviews_us_Watches_v1_00-sample'.C87>, <Cell 'amazon_reviews_us_Watches_v1_00-sample'.D87>, <Cell 'amazon_reviews_us_Watches_v1_00-sample'.E87>, <Cell 'amazon_reviews_us_Watches_v1_00-sample'.F87>, <Cell 'amazon_reviews_us_Watches_v1_00-sample'.G87>, <Cell 'amazon_reviews_us_Watches_v1_00-sample'.H87>, <Cell 'amazon_reviews_us_Watches_v1_00-sample'.I87>, <Cell 'amazon_reviews_us_Watches_v1_00-sample'.J87>, <Cell 'amazon_reviews_us_Watches_v1_00-sample'.K87>, <Cell 'amazon_reviews_us_Watches_v1_00-sample'.L87>, <Cell 'amazon_reviews_us_Watches_v1_00-sample'.M87>, <Cell 'amazon_reviews_us_Watches_v1_00-sample'.N87>, <Cell 'amazon_reviews_us_Watches_v1_00-sample'.O87>)\n",
      "(<Cell 'amazon_reviews_us_Watches_v1_00-sample'.A88>, <Cell 'amazon_reviews_us_Watches_v1_00-sample'.B88>, <Cell 'amazon_reviews_us_Watches_v1_00-sample'.C88>, <Cell 'amazon_reviews_us_Watches_v1_00-sample'.D88>, <Cell 'amazon_reviews_us_Watches_v1_00-sample'.E88>, <Cell 'amazon_reviews_us_Watches_v1_00-sample'.F88>, <Cell 'amazon_reviews_us_Watches_v1_00-sample'.G88>, <Cell 'amazon_reviews_us_Watches_v1_00-sample'.H88>, <Cell 'amazon_reviews_us_Watches_v1_00-sample'.I88>, <Cell 'amazon_reviews_us_Watches_v1_00-sample'.J88>, <Cell 'amazon_reviews_us_Watches_v1_00-sample'.K88>, <Cell 'amazon_reviews_us_Watches_v1_00-sample'.L88>, <Cell 'amazon_reviews_us_Watches_v1_00-sample'.M88>, <Cell 'amazon_reviews_us_Watches_v1_00-sample'.N88>, <Cell 'amazon_reviews_us_Watches_v1_00-sample'.O88>)\n",
      "(<Cell 'amazon_reviews_us_Watches_v1_00-sample'.A89>, <Cell 'amazon_reviews_us_Watches_v1_00-sample'.B89>, <Cell 'amazon_reviews_us_Watches_v1_00-sample'.C89>, <Cell 'amazon_reviews_us_Watches_v1_00-sample'.D89>, <Cell 'amazon_reviews_us_Watches_v1_00-sample'.E89>, <Cell 'amazon_reviews_us_Watches_v1_00-sample'.F89>, <Cell 'amazon_reviews_us_Watches_v1_00-sample'.G89>, <Cell 'amazon_reviews_us_Watches_v1_00-sample'.H89>, <Cell 'amazon_reviews_us_Watches_v1_00-sample'.I89>, <Cell 'amazon_reviews_us_Watches_v1_00-sample'.J89>, <Cell 'amazon_reviews_us_Watches_v1_00-sample'.K89>, <Cell 'amazon_reviews_us_Watches_v1_00-sample'.L89>, <Cell 'amazon_reviews_us_Watches_v1_00-sample'.M89>, <Cell 'amazon_reviews_us_Watches_v1_00-sample'.N89>, <Cell 'amazon_reviews_us_Watches_v1_00-sample'.O89>)\n",
      "(<Cell 'amazon_reviews_us_Watches_v1_00-sample'.A90>, <Cell 'amazon_reviews_us_Watches_v1_00-sample'.B90>, <Cell 'amazon_reviews_us_Watches_v1_00-sample'.C90>, <Cell 'amazon_reviews_us_Watches_v1_00-sample'.D90>, <Cell 'amazon_reviews_us_Watches_v1_00-sample'.E90>, <Cell 'amazon_reviews_us_Watches_v1_00-sample'.F90>, <Cell 'amazon_reviews_us_Watches_v1_00-sample'.G90>, <Cell 'amazon_reviews_us_Watches_v1_00-sample'.H90>, <Cell 'amazon_reviews_us_Watches_v1_00-sample'.I90>, <Cell 'amazon_reviews_us_Watches_v1_00-sample'.J90>, <Cell 'amazon_reviews_us_Watches_v1_00-sample'.K90>, <Cell 'amazon_reviews_us_Watches_v1_00-sample'.L90>, <Cell 'amazon_reviews_us_Watches_v1_00-sample'.M90>, <Cell 'amazon_reviews_us_Watches_v1_00-sample'.N90>, <Cell 'amazon_reviews_us_Watches_v1_00-sample'.O90>)\n",
      "(<Cell 'amazon_reviews_us_Watches_v1_00-sample'.A91>, <Cell 'amazon_reviews_us_Watches_v1_00-sample'.B91>, <Cell 'amazon_reviews_us_Watches_v1_00-sample'.C91>, <Cell 'amazon_reviews_us_Watches_v1_00-sample'.D91>, <Cell 'amazon_reviews_us_Watches_v1_00-sample'.E91>, <Cell 'amazon_reviews_us_Watches_v1_00-sample'.F91>, <Cell 'amazon_reviews_us_Watches_v1_00-sample'.G91>, <Cell 'amazon_reviews_us_Watches_v1_00-sample'.H91>, <Cell 'amazon_reviews_us_Watches_v1_00-sample'.I91>, <Cell 'amazon_reviews_us_Watches_v1_00-sample'.J91>, <Cell 'amazon_reviews_us_Watches_v1_00-sample'.K91>, <Cell 'amazon_reviews_us_Watches_v1_00-sample'.L91>, <Cell 'amazon_reviews_us_Watches_v1_00-sample'.M91>, <Cell 'amazon_reviews_us_Watches_v1_00-sample'.N91>, <Cell 'amazon_reviews_us_Watches_v1_00-sample'.O91>)\n",
      "(<Cell 'amazon_reviews_us_Watches_v1_00-sample'.A92>, <Cell 'amazon_reviews_us_Watches_v1_00-sample'.B92>, <Cell 'amazon_reviews_us_Watches_v1_00-sample'.C92>, <Cell 'amazon_reviews_us_Watches_v1_00-sample'.D92>, <Cell 'amazon_reviews_us_Watches_v1_00-sample'.E92>, <Cell 'amazon_reviews_us_Watches_v1_00-sample'.F92>, <Cell 'amazon_reviews_us_Watches_v1_00-sample'.G92>, <Cell 'amazon_reviews_us_Watches_v1_00-sample'.H92>, <Cell 'amazon_reviews_us_Watches_v1_00-sample'.I92>, <Cell 'amazon_reviews_us_Watches_v1_00-sample'.J92>, <Cell 'amazon_reviews_us_Watches_v1_00-sample'.K92>, <Cell 'amazon_reviews_us_Watches_v1_00-sample'.L92>, <Cell 'amazon_reviews_us_Watches_v1_00-sample'.M92>, <Cell 'amazon_reviews_us_Watches_v1_00-sample'.N92>, <Cell 'amazon_reviews_us_Watches_v1_00-sample'.O92>)\n",
      "(<Cell 'amazon_reviews_us_Watches_v1_00-sample'.A93>, <Cell 'amazon_reviews_us_Watches_v1_00-sample'.B93>, <Cell 'amazon_reviews_us_Watches_v1_00-sample'.C93>, <Cell 'amazon_reviews_us_Watches_v1_00-sample'.D93>, <Cell 'amazon_reviews_us_Watches_v1_00-sample'.E93>, <Cell 'amazon_reviews_us_Watches_v1_00-sample'.F93>, <Cell 'amazon_reviews_us_Watches_v1_00-sample'.G93>, <Cell 'amazon_reviews_us_Watches_v1_00-sample'.H93>, <Cell 'amazon_reviews_us_Watches_v1_00-sample'.I93>, <Cell 'amazon_reviews_us_Watches_v1_00-sample'.J93>, <Cell 'amazon_reviews_us_Watches_v1_00-sample'.K93>, <Cell 'amazon_reviews_us_Watches_v1_00-sample'.L93>, <Cell 'amazon_reviews_us_Watches_v1_00-sample'.M93>, <Cell 'amazon_reviews_us_Watches_v1_00-sample'.N93>, <Cell 'amazon_reviews_us_Watches_v1_00-sample'.O93>)\n",
      "(<Cell 'amazon_reviews_us_Watches_v1_00-sample'.A94>, <Cell 'amazon_reviews_us_Watches_v1_00-sample'.B94>, <Cell 'amazon_reviews_us_Watches_v1_00-sample'.C94>, <Cell 'amazon_reviews_us_Watches_v1_00-sample'.D94>, <Cell 'amazon_reviews_us_Watches_v1_00-sample'.E94>, <Cell 'amazon_reviews_us_Watches_v1_00-sample'.F94>, <Cell 'amazon_reviews_us_Watches_v1_00-sample'.G94>, <Cell 'amazon_reviews_us_Watches_v1_00-sample'.H94>, <Cell 'amazon_reviews_us_Watches_v1_00-sample'.I94>, <Cell 'amazon_reviews_us_Watches_v1_00-sample'.J94>, <Cell 'amazon_reviews_us_Watches_v1_00-sample'.K94>, <Cell 'amazon_reviews_us_Watches_v1_00-sample'.L94>, <Cell 'amazon_reviews_us_Watches_v1_00-sample'.M94>, <Cell 'amazon_reviews_us_Watches_v1_00-sample'.N94>, <Cell 'amazon_reviews_us_Watches_v1_00-sample'.O94>)\n",
      "(<Cell 'amazon_reviews_us_Watches_v1_00-sample'.A95>, <Cell 'amazon_reviews_us_Watches_v1_00-sample'.B95>, <Cell 'amazon_reviews_us_Watches_v1_00-sample'.C95>, <Cell 'amazon_reviews_us_Watches_v1_00-sample'.D95>, <Cell 'amazon_reviews_us_Watches_v1_00-sample'.E95>, <Cell 'amazon_reviews_us_Watches_v1_00-sample'.F95>, <Cell 'amazon_reviews_us_Watches_v1_00-sample'.G95>, <Cell 'amazon_reviews_us_Watches_v1_00-sample'.H95>, <Cell 'amazon_reviews_us_Watches_v1_00-sample'.I95>, <Cell 'amazon_reviews_us_Watches_v1_00-sample'.J95>, <Cell 'amazon_reviews_us_Watches_v1_00-sample'.K95>, <Cell 'amazon_reviews_us_Watches_v1_00-sample'.L95>, <Cell 'amazon_reviews_us_Watches_v1_00-sample'.M95>, <Cell 'amazon_reviews_us_Watches_v1_00-sample'.N95>, <Cell 'amazon_reviews_us_Watches_v1_00-sample'.O95>)\n",
      "(<Cell 'amazon_reviews_us_Watches_v1_00-sample'.A96>, <Cell 'amazon_reviews_us_Watches_v1_00-sample'.B96>, <Cell 'amazon_reviews_us_Watches_v1_00-sample'.C96>, <Cell 'amazon_reviews_us_Watches_v1_00-sample'.D96>, <Cell 'amazon_reviews_us_Watches_v1_00-sample'.E96>, <Cell 'amazon_reviews_us_Watches_v1_00-sample'.F96>, <Cell 'amazon_reviews_us_Watches_v1_00-sample'.G96>, <Cell 'amazon_reviews_us_Watches_v1_00-sample'.H96>, <Cell 'amazon_reviews_us_Watches_v1_00-sample'.I96>, <Cell 'amazon_reviews_us_Watches_v1_00-sample'.J96>, <Cell 'amazon_reviews_us_Watches_v1_00-sample'.K96>, <Cell 'amazon_reviews_us_Watches_v1_00-sample'.L96>, <Cell 'amazon_reviews_us_Watches_v1_00-sample'.M96>, <Cell 'amazon_reviews_us_Watches_v1_00-sample'.N96>, <Cell 'amazon_reviews_us_Watches_v1_00-sample'.O96>)\n",
      "(<Cell 'amazon_reviews_us_Watches_v1_00-sample'.A97>, <Cell 'amazon_reviews_us_Watches_v1_00-sample'.B97>, <Cell 'amazon_reviews_us_Watches_v1_00-sample'.C97>, <Cell 'amazon_reviews_us_Watches_v1_00-sample'.D97>, <Cell 'amazon_reviews_us_Watches_v1_00-sample'.E97>, <Cell 'amazon_reviews_us_Watches_v1_00-sample'.F97>, <Cell 'amazon_reviews_us_Watches_v1_00-sample'.G97>, <Cell 'amazon_reviews_us_Watches_v1_00-sample'.H97>, <Cell 'amazon_reviews_us_Watches_v1_00-sample'.I97>, <Cell 'amazon_reviews_us_Watches_v1_00-sample'.J97>, <Cell 'amazon_reviews_us_Watches_v1_00-sample'.K97>, <Cell 'amazon_reviews_us_Watches_v1_00-sample'.L97>, <Cell 'amazon_reviews_us_Watches_v1_00-sample'.M97>, <Cell 'amazon_reviews_us_Watches_v1_00-sample'.N97>, <Cell 'amazon_reviews_us_Watches_v1_00-sample'.O97>)\n",
      "(<Cell 'amazon_reviews_us_Watches_v1_00-sample'.A98>, <Cell 'amazon_reviews_us_Watches_v1_00-sample'.B98>, <Cell 'amazon_reviews_us_Watches_v1_00-sample'.C98>, <Cell 'amazon_reviews_us_Watches_v1_00-sample'.D98>, <Cell 'amazon_reviews_us_Watches_v1_00-sample'.E98>, <Cell 'amazon_reviews_us_Watches_v1_00-sample'.F98>, <Cell 'amazon_reviews_us_Watches_v1_00-sample'.G98>, <Cell 'amazon_reviews_us_Watches_v1_00-sample'.H98>, <Cell 'amazon_reviews_us_Watches_v1_00-sample'.I98>, <Cell 'amazon_reviews_us_Watches_v1_00-sample'.J98>, <Cell 'amazon_reviews_us_Watches_v1_00-sample'.K98>, <Cell 'amazon_reviews_us_Watches_v1_00-sample'.L98>, <Cell 'amazon_reviews_us_Watches_v1_00-sample'.M98>, <Cell 'amazon_reviews_us_Watches_v1_00-sample'.N98>, <Cell 'amazon_reviews_us_Watches_v1_00-sample'.O98>)\n",
      "(<Cell 'amazon_reviews_us_Watches_v1_00-sample'.A99>, <Cell 'amazon_reviews_us_Watches_v1_00-sample'.B99>, <Cell 'amazon_reviews_us_Watches_v1_00-sample'.C99>, <Cell 'amazon_reviews_us_Watches_v1_00-sample'.D99>, <Cell 'amazon_reviews_us_Watches_v1_00-sample'.E99>, <Cell 'amazon_reviews_us_Watches_v1_00-sample'.F99>, <Cell 'amazon_reviews_us_Watches_v1_00-sample'.G99>, <Cell 'amazon_reviews_us_Watches_v1_00-sample'.H99>, <Cell 'amazon_reviews_us_Watches_v1_00-sample'.I99>, <Cell 'amazon_reviews_us_Watches_v1_00-sample'.J99>, <Cell 'amazon_reviews_us_Watches_v1_00-sample'.K99>, <Cell 'amazon_reviews_us_Watches_v1_00-sample'.L99>, <Cell 'amazon_reviews_us_Watches_v1_00-sample'.M99>, <Cell 'amazon_reviews_us_Watches_v1_00-sample'.N99>, <Cell 'amazon_reviews_us_Watches_v1_00-sample'.O99>)\n",
      "(<Cell 'amazon_reviews_us_Watches_v1_00-sample'.A100>, <Cell 'amazon_reviews_us_Watches_v1_00-sample'.B100>, <Cell 'amazon_reviews_us_Watches_v1_00-sample'.C100>, <Cell 'amazon_reviews_us_Watches_v1_00-sample'.D100>, <Cell 'amazon_reviews_us_Watches_v1_00-sample'.E100>, <Cell 'amazon_reviews_us_Watches_v1_00-sample'.F100>, <Cell 'amazon_reviews_us_Watches_v1_00-sample'.G100>, <Cell 'amazon_reviews_us_Watches_v1_00-sample'.H100>, <Cell 'amazon_reviews_us_Watches_v1_00-sample'.I100>, <Cell 'amazon_reviews_us_Watches_v1_00-sample'.J100>, <Cell 'amazon_reviews_us_Watches_v1_00-sample'.K100>, <Cell 'amazon_reviews_us_Watches_v1_00-sample'.L100>, <Cell 'amazon_reviews_us_Watches_v1_00-sample'.M100>, <Cell 'amazon_reviews_us_Watches_v1_00-sample'.N100>, <Cell 'amazon_reviews_us_Watches_v1_00-sample'.O100>)\n"
     ]
    }
   ],
   "source": [
    "for row in sheet.rows:\n",
    "    print(row)"
   ]
  },
  {
   "cell_type": "markdown",
   "id": "cda84462-99ba-4b14-b31a-e21a9209f4c0",
   "metadata": {
    "jp-MarkdownHeadingCollapsed": true,
    "tags": []
   },
   "source": [
    "# Manipulate Data Using Python’s Default Data Structures"
   ]
  },
  {
   "cell_type": "code",
   "execution_count": 16,
   "id": "a37ab208-e988-4298-a517-4f06d4ab2ac4",
   "metadata": {
    "tags": []
   },
   "outputs": [
    {
     "name": "stdout",
     "output_type": "stream",
     "text": [
      "('marketplace', 'customer_id', 'review_id', 'product_id', 'product_parent', 'product_title', 'product_category', 'star_rating', 'helpful_votes', 'total_votes', 'vine', 'verified_purchase', 'review_headline', 'review_body', 'review_date')\n"
     ]
    }
   ],
   "source": [
    "# export headers\n",
    "for value in sheet.iter_rows(min_row=1, max_row=1,\n",
    "                            values_only=True):\n",
    "    print(value)"
   ]
  },
  {
   "cell_type": "markdown",
   "id": "f0aaf601-5762-407f-b96f-405ed9688466",
   "metadata": {},
   "source": [
    "I would like to get data from \"product_id\", \"product_parent\", \"product_title\", \"product_category\""
   ]
  },
  {
   "cell_type": "code",
   "execution_count": 17,
   "id": "ece5c12b-92e4-4a73-8959-8ba6f99e9ca3",
   "metadata": {
    "tags": []
   },
   "outputs": [
    {
     "name": "stdout",
     "output_type": "stream",
     "text": [
      "('B00FALQ1ZC', 937001370, 'Invicta Women\\'s 15150 \"Angel\" 18k Yellow Gold Ion-Plated Stainless Steel and Brown Leather Watch', 'Watches')\n",
      "('B00D3RGO20', 484010722, \"Kenneth Cole New York Women's KC4944 Automatic Silver Automatic Mesh Bracelet Analog Watch\", 'Watches')\n",
      "('B00DKYC7TK', 361166390, 'Ritche 22mm Black Stainless Steel Bracelet Watch Band Strap Pebble Time/Pebble Classic', 'Watches')\n",
      "('B000EQS1JW', 958035625, \"Citizen Men's BM8180-03E Eco-Drive Stainless Steel Watch with Green Canvas Band\", 'Watches')\n",
      "('B00A6GFD7S', 765328221, \"Orient ER27009B Men's Symphony Automatic Stainless Steel Black Dial Mechanical Watch\", 'Watches')\n",
      "('B00EYSOSE8', 230493695, \"Casio Men's GW-9400BJ-1JF G-Shock Master of G Rangeman Digital Solar Black Carbon Fiber Insert Watch\", 'Watches')\n",
      "('B00WM0QA3M', 549298279, \"Fossil Women's ES3851 Urban Traveler Multifunction Stainless Steel Watch - Rose\", 'Watches')\n",
      "('B00A4EYBR0', 844009113, 'INFANTRY Mens Night Vision Analog Quartz Wrist Watch with Nato Nylon Watchband-Red.', 'Watches')\n",
      "('B00MAMPGGE', 263720892, \"G-Shock Men's Grey Sport Watch\", 'Watches')\n",
      "('B004LBPB7Q', 124278407, 'Heiden Quad Watch Winder in Black Leather', 'Watches')\n",
      "('B00KGTVGKS', 28017857, \"Fossil Women's ES3621 Serena Crystal-Accented Two-Tone Stainless Steel Watch\", 'Watches')\n",
      "('B0039UT5OU', 685450910, \"Casio General Men's Watches Sporty Digital AE-2000W-1AVDF - WW\", 'Watches')\n",
      "('B00MPF0XJQ', 767769082, '2Tone Gold Silver Cable Band Ladies Bangle Cuff Watch', 'Watches')\n",
      "('B003P1OHHS', 648595227, \"Bulova Men's 98B143 Precisionist Charcoal Grey Dial Bracelet Watch\", 'Watches')\n",
      "('B00R70YEOE', 457338020, 'Casio - G-Shock - Gulfmaster - Black - GWN1000C-1A', 'Watches')\n",
      "('B000FVE3BG', 824370661, \"Invicta Men's 3329 Force Collection Lefty Watch\", 'Watches')\n",
      "('B008X6JB12', 814431355, \"Seiko Women's SUT068 Dress Solar Classic Diamond-Accented Two-Tone Stainless Steel Watch\", 'Watches')\n",
      "('B0040UOFPW', 187700878, \"Anne Klein Women's 109271MPTT Swarovski Crystal Accented Two-Tone Multi-Chain Bracelet Watch\", 'Watches')\n",
      "('B00UR2R5UY', 594315262, \"Guess U13630G1 Men's day and date Gunmetal dial Gunmetal tone bracelet\", 'Watches')\n",
      "('B00HFF57L0', 520810507, \"Nixon Men's Geo Volt Sentry Stainless Steel Watch with Link Bracelet\", 'Watches')\n",
      "('B00F5O06E6', 601596859, \"Nautica Men's N14699G BFD 101 Chrono Classic Stainless Steel Watch with Brown Band\", 'Watches')\n",
      "('B00CHS398I', 798261110, 'HDE Watch Link Pin Remover Band Strap Repair Tool Kit for Watchmakers with Pack of 3 Extra Pins', 'Watches')\n",
      "('B003OQ4TA4', 557813802, \"Timex Women's Q7B860 Padded Calfskin 8mm Black Replacement Watchband\", 'Watches')\n",
      "('B007X0SYEY', 22870009, 'Movado Men\\'s 0606545 \"Museum\" Perforated Black-Rubber Strap Sport Watch', 'Watches')\n",
      "('B005KPL7FM', 269520616, \"Invicta Men's 6674 Corduba Chronograph Black Dial Polyurethane Watch\", 'Watches')\n",
      "('B00FNIFI2O', 330558574, \"Szanto Men's SZ 2001 2000 Series Classic Vintage-Inspired Stainless Steel Watch with Pebbled Leather Band\", 'Watches')\n",
      "('B005JVP0FU', 220345054, \"Casio Men's MRW200H-7EV Sport Resin Watch\", 'Watches')\n",
      "('B004M23SDI', 299884359, 'Casio F-108WH-2AEF Mens Blue Digital Watch', 'Watches')\n",
      "('B00RV2L8CE', 714311106, \"August Steiner Men's AS8160TTG Silver And Gold Swiss Quartz Watch with Black Dial and Two Tone Bracelet\", 'Watches')\n",
      "('B000JQJS6M', 926299553, \"Invicta Men's 8928OB Pro Diver Gold Stainless Steel Two-Tone Automatic Watch\", 'Watches')\n",
      "('B00VXLJD44', 578998634, \"BOS Men's Automatic self-wind mechanical Pointer Skeleton Watch Black Dial Stainless Steel Band 9008\", 'Watches')\n",
      "('B004EFGBW8', 727624097, \"Luminox Men's 3081 Evo Navy SEAL Chronograph Watch\", 'Watches')\n",
      "('B00G9X76DG', 86861596, 'INFANTRY Mens 50mm Big Face Military Tactical Analog Digital Sport Wrist Watch Black Silicone Band', 'Watches')\n",
      "('B00SFTTZ9U', 8403354, \"BUREI Dress Women's Minimalist Wrist Watches with Date Analog Quartz Stainless Steel and Ultra Slim Dial\", 'Watches')\n",
      "('B00NC8PMUK', 944169262, 'Motorola Moto 360 Modern Timepiece Smart Watch - Black Leather 00418NARTL', 'Watches')\n",
      "('B00C1C5J9W', 851584415, 'Domire Fashion Accessories Trial Order New Quartz Fashion Weave Wrap Around Leather Bracelet Lady Woman Butterfly Wrist Watch', 'Watches')\n",
      "('B000GB0G5M', 492842685, \"Casio Women's LQ139B-1B Classic Round Analog Watch\", 'Watches')\n",
      "('B00F8AWMXA', 397647155, \"Invicta Men's 15256 I-Force Gunmetal Ion-Plated Stainless Steel Watch with Black Leather Strap\", 'Watches')\n",
      "('B005MDPAPU', 645499118, \"Casio Men's Slim Solar Multi-Function Analog-Digital Watch\", 'Watches')\n",
      "('B006C8NJY8', 865472849, 'TS6202BLK 8 Belt Box Organizer Black Leather XL Compartments', 'Watches')\n",
      "('B00791YURC', 310034618, \"Casio Men's GW2310FB-1CR G-Shock Shock Resistant Multifunction Watch\", 'Watches')\n",
      "('B00S69FO0I', 406011595, \"U.S. Polo Assn. Sport Men's US9506 Analog-Digital Display Silver-Tone Watch with Textured Band\", 'Watches')\n",
      "('B00C7IQBRY', 201258316, \"Cerentino Women's CR106-TQ  Turquoise Silicone Rubber Rhinestones Watch\", 'Watches')\n",
      "('B009S4U1TY', 830280907, \"Batman Kids' BAT4072 Black Rubber Batman Logo Strap Watch\", 'Watches')\n",
      "('B000B55AEA', 851729310, 'Timex Easy Reader Day-Date Leather Strap Watch', 'Watches')\n",
      "('B0053HDR78', 576694666, 'Casio F108WH Water Resistant Digital Blue Resin Strap Watch', 'Watches')\n",
      "('B00NC8PMUK', 944169262, 'Motorola Moto 360 Modern Timepiece Smart Watch - Black Leather 00418NARTL', 'Watches')\n",
      "('B008OIOLQO', 340110662, \"Ingersoll Men's IN1824CR Monticello Fine Automatic Timepiece Cream Dial Watch\", 'Watches')\n",
      "('B009PQB036', 696981257, \"Lucien Piccard Men's 11576-YG-01 Clariden Black Textured Dial Watch\", 'Watches')\n",
      "('B007X0E178', 953514677, \"XOXO Women's XO5478 Rhinestone-Accented Two-Tone Watch\", 'Watches')\n",
      "('B00BXQSHRI', 714629498, 'Watch Case Press with 12 Nylon Dies, Watch Case Closer Set', 'Watches')\n",
      "('B00ZI3SGXM', 294102740, \"Stuhrling Original Women's 956.02 Symphony Gold-Tone Watch with Brown Genuine Leather Band\", 'Watches')\n",
      "('B0053A0HB4', 199546574, 'Casio G-shock Mudman Multiband6 Japanese Model [ Gw-9300-1jf ]', 'Watches')\n",
      "('B00QBTQX50', 29617990, 'iStrap Calfskin Leather Watch Band Replacement Choice of Color & Width (18mm,19mm, 20mm,21mm or 22mm)', 'Watches')\n",
      "('B00G3JSF22', 978361500, \"G-SHOCK Men's GA-100 Neon Highlights Watch\", 'Watches')\n",
      "('B002NQXYL6', 161383158, 'Voguestrap TX046801XL Allstrap 16-20mm Brown Extra-Long-Length Fits Fast-Wrap Expedition Watchband', 'Watches')\n",
      "('B004MAZN3I', 165342893, \"Seiko Men's SNKK27 Seiko 5 Stainless Steel Automatic Watch\", 'Watches')\n",
      "('B000JQFX1G', 400836338, \"Invicta Men's 8926OB Pro Diver Stainless Steel Automatic Watch with Link Bracelet\", 'Watches')\n",
      "('B00A6B9N6U', 491671113, \"Swiss Legend Women's 11044D-01 Neptune Black Dial Watch with Silicone Band\", 'Watches')\n",
      "('B00HJ7T0OY', 822340800, \"Absolute Hot Iron man Super Hero build-in Blue LED for Men's luxury Army military Wrist Watches\", 'Watches')\n",
      "('B004401KHE', 604208769, \"Seiko Men's White Dial Brown Leather Easy Reader Solar Calendar Watch\", 'Watches')\n",
      "('B001UGDB0O', 762085956, 'Michael Kors Womens MK5145 - Runway Chronograph', 'Watches')\n",
      "('B00L4JRXIS', 627047973, \"Armitron Sport Women's 25/6416 Easy To Read Dial Resin Strap Watch\", 'Watches')\n",
      "('B009PQB5K4', 418141913, \"Lucien Piccard Men's 11577-RG-02S Stockhorn Silver Textured Dial Brown Leather Watch\", 'Watches')\n",
      "('B003M2G0SY', 908936114, 'LEGO Star Wars Yoda Kids Buildable Watch with Link Bracelet and Minifigure | green/gray | plastic | 28mm case diameter| analog quartz | boy girl | official', 'Watches')\n",
      "('B002SSUQFG', 354933056, \"Seiko Men's SNK809 Seiko 5 Automatic Stainless Steel Watch with Black Canvas Strap\", 'Watches')\n",
      "('B003622WUK', 890272218, \"Tissot Women's T0492103303300 PR 100 Gold-Tone Silver Dial Watch\", 'Watches')\n",
      "('B00L8M9Z32', 686288185, \"CASIO BABY-G (BG-6900SG-8JF) GLITTER DIAL SERIES LADY'S WATCH JAPANESE MODEL 2014 JULY RELEASED\", 'Watches')\n",
      "('B000GAWSA4', 700023949, \"Casio Men's AW80V-1BV\", 'Watches')\n",
      "('B004YM2FV2', 649128875, 'Bling Jewelry Plated Classic Round CZ Ladies Watch', 'Watches')\n",
      "('B008RNKIV8', 341504925, \"Citizen Men's AT8020-54L Blue Angels Stainless Steel Eco-Drive Dress Watch\", 'Watches')\n",
      "('B000SZNTLO', 544270597, 'Timex Ironman Sleek 50-Lap Full Size', 'Watches')\n",
      "('B00MNC53XW', 567086073, 'Outop Wholesale Lot of 5pcs Womens Girls Butterfly Bracelet Wrist Watches', 'Watches')\n",
      "('B00BF77S2K', 479360900, \"Timex Kids' T7B9829J IronKids Translucent Blue Sport Watch\", 'Watches')\n",
      "('B00OHD6SLG', 721711830, \"Cool Men's Racer Military Pilot Army Silicone Sports Watch\", 'Watches')\n",
      "('B003DIP9BQ', 941077778, \"XOXO Women's XO110 Silver Dial Gold-tone Bracelet Watch\", 'Watches')\n",
      "('B00L3VGTA0', 667419707, \"Armitron Men's Black Sunray Dial Silvertone Bracelet Watch\", 'Watches')\n",
      "('B00RCUTIRM', 731342946, \"Akribos XXIV Men's AK787YGBU Quartz Movement Watch with Blue Dial and Yellow Gold Stainless Steel Bracelet\", 'Watches')\n",
      "('B00V30U79K', 18936638, 'Topwell Mens Wood watches, Date Time 24hours Wooden watch with Round Multi-Eyed QUARTZ Wrist Watch for Gift', 'Watches')\n",
      "('B00STAXIHU', 690763506, \"Fossil Women's ES3822 Georgia Stainless Steel Watch with Blue Leather Band\", 'Watches')\n",
      "('B00DUW21F2', 87555656, \"Stuhrling Original Men's 574.03 Analog Executive II Stainless Steel Automatic Skeleton Watch with Brown Leather Band\", 'Watches')\n",
      "('B00MO38XL4', 476271516, \"Armitron Sport Women's 25/6422BLK Easy to Read Dial Black Resin Strap Watch\", 'Watches')\n",
      "('B00K8HMHCE', 575505209, \"Swiss Legend Men's 10068-03 Commander II Analog Display Swiss Quartz Blue Watch\", 'Watches')\n",
      "('B001DK6OKQ', 79293794, \"Stuhrling Original Men's 219.331657 Symphony Eternity Monterey Swiss Quartz Date Watch\", 'Watches')\n",
      "('B0094PS284', 842528710, 'LuckyStore 14mm 5X Watch Band Stainless Steel Spring Bars Strap Link Pin Watchmaker New', 'Watches')\n",
      "('B00FDLB2S0', 992050854, \"red line Men's RL-50042-YG-01 Stealth Chronograph Black Textured Dial Black Silicone Watch\", 'Watches')\n",
      "('B00EVPMC88', 516415826, 'Seiko Men\\'s SNKL43 \"Seiko 5\" Stainless Steel Automatic Watch', 'Watches')\n",
      "('B00G2R7E3Q', 131804424, \"Invicta Men's 14640 I-Force Analog Display Japanese Quartz Black Watch\", 'Watches')\n",
      "('B004LURNO6', 892860326, 'Nemesis #HST-K Unisex Black Wide Leather Cuff Wrist Watch Band', 'Watches')\n",
      "('B005OT1POW', 202690497, \"Tommy Hilfiger  Women's 1781145 Sport Stainless Steel  Watch\", 'Watches')\n",
      "('B007LPRLXG', 973233011, 'GUESS U17531G1 - Bold and Sporty Watch Silver', 'Watches')\n",
      "('B00QK2HAFK', 78116254, \"Armitron Men's 20/5048 Day/Date Function Dial Croco-Grain Leather Strap Watch\", 'Watches')\n",
      "('B003X11UFM', 790174403, \"Stuhrling Original Men's 238.321K43 Ascot Newberry Analog Swiss Quartz Brown Leather Watch\", 'Watches')\n",
      "('B00A6OEWA4', 985088364, \"AMPM24 Men's Hand-winding Mechanical Watch Black Leather Watchband Skeleton PMW069\", 'Watches')\n",
      "('B006QAX906', 957756572, \"Gotham Men's Silver-Tone Ultra Thin Railroad Open Face Quartz Pocket Watch # GWC15022S\", 'Watches')\n",
      "('B00BS8U8PU', 132047116, 'Casio Unisex MRW200H-2BV Neo-Display Black Watch with Resin Band', 'Watches')\n",
      "('B001F0PTNM', 670846500, \"Hadley-Roma Men's MSM881RB-170 17-mm Brown Oil-Tan Leather Watch Strap\", 'Watches')\n",
      "('B00Q7DETQU', 763436398, 'Michael Kors Petite Silvertone Darci Watch', 'Watches')\n",
      "('B00LW3RP0W', 198443125, 'Timex Expedition Rugged Metal Watch', 'Watches')\n"
     ]
    }
   ],
   "source": [
    "for value in sheet.iter_rows(min_row=2, min_col=4,\n",
    "                            max_col=7, values_only=True):\n",
    "    print(value)"
   ]
  },
  {
   "cell_type": "code",
   "execution_count": 18,
   "id": "2f0b6f6b-8868-4811-be32-2ca6ef53793e",
   "metadata": {
    "tags": []
   },
   "outputs": [
    {
     "name": "stdout",
     "output_type": "stream",
     "text": [
      "{\"B00FALQ1ZC\": {\"parent\": 937001370, \"title\": \"Invicta Women's 15150 \\\"Angel\\\" 18k Yellow Gold Ion-Plated Stainless Steel and Brown Leather Watch\", \"category\": \"Watches\"}, \"B00D3RGO20\": {\"parent\": 484010722, \"title\": \"Kenneth Cole New York Women's KC4944 Automatic Silver Automatic Mesh Bracelet Analog Watch\", \"category\": \"Watches\"}, \"B00DKYC7TK\": {\"parent\": 361166390, \"title\": \"Ritche 22mm Black Stainless Steel Bracelet Watch Band Strap Pebble Time/Pebble Classic\", \"category\": \"Watches\"}, \"B000EQS1JW\": {\"parent\": 958035625, \"title\": \"Citizen Men's BM8180-03E Eco-Drive Stainless Steel Watch with Green Canvas Band\", \"category\": \"Watches\"}, \"B00A6GFD7S\": {\"parent\": 765328221, \"title\": \"Orient ER27009B Men's Symphony Automatic Stainless Steel Black Dial Mechanical Watch\", \"category\": \"Watches\"}, \"B00EYSOSE8\": {\"parent\": 230493695, \"title\": \"Casio Men's GW-9400BJ-1JF G-Shock Master of G Rangeman Digital Solar Black Carbon Fiber Insert Watch\", \"category\": \"Watches\"}, \"B00WM0QA3M\": {\"parent\": 549298279, \"title\": \"Fossil Women's ES3851 Urban Traveler Multifunction Stainless Steel Watch - Rose\", \"category\": \"Watches\"}, \"B00A4EYBR0\": {\"parent\": 844009113, \"title\": \"INFANTRY Mens Night Vision Analog Quartz Wrist Watch with Nato Nylon Watchband-Red.\", \"category\": \"Watches\"}, \"B00MAMPGGE\": {\"parent\": 263720892, \"title\": \"G-Shock Men's Grey Sport Watch\", \"category\": \"Watches\"}, \"B004LBPB7Q\": {\"parent\": 124278407, \"title\": \"Heiden Quad Watch Winder in Black Leather\", \"category\": \"Watches\"}, \"B00KGTVGKS\": {\"parent\": 28017857, \"title\": \"Fossil Women's ES3621 Serena Crystal-Accented Two-Tone Stainless Steel Watch\", \"category\": \"Watches\"}, \"B0039UT5OU\": {\"parent\": 685450910, \"title\": \"Casio General Men's Watches Sporty Digital AE-2000W-1AVDF - WW\", \"category\": \"Watches\"}, \"B00MPF0XJQ\": {\"parent\": 767769082, \"title\": \"2Tone Gold Silver Cable Band Ladies Bangle Cuff Watch\", \"category\": \"Watches\"}, \"B003P1OHHS\": {\"parent\": 648595227, \"title\": \"Bulova Men's 98B143 Precisionist Charcoal Grey Dial Bracelet Watch\", \"category\": \"Watches\"}, \"B00R70YEOE\": {\"parent\": 457338020, \"title\": \"Casio - G-Shock - Gulfmaster - Black - GWN1000C-1A\", \"category\": \"Watches\"}, \"B000FVE3BG\": {\"parent\": 824370661, \"title\": \"Invicta Men's 3329 Force Collection Lefty Watch\", \"category\": \"Watches\"}, \"B008X6JB12\": {\"parent\": 814431355, \"title\": \"Seiko Women's SUT068 Dress Solar Classic Diamond-Accented Two-Tone Stainless Steel Watch\", \"category\": \"Watches\"}, \"B0040UOFPW\": {\"parent\": 187700878, \"title\": \"Anne Klein Women's 109271MPTT Swarovski Crystal Accented Two-Tone Multi-Chain Bracelet Watch\", \"category\": \"Watches\"}, \"B00UR2R5UY\": {\"parent\": 594315262, \"title\": \"Guess U13630G1 Men's day and date Gunmetal dial Gunmetal tone bracelet\", \"category\": \"Watches\"}, \"B00HFF57L0\": {\"parent\": 520810507, \"title\": \"Nixon Men's Geo Volt Sentry Stainless Steel Watch with Link Bracelet\", \"category\": \"Watches\"}, \"B00F5O06E6\": {\"parent\": 601596859, \"title\": \"Nautica Men's N14699G BFD 101 Chrono Classic Stainless Steel Watch with Brown Band\", \"category\": \"Watches\"}, \"B00CHS398I\": {\"parent\": 798261110, \"title\": \"HDE Watch Link Pin Remover Band Strap Repair Tool Kit for Watchmakers with Pack of 3 Extra Pins\", \"category\": \"Watches\"}, \"B003OQ4TA4\": {\"parent\": 557813802, \"title\": \"Timex Women's Q7B860 Padded Calfskin 8mm Black Replacement Watchband\", \"category\": \"Watches\"}, \"B007X0SYEY\": {\"parent\": 22870009, \"title\": \"Movado Men's 0606545 \\\"Museum\\\" Perforated Black-Rubber Strap Sport Watch\", \"category\": \"Watches\"}, \"B005KPL7FM\": {\"parent\": 269520616, \"title\": \"Invicta Men's 6674 Corduba Chronograph Black Dial Polyurethane Watch\", \"category\": \"Watches\"}, \"B00FNIFI2O\": {\"parent\": 330558574, \"title\": \"Szanto Men's SZ 2001 2000 Series Classic Vintage-Inspired Stainless Steel Watch with Pebbled Leather Band\", \"category\": \"Watches\"}, \"B005JVP0FU\": {\"parent\": 220345054, \"title\": \"Casio Men's MRW200H-7EV Sport Resin Watch\", \"category\": \"Watches\"}, \"B004M23SDI\": {\"parent\": 299884359, \"title\": \"Casio F-108WH-2AEF Mens Blue Digital Watch\", \"category\": \"Watches\"}, \"B00RV2L8CE\": {\"parent\": 714311106, \"title\": \"August Steiner Men's AS8160TTG Silver And Gold Swiss Quartz Watch with Black Dial and Two Tone Bracelet\", \"category\": \"Watches\"}, \"B000JQJS6M\": {\"parent\": 926299553, \"title\": \"Invicta Men's 8928OB Pro Diver Gold Stainless Steel Two-Tone Automatic Watch\", \"category\": \"Watches\"}, \"B00VXLJD44\": {\"parent\": 578998634, \"title\": \"BOS Men's Automatic self-wind mechanical Pointer Skeleton Watch Black Dial Stainless Steel Band 9008\", \"category\": \"Watches\"}, \"B004EFGBW8\": {\"parent\": 727624097, \"title\": \"Luminox Men's 3081 Evo Navy SEAL Chronograph Watch\", \"category\": \"Watches\"}, \"B00G9X76DG\": {\"parent\": 86861596, \"title\": \"INFANTRY Mens 50mm Big Face Military Tactical Analog Digital Sport Wrist Watch Black Silicone Band\", \"category\": \"Watches\"}, \"B00SFTTZ9U\": {\"parent\": 8403354, \"title\": \"BUREI Dress Women's Minimalist Wrist Watches with Date Analog Quartz Stainless Steel and Ultra Slim Dial\", \"category\": \"Watches\"}, \"B00NC8PMUK\": {\"parent\": 944169262, \"title\": \"Motorola Moto 360 Modern Timepiece Smart Watch - Black Leather 00418NARTL\", \"category\": \"Watches\"}, \"B00C1C5J9W\": {\"parent\": 851584415, \"title\": \"Domire Fashion Accessories Trial Order New Quartz Fashion Weave Wrap Around Leather Bracelet Lady Woman Butterfly Wrist Watch\", \"category\": \"Watches\"}, \"B000GB0G5M\": {\"parent\": 492842685, \"title\": \"Casio Women's LQ139B-1B Classic Round Analog Watch\", \"category\": \"Watches\"}, \"B00F8AWMXA\": {\"parent\": 397647155, \"title\": \"Invicta Men's 15256 I-Force Gunmetal Ion-Plated Stainless Steel Watch with Black Leather Strap\", \"category\": \"Watches\"}, \"B005MDPAPU\": {\"parent\": 645499118, \"title\": \"Casio Men's Slim Solar Multi-Function Analog-Digital Watch\", \"category\": \"Watches\"}, \"B006C8NJY8\": {\"parent\": 865472849, \"title\": \"TS6202BLK 8 Belt Box Organizer Black Leather XL Compartments\", \"category\": \"Watches\"}, \"B00791YURC\": {\"parent\": 310034618, \"title\": \"Casio Men's GW2310FB-1CR G-Shock Shock Resistant Multifunction Watch\", \"category\": \"Watches\"}, \"B00S69FO0I\": {\"parent\": 406011595, \"title\": \"U.S. Polo Assn. Sport Men's US9506 Analog-Digital Display Silver-Tone Watch with Textured Band\", \"category\": \"Watches\"}, \"B00C7IQBRY\": {\"parent\": 201258316, \"title\": \"Cerentino Women's CR106-TQ  Turquoise Silicone Rubber Rhinestones Watch\", \"category\": \"Watches\"}, \"B009S4U1TY\": {\"parent\": 830280907, \"title\": \"Batman Kids' BAT4072 Black Rubber Batman Logo Strap Watch\", \"category\": \"Watches\"}, \"B000B55AEA\": {\"parent\": 851729310, \"title\": \"Timex Easy Reader Day-Date Leather Strap Watch\", \"category\": \"Watches\"}, \"B0053HDR78\": {\"parent\": 576694666, \"title\": \"Casio F108WH Water Resistant Digital Blue Resin Strap Watch\", \"category\": \"Watches\"}, \"B008OIOLQO\": {\"parent\": 340110662, \"title\": \"Ingersoll Men's IN1824CR Monticello Fine Automatic Timepiece Cream Dial Watch\", \"category\": \"Watches\"}, \"B009PQB036\": {\"parent\": 696981257, \"title\": \"Lucien Piccard Men's 11576-YG-01 Clariden Black Textured Dial Watch\", \"category\": \"Watches\"}, \"B007X0E178\": {\"parent\": 953514677, \"title\": \"XOXO Women's XO5478 Rhinestone-Accented Two-Tone Watch\", \"category\": \"Watches\"}, \"B00BXQSHRI\": {\"parent\": 714629498, \"title\": \"Watch Case Press with 12 Nylon Dies, Watch Case Closer Set\", \"category\": \"Watches\"}, \"B00ZI3SGXM\": {\"parent\": 294102740, \"title\": \"Stuhrling Original Women's 956.02 Symphony Gold-Tone Watch with Brown Genuine Leather Band\", \"category\": \"Watches\"}, \"B0053A0HB4\": {\"parent\": 199546574, \"title\": \"Casio G-shock Mudman Multiband6 Japanese Model [ Gw-9300-1jf ]\", \"category\": \"Watches\"}, \"B00QBTQX50\": {\"parent\": 29617990, \"title\": \"iStrap Calfskin Leather Watch Band Replacement Choice of Color & Width (18mm,19mm, 20mm,21mm or 22mm)\", \"category\": \"Watches\"}, \"B00G3JSF22\": {\"parent\": 978361500, \"title\": \"G-SHOCK Men's GA-100 Neon Highlights Watch\", \"category\": \"Watches\"}, \"B002NQXYL6\": {\"parent\": 161383158, \"title\": \"Voguestrap TX046801XL Allstrap 16-20mm Brown Extra-Long-Length Fits Fast-Wrap Expedition Watchband\", \"category\": \"Watches\"}, \"B004MAZN3I\": {\"parent\": 165342893, \"title\": \"Seiko Men's SNKK27 Seiko 5 Stainless Steel Automatic Watch\", \"category\": \"Watches\"}, \"B000JQFX1G\": {\"parent\": 400836338, \"title\": \"Invicta Men's 8926OB Pro Diver Stainless Steel Automatic Watch with Link Bracelet\", \"category\": \"Watches\"}, \"B00A6B9N6U\": {\"parent\": 491671113, \"title\": \"Swiss Legend Women's 11044D-01 Neptune Black Dial Watch with Silicone Band\", \"category\": \"Watches\"}, \"B00HJ7T0OY\": {\"parent\": 822340800, \"title\": \"Absolute Hot Iron man Super Hero build-in Blue LED for Men's luxury Army military Wrist Watches\", \"category\": \"Watches\"}, \"B004401KHE\": {\"parent\": 604208769, \"title\": \"Seiko Men's White Dial Brown Leather Easy Reader Solar Calendar Watch\", \"category\": \"Watches\"}, \"B001UGDB0O\": {\"parent\": 762085956, \"title\": \"Michael Kors Womens MK5145 - Runway Chronograph\", \"category\": \"Watches\"}, \"B00L4JRXIS\": {\"parent\": 627047973, \"title\": \"Armitron Sport Women's 25/6416 Easy To Read Dial Resin Strap Watch\", \"category\": \"Watches\"}, \"B009PQB5K4\": {\"parent\": 418141913, \"title\": \"Lucien Piccard Men's 11577-RG-02S Stockhorn Silver Textured Dial Brown Leather Watch\", \"category\": \"Watches\"}, \"B003M2G0SY\": {\"parent\": 908936114, \"title\": \"LEGO Star Wars Yoda Kids Buildable Watch with Link Bracelet and Minifigure | green/gray | plastic | 28mm case diameter| analog quartz | boy girl | official\", \"category\": \"Watches\"}, \"B002SSUQFG\": {\"parent\": 354933056, \"title\": \"Seiko Men's SNK809 Seiko 5 Automatic Stainless Steel Watch with Black Canvas Strap\", \"category\": \"Watches\"}, \"B003622WUK\": {\"parent\": 890272218, \"title\": \"Tissot Women's T0492103303300 PR 100 Gold-Tone Silver Dial Watch\", \"category\": \"Watches\"}, \"B00L8M9Z32\": {\"parent\": 686288185, \"title\": \"CASIO BABY-G (BG-6900SG-8JF) GLITTER DIAL SERIES LADY'S WATCH JAPANESE MODEL 2014 JULY RELEASED\", \"category\": \"Watches\"}, \"B000GAWSA4\": {\"parent\": 700023949, \"title\": \"Casio Men's AW80V-1BV\", \"category\": \"Watches\"}, \"B004YM2FV2\": {\"parent\": 649128875, \"title\": \"Bling Jewelry Plated Classic Round CZ Ladies Watch\", \"category\": \"Watches\"}, \"B008RNKIV8\": {\"parent\": 341504925, \"title\": \"Citizen Men's AT8020-54L Blue Angels Stainless Steel Eco-Drive Dress Watch\", \"category\": \"Watches\"}, \"B000SZNTLO\": {\"parent\": 544270597, \"title\": \"Timex Ironman Sleek 50-Lap Full Size\", \"category\": \"Watches\"}, \"B00MNC53XW\": {\"parent\": 567086073, \"title\": \"Outop Wholesale Lot of 5pcs Womens Girls Butterfly Bracelet Wrist Watches\", \"category\": \"Watches\"}, \"B00BF77S2K\": {\"parent\": 479360900, \"title\": \"Timex Kids' T7B9829J IronKids Translucent Blue Sport Watch\", \"category\": \"Watches\"}, \"B00OHD6SLG\": {\"parent\": 721711830, \"title\": \"Cool Men's Racer Military Pilot Army Silicone Sports Watch\", \"category\": \"Watches\"}, \"B003DIP9BQ\": {\"parent\": 941077778, \"title\": \"XOXO Women's XO110 Silver Dial Gold-tone Bracelet Watch\", \"category\": \"Watches\"}, \"B00L3VGTA0\": {\"parent\": 667419707, \"title\": \"Armitron Men's Black Sunray Dial Silvertone Bracelet Watch\", \"category\": \"Watches\"}, \"B00RCUTIRM\": {\"parent\": 731342946, \"title\": \"Akribos XXIV Men's AK787YGBU Quartz Movement Watch with Blue Dial and Yellow Gold Stainless Steel Bracelet\", \"category\": \"Watches\"}, \"B00V30U79K\": {\"parent\": 18936638, \"title\": \"Topwell Mens Wood watches, Date Time 24hours Wooden watch with Round Multi-Eyed QUARTZ Wrist Watch for Gift\", \"category\": \"Watches\"}, \"B00STAXIHU\": {\"parent\": 690763506, \"title\": \"Fossil Women's ES3822 Georgia Stainless Steel Watch with Blue Leather Band\", \"category\": \"Watches\"}, \"B00DUW21F2\": {\"parent\": 87555656, \"title\": \"Stuhrling Original Men's 574.03 Analog Executive II Stainless Steel Automatic Skeleton Watch with Brown Leather Band\", \"category\": \"Watches\"}, \"B00MO38XL4\": {\"parent\": 476271516, \"title\": \"Armitron Sport Women's 25/6422BLK Easy to Read Dial Black Resin Strap Watch\", \"category\": \"Watches\"}, \"B00K8HMHCE\": {\"parent\": 575505209, \"title\": \"Swiss Legend Men's 10068-03 Commander II Analog Display Swiss Quartz Blue Watch\", \"category\": \"Watches\"}, \"B001DK6OKQ\": {\"parent\": 79293794, \"title\": \"Stuhrling Original Men's 219.331657 Symphony Eternity Monterey Swiss Quartz Date Watch\", \"category\": \"Watches\"}, \"B0094PS284\": {\"parent\": 842528710, \"title\": \"LuckyStore 14mm 5X Watch Band Stainless Steel Spring Bars Strap Link Pin Watchmaker New\", \"category\": \"Watches\"}, \"B00FDLB2S0\": {\"parent\": 992050854, \"title\": \"red line Men's RL-50042-YG-01 Stealth Chronograph Black Textured Dial Black Silicone Watch\", \"category\": \"Watches\"}, \"B00EVPMC88\": {\"parent\": 516415826, \"title\": \"Seiko Men's SNKL43 \\\"Seiko 5\\\" Stainless Steel Automatic Watch\", \"category\": \"Watches\"}, \"B00G2R7E3Q\": {\"parent\": 131804424, \"title\": \"Invicta Men's 14640 I-Force Analog Display Japanese Quartz Black Watch\", \"category\": \"Watches\"}, \"B004LURNO6\": {\"parent\": 892860326, \"title\": \"Nemesis #HST-K Unisex Black Wide Leather Cuff Wrist Watch Band\", \"category\": \"Watches\"}, \"B005OT1POW\": {\"parent\": 202690497, \"title\": \"Tommy Hilfiger  Women's 1781145 Sport Stainless Steel  Watch\", \"category\": \"Watches\"}, \"B007LPRLXG\": {\"parent\": 973233011, \"title\": \"GUESS U17531G1 - Bold and Sporty Watch Silver\", \"category\": \"Watches\"}, \"B00QK2HAFK\": {\"parent\": 78116254, \"title\": \"Armitron Men's 20/5048 Day/Date Function Dial Croco-Grain Leather Strap Watch\", \"category\": \"Watches\"}, \"B003X11UFM\": {\"parent\": 790174403, \"title\": \"Stuhrling Original Men's 238.321K43 Ascot Newberry Analog Swiss Quartz Brown Leather Watch\", \"category\": \"Watches\"}, \"B00A6OEWA4\": {\"parent\": 985088364, \"title\": \"AMPM24 Men's Hand-winding Mechanical Watch Black Leather Watchband Skeleton PMW069\", \"category\": \"Watches\"}, \"B006QAX906\": {\"parent\": 957756572, \"title\": \"Gotham Men's Silver-Tone Ultra Thin Railroad Open Face Quartz Pocket Watch # GWC15022S\", \"category\": \"Watches\"}, \"B00BS8U8PU\": {\"parent\": 132047116, \"title\": \"Casio Unisex MRW200H-2BV Neo-Display Black Watch with Resin Band\", \"category\": \"Watches\"}, \"B001F0PTNM\": {\"parent\": 670846500, \"title\": \"Hadley-Roma Men's MSM881RB-170 17-mm Brown Oil-Tan Leather Watch Strap\", \"category\": \"Watches\"}, \"B00Q7DETQU\": {\"parent\": 763436398, \"title\": \"Michael Kors Petite Silvertone Darci Watch\", \"category\": \"Watches\"}, \"B00LW3RP0W\": {\"parent\": 198443125, \"title\": \"Timex Expedition Rugged Metal Watch\", \"category\": \"Watches\"}}\n"
     ]
    }
   ],
   "source": [
    "# put data into dictionary\n",
    "import json\n",
    "from openpyxl import load_workbook\n",
    "\n",
    "workbook = load_workbook(filename=\"reviews-sample.xlsx\")\n",
    "sheet = workbook.active\n",
    "products = {}\n",
    "\n",
    "for row in sheet.iter_rows(min_row=2, min_col=4, max_col=7,\n",
    "                          values_only=True):\n",
    "    # print(f\"{row}\\n\")\n",
    "    product_id = row[0]\n",
    "    product = {\n",
    "        \"parent\": row[1],\n",
    "        \"title\": row[2],\n",
    "        \"category\": row[3]\n",
    "    }\n",
    "    products[product_id] = product\n",
    "print(json.dumps(products))"
   ]
  },
  {
   "cell_type": "markdown",
   "id": "7a111b4c-1e7d-4be6-9eb1-64b4b5af07d3",
   "metadata": {
    "jp-MarkdownHeadingCollapsed": true,
    "tags": []
   },
   "source": [
    "# Convert data into python classes"
   ]
  },
  {
   "cell_type": "markdown",
   "id": "fde7038a-5f20-4af0-89de-092b30ec1f48",
   "metadata": {},
   "source": [
    "To finalize the reading section of this tutorial, let’s dive into Python classes and see how you could improve on the example above and better structure the data.\n",
    "\n",
    "For this, you’ll be using the new Python Data Classes that are available from Python 3.7. If you’re using an older version of Python, then you can use the default Classes instead.\n",
    "\n",
    "So, first things first, let’s look at the data you have and decide what you want to store and how you want to store it.\n",
    "\n",
    "As you saw right at the start, this data comes from Amazon, and it’s a list of product reviews. You can check the list of all the columns and their meaning on Amazon.\n",
    "\n",
    "There are two significant elements you can extract from the data available:\n",
    "\n",
    "* Products\n",
    "* Reviews\n",
    "\n",
    "A Product has:\n",
    "\n",
    "* ID\n",
    "* Title\n",
    "* Parent\n",
    "* Category\n",
    "\n",
    "The Review has a few more fields:\n",
    "\n",
    "* ID\n",
    "* Customer ID\n",
    "* Stars\n",
    "* Headline\n",
    "* Body\n",
    "* Date\n",
    "\n",
    "You can ignore a few of the review fields to make things a bit simpler."
   ]
  },
  {
   "cell_type": "markdown",
   "id": "602a7924-518a-4aad-b866-04b0bff4cf5d",
   "metadata": {},
   "source": [
    "So, a straightforward implementation of these two classes could be written in a separate file `classes.py`:\n",
    "\n",
    "```python\n",
    "import datetime\n",
    "from dataclasses import dataclass\n",
    "\n",
    "@dataclass\n",
    "class Product:\n",
    "    id: str\n",
    "    parent: str\n",
    "    title: str\n",
    "    category: str\n",
    "    \n",
    "@dataclass\n",
    "class Review:\n",
    "    id: str\n",
    "    customer_id: str\n",
    "    stars: int\n",
    "    headline: str\n",
    "    body: str\n",
    "    date: datetime.datetime\n",
    "```"
   ]
  },
  {
   "cell_type": "markdown",
   "id": "eb1020c6-20be-4cc0-9e8c-264d1692dc14",
   "metadata": {},
   "source": [
    "After defining your data classes, you need to convert the data from the spreadsheet into these new structures.\n",
    "\n",
    "Before doing the conversion, it’s worth looking at our header again and creating a mapping between columns and the fields you need:"
   ]
  },
  {
   "cell_type": "code",
   "execution_count": 19,
   "id": "f1b503f3-458d-4a3d-b624-b2a4297a173f",
   "metadata": {
    "tags": []
   },
   "outputs": [
    {
     "name": "stdout",
     "output_type": "stream",
     "text": [
      "('marketplace', 'customer_id', 'review_id', 'product_id', 'product_parent', 'product_title', 'product_category', 'star_rating', 'helpful_votes', 'total_votes', 'vine', 'verified_purchase', 'review_headline', 'review_body', 'review_date')\n"
     ]
    }
   ],
   "source": [
    "for value in sheet.iter_rows(min_row=1, max_row=1, values_only=True):\n",
    "    print(value)"
   ]
  },
  {
   "cell_type": "code",
   "execution_count": 20,
   "id": "203dcfb7-d231-480e-8f89-07a409971f07",
   "metadata": {
    "tags": []
   },
   "outputs": [
    {
     "name": "stdout",
     "output_type": "stream",
     "text": [
      "marketplace\n",
      "customer_id\n",
      "review_id\n",
      "product_id\n",
      "product_parent\n",
      "product_title\n",
      "product_category\n",
      "star_rating\n",
      "helpful_votes\n",
      "total_votes\n",
      "vine\n",
      "verified_purchase\n",
      "review_headline\n",
      "review_body\n",
      "review_date\n"
     ]
    }
   ],
   "source": [
    "for cell in sheet[1]:\n",
    "    print(cell.value)"
   ]
  },
  {
   "cell_type": "markdown",
   "id": "6d09f428-c7fa-4cfb-8788-6810eb0f0f58",
   "metadata": {},
   "source": [
    "Let’s create a file `mapping.py` where you have a list of all the field names and their column location (zero-indexed) on the spreadsheet:\n",
    "\n",
    "```python\n",
    "# Product fields\n",
    "PRODUCT_ID = 3\n",
    "PRODUCT_PARENT = 4\n",
    "PRODUCT_TITLE = 5\n",
    "PRODUCT_CATEGORY = 6\n",
    "\n",
    "# Review fields\n",
    "REVIEW_ID = 2\n",
    "REVIEW_CUSTOMER = 1\n",
    "REVIEW_STARS = 7\n",
    "REVIEW_HEADLINE = 12\n",
    "REVIEW_BODY = 13\n",
    "REVIEW_DATE = 14\n",
    "```"
   ]
  },
  {
   "cell_type": "code",
   "execution_count": 21,
   "id": "42b184a2-c306-4a9e-abca-f503cfddabe7",
   "metadata": {
    "tags": []
   },
   "outputs": [],
   "source": [
    "# Product fields\n",
    "PRODUCT_ID = 3\n",
    "PRODUCT_PARENT = 4\n",
    "PRODUCT_TITLE = 5\n",
    "PRODUCT_CATEGORY = 6\n",
    "\n",
    "# Review fields\n",
    "REVIEW_ID = 2\n",
    "REVIEW_CUSTOMER = 1\n",
    "REVIEW_STARS = 7\n",
    "REVIEW_HEADLINE = 12\n",
    "REVIEW_BODY = 13\n",
    "REVIEW_DATE = 14"
   ]
  },
  {
   "cell_type": "code",
   "execution_count": 22,
   "id": "a4c989bc-3e6f-4860-99b4-93ab7067146a",
   "metadata": {
    "tags": []
   },
   "outputs": [],
   "source": [
    "from datetime import datetime\n",
    "from openpyxl import load_workbook\n",
    "from classes import Product, Review\n",
    "from mapping import PRODUCT_ID, PRODUCT_PARENT, PRODUCT_TITLE, PRODUCT_CATEGORY, REVIEW_DATE, REVIEW_ID, REVIEW_CUSTOMER, \\\n",
    "                    REVIEW_STARS, REVIEW_HEADLINE, REVIEW_BODY\n",
    "\n",
    "workbook = load_workbook(filename=\"reviews-sample.xlsx\", read_only=True)\n",
    "sheet = workbook.active\n",
    "\n",
    "products = []\n",
    "reviews = []\n",
    "\n",
    "# Using the values_only because you just want to return the cell value\n",
    "for row in sheet.iter_rows(min_row=2, values_only=True):\n",
    "    # row will be included all columns and all rows starting from row no 2\n",
    "    product = Product(id=row[PRODUCT_ID],\n",
    "                     parent=row[PRODUCT_PARENT],\n",
    "                     title=row[PRODUCT_TITLE],\n",
    "                     category=row[PRODUCT_CATEGORY])\n",
    "    products.append(product)\n",
    "    \n",
    "    # You need to parse the date from the spreadsheet into a datetime format\n",
    "    spread_date = row[REVIEW_DATE]\n",
    "    parsed_date = datetime.strptime(spread_date, \"%Y-%m-%d\")\n",
    "\n",
    "    review = Review(id=row[REVIEW_ID],\n",
    "                    customer_id=row[REVIEW_CUSTOMER],\n",
    "                    stars=row[REVIEW_STARS],\n",
    "                    headline=row[REVIEW_HEADLINE],\n",
    "                    body=row[REVIEW_BODY],\n",
    "                    date=parsed_date)\n",
    "    reviews.append(review)"
   ]
  },
  {
   "cell_type": "code",
   "execution_count": 23,
   "id": "3ce5bd75-7ae6-4530-af3c-875c3beebbc3",
   "metadata": {
    "tags": []
   },
   "outputs": [
    {
     "name": "stdout",
     "output_type": "stream",
     "text": [
      "Product(id='B00FALQ1ZC', parent=937001370, title='Invicta Women\\'s 15150 \"Angel\" 18k Yellow Gold Ion-Plated Stainless Steel and Brown Leather Watch', category='Watches')\n",
      "Review(id='R3O9SGZBVQBV76', customer_id=3653882, stars=5, headline='Five Stars', body='Absolutely love this watch! Get compliments almost every time I wear it. Dainty.', date=datetime.datetime(2015, 8, 31, 0, 0))\n"
     ]
    }
   ],
   "source": [
    "print(products[0])\n",
    "print(reviews[0])"
   ]
  },
  {
   "cell_type": "markdown",
   "id": "7569aeaa-9a97-4d78-a381-c13608a0a9b0",
   "metadata": {
    "jp-MarkdownHeadingCollapsed": true,
    "tags": []
   },
   "source": [
    "# Appending New Data"
   ]
  },
  {
   "cell_type": "code",
   "execution_count": 24,
   "id": "f5db7e35-1c3e-4cf2-8c71-fc00afb8c47e",
   "metadata": {
    "tags": []
   },
   "outputs": [],
   "source": [
    "from openpyxl import load_workbook\n",
    "\n",
    "# Start by opening the spreadsheet and selecting the main sheet\n",
    "workbook = load_workbook(filename=\"hello_world.xlsx\")\n",
    "sheet = workbook.active\n",
    "\n",
    "# Write what you want into a specific cell\n",
    "sheet[\"C1\"] = \"writing ;)\"\n",
    "\n",
    "# Save the spreadsheet\n",
    "workbook.save(filename=\"hello_world_append.xlsx\")"
   ]
  },
  {
   "cell_type": "markdown",
   "id": "99d1ae21-e869-470e-aedb-395383b86b17",
   "metadata": {
    "jp-MarkdownHeadingCollapsed": true,
    "tags": []
   },
   "source": [
    "# Writing Excel Spreadsheets With openpyxl"
   ]
  },
  {
   "cell_type": "code",
   "execution_count": 25,
   "id": "ecbc2975-0f67-412a-9c58-5d1637b7f0d4",
   "metadata": {
    "tags": []
   },
   "outputs": [],
   "source": [
    "from openpyxl import Workbook\n",
    "\n",
    "filename = \"hello_world.xlsx\"\n",
    "\n",
    "workbook = Workbook()\n",
    "sheet = workbook.active\n",
    "\n",
    "sheet[\"a1\"] = \"hello\"\n",
    "sheet[\"b1\"] = \"world!\"\n",
    "\n",
    "workbook.save(filename=filename)"
   ]
  },
  {
   "cell_type": "markdown",
   "id": "f0e54556-4c83-4052-a4f7-17c8a02a2e78",
   "metadata": {
    "jp-MarkdownHeadingCollapsed": true,
    "tags": []
   },
   "source": [
    "# Basic Spreadsheet Operations"
   ]
  },
  {
   "cell_type": "code",
   "execution_count": 26,
   "id": "5073fa0c-4d67-4c30-bbb7-1f672c322980",
   "metadata": {
    "tags": []
   },
   "outputs": [],
   "source": [
    "def print_rows():\n",
    "    for row in sheet.iter_rows(values_only=True):\n",
    "        print(row)"
   ]
  },
  {
   "cell_type": "markdown",
   "id": "cde1fdfd-3ec9-4552-a369-c6fc749d08a4",
   "metadata": {
    "jp-MarkdownHeadingCollapsed": true,
    "tags": []
   },
   "source": [
    "## Adding and Updating Cell Values"
   ]
  },
  {
   "cell_type": "code",
   "execution_count": 27,
   "id": "2bfc988d-5689-46d8-b352-86493548c787",
   "metadata": {
    "tags": []
   },
   "outputs": [],
   "source": [
    "sheet[\"A1\"] = \"value\""
   ]
  },
  {
   "cell_type": "code",
   "execution_count": 28,
   "id": "3346f1f6-6d44-4ce9-a0f0-d0f5c47d84eb",
   "metadata": {
    "tags": []
   },
   "outputs": [
    {
     "data": {
      "text/plain": [
       "<Cell 'Sheet'.A1>"
      ]
     },
     "execution_count": 28,
     "metadata": {},
     "output_type": "execute_result"
    }
   ],
   "source": [
    "cell = sheet[\"A1\"]\n",
    "cell"
   ]
  },
  {
   "cell_type": "code",
   "execution_count": 29,
   "id": "54fc2920-f87f-4635-90fb-07416cadf589",
   "metadata": {
    "tags": []
   },
   "outputs": [
    {
     "data": {
      "text/plain": [
       "'value'"
      ]
     },
     "execution_count": 29,
     "metadata": {},
     "output_type": "execute_result"
    }
   ],
   "source": [
    "cell.value"
   ]
  },
  {
   "cell_type": "code",
   "execution_count": 30,
   "id": "026b5d8c-151b-4490-b185-670957e9a88d",
   "metadata": {
    "tags": []
   },
   "outputs": [
    {
     "data": {
      "text/plain": [
       "'hey'"
      ]
     },
     "execution_count": 30,
     "metadata": {},
     "output_type": "execute_result"
    }
   ],
   "source": [
    "cell.value = \"hey\"\n",
    "cell.value"
   ]
  },
  {
   "cell_type": "code",
   "execution_count": 31,
   "id": "fcc0c2b4-5190-485d-8a8f-4a4ee420c4d7",
   "metadata": {
    "tags": []
   },
   "outputs": [
    {
     "name": "stdout",
     "output_type": "stream",
     "text": [
      "('hey', 'world!')\n"
     ]
    }
   ],
   "source": [
    "print_rows()"
   ]
  },
  {
   "cell_type": "code",
   "execution_count": 32,
   "id": "a8894729-cb4c-4bd6-af7d-dfb86513d299",
   "metadata": {
    "tags": []
   },
   "outputs": [
    {
     "name": "stdout",
     "output_type": "stream",
     "text": [
      "('hey', 'world!')\n",
      "(None, None)\n",
      "(None, None)\n",
      "(None, None)\n",
      "(None, None)\n",
      "(None, None)\n",
      "(None, None)\n",
      "(None, None)\n",
      "(None, None)\n",
      "(None, 'test')\n"
     ]
    }
   ],
   "source": [
    "sheet[\"b10\"] = \"test\"\n",
    "print_rows()"
   ]
  },
  {
   "cell_type": "markdown",
   "id": "81947f73-b161-4e70-acb0-3dc23a2051ef",
   "metadata": {
    "tags": []
   },
   "source": [
    "## Managing Rows and Columns"
   ]
  },
  {
   "cell_type": "markdown",
   "id": "e331003a-1377-496c-98b1-10f162a82cae",
   "metadata": {},
   "source": [
    "One of the most common things you have to do when manipulating spreadsheets is adding or removing rows and columns. The openpyxl package allows you to do that in a very straightforward way by using the methods:\n",
    "\n",
    "* insert_rows()\n",
    "* delete_rows()\n",
    "* insert_cols()\n",
    "* delete_cols()\n",
    "\n",
    "Every single one of those methods can receive two arguments:\n",
    "\n",
    "1. idx\n",
    "2. amount\n",
    "\n",
    "Using our basic hello_world.xlsx example again, let’s see how these methods work:"
   ]
  },
  {
   "cell_type": "code",
   "execution_count": 33,
   "id": "3c04b50a-ccd8-418c-8af1-cbb14ecda2ed",
   "metadata": {
    "tags": []
   },
   "outputs": [
    {
     "name": "stdout",
     "output_type": "stream",
     "text": [
      "('hey', 'world!')\n",
      "(None, None)\n",
      "(None, None)\n",
      "(None, None)\n",
      "(None, None)\n",
      "(None, None)\n",
      "(None, None)\n",
      "(None, None)\n",
      "(None, None)\n",
      "(None, 'test')\n"
     ]
    }
   ],
   "source": [
    "print_rows()"
   ]
  },
  {
   "cell_type": "code",
   "execution_count": 34,
   "id": "6be2c206-5556-41b0-8b9b-a7a050942708",
   "metadata": {
    "tags": []
   },
   "outputs": [
    {
     "name": "stdout",
     "output_type": "stream",
     "text": [
      "(None, 'hey', 'world!')\n",
      "(None, None, None)\n",
      "(None, None, None)\n",
      "(None, None, None)\n",
      "(None, None, None)\n",
      "(None, None, None)\n",
      "(None, None, None)\n",
      "(None, None, None)\n",
      "(None, None, None)\n",
      "(None, None, 'test')\n"
     ]
    }
   ],
   "source": [
    "# Insert a column before the existing column 1 (\"A\")\n",
    "sheet.insert_cols(idx=1)\n",
    "print_rows()"
   ]
  },
  {
   "cell_type": "code",
   "execution_count": 35,
   "id": "d3a1aba1-22ee-4b93-97b2-d38e60e27403",
   "metadata": {
    "tags": []
   },
   "outputs": [
    {
     "name": "stdout",
     "output_type": "stream",
     "text": [
      "(None, 'hey', None, None, None, None, None, 'world!')\n",
      "(None, None, None, None, None, None, None, None)\n",
      "(None, None, None, None, None, None, None, None)\n",
      "(None, None, None, None, None, None, None, None)\n",
      "(None, None, None, None, None, None, None, None)\n",
      "(None, None, None, None, None, None, None, None)\n",
      "(None, None, None, None, None, None, None, None)\n",
      "(None, None, None, None, None, None, None, None)\n",
      "(None, None, None, None, None, None, None, None)\n",
      "(None, None, None, None, None, None, None, 'test')\n"
     ]
    }
   ],
   "source": [
    "# Insert 5 columns between column 2 (\"B\") and 3 (\"C\")\n",
    "# idx = start, amount = number of cells\n",
    "sheet.insert_cols(idx=3, amount=5) # result will be between B and H\n",
    "print_rows()"
   ]
  },
  {
   "cell_type": "code",
   "execution_count": 36,
   "id": "57ddbdcb-0231-41b1-aa9a-e25074df9e1f",
   "metadata": {
    "tags": []
   },
   "outputs": [
    {
     "name": "stdout",
     "output_type": "stream",
     "text": [
      "('hey', 'world!')\n",
      "(None, None)\n",
      "(None, None)\n",
      "(None, None)\n",
      "(None, None)\n",
      "(None, None)\n",
      "(None, None)\n",
      "(None, None)\n",
      "(None, None)\n",
      "(None, 'test')\n"
     ]
    }
   ],
   "source": [
    "# Delete the created columns\n",
    "sheet.delete_cols(idx=3, amount=5)\n",
    "sheet.delete_cols(idx=1)\n",
    "print_rows()"
   ]
  },
  {
   "cell_type": "code",
   "execution_count": 37,
   "id": "427a75a7-459e-46af-ad94-6c0ddc38f00c",
   "metadata": {
    "tags": []
   },
   "outputs": [
    {
     "name": "stdout",
     "output_type": "stream",
     "text": [
      "(None, None)\n",
      "('hey', 'world!')\n",
      "(None, None)\n",
      "(None, None)\n",
      "(None, None)\n",
      "(None, None)\n",
      "(None, None)\n",
      "(None, None)\n",
      "(None, None)\n",
      "(None, None)\n",
      "(None, 'test')\n"
     ]
    }
   ],
   "source": [
    "# Insert a new row in the beginning\n",
    "sheet.insert_rows(idx=1)\n",
    "print_rows()"
   ]
  },
  {
   "cell_type": "code",
   "execution_count": 38,
   "id": "68ec47ed-f93d-496e-b048-982781c7b2eb",
   "metadata": {
    "tags": []
   },
   "outputs": [
    {
     "name": "stdout",
     "output_type": "stream",
     "text": [
      "(None, None)\n",
      "(None, None)\n",
      "(None, None)\n",
      "(None, None)\n",
      "('hey', 'world!')\n",
      "(None, None)\n",
      "(None, None)\n",
      "(None, None)\n",
      "(None, None)\n",
      "(None, None)\n",
      "(None, None)\n",
      "(None, None)\n",
      "(None, None)\n",
      "(None, 'test')\n"
     ]
    }
   ],
   "source": [
    "# Insert 3 new rows in the beginning\n",
    "sheet.insert_rows(idx=1, amount=3)\n",
    "print_rows()"
   ]
  },
  {
   "cell_type": "code",
   "execution_count": 39,
   "id": "1991e272-c122-4679-88e6-4df19ff29fd5",
   "metadata": {
    "tags": []
   },
   "outputs": [
    {
     "name": "stdout",
     "output_type": "stream",
     "text": [
      "('hey', 'world!')\n",
      "(None, None)\n",
      "(None, None)\n",
      "(None, None)\n",
      "(None, None)\n",
      "(None, None)\n",
      "(None, None)\n",
      "(None, None)\n",
      "(None, None)\n",
      "(None, 'test')\n"
     ]
    }
   ],
   "source": [
    "# Delete the first 4 rows\n",
    "sheet.delete_rows(idx=1, amount=4)\n",
    "print_rows()"
   ]
  },
  {
   "cell_type": "markdown",
   "id": "f6ee164b-e217-47a4-9b16-a9e14bf74608",
   "metadata": {},
   "source": [
    "The only thing you need to remember is that when inserting new data (rows or columns), the insertion happens **before** the idx parameter.\n",
    "\n",
    "So, if you do `insert_rows(1)`, it inserts a new row **before** the existing first row.\n",
    "\n",
    "It’s the same for columns: when you call `insert_cols(2)`, it inserts a new column right **before** the already existing second column (B).\n",
    "\n",
    "However, when deleting rows or columns, .delete_... deletes data starting from the index passed as an argument.\n",
    "\n",
    "For example, when doing delete_rows(2) it deletes row 2, and when doing delete_cols(3) it deletes the third column (C)."
   ]
  },
  {
   "cell_type": "markdown",
   "id": "22a9491d-2094-4260-bd6f-00e8b877a017",
   "metadata": {
    "jp-MarkdownHeadingCollapsed": true,
    "tags": []
   },
   "source": [
    "## Managing Sheets"
   ]
  },
  {
   "cell_type": "code",
   "execution_count": 40,
   "id": "db715417-db70-4dae-826f-1576437c7548",
   "metadata": {
    "tags": []
   },
   "outputs": [],
   "source": [
    "sheet = workbook.active"
   ]
  },
  {
   "cell_type": "markdown",
   "id": "c0df698a-8499-4f9b-ae27-bd7d4c32395b",
   "metadata": {},
   "source": [
    "This is the way to select the default sheet from a spreadsheet. However, if you’re opening a spreadsheet with multiple sheets, then you can always select a specific one like this:"
   ]
  },
  {
   "cell_type": "code",
   "execution_count": 41,
   "id": "a78cedc4-f3f4-4399-831b-224b7dae9528",
   "metadata": {
    "tags": []
   },
   "outputs": [
    {
     "data": {
      "text/plain": [
       "['Products', 'Company Sales']"
      ]
     },
     "execution_count": 41,
     "metadata": {},
     "output_type": "execute_result"
    }
   ],
   "source": [
    "workbook = load_workbook(filename=\"result.xlsx\")\n",
    "workbook.sheetnames"
   ]
  },
  {
   "cell_type": "code",
   "execution_count": 42,
   "id": "cbe4d46a-566b-4918-8ca8-d7fbf2cc7a0d",
   "metadata": {
    "tags": []
   },
   "outputs": [],
   "source": [
    "# You can select a sheet using its title\n",
    "products_sheet = workbook[\"Products\"]"
   ]
  },
  {
   "cell_type": "code",
   "execution_count": 43,
   "id": "3a75fe80-bcea-423e-8d5d-e876dd58444d",
   "metadata": {
    "tags": []
   },
   "outputs": [],
   "source": [
    "sales_sheet = workbook[\"Company Sales\"]"
   ]
  },
  {
   "cell_type": "code",
   "execution_count": 44,
   "id": "9b16d147-cd16-4650-ab67-30e1878e4f25",
   "metadata": {
    "tags": []
   },
   "outputs": [],
   "source": [
    "products_sheet = workbook[\"Products\"]\n",
    "products_sheet.title = \"New Products\""
   ]
  },
  {
   "cell_type": "code",
   "execution_count": 45,
   "id": "8d91bc82-6313-4af2-833c-66017993623a",
   "metadata": {
    "tags": []
   },
   "outputs": [
    {
     "data": {
      "text/plain": [
       "['New Products', 'Company Sales']"
      ]
     },
     "execution_count": 45,
     "metadata": {},
     "output_type": "execute_result"
    }
   ],
   "source": [
    "workbook.sheetnames"
   ]
  },
  {
   "cell_type": "markdown",
   "id": "02a0fbd4-6f8c-4db1-b2b0-1b055d1b4971",
   "metadata": {},
   "source": [
    "If you want to create or delete sheets, then you can also do that with `.create_sheet()` and `.remove()`:"
   ]
  },
  {
   "cell_type": "code",
   "execution_count": 46,
   "id": "943a3f67-af6d-47ab-98ae-71eca56b0cb8",
   "metadata": {
    "tags": []
   },
   "outputs": [
    {
     "data": {
      "text/plain": [
       "['New Products', 'Company Sales']"
      ]
     },
     "execution_count": 46,
     "metadata": {},
     "output_type": "execute_result"
    }
   ],
   "source": [
    "workbook.sheetnames"
   ]
  },
  {
   "cell_type": "code",
   "execution_count": 47,
   "id": "ab023cbd-6125-42e7-8496-50c2af4a5c4b",
   "metadata": {
    "tags": []
   },
   "outputs": [
    {
     "data": {
      "text/plain": [
       "['New Products', 'Company Sales', 'Operations']"
      ]
     },
     "execution_count": 47,
     "metadata": {},
     "output_type": "execute_result"
    }
   ],
   "source": [
    "operations_sheet = workbook.create_sheet(\"Operations\")\n",
    "workbook.sheetnames"
   ]
  },
  {
   "cell_type": "code",
   "execution_count": 48,
   "id": "b5d2bc6c-4a37-4b30-9977-ce6a790b969d",
   "metadata": {
    "tags": []
   },
   "outputs": [
    {
     "data": {
      "text/plain": [
       "['HR', 'New Products', 'Company Sales', 'Operations']"
      ]
     },
     "execution_count": 48,
     "metadata": {},
     "output_type": "execute_result"
    }
   ],
   "source": [
    "# You can also define the position to create the sheet at\n",
    "hr_sheet = workbook.create_sheet(\"HR\", 0)\n",
    "workbook.sheetnames"
   ]
  },
  {
   "cell_type": "code",
   "execution_count": 49,
   "id": "7ca74cb1-29a1-4af7-8d41-a81bea8ed7df",
   "metadata": {
    "tags": []
   },
   "outputs": [
    {
     "data": {
      "text/plain": [
       "['HR', 'New Products', 'Company Sales']"
      ]
     },
     "execution_count": 49,
     "metadata": {},
     "output_type": "execute_result"
    }
   ],
   "source": [
    "# To remove them, just pass the sheet as an argument to the .remove()\n",
    "workbook.remove(operations_sheet) # remove \"Operations\" sheet\n",
    "workbook.sheetnames"
   ]
  },
  {
   "cell_type": "code",
   "execution_count": 50,
   "id": "30302f86-2b52-46f9-82e7-a1f06320f386",
   "metadata": {
    "tags": []
   },
   "outputs": [
    {
     "data": {
      "text/plain": [
       "['New Products', 'Company Sales']"
      ]
     },
     "execution_count": 50,
     "metadata": {},
     "output_type": "execute_result"
    }
   ],
   "source": [
    "workbook.remove(hr_sheet)\n",
    "workbook.sheetnames"
   ]
  },
  {
   "cell_type": "markdown",
   "id": "1e089ea8-4a49-4e7d-a048-609fd8bf7cc2",
   "metadata": {},
   "source": [
    "One other thing you can do is make duplicates of a sheet using `copy_worksheet()`:"
   ]
  },
  {
   "cell_type": "code",
   "execution_count": 51,
   "id": "473b54f1-f038-4843-8608-02a1951ae96f",
   "metadata": {
    "tags": []
   },
   "outputs": [
    {
     "data": {
      "text/plain": [
       "['New Products', 'Company Sales']"
      ]
     },
     "execution_count": 51,
     "metadata": {},
     "output_type": "execute_result"
    }
   ],
   "source": [
    "workbook.sheetnames"
   ]
  },
  {
   "cell_type": "code",
   "execution_count": 52,
   "id": "115a8e79-d6db-4e28-baf3-7fa05959f521",
   "metadata": {
    "tags": []
   },
   "outputs": [
    {
     "data": {
      "text/plain": [
       "<Worksheet \"New Products Copy\">"
      ]
     },
     "execution_count": 52,
     "metadata": {},
     "output_type": "execute_result"
    }
   ],
   "source": [
    "products_sheet = workbook[\"New Products\"]\n",
    "workbook.copy_worksheet(products_sheet)"
   ]
  },
  {
   "cell_type": "code",
   "execution_count": 53,
   "id": "1b34ced8-541f-4b33-a400-79d7cbc2e504",
   "metadata": {
    "tags": []
   },
   "outputs": [
    {
     "data": {
      "text/plain": [
       "['New Products', 'Company Sales', 'New Products Copy']"
      ]
     },
     "execution_count": 53,
     "metadata": {},
     "output_type": "execute_result"
    }
   ],
   "source": [
    "workbook.sheetnames"
   ]
  },
  {
   "cell_type": "markdown",
   "id": "3e4d7fb2-7a0c-45d4-834f-50f7e3e3fa76",
   "metadata": {
    "jp-MarkdownHeadingCollapsed": true,
    "tags": []
   },
   "source": [
    "## Freezing Rows and Columns"
   ]
  },
  {
   "cell_type": "code",
   "execution_count": 54,
   "id": "93ef9b8f-98b4-4d21-9b8e-7b5218ca48ae",
   "metadata": {
    "tags": []
   },
   "outputs": [],
   "source": [
    "workbook = load_workbook(filename=\"reviews-sample.xlsx\")\n",
    "sheet = workbook.active\n",
    "\n",
    "sheet.freeze_panes = \"C2\"             \n",
    "workbook.save(\"sample_frozen.xlsx\")"
   ]
  },
  {
   "cell_type": "markdown",
   "id": "3740dbb4-3472-4c19-bd70-ab174e12456b",
   "metadata": {},
   "source": [
    "You’ll notice that row 1 and columns A and B are frozen and are always visible no matter where you navigate within the spreadsheet."
   ]
  },
  {
   "cell_type": "markdown",
   "id": "6ade37b5-d656-433f-b61e-3d7516e9d5ac",
   "metadata": {
    "jp-MarkdownHeadingCollapsed": true,
    "tags": []
   },
   "source": [
    "## Adding Filters"
   ]
  },
  {
   "cell_type": "markdown",
   "id": "90b04836-35c9-48b4-97c3-fc4373a6785d",
   "metadata": {},
   "source": [
    "You can use openpyxl to add filters and sorts to your spreadsheet. However, when you open the spreadsheet, the data won’t be rearranged according to these sorts and filters.\n",
    "\n",
    "At first, this might seem like a pretty useless feature, but when you’re programmatically creating a spreadsheet that is going to be sent and used by somebody else, it’s still nice to at least create the filters and allow people to use it afterward.\n",
    "\n",
    "The code below is an example of how you would add some filters to our existing sample.xlsx spreadsheet:"
   ]
  },
  {
   "cell_type": "code",
   "execution_count": 55,
   "id": "ec29d2e4-353e-4d85-beb3-9b87f0d754f2",
   "metadata": {
    "tags": []
   },
   "outputs": [
    {
     "data": {
      "text/plain": [
       "'A1:O100'"
      ]
     },
     "execution_count": 55,
     "metadata": {},
     "output_type": "execute_result"
    }
   ],
   "source": [
    "# Check the used spreadsheet space using the attribute \"dimensions\"\n",
    "sheet.dimensions"
   ]
  },
  {
   "cell_type": "code",
   "execution_count": 56,
   "id": "14a556f1-8ac1-4e76-9580-332db949eeb7",
   "metadata": {
    "tags": []
   },
   "outputs": [],
   "source": [
    "sheet.auto_filter.ref = \"A1:O100\"\n",
    "workbook.save(filename=\"sample_with_filters.xlsx\")"
   ]
  },
  {
   "cell_type": "markdown",
   "id": "7f18f500-34f4-4f78-8c80-9fa09424b16a",
   "metadata": {},
   "source": [
    "You should now see the filters created when opening the spreadsheet in your editor:\n",
    "\n",
    "You don’t have to use sheet.dimensions if you know precisely which part of the spreadsheet you want to apply filters to."
   ]
  },
  {
   "cell_type": "markdown",
   "id": "6e05ddaa-5cb8-4c42-a1bd-096aa9b8bffa",
   "metadata": {
    "tags": []
   },
   "source": [
    "## Adding Formulas"
   ]
  },
  {
   "cell_type": "markdown",
   "id": "d57a0b03-aebc-4592-bd41-5b8ec7469e6b",
   "metadata": {},
   "source": [
    "**Formulas**(or **formulae**) are one of the most powerful features of spreadsheets."
   ]
  },
  {
   "cell_type": "code",
   "execution_count": 57,
   "id": "044ada57-d9c2-4193-912a-e9fd1a4d8b6e",
   "metadata": {
    "tags": []
   },
   "outputs": [
    {
     "data": {
      "text/plain": [
       "frozenset({'ABS',\n",
       "           'ACCRINT',\n",
       "           'ACCRINTM',\n",
       "           'ACOS',\n",
       "           'ACOSH',\n",
       "           'AMORDEGRC',\n",
       "           'AMORLINC',\n",
       "           'AND',\n",
       "           'AREAS',\n",
       "           'ASC',\n",
       "           'ASIN',\n",
       "           'ASINH',\n",
       "           'ATAN',\n",
       "           'ATAN2',\n",
       "           'ATANH',\n",
       "           'AVEDEV',\n",
       "           'AVERAGE',\n",
       "           'AVERAGEA',\n",
       "           'AVERAGEIF',\n",
       "           'AVERAGEIFS',\n",
       "           'BAHTTEXT',\n",
       "           'BESSELI',\n",
       "           'BESSELJ',\n",
       "           'BESSELK',\n",
       "           'BESSELY',\n",
       "           'BETADIST',\n",
       "           'BETAINV',\n",
       "           'BIN2DEC',\n",
       "           'BIN2HEX',\n",
       "           'BIN2OCT',\n",
       "           'BINOMDIST',\n",
       "           'CEILING',\n",
       "           'CELL',\n",
       "           'CHAR',\n",
       "           'CHIDIST',\n",
       "           'CHIINV',\n",
       "           'CHITEST',\n",
       "           'CHOOSE',\n",
       "           'CLEAN',\n",
       "           'CODE',\n",
       "           'COLUMN',\n",
       "           'COLUMNS',\n",
       "           'COMBIN',\n",
       "           'COMPLEX',\n",
       "           'CONCATENATE',\n",
       "           'CONFIDENCE',\n",
       "           'CONVERT',\n",
       "           'CORREL',\n",
       "           'COS',\n",
       "           'COSH',\n",
       "           'COUNT',\n",
       "           'COUNTA',\n",
       "           'COUNTBLANK',\n",
       "           'COUNTIF',\n",
       "           'COUNTIFS',\n",
       "           'COUPDAYBS',\n",
       "           'COUPDAYS',\n",
       "           'COUPDAYSNC',\n",
       "           'COUPNCD',\n",
       "           'COUPNUM',\n",
       "           'COUPPCD',\n",
       "           'COVAR',\n",
       "           'CRITBINOM',\n",
       "           'CUBEKPIMEMBER',\n",
       "           'CUBEMEMBER',\n",
       "           'CUBEMEMBERPROPERTY',\n",
       "           'CUBERANKEDMEMBER',\n",
       "           'CUBESET',\n",
       "           'CUBESETCOUNT',\n",
       "           'CUBEVALUE',\n",
       "           'CUMIPMT',\n",
       "           'CUMPRINC',\n",
       "           'DATE',\n",
       "           'DATEDIF',\n",
       "           'DATEVALUE',\n",
       "           'DAVERAGE',\n",
       "           'DAY',\n",
       "           'DAYS360',\n",
       "           'DB',\n",
       "           'DCOUNT',\n",
       "           'DCOUNTA',\n",
       "           'DDB',\n",
       "           'DEC2BIN',\n",
       "           'DEC2HEX',\n",
       "           'DEC2OCT',\n",
       "           'DEGREES',\n",
       "           'DELTA',\n",
       "           'DEVSQ',\n",
       "           'DGET',\n",
       "           'DISC',\n",
       "           'DMAX',\n",
       "           'DMIN',\n",
       "           'DOLLAR',\n",
       "           'DOLLARDE',\n",
       "           'DOLLARFR',\n",
       "           'DPRODUCT',\n",
       "           'DSTDEV',\n",
       "           'DSTDEVP',\n",
       "           'DSUM',\n",
       "           'DURATION',\n",
       "           'DVAR',\n",
       "           'DVARP',\n",
       "           'ECMA.CEILING',\n",
       "           'EDATE',\n",
       "           'EFFECT',\n",
       "           'EOMONTH',\n",
       "           'ERF',\n",
       "           'ERFC',\n",
       "           'ERROR.TYPE',\n",
       "           'EVEN',\n",
       "           'EXACT',\n",
       "           'EXP',\n",
       "           'EXPONDIST',\n",
       "           'FACT',\n",
       "           'FACTDOUBLE',\n",
       "           'FALSE',\n",
       "           'FDIST',\n",
       "           'FIND',\n",
       "           'FINDB',\n",
       "           'FINV',\n",
       "           'FISHER',\n",
       "           'FISHERINV',\n",
       "           'FIXED',\n",
       "           'FLOOR',\n",
       "           'FORECAST',\n",
       "           'FREQUENCY',\n",
       "           'FTEST',\n",
       "           'FV',\n",
       "           'FVSCHEDULE',\n",
       "           'GAMMADIST',\n",
       "           'GAMMAINV',\n",
       "           'GAMMALN',\n",
       "           'GCD',\n",
       "           'GEOMEAN',\n",
       "           'GESTEP',\n",
       "           'GETPIVOTDATA',\n",
       "           'GROWTH',\n",
       "           'HARMEAN',\n",
       "           'HEX2BIN',\n",
       "           'HEX2DEC',\n",
       "           'HEX2OCT',\n",
       "           'HLOOKUP',\n",
       "           'HOUR',\n",
       "           'HYPERLINK',\n",
       "           'HYPGEOMDIST',\n",
       "           'IF',\n",
       "           'IFERROR',\n",
       "           'IMABS',\n",
       "           'IMAGINARY',\n",
       "           'IMARGUMENT',\n",
       "           'IMCONJUGATE',\n",
       "           'IMCOS',\n",
       "           'IMDIV',\n",
       "           'IMEXP',\n",
       "           'IMLN',\n",
       "           'IMLOG10',\n",
       "           'IMLOG2',\n",
       "           'IMPOWER',\n",
       "           'IMPRODUCT',\n",
       "           'IMREAL',\n",
       "           'IMSIN',\n",
       "           'IMSQRT',\n",
       "           'IMSUB',\n",
       "           'IMSUM',\n",
       "           'INDEX',\n",
       "           'INDIRECT',\n",
       "           'INFO',\n",
       "           'INT',\n",
       "           'INTERCEPT',\n",
       "           'INTRATE',\n",
       "           'IPMT',\n",
       "           'IRR',\n",
       "           'ISBLANK',\n",
       "           'ISERR',\n",
       "           'ISERROR',\n",
       "           'ISEVEN',\n",
       "           'ISLOGICAL',\n",
       "           'ISNA',\n",
       "           'ISNONTEXT',\n",
       "           'ISNUMBER',\n",
       "           'ISO.CEILING',\n",
       "           'ISODD',\n",
       "           'ISPMT',\n",
       "           'ISREF',\n",
       "           'ISTEXT',\n",
       "           'JIS',\n",
       "           'KURT',\n",
       "           'LARGE',\n",
       "           'LCM',\n",
       "           'LEFT',\n",
       "           'LEFTB',\n",
       "           'LEN',\n",
       "           'LENB',\n",
       "           'LINEST',\n",
       "           'LN',\n",
       "           'LOG',\n",
       "           'LOG10',\n",
       "           'LOGEST',\n",
       "           'LOGINV',\n",
       "           'LOGNORMDIST',\n",
       "           'LOOKUP',\n",
       "           'LOWER',\n",
       "           'MATCH',\n",
       "           'MAX',\n",
       "           'MAXA',\n",
       "           'MDETERM',\n",
       "           'MDURATION',\n",
       "           'MEDIAN',\n",
       "           'MID',\n",
       "           'MIDB',\n",
       "           'MIN',\n",
       "           'MINA',\n",
       "           'MINUTE',\n",
       "           'MINVERSE',\n",
       "           'MIRR',\n",
       "           'MMULT',\n",
       "           'MOD',\n",
       "           'MODE',\n",
       "           'MONTH',\n",
       "           'MROUND',\n",
       "           'MULTINOMIAL',\n",
       "           'N',\n",
       "           'NA',\n",
       "           'NEGBINOMDIST',\n",
       "           'NETWORKDAYS',\n",
       "           'NETWORKDAYS.INTL',\n",
       "           'NOMINAL',\n",
       "           'NORMDIST',\n",
       "           'NORMINV',\n",
       "           'NORMSDIST',\n",
       "           'NORMSINV',\n",
       "           'NOT',\n",
       "           'NOW',\n",
       "           'NPER',\n",
       "           'NPV',\n",
       "           'OCT2BIN',\n",
       "           'OCT2DEC',\n",
       "           'OCT2HEX',\n",
       "           'ODD',\n",
       "           'ODDFPRICE',\n",
       "           'ODDFYIELD',\n",
       "           'ODDLPRICE',\n",
       "           'ODDLYIELD',\n",
       "           'OFFSET',\n",
       "           'OR',\n",
       "           'PEARSON',\n",
       "           'PERCENTILE',\n",
       "           'PERCENTRANK',\n",
       "           'PERMUT',\n",
       "           'PHONETIC',\n",
       "           'PI',\n",
       "           'PMT',\n",
       "           'POISSON',\n",
       "           'POWER',\n",
       "           'PPMT',\n",
       "           'PRICE',\n",
       "           'PRICEDISC',\n",
       "           'PRICEMAT',\n",
       "           'PROB',\n",
       "           'PRODUCT',\n",
       "           'PROPER',\n",
       "           'PV',\n",
       "           'QUARTILE',\n",
       "           'QUOTIENT',\n",
       "           'RADIANS',\n",
       "           'RAND',\n",
       "           'RANDBETWEEN',\n",
       "           'RANK',\n",
       "           'RATE',\n",
       "           'RECEIVED',\n",
       "           'REPLACE',\n",
       "           'REPLACEB',\n",
       "           'REPT',\n",
       "           'RIGHT',\n",
       "           'RIGHTB',\n",
       "           'ROMAN',\n",
       "           'ROUND',\n",
       "           'ROUNDDOWN',\n",
       "           'ROUNDUP',\n",
       "           'ROW',\n",
       "           'ROWS',\n",
       "           'RSQ',\n",
       "           'RTD',\n",
       "           'SEARCH',\n",
       "           'SEARCHB',\n",
       "           'SECOND',\n",
       "           'SERIESSUM',\n",
       "           'SIGN',\n",
       "           'SIN',\n",
       "           'SINH',\n",
       "           'SKEW',\n",
       "           'SLN',\n",
       "           'SLOPE',\n",
       "           'SMALL',\n",
       "           'SQRT',\n",
       "           'SQRTPI',\n",
       "           'STANDARDIZE',\n",
       "           'STDEV STDEVA',\n",
       "           'STDEVP',\n",
       "           'STDEVPA STEYX',\n",
       "           'SUBSTITUTE',\n",
       "           'SUBTOTAL',\n",
       "           'SUM',\n",
       "           'SUMIF',\n",
       "           'SUMIFS',\n",
       "           'SUMPRODUCT',\n",
       "           'SUMSQ',\n",
       "           'SUMX2MY2',\n",
       "           'SUMX2PY2',\n",
       "           'SUMXMY2',\n",
       "           'SYD',\n",
       "           'T',\n",
       "           'TAN',\n",
       "           'TANH',\n",
       "           'TBILLEQ',\n",
       "           'TBILLPRICE',\n",
       "           'TBILLYIELD',\n",
       "           'TDIST',\n",
       "           'TEXT',\n",
       "           'TIME',\n",
       "           'TIMEVALUE',\n",
       "           'TINV',\n",
       "           'TODAY',\n",
       "           'TRANSPOSE',\n",
       "           'TREND',\n",
       "           'TRIM',\n",
       "           'TRIMMEAN',\n",
       "           'TRUE ADDRESS',\n",
       "           'TRUNC',\n",
       "           'TTEST',\n",
       "           'TYPE',\n",
       "           'UPPER',\n",
       "           'VALUE',\n",
       "           'VAR',\n",
       "           'VARA',\n",
       "           'VARP',\n",
       "           'VARPA',\n",
       "           'VDB',\n",
       "           'VLOOKUP',\n",
       "           'WEEKDAY',\n",
       "           'WEEKNUM',\n",
       "           'WEIBULL',\n",
       "           'WORKDAY ',\n",
       "           'WORKDAY.INTL',\n",
       "           'XIRR',\n",
       "           'XNPV',\n",
       "           'YEAR',\n",
       "           'YEARFRAC',\n",
       "           'YIELD',\n",
       "           'YIELDDISC',\n",
       "           'YIELDMAT',\n",
       "           'ZTEST'})"
      ]
     },
     "execution_count": 57,
     "metadata": {},
     "output_type": "execute_result"
    }
   ],
   "source": [
    "from openpyxl.utils import FORMULAE\n",
    "\n",
    "FORMULAE"
   ]
  },
  {
   "cell_type": "code",
   "execution_count": 58,
   "id": "95101761-65f6-475e-aaef-48e33dd095d1",
   "metadata": {
    "tags": []
   },
   "outputs": [],
   "source": [
    "# Star rating is column \"H\"\n",
    "sheet[\"P2\"] = \"=AVERAGE(H2:H100)\"\n",
    "workbook.save(filename=\"sample_formulas.xlsx\")"
   ]
  },
  {
   "cell_type": "code",
   "execution_count": 59,
   "id": "95b07f89-ae53-443d-a118-a2f76527c9a8",
   "metadata": {
    "tags": []
   },
   "outputs": [],
   "source": [
    "# The helpful votes are counted on column \"I\"\n",
    "sheet[\"P3\"] = '=COUNTIF(I2:I100, \">0\")'\n",
    "workbook.save(filename=\"sample_formulas.xlsx\")"
   ]
  },
  {
   "cell_type": "markdown",
   "id": "9b77b283-ae92-4a68-ad76-3bb6af546e4b",
   "metadata": {
    "jp-MarkdownHeadingCollapsed": true,
    "tags": []
   },
   "source": [
    "# Adding Styles"
   ]
  },
  {
   "cell_type": "markdown",
   "id": "6ee35e62-4da2-4a36-a026-5b5adf27e56d",
   "metadata": {},
   "source": [
    "Using openpyxl, you can apply multiple styling options to your spreadsheet, including fonts, borders, colors, and so on. Have a look at the openpyxl [documentation](https://openpyxl.readthedocs.io/en/stable/styles.html) to learn more."
   ]
  },
  {
   "cell_type": "code",
   "execution_count": 60,
   "id": "1be696d9-dc79-45f8-a930-acd7b66a250f",
   "metadata": {
    "tags": []
   },
   "outputs": [],
   "source": [
    "# Import necessary style classes\n",
    "from openpyxl.styles import Font, Color, Alignment, Border, Side\n",
    "workbook = load_workbook(filename=\"reviews-sample.xlsx\")\n",
    "sheet = workbook.active\n",
    "\n",
    "# Create a few styles\n",
    "bold_font = Font(bold=True)\n",
    "big_red_text = Font(color=\"00FF0000\", size=20)\n",
    "center_aligned_text = Alignment(horizontal=\"center\")\n",
    "double_border_side = Side(border_style=\"double\")\n",
    "square_border = Border(top=double_border_side, right=double_border_side,\n",
    "                      bottom=double_border_side, left=double_border_side)\n",
    "\n",
    "# Style some cells!\n",
    "sheet[\"a2\"].font = bold_font\n",
    "sheet[\"a3\"].font = big_red_text\n",
    "sheet[\"a4\"].alignment = center_aligned_text\n",
    "sheet[\"a5\"].border = square_border\n",
    "\n",
    "workbook.save(filename=\"sample_styles.xlsx\")"
   ]
  },
  {
   "cell_type": "code",
   "execution_count": 61,
   "id": "c23bd216-f572-4b11-a807-97780d276169",
   "metadata": {
    "tags": []
   },
   "outputs": [],
   "source": [
    "# Reusing the same styles from the example above\n",
    "sheet[\"a6\"].alignment = center_aligned_text\n",
    "sheet[\"a6\"].font = big_red_text\n",
    "sheet[\"a6\"].border = square_border\n",
    "\n",
    "workbook.save(filename=\"sample_styles.xlsx\")"
   ]
  },
  {
   "cell_type": "code",
   "execution_count": 62,
   "id": "7e9a669f-5ca2-49bc-9626-2cf0d92dc6ce",
   "metadata": {
    "tags": []
   },
   "outputs": [
    {
     "name": "stdout",
     "output_type": "stream",
     "text": [
      "marketplace\n",
      "customer_id\n",
      "review_id\n",
      "product_id\n",
      "product_parent\n",
      "product_title\n",
      "product_category\n",
      "star_rating\n",
      "helpful_votes\n",
      "total_votes\n",
      "vine\n",
      "verified_purchase\n",
      "review_headline\n",
      "review_body\n",
      "review_date\n"
     ]
    }
   ],
   "source": [
    "from openpyxl.styles import NamedStyle\n",
    "\n",
    "# Let's create a style template for the header row\n",
    "header = NamedStyle(name=\"header\")\n",
    "header.font = Font(bold=True)\n",
    "header.border = Border(bottom=Side(border_style=\"thin\"))\n",
    "header.alignment = Alignment(horizontal=\"center\", vertical=\"center\")\n",
    "\n",
    "# Now let's apply this to all first row (header) cells\n",
    "header_row = sheet[1]                                 # mean the first row\n",
    "\n",
    "for cell in header_row:\n",
    "    print(cell.value)\n",
    "    cell.style = header\n",
    "    \n",
    "workbook.save(filename=\"sample_styles.xlsx\")"
   ]
  },
  {
   "cell_type": "markdown",
   "id": "990e5e3e-c5a3-4783-8cc5-527611be31e9",
   "metadata": {
    "jp-MarkdownHeadingCollapsed": true,
    "tags": []
   },
   "source": [
    "## Conditional Formatting"
   ]
  },
  {
   "cell_type": "code",
   "execution_count": 84,
   "id": "8f16cea9-2765-467b-8dc5-1d143fbab0ab",
   "metadata": {},
   "outputs": [],
   "source": [
    "from openpyxl.styles import PatternFill\n",
    "from openpyxl.styles.differential import DifferentialStyle\n",
    "from openpyxl.formatting.rule import Rule\n",
    "from openpyxl import load_workbook\n",
    "\n",
    "workbook = load_workbook(filename=\"reviews-sample.xlsx\")\n",
    "sheet = workbook.active\n",
    "\n",
    "red_background = PatternFill(start_color='00FF0000', end_color='00FF0000', fill_type='solid')\n",
    "diff_style = DifferentialStyle(fill=red_background)\n",
    "rule = Rule(type='expression', dxf=diff_style)\n",
    "rule.formula = [\"$H1<3\"]\n",
    "sheet.conditional_formatting.add(\"A1:O100\", rule)\n",
    "workbook.save(\"sample_conditional_formatting.xlsx\")"
   ]
  },
  {
   "cell_type": "markdown",
   "id": "41eb5636-7945-40be-8097-1eef6b9a27f2",
   "metadata": {
    "tags": []
   },
   "source": [
    "Code-wise, the only things that are new here are the objects DifferentialStyle and Rule:\n",
    "\n",
    "DifferentialStyle is quite similar to NamedStyle, which you already saw above, and it’s used to aggregate multiple styles such as fonts, borders, alignment, and so forth.\n",
    "Rule is responsible for selecting the cells and applying the styles if the cells match the rule’s logic.\n",
    "Using a Rule object, you can create numerous conditional formatting scenarios.\n",
    "\n",
    "However, for simplicity sake, the openpyxl package offers 3 built-in formats that make it easier to create a few common conditional formatting patterns. These built-ins are:\n",
    "\n",
    "* ColorScale\n",
    "* IconSet\n",
    "* DataBar\n",
    "\n",
    "The **ColorScale** gives you the ability to create color gradients:"
   ]
  },
  {
   "cell_type": "code",
   "execution_count": 86,
   "id": "51279d10-c809-416a-a594-e9992641b16b",
   "metadata": {
    "tags": []
   },
   "outputs": [],
   "source": [
    "from openpyxl.formatting.rule import ColorScaleRule\n",
    "from openpyxl import load_workbook\n",
    "\n",
    "workbook = load_workbook(filename=\"reviews-sample.xlsx\")\n",
    "sheet = workbook.active\n",
    "\n",
    "color_scale_rule = ColorScaleRule(start_type=\"min\",\n",
    "                                   start_color=\"00FF0000\",  # Red\n",
    "                                   end_type=\"max\",\n",
    "                                   end_color=\"0000FF00\")   # Green\n",
    "\n",
    "# Again, let's add this gradient to the star ratings, column \"H\"\n",
    "sheet.conditional_formatting.add(\"H2:H100\", color_scale_rule)\n",
    "workbook.save(filename=\"sample_conditional_formatting_color_scale.xlsx\")"
   ]
  },
  {
   "cell_type": "markdown",
   "id": "405cd4dc-c776-4653-83c9-0851fcb48140",
   "metadata": {},
   "source": [
    "You can also add a third color and make two gradients instead:"
   ]
  },
  {
   "cell_type": "code",
   "execution_count": 87,
   "id": "9ebde675-61a8-40fc-a3b9-36bf0f9ccd22",
   "metadata": {
    "tags": []
   },
   "outputs": [],
   "source": [
    "from openpyxl.formatting.rule import ColorScaleRule\n",
    "from openpyxl import load_workbook\n",
    "\n",
    "workbook = load_workbook(filename=\"reviews-sample.xlsx\")\n",
    "sheet = workbook.active\n",
    "\n",
    "color_scale_rule = ColorScaleRule(start_type=\"num\",\n",
    "                                   start_value=1,\n",
    "                                   start_color=\"00FF0000\",  # Red\n",
    "                                   mid_type=\"num\",\n",
    "                                   mid_value=3,\n",
    "                                   mid_color=\"00FFFF00\",   # Yellow\n",
    "                                   end_type=\"num\",\n",
    "                                   end_value=5,\n",
    "                                   end_color=\"0000FF00\")   # Green\n",
    "\n",
    "# Again, let's add this gradient to the star ratings, column \"H\"\n",
    "sheet.conditional_formatting.add(\"H2:H100\", color_scale_rule)\n",
    "workbook.save(filename=\"sample_conditional_formatting_color_scale_3.xlsx\")"
   ]
  },
  {
   "cell_type": "markdown",
   "id": "0f80ae04-9961-4b42-a0b4-2d09da30a2f9",
   "metadata": {
    "tags": []
   },
   "source": [
    "The **IconSet** allows you to add an icon to the cell according to its value:"
   ]
  },
  {
   "cell_type": "code",
   "execution_count": 89,
   "id": "7fa1e6b0-1a3d-4688-b4a7-87c779b3d207",
   "metadata": {
    "tags": []
   },
   "outputs": [],
   "source": [
    "from openpyxl.formatting.rule import IconSetRule\n",
    "from openpyxl import load_workbook\n",
    "\n",
    "workbook = load_workbook(filename=\"reviews-sample.xlsx\")\n",
    "sheet = workbook.active\n",
    "\n",
    "icon_set_rule = IconSetRule(\"5Arrows\", \"num\", [1, 2, 3, 4, 5])\n",
    "sheet.conditional_formatting.add(\"H2:H100\", icon_set_rule)\n",
    "workbook.save(\"sample_conditional_formatting_icon_set.xlsx\")"
   ]
  },
  {
   "cell_type": "markdown",
   "id": "f2f70220-a351-4f52-bb3b-d336e42b93b9",
   "metadata": {},
   "source": [
    "The openpyxl package has a [full list](https://openpyxl.readthedocs.io/en/stable/formatting.html#iconset) of other icons you can use, besides the arrow."
   ]
  },
  {
   "cell_type": "markdown",
   "id": "ca905300-d5fc-42b5-9dbf-41eab024fd26",
   "metadata": {},
   "source": [
    "Finally, the **DataBar** allows you to create progress bars:"
   ]
  },
  {
   "cell_type": "code",
   "execution_count": 90,
   "id": "afd33c2c-7fd2-4ec7-a89e-b3856e311335",
   "metadata": {
    "tags": []
   },
   "outputs": [],
   "source": [
    "from openpyxl.formatting.rule import DataBarRule\n",
    "from openpyxl import load_workbook\n",
    "\n",
    "workbook = load_workbook(filename=\"reviews-sample.xlsx\")\n",
    "sheet = workbook.active\n",
    "\n",
    "data_bar_rule = DataBarRule(start_type=\"num\",\n",
    "                             start_value=1,\n",
    "                             end_type=\"num\",\n",
    "                             end_value=\"5\",\n",
    "                             color=\"0000FF00\")  # Green\n",
    "\n",
    "sheet.conditional_formatting.add(\"H2:H100\", data_bar_rule)\n",
    "workbook.save(\"sample_conditional_formatting_data_bar.xlsx\")"
   ]
  },
  {
   "cell_type": "markdown",
   "id": "45d4a156-6653-4b7b-a6c5-fd21a5cee8d3",
   "metadata": {
    "jp-MarkdownHeadingCollapsed": true,
    "tags": []
   },
   "source": [
    "# Adding Images"
   ]
  },
  {
   "cell_type": "markdown",
   "id": "fd6b63b7-7b70-4a39-8384-d680edd5b07e",
   "metadata": {
    "tags": []
   },
   "source": [
    "```python\n",
    "!pip install Pillow\n",
    "```"
   ]
  },
  {
   "cell_type": "markdown",
   "id": "1e13d992-d1c9-447b-acd1-f54086bf71ba",
   "metadata": {
    "jp-MarkdownHeadingCollapsed": true,
    "tags": []
   },
   "source": [
    "## Adding Logo"
   ]
  },
  {
   "cell_type": "code",
   "execution_count": 92,
   "id": "fd08dc75-095e-478a-b814-7241db60df86",
   "metadata": {
    "tags": []
   },
   "outputs": [],
   "source": [
    "from openpyxl import load_workbook\n",
    "from openpyxl.drawing.image import Image\n",
    "\n",
    "# Let's use the hello_world spreadsheet since it has less data\n",
    "workbook = load_workbook(filename=\"hello_world.xlsx\")\n",
    "sheet = workbook.active\n",
    "\n",
    "logo = Image(\"real_python_logo.png\")\n",
    "\n",
    "# A bit of resizing to not fill the whole spreadsheet with the logo\n",
    "logo.height = 150\n",
    "logo.width = 150\n",
    "\n",
    "sheet.add_image(logo, \"A3\")\n",
    "workbook.save(filename=\"hello_world_logo.xlsx\")"
   ]
  },
  {
   "cell_type": "markdown",
   "id": "99b30e7b-706f-4694-a402-106fdef8c136",
   "metadata": {
    "jp-MarkdownHeadingCollapsed": true,
    "tags": []
   },
   "source": [
    "## Adding Pretty Charts"
   ]
  },
  {
   "cell_type": "markdown",
   "id": "b72abc87-dc3a-4a86-88b8-8f4a4f7d2960",
   "metadata": {},
   "source": [
    "Another powerful thing you can do with spreadsheets is create an incredible variety of charts.\n",
    "\n",
    "Charts are a great way to visualize and understand loads of data quickly. There are a lot of different chart types: bar chart, pie chart, line chart, and so on. openpyxl has support for a lot of them. Here, you’ll see only a couple of examples of charts because the theory behind it is the same for every single chart type:\n",
    "\n",
    "**Note: A few of the chart types that openpyxl currently doesn’t have support for are Funnel, Gantt, Pareto, Treemap, Waterfall, Map, and Sunburst.**\n",
    "\n",
    "For any chart you want to build, you’ll need to define the chart type: BarChart, LineChart, and so forth, plus the data to be used for the chart, which is called Reference. Before you can build your chart, you need to define what data you want to see represented in it. Sometimes, you can use the dataset as is, but other times you need to massage the data a bit to get additional information.\n",
    "\n",
    "Let’s start by building a new workbook with some sample data:"
   ]
  },
  {
   "cell_type": "code",
   "execution_count": 94,
   "id": "c26ac2b7-bb6b-4170-a60b-dc6c6b23e53e",
   "metadata": {
    "tags": []
   },
   "outputs": [],
   "source": [
    "from openpyxl import Workbook\n",
    "from openpyxl.chart import BarChart, Reference\n",
    "\n",
    "workbook = Workbook()\n",
    "sheet = workbook.active\n",
    "\n",
    "# Let's create some sample sales data\n",
    "rows = [\n",
    "    [\"Product\", \"Online\", \"Store\"],\n",
    "    [1, 30, 45],\n",
    "    [2, 40, 30],\n",
    "    [3, 40, 25],\n",
    "    [4, 50, 30],\n",
    "    [5, 30, 25],\n",
    "    [6, 25, 35],\n",
    "    [7, 20, 40],\n",
    "]\n",
    "\n",
    "for row in rows:\n",
    "    sheet.append(row)"
   ]
  },
  {
   "cell_type": "markdown",
   "id": "ce2526d6-23af-4dcf-be89-451bd1a3413f",
   "metadata": {},
   "source": [
    "Now you’re going to start by creating a **bar chart** that displays the total number of sales per product:"
   ]
  },
  {
   "cell_type": "code",
   "execution_count": 107,
   "id": "64a65873-98a0-41bd-a1c6-6a85a3d960e1",
   "metadata": {
    "tags": []
   },
   "outputs": [],
   "source": [
    "chart = BarChart()\n",
    "data = Reference(worksheet=sheet,     # Data selection\n",
    "                 min_row=1,           # Number of values in x-axis (min)\n",
    "                 max_row=8,           # Number of values in x-axis (max)\n",
    "                 min_col=2,           # Number of categories in bars (min)\n",
    "                 max_col=3)           # Number of categories in bars (max)\n",
    "\n",
    "chart.add_data(data, titles_from_data=True)\n",
    "sheet.add_chart(chart, \"E2\")\n",
    "\n",
    "workbook.save(\"chart.xlsx\")"
   ]
  },
  {
   "cell_type": "markdown",
   "id": "ee57f2dc-8923-4d1f-8b32-57fdec19052b",
   "metadata": {},
   "source": [
    "Try creating a **line chart** instead, changing the data a bit:"
   ]
  },
  {
   "cell_type": "code",
   "execution_count": 108,
   "id": "0b040e36-cc78-4a68-9375-51d0b53115fa",
   "metadata": {
    "tags": []
   },
   "outputs": [],
   "source": [
    "import random\n",
    "from openpyxl import Workbook\n",
    "from openpyxl.chart import LineChart, Reference\n",
    "\n",
    "workbook = Workbook()\n",
    "sheet = workbook.active\n",
    "\n",
    "# Let's create some sample sales data\n",
    "rows = [\n",
    "    [\"\", \"January\", \"February\", \"March\", \"April\",\n",
    "    \"May\", \"June\", \"July\", \"August\", \"September\",\n",
    "     \"October\", \"November\", \"December\"],\n",
    "    [1, ],\n",
    "    [2, ],\n",
    "    [3, ],\n",
    "]\n",
    "\n",
    "for row in rows:\n",
    "    sheet.append(row)\n",
    "\n",
    "for row in sheet.iter_rows(min_row=2,\n",
    "                           max_row=4,\n",
    "                           min_col=2,\n",
    "                           max_col=13):\n",
    "    for cell in row:\n",
    "        cell.value = random.randrange(5, 100)"
   ]
  },
  {
   "cell_type": "markdown",
   "id": "331ae3fd-10fc-4959-ba51-7d6e16613563",
   "metadata": {},
   "source": [
    "With the above code, you’ll be able to generate some [random data](https://realpython.com/python-random/) regarding the sales of 3 different products across a whole year.\n",
    "\n",
    "Once that’s done, you can very easily create a line chart with the following code:"
   ]
  },
  {
   "cell_type": "code",
   "execution_count": 109,
   "id": "e4e184fc-d9f9-415f-9acf-bd91c585a5d2",
   "metadata": {
    "tags": []
   },
   "outputs": [],
   "source": [
    "chart = LineChart()\n",
    "data = Reference(worksheet=sheet,          # Data selection\n",
    "                 min_row=2,\n",
    "                 max_row=4,\n",
    "                 min_col=1,\n",
    "                 max_col=13)\n",
    "\n",
    "chart.add_data(data, from_rows=True, titles_from_data=True)\n",
    "sheet.add_chart(chart, \"C6\")\n",
    "\n",
    "workbook.save(\"line_chart.xlsx\")"
   ]
  },
  {
   "cell_type": "markdown",
   "id": "11905b2e-14ce-4854-856b-9b8dd7022144",
   "metadata": {},
   "source": [
    "One thing to keep in mind here is the fact that you’re using `from_rows=True` when adding the data. This argument makes the chart plot row by row instead of column by column. In your sample data, you see that each product has a row with 12 values (1 column per month). That’s why you use from_rows. If you don’t pass that argument, by default, the chart tries to plot by column, and you’ll get a month-by-month comparison of sales. Another difference that has to do with the above argument change is the fact that our Reference now starts from the first column, min_col=1, instead of the second one. This change is needed because the chart now expects the first column to have the titles.\n",
    "\n",
    "There are a couple of other things you can also change regarding the style of the chart. For example, you can add specific categories to the chart:\n",
    "\n"
   ]
  },
  {
   "cell_type": "code",
   "execution_count": 111,
   "id": "459e87cb-908b-482a-b30b-62af2d89b858",
   "metadata": {
    "tags": []
   },
   "outputs": [],
   "source": [
    "cats = Reference(worksheet=sheet,\n",
    "                 min_row=1,\n",
    "                 max_row=1,\n",
    "                 min_col=2,\n",
    "                 max_col=13)\n",
    "chart.set_categories(cats)\n",
    "\n",
    "workbook.save(\"line_chart.xlsx\")"
   ]
  },
  {
   "cell_type": "markdown",
   "id": "e87bd876-e4ce-4061-a2df-f1bab01ea943",
   "metadata": {},
   "source": [
    "Add this piece of code before saving the workbook, and you should see the **month names** appearing instead of numbers.\n",
    "\n",
    "Another thing you can do to improve the chart readability is to add an axis. You can do it using the attributes x_axis and y_axis:"
   ]
  },
  {
   "cell_type": "code",
   "execution_count": 112,
   "id": "4435fd8c-712a-49b3-ae18-074bb237ed35",
   "metadata": {
    "tags": []
   },
   "outputs": [],
   "source": [
    "chart.x_axis.title = \"Months\"\n",
    "chart.y_axis.title = \"Sales (per unit)\"\n",
    "\n",
    "workbook.save(\"line_chart.xlsx\")"
   ]
  },
  {
   "cell_type": "markdown",
   "id": "48a2f424-dc8f-4933-a03d-903218503dc7",
   "metadata": {},
   "source": [
    "# Convert Python Classes to Excel Spreadsheet"
   ]
  },
  {
   "cell_type": "markdown",
   "id": "0d166671-eb76-46fa-a56d-f2f4c98bc353",
   "metadata": {},
   "source": [
    "You already saw how to convert an Excel spreadsheet’s data into Python classes, but now let’s do the opposite. Let’s imagine you have a database and are using some Object-Relational Mapping (ORM) to map DB objects into Python classes. Now, you want to export those same objects into a spreadsheet.\n",
    "\n",
    "Let’s assume the following [data classes](https://realpython.com/python-data-classes/) to represent the data coming from your database regarding product sales:\n",
    "\n",
    "```python\n",
    "from dataclasses import dataclass\n",
    "from typing import List\n",
    "\n",
    "@dataclass\n",
    "class Sale:\n",
    "    quantity: int\n",
    "\n",
    "@dataclass\n",
    "class Product:\n",
    "    id: str\n",
    "    name: str\n",
    "    sales: List[Sale]\n",
    "```"
   ]
  },
  {
   "cell_type": "code",
   "execution_count": 113,
   "id": "b87d175e-58bd-4ae8-b743-cfeb21c8db09",
   "metadata": {
    "tags": []
   },
   "outputs": [],
   "source": [
    "import random\n",
    "\n",
    "# Ignore these for now. You'll use them in a sec ;)\n",
    "from openpyxl import Workbook\n",
    "from openpyxl.chart import LineChart, Reference\n",
    "\n",
    "from db_classes import Product, Sale\n",
    "\n",
    "products = []\n",
    "\n",
    "# Let's create 5 products\n",
    "for idx in range(1, 6):\n",
    "    sales = []\n",
    "\n",
    "    # Create 5 months of sales\n",
    "    for _ in range(5):\n",
    "        sale = Sale(quantity=random.randrange(5, 100))\n",
    "        sales.append(sale)\n",
    "\n",
    "    product = Product(id=str(idx),\n",
    "                      name=\"Product %s\" % idx,\n",
    "                      sales=sales)\n",
    "    products.append(product)"
   ]
  },
  {
   "cell_type": "markdown",
   "id": "23827f9a-8fa9-4d85-b9a8-853233b808e4",
   "metadata": {},
   "source": [
    "By running this piece of code, you should get 5 products with 5 months of sales with a random quantity of sales for each month.\n",
    "\n",
    "Now, to convert this into a spreadsheet, you need to iterate over the data and append it to the spreadsheet:"
   ]
  },
  {
   "cell_type": "code",
   "execution_count": 114,
   "id": "eca5a584-fd39-4932-8b0c-2af4d3a00004",
   "metadata": {
    "tags": []
   },
   "outputs": [],
   "source": [
    "workbook = Workbook()\n",
    "sheet = workbook.active\n",
    "\n",
    "# Append column names first\n",
    "sheet.append([\"Product ID\", \"Product Name\", \"Month 1\",\n",
    "              \"Month 2\", \"Month 3\", \"Month 4\", \"Month 5\"])\n",
    "\n",
    "# Append the data\n",
    "for product in products:\n",
    "    data = [product.id, product.name]\n",
    "    for sale in product.sales:\n",
    "        data.append(sale.quantity)\n",
    "    sheet.append(data)"
   ]
  },
  {
   "cell_type": "code",
   "execution_count": 115,
   "id": "0342a44a-d38b-4e49-a04b-7fbd77e9748e",
   "metadata": {
    "tags": []
   },
   "outputs": [],
   "source": [
    "chart = LineChart()\n",
    "data = Reference(worksheet=sheet,\n",
    "                 min_row=2,\n",
    "                 max_row=6,\n",
    "                 min_col=2,\n",
    "                 max_col=7)\n",
    "\n",
    "chart.add_data(data, titles_from_data=True, from_rows=True)\n",
    "sheet.add_chart(chart, \"B8\")\n",
    "\n",
    "cats = Reference(worksheet=sheet,\n",
    "                 min_row=1,\n",
    "                 max_row=1,\n",
    "                 min_col=3,\n",
    "                 max_col=7)\n",
    "chart.set_categories(cats)\n",
    "\n",
    "chart.x_axis.title = \"Months\"\n",
    "chart.y_axis.title = \"Sales (per unit)\"\n",
    "\n",
    "workbook.save(filename=\"oop_sample.xlsx\")"
   ]
  },
  {
   "cell_type": "markdown",
   "id": "00aedafd-c7ad-4058-b4f9-6bd64cb97cf7",
   "metadata": {},
   "source": [
    "# Bonus: Working With Pandas"
   ]
  },
  {
   "cell_type": "markdown",
   "id": "e271b40d-1a20-44d2-98aa-051d9e69c493",
   "metadata": {},
   "source": [
    "Even though you can use Pandas to handle Excel files, there are few things that you either can’t accomplish with Pandas or that you’d be better off just using openpyxl directly.\n",
    "\n",
    "For example, some of the advantages of using openpyxl are the ability to easily customize your spreadsheet with styles, conditional formatting, and such.\n",
    "\n",
    "But guess what, you don’t have to worry about picking. In fact, openpyxl has support for both converting data from a Pandas DataFrame into a workbook or the opposite, converting an openpyxl workbook into a Pandas DataFrame."
   ]
  },
  {
   "cell_type": "markdown",
   "id": "613fe625-3b56-4c78-970c-98d55f1f935b",
   "metadata": {},
   "source": [
    "## Dataframe into Spreadsheet"
   ]
  },
  {
   "cell_type": "code",
   "execution_count": 122,
   "id": "4f511c88-bda2-488d-be82-dd147f8d2151",
   "metadata": {
    "tags": []
   },
   "outputs": [
    {
     "data": {
      "text/html": [
       "<div>\n",
       "<style scoped>\n",
       "    .dataframe tbody tr th:only-of-type {\n",
       "        vertical-align: middle;\n",
       "    }\n",
       "\n",
       "    .dataframe tbody tr th {\n",
       "        vertical-align: top;\n",
       "    }\n",
       "\n",
       "    .dataframe thead th {\n",
       "        text-align: right;\n",
       "    }\n",
       "</style>\n",
       "<table border=\"1\" class=\"dataframe\">\n",
       "  <thead>\n",
       "    <tr style=\"text-align: right;\">\n",
       "      <th></th>\n",
       "      <th>Product Name</th>\n",
       "      <th>Sales Month 1</th>\n",
       "      <th>Sales Month 2</th>\n",
       "    </tr>\n",
       "  </thead>\n",
       "  <tbody>\n",
       "    <tr>\n",
       "      <th>0</th>\n",
       "      <td>Product 1</td>\n",
       "      <td>10</td>\n",
       "      <td>5</td>\n",
       "    </tr>\n",
       "    <tr>\n",
       "      <th>1</th>\n",
       "      <td>Product 2</td>\n",
       "      <td>20</td>\n",
       "      <td>35</td>\n",
       "    </tr>\n",
       "  </tbody>\n",
       "</table>\n",
       "</div>"
      ],
      "text/plain": [
       "  Product Name  Sales Month 1  Sales Month 2\n",
       "0    Product 1             10              5\n",
       "1    Product 2             20             35"
      ]
     },
     "execution_count": 122,
     "metadata": {},
     "output_type": "execute_result"
    }
   ],
   "source": [
    "import pandas as pd\n",
    "\n",
    "data = {\n",
    "    \"Product Name\": [\"Product 1\", \"Product 2\"],\n",
    "    \"Sales Month 1\": [10, 20],\n",
    "    \"Sales Month 2\": [5, 35],\n",
    "}\n",
    "df = pd.DataFrame(data)\n",
    "df"
   ]
  },
  {
   "cell_type": "code",
   "execution_count": 118,
   "id": "b4dc877f-c0e5-45dc-afb0-da90cdc685d7",
   "metadata": {
    "tags": []
   },
   "outputs": [],
   "source": [
    "from openpyxl import Workbook\n",
    "from openpyxl.utils.dataframe import dataframe_to_rows\n",
    "\n",
    "workbook = Workbook()\n",
    "sheet = workbook.active"
   ]
  },
  {
   "cell_type": "code",
   "execution_count": 119,
   "id": "1ead8e5a-fca3-4155-8a7d-8e7be569083d",
   "metadata": {
    "tags": []
   },
   "outputs": [
    {
     "data": {
      "text/plain": [
       "<generator object dataframe_to_rows at 0x7f9cd71929d0>"
      ]
     },
     "execution_count": 119,
     "metadata": {},
     "output_type": "execute_result"
    }
   ],
   "source": [
    "frame = dataframe_to_rows(df, index=False, header=True)\n",
    "frame"
   ]
  },
  {
   "cell_type": "code",
   "execution_count": 120,
   "id": "60817db7-11c3-4291-aaf6-848ae8150731",
   "metadata": {
    "tags": []
   },
   "outputs": [],
   "source": [
    "for row in frame:\n",
    "    sheet.append(row)\n",
    "\n",
    "workbook.save(\"pandas.xlsx\")"
   ]
  },
  {
   "cell_type": "markdown",
   "id": "83b86c4e-9f2a-4373-9d54-580341d14019",
   "metadata": {},
   "source": [
    "## Spreadsheet into Dataframe"
   ]
  },
  {
   "cell_type": "code",
   "execution_count": 126,
   "id": "b882ce76-d40e-481d-ab0f-cb40e7ef18a2",
   "metadata": {
    "tags": []
   },
   "outputs": [
    {
     "name": "stderr",
     "output_type": "stream",
     "text": [
      "/home/htetaunglynn/anaconda3/lib/python3.11/site-packages/openpyxl/workbook/child.py:99: UserWarning: Title is more than 31 characters. Some applications may not be able to read the file\n",
      "  warnings.warn(\"Title is more than 31 characters. Some applications may not be able to read the file\")\n"
     ]
    },
    {
     "data": {
      "text/html": [
       "<div>\n",
       "<style scoped>\n",
       "    .dataframe tbody tr th:only-of-type {\n",
       "        vertical-align: middle;\n",
       "    }\n",
       "\n",
       "    .dataframe tbody tr th {\n",
       "        vertical-align: top;\n",
       "    }\n",
       "\n",
       "    .dataframe thead th {\n",
       "        text-align: right;\n",
       "    }\n",
       "</style>\n",
       "<table border=\"1\" class=\"dataframe\">\n",
       "  <thead>\n",
       "    <tr style=\"text-align: right;\">\n",
       "      <th></th>\n",
       "      <th>0</th>\n",
       "      <th>1</th>\n",
       "      <th>2</th>\n",
       "      <th>3</th>\n",
       "      <th>4</th>\n",
       "      <th>5</th>\n",
       "      <th>6</th>\n",
       "      <th>7</th>\n",
       "      <th>8</th>\n",
       "      <th>9</th>\n",
       "      <th>10</th>\n",
       "      <th>11</th>\n",
       "      <th>12</th>\n",
       "      <th>13</th>\n",
       "      <th>14</th>\n",
       "    </tr>\n",
       "  </thead>\n",
       "  <tbody>\n",
       "    <tr>\n",
       "      <th>0</th>\n",
       "      <td>marketplace</td>\n",
       "      <td>customer_id</td>\n",
       "      <td>review_id</td>\n",
       "      <td>product_id</td>\n",
       "      <td>product_parent</td>\n",
       "      <td>product_title</td>\n",
       "      <td>product_category</td>\n",
       "      <td>star_rating</td>\n",
       "      <td>helpful_votes</td>\n",
       "      <td>total_votes</td>\n",
       "      <td>vine</td>\n",
       "      <td>verified_purchase</td>\n",
       "      <td>review_headline</td>\n",
       "      <td>review_body</td>\n",
       "      <td>review_date</td>\n",
       "    </tr>\n",
       "    <tr>\n",
       "      <th>1</th>\n",
       "      <td>US</td>\n",
       "      <td>3653882</td>\n",
       "      <td>R3O9SGZBVQBV76</td>\n",
       "      <td>B00FALQ1ZC</td>\n",
       "      <td>937001370</td>\n",
       "      <td>Invicta Women's 15150 \"Angel\" 18k Yellow Gold ...</td>\n",
       "      <td>Watches</td>\n",
       "      <td>5</td>\n",
       "      <td>0</td>\n",
       "      <td>0</td>\n",
       "      <td>N</td>\n",
       "      <td>Y</td>\n",
       "      <td>Five Stars</td>\n",
       "      <td>Absolutely love this watch! Get compliments al...</td>\n",
       "      <td>2015-08-31</td>\n",
       "    </tr>\n",
       "    <tr>\n",
       "      <th>2</th>\n",
       "      <td>US</td>\n",
       "      <td>14661224</td>\n",
       "      <td>RKH8BNC3L5DLF</td>\n",
       "      <td>B00D3RGO20</td>\n",
       "      <td>484010722</td>\n",
       "      <td>Kenneth Cole New York Women's KC4944 Automatic...</td>\n",
       "      <td>Watches</td>\n",
       "      <td>5</td>\n",
       "      <td>0</td>\n",
       "      <td>0</td>\n",
       "      <td>N</td>\n",
       "      <td>Y</td>\n",
       "      <td>I love thiswatch it keeps time wonderfully</td>\n",
       "      <td>I love this watch it keeps time wonderfully.</td>\n",
       "      <td>2015-08-31</td>\n",
       "    </tr>\n",
       "    <tr>\n",
       "      <th>3</th>\n",
       "      <td>US</td>\n",
       "      <td>27324930</td>\n",
       "      <td>R2HLE8WKZSU3NL</td>\n",
       "      <td>B00DKYC7TK</td>\n",
       "      <td>361166390</td>\n",
       "      <td>Ritche 22mm Black Stainless Steel Bracelet Wat...</td>\n",
       "      <td>Watches</td>\n",
       "      <td>2</td>\n",
       "      <td>1</td>\n",
       "      <td>1</td>\n",
       "      <td>N</td>\n",
       "      <td>Y</td>\n",
       "      <td>Two Stars</td>\n",
       "      <td>Scratches</td>\n",
       "      <td>2015-08-31</td>\n",
       "    </tr>\n",
       "    <tr>\n",
       "      <th>4</th>\n",
       "      <td>US</td>\n",
       "      <td>7211452</td>\n",
       "      <td>R31U3UH5AZ42LL</td>\n",
       "      <td>B000EQS1JW</td>\n",
       "      <td>958035625</td>\n",
       "      <td>Citizen Men's BM8180-03E Eco-Drive Stainless S...</td>\n",
       "      <td>Watches</td>\n",
       "      <td>5</td>\n",
       "      <td>0</td>\n",
       "      <td>0</td>\n",
       "      <td>N</td>\n",
       "      <td>Y</td>\n",
       "      <td>Five Stars</td>\n",
       "      <td>It works well on me. However, I found cheaper ...</td>\n",
       "      <td>2015-08-31</td>\n",
       "    </tr>\n",
       "  </tbody>\n",
       "</table>\n",
       "</div>"
      ],
      "text/plain": [
       "            0            1               2           3               4   \\\n",
       "0  marketplace  customer_id       review_id  product_id  product_parent   \n",
       "1           US      3653882  R3O9SGZBVQBV76  B00FALQ1ZC       937001370   \n",
       "2           US     14661224   RKH8BNC3L5DLF  B00D3RGO20       484010722   \n",
       "3           US     27324930  R2HLE8WKZSU3NL  B00DKYC7TK       361166390   \n",
       "4           US      7211452  R31U3UH5AZ42LL  B000EQS1JW       958035625   \n",
       "\n",
       "                                                  5                 6   \\\n",
       "0                                      product_title  product_category   \n",
       "1  Invicta Women's 15150 \"Angel\" 18k Yellow Gold ...           Watches   \n",
       "2  Kenneth Cole New York Women's KC4944 Automatic...           Watches   \n",
       "3  Ritche 22mm Black Stainless Steel Bracelet Wat...           Watches   \n",
       "4  Citizen Men's BM8180-03E Eco-Drive Stainless S...           Watches   \n",
       "\n",
       "            7              8            9     10                 11  \\\n",
       "0  star_rating  helpful_votes  total_votes  vine  verified_purchase   \n",
       "1            5              0            0     N                  Y   \n",
       "2            5              0            0     N                  Y   \n",
       "3            2              1            1     N                  Y   \n",
       "4            5              0            0     N                  Y   \n",
       "\n",
       "                                           12  \\\n",
       "0                             review_headline   \n",
       "1                                  Five Stars   \n",
       "2  I love thiswatch it keeps time wonderfully   \n",
       "3                                   Two Stars   \n",
       "4                                  Five Stars   \n",
       "\n",
       "                                                  13           14  \n",
       "0                                        review_body  review_date  \n",
       "1  Absolutely love this watch! Get compliments al...   2015-08-31  \n",
       "2       I love this watch it keeps time wonderfully.   2015-08-31  \n",
       "3                                          Scratches   2015-08-31  \n",
       "4  It works well on me. However, I found cheaper ...   2015-08-31  "
      ]
     },
     "execution_count": 126,
     "metadata": {},
     "output_type": "execute_result"
    }
   ],
   "source": [
    "import pandas as pd\n",
    "from openpyxl import load_workbook\n",
    "\n",
    "workbook = load_workbook(filename=\"reviews-sample.xlsx\")\n",
    "sheet = workbook.active\n",
    "\n",
    "values = sheet.values\n",
    "df = pd.DataFrame(values)\n",
    "df.head()"
   ]
  },
  {
   "cell_type": "markdown",
   "id": "34ef27e2-cabc-4dec-8bc0-24b2199a76a0",
   "metadata": {
    "tags": []
   },
   "source": [
    "Alternatively, if you want to add the correct headers and use the review ID as the index, for example, then you can also do it like this instead:df"
   ]
  },
  {
   "cell_type": "code",
   "execution_count": 129,
   "id": "5209298a-6513-4b40-985f-6fd6245ccca5",
   "metadata": {
    "tags": []
   },
   "outputs": [
    {
     "data": {
      "text/html": [
       "<div>\n",
       "<style scoped>\n",
       "    .dataframe tbody tr th:only-of-type {\n",
       "        vertical-align: middle;\n",
       "    }\n",
       "\n",
       "    .dataframe tbody tr th {\n",
       "        vertical-align: top;\n",
       "    }\n",
       "\n",
       "    .dataframe thead th {\n",
       "        text-align: right;\n",
       "    }\n",
       "</style>\n",
       "<table border=\"1\" class=\"dataframe\">\n",
       "  <thead>\n",
       "    <tr style=\"text-align: right;\">\n",
       "      <th></th>\n",
       "      <th>marketplace</th>\n",
       "      <th>customer_id</th>\n",
       "      <th>review_id</th>\n",
       "      <th>product_id</th>\n",
       "      <th>product_parent</th>\n",
       "      <th>product_title</th>\n",
       "      <th>product_category</th>\n",
       "      <th>star_rating</th>\n",
       "      <th>helpful_votes</th>\n",
       "      <th>total_votes</th>\n",
       "      <th>vine</th>\n",
       "      <th>verified_purchase</th>\n",
       "      <th>review_headline</th>\n",
       "      <th>review_body</th>\n",
       "      <th>review_date</th>\n",
       "    </tr>\n",
       "  </thead>\n",
       "  <tbody>\n",
       "    <tr>\n",
       "      <th>R3O9SGZBVQBV76</th>\n",
       "      <td>US</td>\n",
       "      <td>3653882</td>\n",
       "      <td>R3O9SGZBVQBV76</td>\n",
       "      <td>B00FALQ1ZC</td>\n",
       "      <td>937001370</td>\n",
       "      <td>Invicta Women's 15150 \"Angel\" 18k Yellow Gold ...</td>\n",
       "      <td>Watches</td>\n",
       "      <td>5</td>\n",
       "      <td>0</td>\n",
       "      <td>0</td>\n",
       "      <td>N</td>\n",
       "      <td>Y</td>\n",
       "      <td>Five Stars</td>\n",
       "      <td>Absolutely love this watch! Get compliments al...</td>\n",
       "      <td>2015-08-31</td>\n",
       "    </tr>\n",
       "    <tr>\n",
       "      <th>RKH8BNC3L5DLF</th>\n",
       "      <td>US</td>\n",
       "      <td>14661224</td>\n",
       "      <td>RKH8BNC3L5DLF</td>\n",
       "      <td>B00D3RGO20</td>\n",
       "      <td>484010722</td>\n",
       "      <td>Kenneth Cole New York Women's KC4944 Automatic...</td>\n",
       "      <td>Watches</td>\n",
       "      <td>5</td>\n",
       "      <td>0</td>\n",
       "      <td>0</td>\n",
       "      <td>N</td>\n",
       "      <td>Y</td>\n",
       "      <td>I love thiswatch it keeps time wonderfully</td>\n",
       "      <td>I love this watch it keeps time wonderfully.</td>\n",
       "      <td>2015-08-31</td>\n",
       "    </tr>\n",
       "    <tr>\n",
       "      <th>R2HLE8WKZSU3NL</th>\n",
       "      <td>US</td>\n",
       "      <td>27324930</td>\n",
       "      <td>R2HLE8WKZSU3NL</td>\n",
       "      <td>B00DKYC7TK</td>\n",
       "      <td>361166390</td>\n",
       "      <td>Ritche 22mm Black Stainless Steel Bracelet Wat...</td>\n",
       "      <td>Watches</td>\n",
       "      <td>2</td>\n",
       "      <td>1</td>\n",
       "      <td>1</td>\n",
       "      <td>N</td>\n",
       "      <td>Y</td>\n",
       "      <td>Two Stars</td>\n",
       "      <td>Scratches</td>\n",
       "      <td>2015-08-31</td>\n",
       "    </tr>\n",
       "    <tr>\n",
       "      <th>R31U3UH5AZ42LL</th>\n",
       "      <td>US</td>\n",
       "      <td>7211452</td>\n",
       "      <td>R31U3UH5AZ42LL</td>\n",
       "      <td>B000EQS1JW</td>\n",
       "      <td>958035625</td>\n",
       "      <td>Citizen Men's BM8180-03E Eco-Drive Stainless S...</td>\n",
       "      <td>Watches</td>\n",
       "      <td>5</td>\n",
       "      <td>0</td>\n",
       "      <td>0</td>\n",
       "      <td>N</td>\n",
       "      <td>Y</td>\n",
       "      <td>Five Stars</td>\n",
       "      <td>It works well on me. However, I found cheaper ...</td>\n",
       "      <td>2015-08-31</td>\n",
       "    </tr>\n",
       "    <tr>\n",
       "      <th>R2SV659OUJ945Y</th>\n",
       "      <td>US</td>\n",
       "      <td>12733322</td>\n",
       "      <td>R2SV659OUJ945Y</td>\n",
       "      <td>B00A6GFD7S</td>\n",
       "      <td>765328221</td>\n",
       "      <td>Orient ER27009B Men's Symphony Automatic Stain...</td>\n",
       "      <td>Watches</td>\n",
       "      <td>4</td>\n",
       "      <td>0</td>\n",
       "      <td>0</td>\n",
       "      <td>N</td>\n",
       "      <td>Y</td>\n",
       "      <td>Beautiful face, but cheap sounding links</td>\n",
       "      <td>Beautiful watch face.  The band looks nice all...</td>\n",
       "      <td>2015-08-31</td>\n",
       "    </tr>\n",
       "  </tbody>\n",
       "</table>\n",
       "</div>"
      ],
      "text/plain": [
       "               marketplace  customer_id       review_id  product_id  \\\n",
       "R3O9SGZBVQBV76          US      3653882  R3O9SGZBVQBV76  B00FALQ1ZC   \n",
       "RKH8BNC3L5DLF           US     14661224   RKH8BNC3L5DLF  B00D3RGO20   \n",
       "R2HLE8WKZSU3NL          US     27324930  R2HLE8WKZSU3NL  B00DKYC7TK   \n",
       "R31U3UH5AZ42LL          US      7211452  R31U3UH5AZ42LL  B000EQS1JW   \n",
       "R2SV659OUJ945Y          US     12733322  R2SV659OUJ945Y  B00A6GFD7S   \n",
       "\n",
       "                product_parent  \\\n",
       "R3O9SGZBVQBV76       937001370   \n",
       "RKH8BNC3L5DLF        484010722   \n",
       "R2HLE8WKZSU3NL       361166390   \n",
       "R31U3UH5AZ42LL       958035625   \n",
       "R2SV659OUJ945Y       765328221   \n",
       "\n",
       "                                                    product_title  \\\n",
       "R3O9SGZBVQBV76  Invicta Women's 15150 \"Angel\" 18k Yellow Gold ...   \n",
       "RKH8BNC3L5DLF   Kenneth Cole New York Women's KC4944 Automatic...   \n",
       "R2HLE8WKZSU3NL  Ritche 22mm Black Stainless Steel Bracelet Wat...   \n",
       "R31U3UH5AZ42LL  Citizen Men's BM8180-03E Eco-Drive Stainless S...   \n",
       "R2SV659OUJ945Y  Orient ER27009B Men's Symphony Automatic Stain...   \n",
       "\n",
       "               product_category  star_rating  helpful_votes  total_votes vine  \\\n",
       "R3O9SGZBVQBV76          Watches            5              0            0    N   \n",
       "RKH8BNC3L5DLF           Watches            5              0            0    N   \n",
       "R2HLE8WKZSU3NL          Watches            2              1            1    N   \n",
       "R31U3UH5AZ42LL          Watches            5              0            0    N   \n",
       "R2SV659OUJ945Y          Watches            4              0            0    N   \n",
       "\n",
       "               verified_purchase                             review_headline  \\\n",
       "R3O9SGZBVQBV76                 Y                                  Five Stars   \n",
       "RKH8BNC3L5DLF                  Y  I love thiswatch it keeps time wonderfully   \n",
       "R2HLE8WKZSU3NL                 Y                                   Two Stars   \n",
       "R31U3UH5AZ42LL                 Y                                  Five Stars   \n",
       "R2SV659OUJ945Y                 Y    Beautiful face, but cheap sounding links   \n",
       "\n",
       "                                                      review_body review_date  \n",
       "R3O9SGZBVQBV76  Absolutely love this watch! Get compliments al...  2015-08-31  \n",
       "RKH8BNC3L5DLF        I love this watch it keeps time wonderfully.  2015-08-31  \n",
       "R2HLE8WKZSU3NL                                          Scratches  2015-08-31  \n",
       "R31U3UH5AZ42LL  It works well on me. However, I found cheaper ...  2015-08-31  \n",
       "R2SV659OUJ945Y  Beautiful watch face.  The band looks nice all...  2015-08-31  "
      ]
     },
     "execution_count": 129,
     "metadata": {},
     "output_type": "execute_result"
    }
   ],
   "source": [
    "import pandas as pd\n",
    "from openpyxl import load_workbook\n",
    "from mapping import REVIEW_ID\n",
    "\n",
    "workbook = load_workbook(filename=\"reviews-sample.xlsx\")\n",
    "sheet = workbook.active\n",
    "\n",
    "data = sheet.values\n",
    "\n",
    "# Set the first row as the columns for the DataFrame\n",
    "cols = next(data)\n",
    "data = list(data)\n",
    "\n",
    "# Set the field \"review_id\" as the indexes for each row\n",
    "idx = [row[REVIEW_ID] for row in data]\n",
    "\n",
    "df = pd.DataFrame(data, index=idx, columns=cols)\n",
    "df.head()"
   ]
  },
  {
   "cell_type": "code",
   "execution_count": null,
   "id": "0d5cfae5-339d-4b76-ab22-9d3ea13f6f7b",
   "metadata": {},
   "outputs": [],
   "source": []
  }
 ],
 "metadata": {
  "kernelspec": {
   "display_name": "Python 3 (ipykernel)",
   "language": "python",
   "name": "python3"
  },
  "language_info": {
   "codemirror_mode": {
    "name": "ipython",
    "version": 3
   },
   "file_extension": ".py",
   "mimetype": "text/x-python",
   "name": "python",
   "nbconvert_exporter": "python",
   "pygments_lexer": "ipython3",
   "version": "3.11.5"
  }
 },
 "nbformat": 4,
 "nbformat_minor": 5
}
